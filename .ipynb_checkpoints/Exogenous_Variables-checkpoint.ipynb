{
 "cells": [
  {
   "cell_type": "code",
   "execution_count": 35,
   "metadata": {
    "ExecuteTime": {
     "end_time": "2019-08-20T11:15:52.159753Z",
     "start_time": "2019-08-20T11:15:52.003500Z"
    }
   },
   "outputs": [],
   "source": [
    "import pandas as pd\n",
    "import numpy as np\n",
    "import csv\n",
    "import statsmodels.api as sm\n",
    "import warnings\n",
    "from tqdm import tqdm_notebook as tqdm\n",
    "from sklearn.model_selection import train_test_split\n",
    "from itertools import combinations\n",
    "from scipy import stats\n",
    "from datetime import datetime\n",
    "from sklearn.metrics import mean_absolute_error\n",
    "from datetime import datetime\n",
    "from dateutil.relativedelta import relativedelta\n",
    "warnings.filterwarnings(\"ignore\")\n",
    "\n",
    "\n",
    "file = 'rainfalldata.csv'\n",
    "rd = pd.read_csv(file)\n",
    "file2 = 'data/ncrainfalldata.csv'\n",
    "ncrd = pd.read_csv(file2)\n",
    "rd.Date = pd.to_datetime(rd.Date)\n",
    "rd = rd.set_index('Date')\n",
    "ncrd.Date = pd.to_datetime(ncrd.Date)\n",
    "ncrd = ncrd.set_index('Date')"
   ]
  },
  {
   "cell_type": "code",
   "execution_count": 8,
   "metadata": {
    "ExecuteTime": {
     "end_time": "2019-08-20T10:30:04.299825Z",
     "start_time": "2019-08-20T10:30:04.206119Z"
    }
   },
   "outputs": [],
   "source": [
    "# this cell takes the stored exogen dictionary that is stored in the Data_Wrangling_CAP1 jupyter notebook\n",
    "# that was imported above.\n",
    "%store -r exogen\n"
   ]
  },
  {
   "cell_type": "code",
   "execution_count": 9,
   "metadata": {
    "ExecuteTime": {
     "end_time": "2019-08-20T10:30:07.050376Z",
     "start_time": "2019-08-20T10:30:07.019153Z"
    },
    "scrolled": true
   },
   "outputs": [
    {
     "data": {
      "text/plain": [
       "dict_keys(['Arcola, NC', 'Henderson 2 NNW, NC', 'Laurinburg, NC', 'Roanoke Rapids, NC', 'Murfreesboro, NC', 'Lumberton Area, NC', 'LONGWOOD, NC', 'WHITEVILLE 7 NW, NC', 'Charlotte Area, NC', 'Mount Mitchell Area, NC', 'ASHEVILLE AIRPORT, NC', 'BANNER ELK, NC', 'BEECH MOUNTAIN, NC', 'BRYSON CITY 4, NC', 'BREVARD, NC', 'CASAR, NC', 'COWEETA EXP STATION, NC', 'CULLOWHEE, NC', 'FOREST CITY 8 W, NC', 'FRANKLIN, NC', 'GASTONIA, NC', 'GRANDFATHER MTN, NC', ' HENDERSONVILLE 1 NE, NC', ' HIGHLANDS, NC', 'HOT SPRINGS, NC', 'LAKE LURE 2, NC', 'LAKE TOXAWAY 2 SW, NC', 'MARSHALL, NC', 'MONROE 2 SE, NC', ' MOUNT HOLLY 4 NE, NC', ' OCONALUFTEE, NC', 'PISGAH FOREST 3 NE, NC', 'ROBBINSVILLE AG 5 NE, NC', 'ROSMAN, NC', 'SHELBY 2 NW, NC', 'TAPOCO, NC', 'TRYON, NC', 'WAYNESVILLE 1 E, NC', 'Boone 1 SE, NC', 'DANBURY, NC', 'EDEN, NC', ' MOUNT AIRY 2 W, NC', 'REIDSVILLE 2 NW, NC', 'HAYESVILLE 1 NE, NC', 'MURPHY 4ESE, NC', ' KING, NC'])"
      ]
     },
     "execution_count": 9,
     "metadata": {},
     "output_type": "execute_result"
    }
   ],
   "source": [
    "exogen.keys()"
   ]
  },
  {
   "cell_type": "code",
   "execution_count": 7,
   "metadata": {
    "ExecuteTime": {
     "end_time": "2019-08-20T10:27:59.383066Z",
     "start_time": "2019-08-20T10:27:59.367442Z"
    }
   },
   "outputs": [],
   "source": [
    "def sarima_model_creation(data, p, d, q, P, D, Q, m, exog=None):\n",
    "    my_order = [p,d,q]\n",
    "    my_sorder = [P,D,Q,m]\n",
    "    sarimamod = sm.tsa.statespace.SARIMAX(data, exog, order=my_order, seasonal_order=my_sorder, \n",
    "                                          enforce_stationarity=False, enforce_invertibility=False,\n",
    "                                          initialization='approximate_diffuse')\n",
    "    model_fit = sarimamod.fit()# start_params=[0, 0, 0, 0, 1])\n",
    "    return(model_fit)"
   ]
  },
  {
   "cell_type": "code",
   "execution_count": 5,
   "metadata": {
    "ExecuteTime": {
     "end_time": "2019-07-31T20:23:53.339117Z",
     "start_time": "2019-07-31T20:23:53.292292Z"
    }
   },
   "outputs": [],
   "source": [
    "def hyperparameter_find(training_data, comb, testing_data, search = False, exogtr = None, exogtest = None):\n",
    "    leastmae = 1000\n",
    "    for com in tqdm(comb):\n",
    "        li_one_step = []\n",
    "        for i in tqdm(range(len(testing_data))):\n",
    "            if i == 0:\n",
    "                copytraining = training_data.copy()\n",
    "                if exogtr is not None:\n",
    "                    excopy = exogtr.copy()\n",
    "                    mod_1 = sarima_model_creation(copytraining, com[0], 0, com[1], com[2], 0, \n",
    "                                                  com[3], 12, exog=excopy)\n",
    "                    one_step_pred = mod_1.forecast(exog=excopy.iloc[[-1]]) #uses the data from the year before\n",
    "                    excopy = pd.concat([excopy, exogtest.iloc[[i]]])\n",
    "                else:\n",
    "                    mod_1 = sarima_model_creation(copytraining, com[0], 0, com[1], com[2], 0, com[3], 12)\n",
    "                    one_step_pred = mod_1.forecast()\n",
    "                li_one_step.append(one_step_pred[0])\n",
    "                copytraining = pd.concat([copytraining, testing_data[[i]]])\n",
    "            else:\n",
    "                if exogtr is not None:\n",
    "                    mod_1 = sarima_model_creation(copytraining, com[0], 0, com[1], com[2], 0, \n",
    "                                                  com[3], 12, exog=excopy)\n",
    "                    one_step_pred2 = mod_1.forecast(exog=excopy.iloc[[-1]])\n",
    "                    excopy = pd.concat([excopy, exogtest.iloc[[i]]])\n",
    "                else:\n",
    "                    mod_1 = sarima_model_creation(copytraining, com[0], 0, com[1], com[2], 0, com[3], 12)\n",
    "                    one_step_pred2 = mod_1.forecast()\n",
    "                li_one_step.append(one_step_pred2[0])\n",
    "                copytraining = pd.concat([copytraining, testing_data[[i]]])\n",
    "        mae = mean_absolute_error(testing_data, li_one_step)\n",
    "        if search is True:\n",
    "            if mae < leastmae:\n",
    "                leastmae = mae\n",
    "                H_AR = com[0]\n",
    "                H_MA = com[1]\n",
    "                H_SAR = com[2]\n",
    "                H_SMA = com[3]\n",
    "            print(com,mae)            \n",
    "    if search is True:\n",
    "        return('AR: '+ str(H_AR), 'MA: ' +str(H_MA), 'SAR: '+str(H_SAR), 'SMA: '+str(H_SMA))\n",
    "    else:\n",
    "        return(mae)"
   ]
  },
  {
   "cell_type": "code",
   "execution_count": 6,
   "metadata": {
    "ExecuteTime": {
     "end_time": "2019-07-31T20:23:59.034914Z",
     "start_time": "2019-07-31T20:23:59.003666Z"
    }
   },
   "outputs": [],
   "source": [
    "def exog_combinations(df, exoe):\n",
    "    lo_dfs = []\n",
    "    if len(exoe) == 1:\n",
    "        lo_dfs.append(df.loc[:,exoe])\n",
    "    if len(exoe) > 1:\n",
    "        lo_dfs.append(df.loc[:,exoe])\n",
    "        for ex in exoe:\n",
    "            lo_dfs.append(df.loc[:,[ex]])\n",
    "        if len(exoe) >2:\n",
    "            for i in range(2, len(exoe)):\n",
    "                combolist = list(combinations(exoe,i))\n",
    "                for c in combolist:\n",
    "                    lo_dfs.append(df.loc[:,c])\n",
    "    return(lo_dfs)\n"
   ]
  },
  {
   "cell_type": "code",
   "execution_count": 7,
   "metadata": {},
   "outputs": [],
   "source": [
    "todokeys = ('TAPOCO, NC', 'TRYON, NC', 'WAYNESVILLE 1 E, NC', 'Boone 1 SE, NC', 'DANBURY, NC', 'EDEN, NC', ' MOUNT AIRY 2 W, NC', 'REIDSVILLE 2 NW, NC', 'HAYESVILLE 1 NE, NC', 'MURPHY 4ESE, NC', ' KING, NC')\n",
    "sub_exogen = {k: exogen[k] for k in todokeys}"
   ]
  },
  {
   "cell_type": "code",
   "execution_count": 8,
   "metadata": {
    "ExecuteTime": {
     "end_time": "2019-07-31T20:24:01.912170Z",
     "start_time": "2019-07-31T20:24:01.380989Z"
    }
   },
   "outputs": [
    {
     "data": {
      "application/vnd.jupyter.widget-view+json": {
       "model_id": "6184a883e0f0447abbd74d3dca8d8f56",
       "version_major": 2,
       "version_minor": 0
      },
      "text/plain": [
       "HBox(children=(IntProgress(value=0, max=11), HTML(value='')))"
      ]
     },
     "metadata": {},
     "output_type": "display_data"
    },
    {
     "name": "stdout",
     "output_type": "stream",
     "text": [
      "\n"
     ]
    }
   ],
   "source": [
    "from collections import defaultdict\n",
    "l_o_dfs = defaultdict(list)\n",
    "for key,value in tqdm(sub_exogen.items()):\n",
    "    lo_dfs2 = exog_combinations(rd, value)\n",
    "    l_o_dfs[key] = lo_dfs2\n",
    "# l_o_dfs['ROBBINSVILLE AG 5 NE, NC']"
   ]
  },
  {
   "cell_type": "code",
   "execution_count": 9,
   "metadata": {
    "ExecuteTime": {
     "end_time": "2019-07-31T20:24:07.727065Z",
     "start_time": "2019-07-31T20:24:07.695861Z"
    }
   },
   "outputs": [],
   "source": [
    "def exogenous_var(data, ncloc, l_exoloc, best_comb):\n",
    "#     for key, value in tqdm(exo_dict.items()):\n",
    "    dat = data[ncloc]\n",
    "#         l_exog = exog_combinations(data, value)\n",
    "    tr, test = train_test_split(dat, test_size = 0.2, shuffle=False)\n",
    "    keymae = hyperparameter_find(tr, best_comb, test)\n",
    "    print('keymae of: '+ key +' = '+str(keymae))\n",
    "    bettermae = {}\n",
    "    for exog in tqdm(l_exoloc):\n",
    "        extr, extest = train_test_split(exog, test_size = 0.2, shuffle=False)\n",
    "        exmae = hyperparameter_find(tr, best_comb, test, exogtr=extr, exogtest = extest)\n",
    "        co = tuple(exog.columns)\n",
    "        print('exmae = {}'.format(co) + ' '+ str(exmae))\n",
    "        if exmae < keymae:\n",
    "            bettermae[co] = exmae\n",
    "            bettermae2 = {key: bettermae}\n",
    "    return(co)"
   ]
  },
  {
   "cell_type": "code",
   "execution_count": 10,
   "metadata": {
    "ExecuteTime": {
     "start_time": "2019-07-31T20:25:52.191Z"
    }
   },
   "outputs": [
    {
     "data": {
      "application/vnd.jupyter.widget-view+json": {
       "model_id": "76dd734e786c4598a9f02ac777521bf4",
       "version_major": 2,
       "version_minor": 0
      },
      "text/plain": [
       "HBox(children=(IntProgress(value=0, max=11), HTML(value='')))"
      ]
     },
     "metadata": {},
     "output_type": "display_data"
    },
    {
     "data": {
      "application/vnd.jupyter.widget-view+json": {
       "model_id": "0bd8711a79e74db291cb87824ebe5752",
       "version_major": 2,
       "version_minor": 0
      },
      "text/plain": [
       "HBox(children=(IntProgress(value=0, max=1), HTML(value='')))"
      ]
     },
     "metadata": {},
     "output_type": "display_data"
    },
    {
     "data": {
      "application/vnd.jupyter.widget-view+json": {
       "model_id": "c30ce86a957b4d76b3b7b3a58005ba97",
       "version_major": 2,
       "version_minor": 0
      },
      "text/plain": [
       "HBox(children=(IntProgress(value=0, max=95), HTML(value='')))"
      ]
     },
     "metadata": {},
     "output_type": "display_data"
    },
    {
     "name": "stdout",
     "output_type": "stream",
     "text": [
      "keymae of: TAPOCO, NC = 0.9800673566131274\n"
     ]
    },
    {
     "data": {
      "application/vnd.jupyter.widget-view+json": {
       "model_id": "3e6270e0080b40049eacfb36bbc688ae",
       "version_major": 2,
       "version_minor": 0
      },
      "text/plain": [
       "HBox(children=(IntProgress(value=0, max=7), HTML(value='')))"
      ]
     },
     "metadata": {},
     "output_type": "display_data"
    },
    {
     "data": {
      "application/vnd.jupyter.widget-view+json": {
       "model_id": "6e64e35c8cd349fb934a9b09f1e7b942",
       "version_major": 2,
       "version_minor": 0
      },
      "text/plain": [
       "HBox(children=(IntProgress(value=0, max=1), HTML(value='')))"
      ]
     },
     "metadata": {},
     "output_type": "display_data"
    },
    {
     "data": {
      "application/vnd.jupyter.widget-view+json": {
       "model_id": "884f89eaf64c49489fc4a18b0e31fbd4",
       "version_major": 2,
       "version_minor": 0
      },
      "text/plain": [
       "HBox(children=(IntProgress(value=0, max=95), HTML(value='')))"
      ]
     },
     "metadata": {},
     "output_type": "display_data"
    },
    {
     "name": "stdout",
     "output_type": "stream",
     "text": [
      "exmae = ('GATLINBURG 2 SW, TN', 'NEWFOUND GAP, TN', ' TOWNSEND 5S, TN') 1.5764560295913925\n"
     ]
    },
    {
     "data": {
      "application/vnd.jupyter.widget-view+json": {
       "model_id": "1f4c02412e1746ad87bbb8462ee9f442",
       "version_major": 2,
       "version_minor": 0
      },
      "text/plain": [
       "HBox(children=(IntProgress(value=0, max=1), HTML(value='')))"
      ]
     },
     "metadata": {},
     "output_type": "display_data"
    },
    {
     "data": {
      "application/vnd.jupyter.widget-view+json": {
       "model_id": "28df643a4a80446396db552711ef01c6",
       "version_major": 2,
       "version_minor": 0
      },
      "text/plain": [
       "HBox(children=(IntProgress(value=0, max=95), HTML(value='')))"
      ]
     },
     "metadata": {},
     "output_type": "display_data"
    },
    {
     "name": "stdout",
     "output_type": "stream",
     "text": [
      "exmae = ('GATLINBURG 2 SW, TN',) 1.4972163335360191\n"
     ]
    },
    {
     "data": {
      "application/vnd.jupyter.widget-view+json": {
       "model_id": "d6a56d79f5b54c428be886d01f4609db",
       "version_major": 2,
       "version_minor": 0
      },
      "text/plain": [
       "HBox(children=(IntProgress(value=0, max=1), HTML(value='')))"
      ]
     },
     "metadata": {},
     "output_type": "display_data"
    },
    {
     "data": {
      "application/vnd.jupyter.widget-view+json": {
       "model_id": "ae41bd3401784b78b3fcaf8aa8957817",
       "version_major": 2,
       "version_minor": 0
      },
      "text/plain": [
       "HBox(children=(IntProgress(value=0, max=95), HTML(value='')))"
      ]
     },
     "metadata": {},
     "output_type": "display_data"
    },
    {
     "name": "stdout",
     "output_type": "stream",
     "text": [
      "exmae = ('NEWFOUND GAP, TN',) 1.5501456737516661\n"
     ]
    },
    {
     "data": {
      "application/vnd.jupyter.widget-view+json": {
       "model_id": "b408327e967a4157b3522e5f41494a71",
       "version_major": 2,
       "version_minor": 0
      },
      "text/plain": [
       "HBox(children=(IntProgress(value=0, max=1), HTML(value='')))"
      ]
     },
     "metadata": {},
     "output_type": "display_data"
    },
    {
     "data": {
      "application/vnd.jupyter.widget-view+json": {
       "model_id": "598ebd61bb4c4e8ba483fa5ef2696d7c",
       "version_major": 2,
       "version_minor": 0
      },
      "text/plain": [
       "HBox(children=(IntProgress(value=0, max=95), HTML(value='')))"
      ]
     },
     "metadata": {},
     "output_type": "display_data"
    },
    {
     "name": "stdout",
     "output_type": "stream",
     "text": [
      "exmae = (' TOWNSEND 5S, TN',) 2.1402191932997416\n"
     ]
    },
    {
     "data": {
      "application/vnd.jupyter.widget-view+json": {
       "model_id": "899d2b692bb144e6ad3de8b182a8c682",
       "version_major": 2,
       "version_minor": 0
      },
      "text/plain": [
       "HBox(children=(IntProgress(value=0, max=1), HTML(value='')))"
      ]
     },
     "metadata": {},
     "output_type": "display_data"
    },
    {
     "data": {
      "application/vnd.jupyter.widget-view+json": {
       "model_id": "c5c7601737474d5885734734fd63c3e1",
       "version_major": 2,
       "version_minor": 0
      },
      "text/plain": [
       "HBox(children=(IntProgress(value=0, max=95), HTML(value='')))"
      ]
     },
     "metadata": {},
     "output_type": "display_data"
    },
    {
     "name": "stdout",
     "output_type": "stream",
     "text": [
      "exmae = ('GATLINBURG 2 SW, TN', 'NEWFOUND GAP, TN') 1.5489398080891763\n"
     ]
    },
    {
     "data": {
      "application/vnd.jupyter.widget-view+json": {
       "model_id": "897c439a18b843cb9c47eb25ef4d821b",
       "version_major": 2,
       "version_minor": 0
      },
      "text/plain": [
       "HBox(children=(IntProgress(value=0, max=1), HTML(value='')))"
      ]
     },
     "metadata": {},
     "output_type": "display_data"
    },
    {
     "data": {
      "application/vnd.jupyter.widget-view+json": {
       "model_id": "410828714c90450f91520d2916d4682a",
       "version_major": 2,
       "version_minor": 0
      },
      "text/plain": [
       "HBox(children=(IntProgress(value=0, max=95), HTML(value='')))"
      ]
     },
     "metadata": {},
     "output_type": "display_data"
    },
    {
     "name": "stdout",
     "output_type": "stream",
     "text": [
      "exmae = ('GATLINBURG 2 SW, TN', ' TOWNSEND 5S, TN') 1.616671690504988\n"
     ]
    },
    {
     "data": {
      "application/vnd.jupyter.widget-view+json": {
       "model_id": "3fdb285a51c84fc6a6b27e408af81931",
       "version_major": 2,
       "version_minor": 0
      },
      "text/plain": [
       "HBox(children=(IntProgress(value=0, max=1), HTML(value='')))"
      ]
     },
     "metadata": {},
     "output_type": "display_data"
    },
    {
     "data": {
      "application/vnd.jupyter.widget-view+json": {
       "model_id": "3e1956cb66694e2e9423470155d269c7",
       "version_major": 2,
       "version_minor": 0
      },
      "text/plain": [
       "HBox(children=(IntProgress(value=0, max=95), HTML(value='')))"
      ]
     },
     "metadata": {},
     "output_type": "display_data"
    },
    {
     "name": "stdout",
     "output_type": "stream",
     "text": [
      "exmae = ('NEWFOUND GAP, TN', ' TOWNSEND 5S, TN') 2.436971933451168\n"
     ]
    },
    {
     "data": {
      "application/vnd.jupyter.widget-view+json": {
       "model_id": "8a1eb2d5f842444ab01ca8717be669eb",
       "version_major": 2,
       "version_minor": 0
      },
      "text/plain": [
       "HBox(children=(IntProgress(value=0, max=1), HTML(value='')))"
      ]
     },
     "metadata": {},
     "output_type": "display_data"
    },
    {
     "data": {
      "application/vnd.jupyter.widget-view+json": {
       "model_id": "eae5ffb696704e5092abb5bda8b17e86",
       "version_major": 2,
       "version_minor": 0
      },
      "text/plain": [
       "HBox(children=(IntProgress(value=0, max=95), HTML(value='')))"
      ]
     },
     "metadata": {},
     "output_type": "display_data"
    },
    {
     "name": "stdout",
     "output_type": "stream",
     "text": [
      "keymae of: TRYON, NC = 2.6823507498407078\n"
     ]
    },
    {
     "data": {
      "application/vnd.jupyter.widget-view+json": {
       "model_id": "f26464157f194ec693603d43a55edde8",
       "version_major": 2,
       "version_minor": 0
      },
      "text/plain": [
       "HBox(children=(IntProgress(value=0, max=31), HTML(value='')))"
      ]
     },
     "metadata": {},
     "output_type": "display_data"
    },
    {
     "data": {
      "application/vnd.jupyter.widget-view+json": {
       "model_id": "02c01a5b203b43d78aed51a4b0c03cff",
       "version_major": 2,
       "version_minor": 0
      },
      "text/plain": [
       "HBox(children=(IntProgress(value=0, max=1), HTML(value='')))"
      ]
     },
     "metadata": {},
     "output_type": "display_data"
    },
    {
     "data": {
      "application/vnd.jupyter.widget-view+json": {
       "model_id": "43f836d173bd485c91b54136ff854d84",
       "version_major": 2,
       "version_minor": 0
      },
      "text/plain": [
       "HBox(children=(IntProgress(value=0, max=95), HTML(value='')))"
      ]
     },
     "metadata": {},
     "output_type": "display_data"
    },
    {
     "name": "stdout",
     "output_type": "stream",
     "text": [
      "exmae = ('Greenville-Spartanburg Area, SC', 'CAESARS HEAD, SC', 'CHESNEE 7 WSW, SC', 'CLEVELAND 3S, SC', 'SPARTANBURG 3 SSE, SC') 3.731134415701127\n"
     ]
    },
    {
     "data": {
      "application/vnd.jupyter.widget-view+json": {
       "model_id": "667b726488b140929409bb5fd313674a",
       "version_major": 2,
       "version_minor": 0
      },
      "text/plain": [
       "HBox(children=(IntProgress(value=0, max=1), HTML(value='')))"
      ]
     },
     "metadata": {},
     "output_type": "display_data"
    },
    {
     "data": {
      "application/vnd.jupyter.widget-view+json": {
       "model_id": "d5ef6496a1d5449b9bef339a1759ceba",
       "version_major": 2,
       "version_minor": 0
      },
      "text/plain": [
       "HBox(children=(IntProgress(value=0, max=95), HTML(value='')))"
      ]
     },
     "metadata": {},
     "output_type": "display_data"
    },
    {
     "name": "stdout",
     "output_type": "stream",
     "text": [
      "exmae = ('Greenville-Spartanburg Area, SC',) 2.986931810013167\n"
     ]
    },
    {
     "data": {
      "application/vnd.jupyter.widget-view+json": {
       "model_id": "18a69cff0bc14d0b98a7b8d08f324eb4",
       "version_major": 2,
       "version_minor": 0
      },
      "text/plain": [
       "HBox(children=(IntProgress(value=0, max=1), HTML(value='')))"
      ]
     },
     "metadata": {},
     "output_type": "display_data"
    },
    {
     "data": {
      "application/vnd.jupyter.widget-view+json": {
       "model_id": "a7d8a04db59c4fedac3f3074d26ece59",
       "version_major": 2,
       "version_minor": 0
      },
      "text/plain": [
       "HBox(children=(IntProgress(value=0, max=95), HTML(value='')))"
      ]
     },
     "metadata": {},
     "output_type": "display_data"
    },
    {
     "name": "stdout",
     "output_type": "stream",
     "text": [
      "exmae = ('CAESARS HEAD, SC',) 3.1072872524201767\n"
     ]
    },
    {
     "data": {
      "application/vnd.jupyter.widget-view+json": {
       "model_id": "de20ae3b52ec4d5e99389beadaa03835",
       "version_major": 2,
       "version_minor": 0
      },
      "text/plain": [
       "HBox(children=(IntProgress(value=0, max=1), HTML(value='')))"
      ]
     },
     "metadata": {},
     "output_type": "display_data"
    },
    {
     "data": {
      "application/vnd.jupyter.widget-view+json": {
       "model_id": "7da1a96af2574cbaba8e33666131229b",
       "version_major": 2,
       "version_minor": 0
      },
      "text/plain": [
       "HBox(children=(IntProgress(value=0, max=95), HTML(value='')))"
      ]
     },
     "metadata": {},
     "output_type": "display_data"
    },
    {
     "name": "stdout",
     "output_type": "stream",
     "text": [
      "exmae = ('CHESNEE 7 WSW, SC',) 2.815911182694172\n"
     ]
    },
    {
     "data": {
      "application/vnd.jupyter.widget-view+json": {
       "model_id": "209b2bb5155f4a438ca6215454d26fc8",
       "version_major": 2,
       "version_minor": 0
      },
      "text/plain": [
       "HBox(children=(IntProgress(value=0, max=1), HTML(value='')))"
      ]
     },
     "metadata": {},
     "output_type": "display_data"
    },
    {
     "data": {
      "application/vnd.jupyter.widget-view+json": {
       "model_id": "e43ce2dcb94247c99ed40590022aaf64",
       "version_major": 2,
       "version_minor": 0
      },
      "text/plain": [
       "HBox(children=(IntProgress(value=0, max=95), HTML(value='')))"
      ]
     },
     "metadata": {},
     "output_type": "display_data"
    },
    {
     "name": "stdout",
     "output_type": "stream",
     "text": [
      "exmae = ('CLEVELAND 3S, SC',) 3.077446176795452\n"
     ]
    },
    {
     "data": {
      "application/vnd.jupyter.widget-view+json": {
       "model_id": "f89be20137cc47f1bb0bfa23f053dbc4",
       "version_major": 2,
       "version_minor": 0
      },
      "text/plain": [
       "HBox(children=(IntProgress(value=0, max=1), HTML(value='')))"
      ]
     },
     "metadata": {},
     "output_type": "display_data"
    },
    {
     "data": {
      "application/vnd.jupyter.widget-view+json": {
       "model_id": "397d5302c60240878ad66cb3ffcd6706",
       "version_major": 2,
       "version_minor": 0
      },
      "text/plain": [
       "HBox(children=(IntProgress(value=0, max=95), HTML(value='')))"
      ]
     },
     "metadata": {},
     "output_type": "display_data"
    },
    {
     "name": "stdout",
     "output_type": "stream",
     "text": [
      "exmae = ('SPARTANBURG 3 SSE, SC',) 2.812649001967126\n"
     ]
    },
    {
     "data": {
      "application/vnd.jupyter.widget-view+json": {
       "model_id": "090720760cba4872bc29dc74e78d8e90",
       "version_major": 2,
       "version_minor": 0
      },
      "text/plain": [
       "HBox(children=(IntProgress(value=0, max=1), HTML(value='')))"
      ]
     },
     "metadata": {},
     "output_type": "display_data"
    },
    {
     "data": {
      "application/vnd.jupyter.widget-view+json": {
       "model_id": "327245610c094901ae0d02c3882b46ca",
       "version_major": 2,
       "version_minor": 0
      },
      "text/plain": [
       "HBox(children=(IntProgress(value=0, max=95), HTML(value='')))"
      ]
     },
     "metadata": {},
     "output_type": "display_data"
    },
    {
     "name": "stdout",
     "output_type": "stream",
     "text": [
      "exmae = ('Greenville-Spartanburg Area, SC', 'CAESARS HEAD, SC') 2.942549753368086\n"
     ]
    },
    {
     "data": {
      "application/vnd.jupyter.widget-view+json": {
       "model_id": "36b61ba55ae240908225a1ee3de8f498",
       "version_major": 2,
       "version_minor": 0
      },
      "text/plain": [
       "HBox(children=(IntProgress(value=0, max=1), HTML(value='')))"
      ]
     },
     "metadata": {},
     "output_type": "display_data"
    },
    {
     "data": {
      "application/vnd.jupyter.widget-view+json": {
       "model_id": "be84f296d72f4f729fc32cc85ce330ae",
       "version_major": 2,
       "version_minor": 0
      },
      "text/plain": [
       "HBox(children=(IntProgress(value=0, max=95), HTML(value='')))"
      ]
     },
     "metadata": {},
     "output_type": "display_data"
    },
    {
     "name": "stdout",
     "output_type": "stream",
     "text": [
      "exmae = ('Greenville-Spartanburg Area, SC', 'CHESNEE 7 WSW, SC') 2.8608751566191\n"
     ]
    },
    {
     "data": {
      "application/vnd.jupyter.widget-view+json": {
       "model_id": "e0cccd834b6943b0ad5c16e3a9d0b54b",
       "version_major": 2,
       "version_minor": 0
      },
      "text/plain": [
       "HBox(children=(IntProgress(value=0, max=1), HTML(value='')))"
      ]
     },
     "metadata": {},
     "output_type": "display_data"
    },
    {
     "data": {
      "application/vnd.jupyter.widget-view+json": {
       "model_id": "8f6836e1a51c4cadb27c3c928036d84b",
       "version_major": 2,
       "version_minor": 0
      },
      "text/plain": [
       "HBox(children=(IntProgress(value=0, max=95), HTML(value='')))"
      ]
     },
     "metadata": {},
     "output_type": "display_data"
    },
    {
     "name": "stdout",
     "output_type": "stream",
     "text": [
      "exmae = ('Greenville-Spartanburg Area, SC', 'CLEVELAND 3S, SC') 3.049632259088924\n"
     ]
    },
    {
     "data": {
      "application/vnd.jupyter.widget-view+json": {
       "model_id": "d47f286cb8554df0a710f70f4c8f038f",
       "version_major": 2,
       "version_minor": 0
      },
      "text/plain": [
       "HBox(children=(IntProgress(value=0, max=1), HTML(value='')))"
      ]
     },
     "metadata": {},
     "output_type": "display_data"
    },
    {
     "data": {
      "application/vnd.jupyter.widget-view+json": {
       "model_id": "af6f1eab605d409f8c8a26d3af068b1d",
       "version_major": 2,
       "version_minor": 0
      },
      "text/plain": [
       "HBox(children=(IntProgress(value=0, max=95), HTML(value='')))"
      ]
     },
     "metadata": {},
     "output_type": "display_data"
    },
    {
     "name": "stdout",
     "output_type": "stream",
     "text": [
      "exmae = ('Greenville-Spartanburg Area, SC', 'SPARTANBURG 3 SSE, SC') 2.9144776099202763\n"
     ]
    },
    {
     "data": {
      "application/vnd.jupyter.widget-view+json": {
       "model_id": "c505360aae764f059fb1261f3569800a",
       "version_major": 2,
       "version_minor": 0
      },
      "text/plain": [
       "HBox(children=(IntProgress(value=0, max=1), HTML(value='')))"
      ]
     },
     "metadata": {},
     "output_type": "display_data"
    },
    {
     "data": {
      "application/vnd.jupyter.widget-view+json": {
       "model_id": "2731093d86b84f1288ff60d79e7d9854",
       "version_major": 2,
       "version_minor": 0
      },
      "text/plain": [
       "HBox(children=(IntProgress(value=0, max=95), HTML(value='')))"
      ]
     },
     "metadata": {},
     "output_type": "display_data"
    },
    {
     "name": "stdout",
     "output_type": "stream",
     "text": [
      "exmae = ('CAESARS HEAD, SC', 'CHESNEE 7 WSW, SC') 2.9762863578022682\n"
     ]
    },
    {
     "data": {
      "application/vnd.jupyter.widget-view+json": {
       "model_id": "33f5cca073b047d88eb34d4fbc682273",
       "version_major": 2,
       "version_minor": 0
      },
      "text/plain": [
       "HBox(children=(IntProgress(value=0, max=1), HTML(value='')))"
      ]
     },
     "metadata": {},
     "output_type": "display_data"
    },
    {
     "data": {
      "application/vnd.jupyter.widget-view+json": {
       "model_id": "1d4e4349f4254655adf790c27e61ee71",
       "version_major": 2,
       "version_minor": 0
      },
      "text/plain": [
       "HBox(children=(IntProgress(value=0, max=95), HTML(value='')))"
      ]
     },
     "metadata": {},
     "output_type": "display_data"
    },
    {
     "name": "stdout",
     "output_type": "stream",
     "text": [
      "exmae = ('CAESARS HEAD, SC', 'CLEVELAND 3S, SC') 3.20189310778487\n"
     ]
    },
    {
     "data": {
      "application/vnd.jupyter.widget-view+json": {
       "model_id": "f55bd4da911640a28f2e3c1f7790211c",
       "version_major": 2,
       "version_minor": 0
      },
      "text/plain": [
       "HBox(children=(IntProgress(value=0, max=1), HTML(value='')))"
      ]
     },
     "metadata": {},
     "output_type": "display_data"
    },
    {
     "data": {
      "application/vnd.jupyter.widget-view+json": {
       "model_id": "a06e87d8df5c46b38584b08beca9713a",
       "version_major": 2,
       "version_minor": 0
      },
      "text/plain": [
       "HBox(children=(IntProgress(value=0, max=95), HTML(value='')))"
      ]
     },
     "metadata": {},
     "output_type": "display_data"
    },
    {
     "name": "stdout",
     "output_type": "stream",
     "text": [
      "exmae = ('CAESARS HEAD, SC', 'SPARTANBURG 3 SSE, SC') 3.096819228892839\n"
     ]
    },
    {
     "data": {
      "application/vnd.jupyter.widget-view+json": {
       "model_id": "a721f96c917a492cbe80754f98a5e7c2",
       "version_major": 2,
       "version_minor": 0
      },
      "text/plain": [
       "HBox(children=(IntProgress(value=0, max=1), HTML(value='')))"
      ]
     },
     "metadata": {},
     "output_type": "display_data"
    },
    {
     "data": {
      "application/vnd.jupyter.widget-view+json": {
       "model_id": "33c0832bc95b4424904b6107775f2931",
       "version_major": 2,
       "version_minor": 0
      },
      "text/plain": [
       "HBox(children=(IntProgress(value=0, max=95), HTML(value='')))"
      ]
     },
     "metadata": {},
     "output_type": "display_data"
    },
    {
     "name": "stdout",
     "output_type": "stream",
     "text": [
      "exmae = ('CHESNEE 7 WSW, SC', 'CLEVELAND 3S, SC') 2.9903458656920554\n"
     ]
    },
    {
     "data": {
      "application/vnd.jupyter.widget-view+json": {
       "model_id": "44b50da3c34143f7aeaf4dd30d780566",
       "version_major": 2,
       "version_minor": 0
      },
      "text/plain": [
       "HBox(children=(IntProgress(value=0, max=1), HTML(value='')))"
      ]
     },
     "metadata": {},
     "output_type": "display_data"
    },
    {
     "data": {
      "application/vnd.jupyter.widget-view+json": {
       "model_id": "d23efadd09a740609818fd89a158d911",
       "version_major": 2,
       "version_minor": 0
      },
      "text/plain": [
       "HBox(children=(IntProgress(value=0, max=95), HTML(value='')))"
      ]
     },
     "metadata": {},
     "output_type": "display_data"
    },
    {
     "name": "stdout",
     "output_type": "stream",
     "text": [
      "exmae = ('CHESNEE 7 WSW, SC', 'SPARTANBURG 3 SSE, SC') 2.890486851482266\n"
     ]
    },
    {
     "data": {
      "application/vnd.jupyter.widget-view+json": {
       "model_id": "2333823de14643cc889fb19d6115cb53",
       "version_major": 2,
       "version_minor": 0
      },
      "text/plain": [
       "HBox(children=(IntProgress(value=0, max=1), HTML(value='')))"
      ]
     },
     "metadata": {},
     "output_type": "display_data"
    },
    {
     "data": {
      "application/vnd.jupyter.widget-view+json": {
       "model_id": "4158414d3f094e9b9954dd8571e6c911",
       "version_major": 2,
       "version_minor": 0
      },
      "text/plain": [
       "HBox(children=(IntProgress(value=0, max=95), HTML(value='')))"
      ]
     },
     "metadata": {},
     "output_type": "display_data"
    },
    {
     "name": "stdout",
     "output_type": "stream",
     "text": [
      "exmae = ('CLEVELAND 3S, SC', 'SPARTANBURG 3 SSE, SC') 3.0436085745720485\n"
     ]
    },
    {
     "data": {
      "application/vnd.jupyter.widget-view+json": {
       "model_id": "14d73b39633047f9a7b3b0136ad9b634",
       "version_major": 2,
       "version_minor": 0
      },
      "text/plain": [
       "HBox(children=(IntProgress(value=0, max=1), HTML(value='')))"
      ]
     },
     "metadata": {},
     "output_type": "display_data"
    },
    {
     "data": {
      "application/vnd.jupyter.widget-view+json": {
       "model_id": "dadc780a13d44cebae365729d430e741",
       "version_major": 2,
       "version_minor": 0
      },
      "text/plain": [
       "HBox(children=(IntProgress(value=0, max=95), HTML(value='')))"
      ]
     },
     "metadata": {},
     "output_type": "display_data"
    },
    {
     "name": "stdout",
     "output_type": "stream",
     "text": [
      "exmae = ('Greenville-Spartanburg Area, SC', 'CAESARS HEAD, SC', 'CHESNEE 7 WSW, SC') 2.9033859279655085\n"
     ]
    },
    {
     "data": {
      "application/vnd.jupyter.widget-view+json": {
       "model_id": "e35bd3925560459ba967b0bd19ef0fa6",
       "version_major": 2,
       "version_minor": 0
      },
      "text/plain": [
       "HBox(children=(IntProgress(value=0, max=1), HTML(value='')))"
      ]
     },
     "metadata": {},
     "output_type": "display_data"
    },
    {
     "data": {
      "application/vnd.jupyter.widget-view+json": {
       "model_id": "5abddcddb3304f2d907c498c028480c9",
       "version_major": 2,
       "version_minor": 0
      },
      "text/plain": [
       "HBox(children=(IntProgress(value=0, max=95), HTML(value='')))"
      ]
     },
     "metadata": {},
     "output_type": "display_data"
    },
    {
     "name": "stdout",
     "output_type": "stream",
     "text": [
      "exmae = ('Greenville-Spartanburg Area, SC', 'CAESARS HEAD, SC', 'CLEVELAND 3S, SC') 3.154525441526979\n"
     ]
    },
    {
     "data": {
      "application/vnd.jupyter.widget-view+json": {
       "model_id": "dbb1ba77f4624fd8bbe9b61280d04cb8",
       "version_major": 2,
       "version_minor": 0
      },
      "text/plain": [
       "HBox(children=(IntProgress(value=0, max=1), HTML(value='')))"
      ]
     },
     "metadata": {},
     "output_type": "display_data"
    },
    {
     "data": {
      "application/vnd.jupyter.widget-view+json": {
       "model_id": "5e89a755c03f4fb997d6fbfd8435a046",
       "version_major": 2,
       "version_minor": 0
      },
      "text/plain": [
       "HBox(children=(IntProgress(value=0, max=95), HTML(value='')))"
      ]
     },
     "metadata": {},
     "output_type": "display_data"
    },
    {
     "name": "stdout",
     "output_type": "stream",
     "text": [
      "exmae = ('Greenville-Spartanburg Area, SC', 'CAESARS HEAD, SC', 'SPARTANBURG 3 SSE, SC') 2.9314747667962813\n"
     ]
    },
    {
     "data": {
      "application/vnd.jupyter.widget-view+json": {
       "model_id": "e23aee9253b94485b026aae5e949cdc9",
       "version_major": 2,
       "version_minor": 0
      },
      "text/plain": [
       "HBox(children=(IntProgress(value=0, max=1), HTML(value='')))"
      ]
     },
     "metadata": {},
     "output_type": "display_data"
    },
    {
     "data": {
      "application/vnd.jupyter.widget-view+json": {
       "model_id": "5112d06f9adf4b3ab818f4fc42c378a9",
       "version_major": 2,
       "version_minor": 0
      },
      "text/plain": [
       "HBox(children=(IntProgress(value=0, max=95), HTML(value='')))"
      ]
     },
     "metadata": {},
     "output_type": "display_data"
    },
    {
     "name": "stdout",
     "output_type": "stream",
     "text": [
      "exmae = ('Greenville-Spartanburg Area, SC', 'CHESNEE 7 WSW, SC', 'CLEVELAND 3S, SC') 2.9713486547381884\n"
     ]
    },
    {
     "data": {
      "application/vnd.jupyter.widget-view+json": {
       "model_id": "1c50b7f127554fde864d1b0ad581b059",
       "version_major": 2,
       "version_minor": 0
      },
      "text/plain": [
       "HBox(children=(IntProgress(value=0, max=1), HTML(value='')))"
      ]
     },
     "metadata": {},
     "output_type": "display_data"
    },
    {
     "data": {
      "application/vnd.jupyter.widget-view+json": {
       "model_id": "06930ef2b63949ed85faf6852951b0c1",
       "version_major": 2,
       "version_minor": 0
      },
      "text/plain": [
       "HBox(children=(IntProgress(value=0, max=95), HTML(value='')))"
      ]
     },
     "metadata": {},
     "output_type": "display_data"
    },
    {
     "name": "stdout",
     "output_type": "stream",
     "text": [
      "exmae = ('Greenville-Spartanburg Area, SC', 'CHESNEE 7 WSW, SC', 'SPARTANBURG 3 SSE, SC') 2.86854756656046\n"
     ]
    },
    {
     "data": {
      "application/vnd.jupyter.widget-view+json": {
       "model_id": "c77dfe5ee5fb495ab9493544756d96d7",
       "version_major": 2,
       "version_minor": 0
      },
      "text/plain": [
       "HBox(children=(IntProgress(value=0, max=1), HTML(value='')))"
      ]
     },
     "metadata": {},
     "output_type": "display_data"
    },
    {
     "data": {
      "application/vnd.jupyter.widget-view+json": {
       "model_id": "0f5b38249dec4bc38e4edbdde844aca1",
       "version_major": 2,
       "version_minor": 0
      },
      "text/plain": [
       "HBox(children=(IntProgress(value=0, max=95), HTML(value='')))"
      ]
     },
     "metadata": {},
     "output_type": "display_data"
    },
    {
     "name": "stdout",
     "output_type": "stream",
     "text": [
      "exmae = ('Greenville-Spartanburg Area, SC', 'CLEVELAND 3S, SC', 'SPARTANBURG 3 SSE, SC') 3.0161890393875477\n"
     ]
    },
    {
     "data": {
      "application/vnd.jupyter.widget-view+json": {
       "model_id": "78826c8917a04526ad171b3e3bced6b5",
       "version_major": 2,
       "version_minor": 0
      },
      "text/plain": [
       "HBox(children=(IntProgress(value=0, max=1), HTML(value='')))"
      ]
     },
     "metadata": {},
     "output_type": "display_data"
    },
    {
     "data": {
      "application/vnd.jupyter.widget-view+json": {
       "model_id": "22b9a1acfbd74a049a806999d642154c",
       "version_major": 2,
       "version_minor": 0
      },
      "text/plain": [
       "HBox(children=(IntProgress(value=0, max=95), HTML(value='')))"
      ]
     },
     "metadata": {},
     "output_type": "display_data"
    },
    {
     "name": "stdout",
     "output_type": "stream",
     "text": [
      "exmae = ('CAESARS HEAD, SC', 'CHESNEE 7 WSW, SC', 'CLEVELAND 3S, SC') 2.99567340879987\n"
     ]
    },
    {
     "data": {
      "application/vnd.jupyter.widget-view+json": {
       "model_id": "4da1357198c14d81aa4b424c4cfac0bb",
       "version_major": 2,
       "version_minor": 0
      },
      "text/plain": [
       "HBox(children=(IntProgress(value=0, max=1), HTML(value='')))"
      ]
     },
     "metadata": {},
     "output_type": "display_data"
    },
    {
     "data": {
      "application/vnd.jupyter.widget-view+json": {
       "model_id": "1e0e81357b724fe484802b24b7f93ecf",
       "version_major": 2,
       "version_minor": 0
      },
      "text/plain": [
       "HBox(children=(IntProgress(value=0, max=95), HTML(value='')))"
      ]
     },
     "metadata": {},
     "output_type": "display_data"
    },
    {
     "name": "stdout",
     "output_type": "stream",
     "text": [
      "exmae = ('CAESARS HEAD, SC', 'CHESNEE 7 WSW, SC', 'SPARTANBURG 3 SSE, SC') 2.9370572008592566\n"
     ]
    },
    {
     "data": {
      "application/vnd.jupyter.widget-view+json": {
       "model_id": "e336baa3443841ac9b8395a01e2a9cf3",
       "version_major": 2,
       "version_minor": 0
      },
      "text/plain": [
       "HBox(children=(IntProgress(value=0, max=1), HTML(value='')))"
      ]
     },
     "metadata": {},
     "output_type": "display_data"
    },
    {
     "data": {
      "application/vnd.jupyter.widget-view+json": {
       "model_id": "5a0a5764e3fc40bda90a691c3cc53ca8",
       "version_major": 2,
       "version_minor": 0
      },
      "text/plain": [
       "HBox(children=(IntProgress(value=0, max=95), HTML(value='')))"
      ]
     },
     "metadata": {},
     "output_type": "display_data"
    },
    {
     "name": "stdout",
     "output_type": "stream",
     "text": [
      "exmae = ('CAESARS HEAD, SC', 'CLEVELAND 3S, SC', 'SPARTANBURG 3 SSE, SC') 3.277737214007516\n"
     ]
    },
    {
     "data": {
      "application/vnd.jupyter.widget-view+json": {
       "model_id": "805cf8ffcd9d4624b743c98f8c2ac4a2",
       "version_major": 2,
       "version_minor": 0
      },
      "text/plain": [
       "HBox(children=(IntProgress(value=0, max=1), HTML(value='')))"
      ]
     },
     "metadata": {},
     "output_type": "display_data"
    },
    {
     "data": {
      "application/vnd.jupyter.widget-view+json": {
       "model_id": "4f51a5cc03444a2aaaaf59caa322bb4f",
       "version_major": 2,
       "version_minor": 0
      },
      "text/plain": [
       "HBox(children=(IntProgress(value=0, max=95), HTML(value='')))"
      ]
     },
     "metadata": {},
     "output_type": "display_data"
    },
    {
     "name": "stdout",
     "output_type": "stream",
     "text": [
      "exmae = ('CHESNEE 7 WSW, SC', 'CLEVELAND 3S, SC', 'SPARTANBURG 3 SSE, SC') 2.9667226323555127\n"
     ]
    },
    {
     "data": {
      "application/vnd.jupyter.widget-view+json": {
       "model_id": "9f87da1b67554a2d924d7c0559fa0f2a",
       "version_major": 2,
       "version_minor": 0
      },
      "text/plain": [
       "HBox(children=(IntProgress(value=0, max=1), HTML(value='')))"
      ]
     },
     "metadata": {},
     "output_type": "display_data"
    },
    {
     "data": {
      "application/vnd.jupyter.widget-view+json": {
       "model_id": "d9b6af89cedb4613accafaaa8d3994fb",
       "version_major": 2,
       "version_minor": 0
      },
      "text/plain": [
       "HBox(children=(IntProgress(value=0, max=95), HTML(value='')))"
      ]
     },
     "metadata": {},
     "output_type": "display_data"
    },
    {
     "name": "stdout",
     "output_type": "stream",
     "text": [
      "exmae = ('Greenville-Spartanburg Area, SC', 'CAESARS HEAD, SC', 'CHESNEE 7 WSW, SC', 'CLEVELAND 3S, SC') 3.190416268016882\n"
     ]
    },
    {
     "data": {
      "application/vnd.jupyter.widget-view+json": {
       "model_id": "9d48d63054824586af2863a08033ec5c",
       "version_major": 2,
       "version_minor": 0
      },
      "text/plain": [
       "HBox(children=(IntProgress(value=0, max=1), HTML(value='')))"
      ]
     },
     "metadata": {},
     "output_type": "display_data"
    },
    {
     "data": {
      "application/vnd.jupyter.widget-view+json": {
       "model_id": "db896f2ae2f94742ab043a81c8faec46",
       "version_major": 2,
       "version_minor": 0
      },
      "text/plain": [
       "HBox(children=(IntProgress(value=0, max=95), HTML(value='')))"
      ]
     },
     "metadata": {},
     "output_type": "display_data"
    },
    {
     "name": "stdout",
     "output_type": "stream",
     "text": [
      "exmae = ('Greenville-Spartanburg Area, SC', 'CAESARS HEAD, SC', 'CHESNEE 7 WSW, SC', 'SPARTANBURG 3 SSE, SC') 2.8771958771274124\n"
     ]
    },
    {
     "data": {
      "application/vnd.jupyter.widget-view+json": {
       "model_id": "f864284d7c60468aaa6a8332eb8e74bf",
       "version_major": 2,
       "version_minor": 0
      },
      "text/plain": [
       "HBox(children=(IntProgress(value=0, max=1), HTML(value='')))"
      ]
     },
     "metadata": {},
     "output_type": "display_data"
    },
    {
     "data": {
      "application/vnd.jupyter.widget-view+json": {
       "model_id": "6f77ce64ef4d428fbcdfb8c3924dfb57",
       "version_major": 2,
       "version_minor": 0
      },
      "text/plain": [
       "HBox(children=(IntProgress(value=0, max=95), HTML(value='')))"
      ]
     },
     "metadata": {},
     "output_type": "display_data"
    },
    {
     "name": "stdout",
     "output_type": "stream",
     "text": [
      "exmae = ('Greenville-Spartanburg Area, SC', 'CAESARS HEAD, SC', 'CLEVELAND 3S, SC', 'SPARTANBURG 3 SSE, SC') 3.0292999192163945\n"
     ]
    },
    {
     "data": {
      "application/vnd.jupyter.widget-view+json": {
       "model_id": "f3ea1c0602ea4d459cae21d52255f52a",
       "version_major": 2,
       "version_minor": 0
      },
      "text/plain": [
       "HBox(children=(IntProgress(value=0, max=1), HTML(value='')))"
      ]
     },
     "metadata": {},
     "output_type": "display_data"
    },
    {
     "data": {
      "application/vnd.jupyter.widget-view+json": {
       "model_id": "a901b12e2713450785abe7dba02c73f8",
       "version_major": 2,
       "version_minor": 0
      },
      "text/plain": [
       "HBox(children=(IntProgress(value=0, max=95), HTML(value='')))"
      ]
     },
     "metadata": {},
     "output_type": "display_data"
    },
    {
     "name": "stdout",
     "output_type": "stream",
     "text": [
      "exmae = ('Greenville-Spartanburg Area, SC', 'CHESNEE 7 WSW, SC', 'CLEVELAND 3S, SC', 'SPARTANBURG 3 SSE, SC') 2.975167876273045\n"
     ]
    },
    {
     "data": {
      "application/vnd.jupyter.widget-view+json": {
       "model_id": "6e7c4235230f423bbc72fc062dc5e683",
       "version_major": 2,
       "version_minor": 0
      },
      "text/plain": [
       "HBox(children=(IntProgress(value=0, max=1), HTML(value='')))"
      ]
     },
     "metadata": {},
     "output_type": "display_data"
    },
    {
     "data": {
      "application/vnd.jupyter.widget-view+json": {
       "model_id": "dabff3600f374a76b696d2cbfeaa01a0",
       "version_major": 2,
       "version_minor": 0
      },
      "text/plain": [
       "HBox(children=(IntProgress(value=0, max=95), HTML(value='')))"
      ]
     },
     "metadata": {},
     "output_type": "display_data"
    },
    {
     "name": "stdout",
     "output_type": "stream",
     "text": [
      "exmae = ('CAESARS HEAD, SC', 'CHESNEE 7 WSW, SC', 'CLEVELAND 3S, SC', 'SPARTANBURG 3 SSE, SC') 3.258738835983667\n"
     ]
    },
    {
     "data": {
      "application/vnd.jupyter.widget-view+json": {
       "model_id": "4b7fff2c79844c88af9b9570fbcaea53",
       "version_major": 2,
       "version_minor": 0
      },
      "text/plain": [
       "HBox(children=(IntProgress(value=0, max=1), HTML(value='')))"
      ]
     },
     "metadata": {},
     "output_type": "display_data"
    },
    {
     "data": {
      "application/vnd.jupyter.widget-view+json": {
       "model_id": "eceb6e1f7c004a7cb9bdd0521ac88f0f",
       "version_major": 2,
       "version_minor": 0
      },
      "text/plain": [
       "HBox(children=(IntProgress(value=0, max=95), HTML(value='')))"
      ]
     },
     "metadata": {},
     "output_type": "display_data"
    },
    {
     "name": "stdout",
     "output_type": "stream",
     "text": [
      "keymae of: WAYNESVILLE 1 E, NC = 1.747482139423062\n"
     ]
    },
    {
     "data": {
      "application/vnd.jupyter.widget-view+json": {
       "model_id": "91a68b435cd64122ac9b289d85b02a54",
       "version_major": 2,
       "version_minor": 0
      },
      "text/plain": [
       "HBox(children=(IntProgress(value=0, max=3), HTML(value='')))"
      ]
     },
     "metadata": {},
     "output_type": "display_data"
    },
    {
     "data": {
      "application/vnd.jupyter.widget-view+json": {
       "model_id": "ab7448b200b040e497a8067e9f37c6a0",
       "version_major": 2,
       "version_minor": 0
      },
      "text/plain": [
       "HBox(children=(IntProgress(value=0, max=1), HTML(value='')))"
      ]
     },
     "metadata": {},
     "output_type": "display_data"
    },
    {
     "data": {
      "application/vnd.jupyter.widget-view+json": {
       "model_id": "e8bdd7951fd04b4e95b80b91cd323607",
       "version_major": 2,
       "version_minor": 0
      },
      "text/plain": [
       "HBox(children=(IntProgress(value=0, max=95), HTML(value='')))"
      ]
     },
     "metadata": {},
     "output_type": "display_data"
    },
    {
     "name": "stdout",
     "output_type": "stream",
     "text": [
      "exmae = ('MT LECONTE, TN', 'NEWFOUND GAP, TN') 2.2339993455520246\n"
     ]
    },
    {
     "data": {
      "application/vnd.jupyter.widget-view+json": {
       "model_id": "57333bc9e8234726905688137b6cf53a",
       "version_major": 2,
       "version_minor": 0
      },
      "text/plain": [
       "HBox(children=(IntProgress(value=0, max=1), HTML(value='')))"
      ]
     },
     "metadata": {},
     "output_type": "display_data"
    },
    {
     "data": {
      "application/vnd.jupyter.widget-view+json": {
       "model_id": "f29e28eb5506424ca5f23e62c0e9d789",
       "version_major": 2,
       "version_minor": 0
      },
      "text/plain": [
       "HBox(children=(IntProgress(value=0, max=95), HTML(value='')))"
      ]
     },
     "metadata": {},
     "output_type": "display_data"
    },
    {
     "name": "stdout",
     "output_type": "stream",
     "text": [
      "exmae = ('MT LECONTE, TN',) 2.067047382901454\n"
     ]
    },
    {
     "data": {
      "application/vnd.jupyter.widget-view+json": {
       "model_id": "1da56223321643b4a4694acc2d5970ea",
       "version_major": 2,
       "version_minor": 0
      },
      "text/plain": [
       "HBox(children=(IntProgress(value=0, max=1), HTML(value='')))"
      ]
     },
     "metadata": {},
     "output_type": "display_data"
    },
    {
     "data": {
      "application/vnd.jupyter.widget-view+json": {
       "model_id": "86a1a255746a423ea1e0aba40c4388ae",
       "version_major": 2,
       "version_minor": 0
      },
      "text/plain": [
       "HBox(children=(IntProgress(value=0, max=95), HTML(value='')))"
      ]
     },
     "metadata": {},
     "output_type": "display_data"
    },
    {
     "name": "stdout",
     "output_type": "stream",
     "text": [
      "exmae = ('NEWFOUND GAP, TN',) 2.262076438940648\n"
     ]
    },
    {
     "data": {
      "application/vnd.jupyter.widget-view+json": {
       "model_id": "3a400698bac6479d82a76868ef545c6c",
       "version_major": 2,
       "version_minor": 0
      },
      "text/plain": [
       "HBox(children=(IntProgress(value=0, max=1), HTML(value='')))"
      ]
     },
     "metadata": {},
     "output_type": "display_data"
    },
    {
     "data": {
      "application/vnd.jupyter.widget-view+json": {
       "model_id": "bbc8e9a91db448b2bd30a7512112730e",
       "version_major": 2,
       "version_minor": 0
      },
      "text/plain": [
       "HBox(children=(IntProgress(value=0, max=95), HTML(value='')))"
      ]
     },
     "metadata": {},
     "output_type": "display_data"
    },
    {
     "ename": "MemoryError",
     "evalue": "",
     "output_type": "error",
     "traceback": [
      "\u001b[1;31m---------------------------------------------------------------------------\u001b[0m",
      "\u001b[1;31mMemoryError\u001b[0m                               Traceback (most recent call last)",
      "\u001b[1;32m<ipython-input-10-37650317f322>\u001b[0m in \u001b[0;36m<module>\u001b[1;34m\u001b[0m\n\u001b[0;32m      2\u001b[0m \u001b[0mwarnings\u001b[0m\u001b[1;33m.\u001b[0m\u001b[0mfilterwarnings\u001b[0m\u001b[1;33m(\u001b[0m\u001b[1;34m\"ignore\"\u001b[0m\u001b[1;33m)\u001b[0m\u001b[1;33m\u001b[0m\u001b[1;33m\u001b[0m\u001b[0m\n\u001b[0;32m      3\u001b[0m \u001b[1;32mfor\u001b[0m \u001b[0mkey\u001b[0m\u001b[1;33m,\u001b[0m\u001b[0mvalue\u001b[0m \u001b[1;32min\u001b[0m \u001b[0mtqdm\u001b[0m\u001b[1;33m(\u001b[0m\u001b[0ml_o_dfs\u001b[0m\u001b[1;33m.\u001b[0m\u001b[0mitems\u001b[0m\u001b[1;33m(\u001b[0m\u001b[1;33m)\u001b[0m\u001b[1;33m)\u001b[0m\u001b[1;33m:\u001b[0m\u001b[1;33m\u001b[0m\u001b[1;33m\u001b[0m\u001b[0m\n\u001b[1;32m----> 4\u001b[1;33m     \u001b[0mexogenous_var\u001b[0m\u001b[1;33m(\u001b[0m\u001b[0mrd\u001b[0m\u001b[1;33m,\u001b[0m \u001b[0mkey\u001b[0m\u001b[1;33m,\u001b[0m \u001b[0mvalue\u001b[0m\u001b[1;33m,\u001b[0m \u001b[0mbest_comb\u001b[0m\u001b[1;33m)\u001b[0m\u001b[1;33m\u001b[0m\u001b[1;33m\u001b[0m\u001b[0m\n\u001b[0m",
      "\u001b[1;32m<ipython-input-9-1776fc404cd7>\u001b[0m in \u001b[0;36mexogenous_var\u001b[1;34m(data, ncloc, l_exoloc, best_comb)\u001b[0m\n\u001b[0;32m      4\u001b[0m \u001b[1;31m#         l_exog = exog_combinations(data, value)\u001b[0m\u001b[1;33m\u001b[0m\u001b[1;33m\u001b[0m\u001b[1;33m\u001b[0m\u001b[0m\n\u001b[0;32m      5\u001b[0m     \u001b[0mtr\u001b[0m\u001b[1;33m,\u001b[0m \u001b[0mtest\u001b[0m \u001b[1;33m=\u001b[0m \u001b[0mtrain_test_split\u001b[0m\u001b[1;33m(\u001b[0m\u001b[0mdat\u001b[0m\u001b[1;33m,\u001b[0m \u001b[0mtest_size\u001b[0m \u001b[1;33m=\u001b[0m \u001b[1;36m0.2\u001b[0m\u001b[1;33m,\u001b[0m \u001b[0mshuffle\u001b[0m\u001b[1;33m=\u001b[0m\u001b[1;32mFalse\u001b[0m\u001b[1;33m)\u001b[0m\u001b[1;33m\u001b[0m\u001b[1;33m\u001b[0m\u001b[0m\n\u001b[1;32m----> 6\u001b[1;33m     \u001b[0mkeymae\u001b[0m \u001b[1;33m=\u001b[0m \u001b[0mhyperparameter_find\u001b[0m\u001b[1;33m(\u001b[0m\u001b[0mtr\u001b[0m\u001b[1;33m,\u001b[0m \u001b[0mbest_comb\u001b[0m\u001b[1;33m,\u001b[0m \u001b[0mtest\u001b[0m\u001b[1;33m)\u001b[0m\u001b[1;33m\u001b[0m\u001b[1;33m\u001b[0m\u001b[0m\n\u001b[0m\u001b[0;32m      7\u001b[0m     \u001b[0mprint\u001b[0m\u001b[1;33m(\u001b[0m\u001b[1;34m'keymae of: '\u001b[0m\u001b[1;33m+\u001b[0m \u001b[0mkey\u001b[0m \u001b[1;33m+\u001b[0m\u001b[1;34m' = '\u001b[0m\u001b[1;33m+\u001b[0m\u001b[0mstr\u001b[0m\u001b[1;33m(\u001b[0m\u001b[0mkeymae\u001b[0m\u001b[1;33m)\u001b[0m\u001b[1;33m)\u001b[0m\u001b[1;33m\u001b[0m\u001b[1;33m\u001b[0m\u001b[0m\n\u001b[0;32m      8\u001b[0m     \u001b[0mbettermae\u001b[0m \u001b[1;33m=\u001b[0m \u001b[1;33m{\u001b[0m\u001b[1;33m}\u001b[0m\u001b[1;33m\u001b[0m\u001b[1;33m\u001b[0m\u001b[0m\n",
      "\u001b[1;32m<ipython-input-5-e77bf4e9a9de>\u001b[0m in \u001b[0;36mhyperparameter_find\u001b[1;34m(training_data, comb, testing_data, search, exogtr, exogtest)\u001b[0m\n\u001b[0;32m     24\u001b[0m                     \u001b[0mexcopy\u001b[0m \u001b[1;33m=\u001b[0m \u001b[0mpd\u001b[0m\u001b[1;33m.\u001b[0m\u001b[0mconcat\u001b[0m\u001b[1;33m(\u001b[0m\u001b[1;33m[\u001b[0m\u001b[0mexcopy\u001b[0m\u001b[1;33m,\u001b[0m \u001b[0mexogtest\u001b[0m\u001b[1;33m.\u001b[0m\u001b[0miloc\u001b[0m\u001b[1;33m[\u001b[0m\u001b[1;33m[\u001b[0m\u001b[0mi\u001b[0m\u001b[1;33m]\u001b[0m\u001b[1;33m]\u001b[0m\u001b[1;33m]\u001b[0m\u001b[1;33m)\u001b[0m\u001b[1;33m\u001b[0m\u001b[1;33m\u001b[0m\u001b[0m\n\u001b[0;32m     25\u001b[0m                 \u001b[1;32melse\u001b[0m\u001b[1;33m:\u001b[0m\u001b[1;33m\u001b[0m\u001b[1;33m\u001b[0m\u001b[0m\n\u001b[1;32m---> 26\u001b[1;33m                     \u001b[0mmod_1\u001b[0m \u001b[1;33m=\u001b[0m \u001b[0msarima_model_creation\u001b[0m\u001b[1;33m(\u001b[0m\u001b[0mcopytraining\u001b[0m\u001b[1;33m,\u001b[0m \u001b[0mcom\u001b[0m\u001b[1;33m[\u001b[0m\u001b[1;36m0\u001b[0m\u001b[1;33m]\u001b[0m\u001b[1;33m,\u001b[0m \u001b[1;36m0\u001b[0m\u001b[1;33m,\u001b[0m \u001b[0mcom\u001b[0m\u001b[1;33m[\u001b[0m\u001b[1;36m1\u001b[0m\u001b[1;33m]\u001b[0m\u001b[1;33m,\u001b[0m \u001b[0mcom\u001b[0m\u001b[1;33m[\u001b[0m\u001b[1;36m2\u001b[0m\u001b[1;33m]\u001b[0m\u001b[1;33m,\u001b[0m \u001b[1;36m0\u001b[0m\u001b[1;33m,\u001b[0m \u001b[0mcom\u001b[0m\u001b[1;33m[\u001b[0m\u001b[1;36m3\u001b[0m\u001b[1;33m]\u001b[0m\u001b[1;33m,\u001b[0m \u001b[1;36m12\u001b[0m\u001b[1;33m)\u001b[0m\u001b[1;33m\u001b[0m\u001b[1;33m\u001b[0m\u001b[0m\n\u001b[0m\u001b[0;32m     27\u001b[0m                     \u001b[0mone_step_pred2\u001b[0m \u001b[1;33m=\u001b[0m \u001b[0mmod_1\u001b[0m\u001b[1;33m.\u001b[0m\u001b[0mforecast\u001b[0m\u001b[1;33m(\u001b[0m\u001b[1;33m)\u001b[0m\u001b[1;33m\u001b[0m\u001b[1;33m\u001b[0m\u001b[0m\n\u001b[0;32m     28\u001b[0m                 \u001b[0mli_one_step\u001b[0m\u001b[1;33m.\u001b[0m\u001b[0mappend\u001b[0m\u001b[1;33m(\u001b[0m\u001b[0mone_step_pred2\u001b[0m\u001b[1;33m[\u001b[0m\u001b[1;36m0\u001b[0m\u001b[1;33m]\u001b[0m\u001b[1;33m)\u001b[0m\u001b[1;33m\u001b[0m\u001b[1;33m\u001b[0m\u001b[0m\n",
      "\u001b[1;32m<ipython-input-4-5fcefe079e19>\u001b[0m in \u001b[0;36msarima_model_creation\u001b[1;34m(data, p, d, q, P, D, Q, m, exog)\u001b[0m\n\u001b[0;32m      5\u001b[0m                                           \u001b[0menforce_stationarity\u001b[0m\u001b[1;33m=\u001b[0m\u001b[1;32mFalse\u001b[0m\u001b[1;33m,\u001b[0m \u001b[0menforce_invertibility\u001b[0m\u001b[1;33m=\u001b[0m\u001b[1;32mFalse\u001b[0m\u001b[1;33m,\u001b[0m\u001b[1;33m\u001b[0m\u001b[1;33m\u001b[0m\u001b[0m\n\u001b[0;32m      6\u001b[0m                                           initialization='approximate_diffuse')\n\u001b[1;32m----> 7\u001b[1;33m     \u001b[0mmodel_fit\u001b[0m \u001b[1;33m=\u001b[0m \u001b[0msarimamod\u001b[0m\u001b[1;33m.\u001b[0m\u001b[0mfit\u001b[0m\u001b[1;33m(\u001b[0m\u001b[1;33m)\u001b[0m\u001b[1;31m# start_params=[0, 0, 0, 0, 1])\u001b[0m\u001b[1;33m\u001b[0m\u001b[1;33m\u001b[0m\u001b[0m\n\u001b[0m\u001b[0;32m      8\u001b[0m     \u001b[1;32mreturn\u001b[0m\u001b[1;33m(\u001b[0m\u001b[0mmodel_fit\u001b[0m\u001b[1;33m)\u001b[0m\u001b[1;33m\u001b[0m\u001b[1;33m\u001b[0m\u001b[0m\n",
      "\u001b[1;32m~\\Anaconda3\\lib\\site-packages\\statsmodels\\tsa\\statespace\\mlemodel.py\u001b[0m in \u001b[0;36mfit\u001b[1;34m(self, start_params, transformed, cov_type, cov_kwds, method, maxiter, full_output, disp, callback, return_params, optim_score, optim_complex_step, optim_hessian, flags, **kwargs)\u001b[0m\n\u001b[0;32m    475\u001b[0m         \u001b[1;32melse\u001b[0m\u001b[1;33m:\u001b[0m\u001b[1;33m\u001b[0m\u001b[1;33m\u001b[0m\u001b[0m\n\u001b[0;32m    476\u001b[0m             res = self.smooth(mlefit.params, transformed=False,\n\u001b[1;32m--> 477\u001b[1;33m                               cov_type=cov_type, cov_kwds=cov_kwds)\n\u001b[0m\u001b[0;32m    478\u001b[0m \u001b[1;33m\u001b[0m\u001b[0m\n\u001b[0;32m    479\u001b[0m             \u001b[0mres\u001b[0m\u001b[1;33m.\u001b[0m\u001b[0mmlefit\u001b[0m \u001b[1;33m=\u001b[0m \u001b[0mmlefit\u001b[0m\u001b[1;33m\u001b[0m\u001b[1;33m\u001b[0m\u001b[0m\n",
      "\u001b[1;32m~\\Anaconda3\\lib\\site-packages\\statsmodels\\tsa\\statespace\\mlemodel.py\u001b[0m in \u001b[0;36msmooth\u001b[1;34m(self, params, transformed, complex_step, cov_type, cov_kwds, return_ssm, results_class, results_wrapper_class, **kwargs)\u001b[0m\n\u001b[0;32m    591\u001b[0m \u001b[1;33m\u001b[0m\u001b[0m\n\u001b[0;32m    592\u001b[0m         \u001b[1;31m# Get the state space output\u001b[0m\u001b[1;33m\u001b[0m\u001b[1;33m\u001b[0m\u001b[1;33m\u001b[0m\u001b[0m\n\u001b[1;32m--> 593\u001b[1;33m         \u001b[0mresult\u001b[0m \u001b[1;33m=\u001b[0m \u001b[0mself\u001b[0m\u001b[1;33m.\u001b[0m\u001b[0mssm\u001b[0m\u001b[1;33m.\u001b[0m\u001b[0msmooth\u001b[0m\u001b[1;33m(\u001b[0m\u001b[0mcomplex_step\u001b[0m\u001b[1;33m=\u001b[0m\u001b[0mcomplex_step\u001b[0m\u001b[1;33m,\u001b[0m \u001b[1;33m**\u001b[0m\u001b[0mkwargs\u001b[0m\u001b[1;33m)\u001b[0m\u001b[1;33m\u001b[0m\u001b[1;33m\u001b[0m\u001b[0m\n\u001b[0m\u001b[0;32m    594\u001b[0m \u001b[1;33m\u001b[0m\u001b[0m\n\u001b[0;32m    595\u001b[0m         \u001b[1;31m# Wrap in a results object\u001b[0m\u001b[1;33m\u001b[0m\u001b[1;33m\u001b[0m\u001b[1;33m\u001b[0m\u001b[0m\n",
      "\u001b[1;32m~\\Anaconda3\\lib\\site-packages\\statsmodels\\tsa\\statespace\\kalman_smoother.py\u001b[0m in \u001b[0;36msmooth\u001b[1;34m(self, smoother_output, smooth_method, results, run_filter, prefix, complex_step, **kwargs)\u001b[0m\n\u001b[0;32m    402\u001b[0m         \u001b[0mresults\u001b[0m \u001b[1;33m=\u001b[0m \u001b[0mself\u001b[0m\u001b[1;33m.\u001b[0m\u001b[0mresults_class\u001b[0m\u001b[1;33m(\u001b[0m\u001b[0mself\u001b[0m\u001b[1;33m)\u001b[0m\u001b[1;33m\u001b[0m\u001b[1;33m\u001b[0m\u001b[0m\n\u001b[0;32m    403\u001b[0m         \u001b[0mresults\u001b[0m\u001b[1;33m.\u001b[0m\u001b[0mupdate_representation\u001b[0m\u001b[1;33m(\u001b[0m\u001b[0mself\u001b[0m\u001b[1;33m)\u001b[0m\u001b[1;33m\u001b[0m\u001b[1;33m\u001b[0m\u001b[0m\n\u001b[1;32m--> 404\u001b[1;33m         \u001b[0mresults\u001b[0m\u001b[1;33m.\u001b[0m\u001b[0mupdate_filter\u001b[0m\u001b[1;33m(\u001b[0m\u001b[0mkfilter\u001b[0m\u001b[1;33m)\u001b[0m\u001b[1;33m\u001b[0m\u001b[1;33m\u001b[0m\u001b[0m\n\u001b[0m\u001b[0;32m    405\u001b[0m \u001b[1;33m\u001b[0m\u001b[0m\n\u001b[0;32m    406\u001b[0m         \u001b[1;31m# Run the smoother\u001b[0m\u001b[1;33m\u001b[0m\u001b[1;33m\u001b[0m\u001b[1;33m\u001b[0m\u001b[0m\n",
      "\u001b[1;32m~\\Anaconda3\\lib\\site-packages\\statsmodels\\tsa\\statespace\\kalman_filter.py\u001b[0m in \u001b[0;36mupdate_filter\u001b[1;34m(self, kalman_filter)\u001b[0m\n\u001b[0;32m   1385\u001b[0m         )\n\u001b[0;32m   1386\u001b[0m         self.predicted_state_cov = np.array(\n\u001b[1;32m-> 1387\u001b[1;33m             \u001b[0mkalman_filter\u001b[0m\u001b[1;33m.\u001b[0m\u001b[0mpredicted_state_cov\u001b[0m\u001b[1;33m,\u001b[0m \u001b[0mcopy\u001b[0m\u001b[1;33m=\u001b[0m\u001b[1;32mTrue\u001b[0m\u001b[1;33m\u001b[0m\u001b[1;33m\u001b[0m\u001b[0m\n\u001b[0m\u001b[0;32m   1388\u001b[0m         )\n\u001b[0;32m   1389\u001b[0m \u001b[1;33m\u001b[0m\u001b[0m\n",
      "\u001b[1;31mMemoryError\u001b[0m: "
     ]
    }
   ],
   "source": [
    "best_comb = [[4,3,3,4]]\n",
    "warnings.filterwarnings(\"ignore\")\n",
    "for key,value in tqdm(l_o_dfs.items()):\n",
    "    exogenous_var(rd, key, value, best_comb)"
   ]
  },
  {
   "cell_type": "code",
   "execution_count": 69,
   "metadata": {
    "ExecuteTime": {
     "end_time": "2019-08-22T08:17:36.010027Z",
     "start_time": "2019-08-22T08:17:35.775609Z"
    },
    "scrolled": true
   },
   "outputs": [],
   "source": [
    "with_exogs = ['WHITEVILLE 7 NW, NC', 'CASAR, NC', 'FOREST CITY 8 W, NC', 'GASTONIA, NC', 'LAKE LURE 2, NC', \n",
    "                       'ELIZABETHTOWN, NC', ' MOUNT HOLLY 4 NE, NC','GRANDFATHER MTN, NC']\n",
    "ncrd2 = ncrd.copy()\n",
    "ncrd_less = ncrd2.drop(with_exogs,axis=1)"
   ]
  },
  {
   "cell_type": "code",
   "execution_count": 74,
   "metadata": {
    "ExecuteTime": {
     "end_time": "2019-08-22T23:11:09.685305Z",
     "start_time": "2019-08-22T23:11:09.654087Z"
    }
   },
   "outputs": [],
   "source": [
    "def prediction_fx(data, begin, end):\n",
    "    base = datetime.strptime(begin,'%Y-%m-%d')\n",
    "    date_list = [base + relativedelta(months=x) for x in range(600)]\n",
    "    prediction1_df = pd.DataFrame(index=date_list)\n",
    "    for col in tqdm(data.columns):\n",
    "        loc = data[col]\n",
    "        mod_fit1 = sarima_model_creation(loc, 4,0,3,3,0,4,12)\n",
    "        point_predictions = pd.DataFrame(mod_fit1.predict(start=begin, end=end), columns=col)\n",
    "        future_pred1 = mod_fit1.get_prediction(start=begin, end=end)\n",
    "        future_pred1_ci = future_pred1.conf_int()\n",
    "        point_predictions_df = pd.merge(point_predictions, future_pred1_ci, left_index=True, right_index=True)\n",
    "        prediction1_df = pd.merge(prediction1_df, point_predictions_df, left_index=True, right_index=True)\n",
    "    return(prediction1_df)"
   ]
  },
  {
   "cell_type": "code",
   "execution_count": 71,
   "metadata": {
    "ExecuteTime": {
     "end_time": "2019-08-22T10:22:49.892364Z",
     "start_time": "2019-08-22T08:18:15.561854Z"
    },
    "scrolled": true
   },
   "outputs": [
    {
     "data": {
      "application/vnd.jupyter.widget-view+json": {
       "model_id": "1aece427346e43249aac280d12f23717",
       "version_major": 2,
       "version_minor": 0
      },
      "text/plain": [
       "HBox(children=(IntProgress(value=0, max=104), HTML(value='')))"
      ]
     },
     "metadata": {},
     "output_type": "display_data"
    },
    {
     "name": "stdout",
     "output_type": "stream",
     "text": [
      "\n"
     ]
    },
    {
     "data": {
      "text/html": [
       "<div>\n",
       "<style scoped>\n",
       "    .dataframe tbody tr th:only-of-type {\n",
       "        vertical-align: middle;\n",
       "    }\n",
       "\n",
       "    .dataframe tbody tr th {\n",
       "        vertical-align: top;\n",
       "    }\n",
       "\n",
       "    .dataframe thead th {\n",
       "        text-align: right;\n",
       "    }\n",
       "</style>\n",
       "<table border=\"1\" class=\"dataframe\">\n",
       "  <thead>\n",
       "    <tr style=\"text-align: right;\">\n",
       "      <th></th>\n",
       "      <th>0_x</th>\n",
       "      <th>lower Raleigh, NC</th>\n",
       "      <th>upper Raleigh, NC</th>\n",
       "      <th>0_y</th>\n",
       "      <th>lower Fayetteville, NC</th>\n",
       "      <th>upper Fayetteville, NC</th>\n",
       "      <th>0_x</th>\n",
       "      <th>lower Albemarle, NC</th>\n",
       "      <th>upper Albemarle, NC</th>\n",
       "      <th>0_y</th>\n",
       "      <th>...</th>\n",
       "      <th>upper YADKINVILLE 6 E, NC</th>\n",
       "      <th>0_y</th>\n",
       "      <th>lower HAYESVILLE 1 NE, NC</th>\n",
       "      <th>upper HAYESVILLE 1 NE, NC</th>\n",
       "      <th>0_x</th>\n",
       "      <th>lower MURPHY 4ESE, NC</th>\n",
       "      <th>upper MURPHY 4ESE, NC</th>\n",
       "      <th>0_y</th>\n",
       "      <th>lower  KING, NC</th>\n",
       "      <th>upper  KING, NC</th>\n",
       "    </tr>\n",
       "  </thead>\n",
       "  <tbody>\n",
       "    <tr>\n",
       "      <th>2019-05-01</th>\n",
       "      <td>3.366287</td>\n",
       "      <td>-0.947590</td>\n",
       "      <td>7.680163</td>\n",
       "      <td>3.111657</td>\n",
       "      <td>-1.504349</td>\n",
       "      <td>7.727664</td>\n",
       "      <td>3.461614</td>\n",
       "      <td>-0.901392</td>\n",
       "      <td>7.824621</td>\n",
       "      <td>4.101742</td>\n",
       "      <td>...</td>\n",
       "      <td>8.403074</td>\n",
       "      <td>6.052865</td>\n",
       "      <td>2.067085</td>\n",
       "      <td>10.038645</td>\n",
       "      <td>6.054696</td>\n",
       "      <td>1.844234</td>\n",
       "      <td>10.265159</td>\n",
       "      <td>4.555015</td>\n",
       "      <td>0.729303</td>\n",
       "      <td>8.380726</td>\n",
       "    </tr>\n",
       "    <tr>\n",
       "      <th>2019-06-01</th>\n",
       "      <td>4.311068</td>\n",
       "      <td>-0.004202</td>\n",
       "      <td>8.626337</td>\n",
       "      <td>4.639369</td>\n",
       "      <td>-0.012169</td>\n",
       "      <td>9.290906</td>\n",
       "      <td>4.748512</td>\n",
       "      <td>0.334216</td>\n",
       "      <td>9.162809</td>\n",
       "      <td>4.453031</td>\n",
       "      <td>...</td>\n",
       "      <td>8.033802</td>\n",
       "      <td>5.717889</td>\n",
       "      <td>1.691579</td>\n",
       "      <td>9.744200</td>\n",
       "      <td>6.150096</td>\n",
       "      <td>1.908906</td>\n",
       "      <td>10.391286</td>\n",
       "      <td>3.477236</td>\n",
       "      <td>-0.366788</td>\n",
       "      <td>7.321260</td>\n",
       "    </tr>\n",
       "    <tr>\n",
       "      <th>2019-07-01</th>\n",
       "      <td>6.314961</td>\n",
       "      <td>1.995109</td>\n",
       "      <td>10.634814</td>\n",
       "      <td>4.736273</td>\n",
       "      <td>0.084019</td>\n",
       "      <td>9.388527</td>\n",
       "      <td>5.211461</td>\n",
       "      <td>0.767251</td>\n",
       "      <td>9.655671</td>\n",
       "      <td>4.030026</td>\n",
       "      <td>...</td>\n",
       "      <td>8.752115</td>\n",
       "      <td>6.071343</td>\n",
       "      <td>2.008941</td>\n",
       "      <td>10.133745</td>\n",
       "      <td>5.999118</td>\n",
       "      <td>1.743897</td>\n",
       "      <td>10.254340</td>\n",
       "      <td>4.060046</td>\n",
       "      <td>0.207505</td>\n",
       "      <td>7.912587</td>\n",
       "    </tr>\n",
       "    <tr>\n",
       "      <th>2019-08-01</th>\n",
       "      <td>4.145673</td>\n",
       "      <td>-0.191141</td>\n",
       "      <td>8.482487</td>\n",
       "      <td>5.171562</td>\n",
       "      <td>0.516924</td>\n",
       "      <td>9.826201</td>\n",
       "      <td>4.538334</td>\n",
       "      <td>0.074311</td>\n",
       "      <td>9.002357</td>\n",
       "      <td>3.948713</td>\n",
       "      <td>...</td>\n",
       "      <td>8.744874</td>\n",
       "      <td>5.126533</td>\n",
       "      <td>1.018007</td>\n",
       "      <td>9.235059</td>\n",
       "      <td>4.852656</td>\n",
       "      <td>0.570876</td>\n",
       "      <td>9.134435</td>\n",
       "      <td>4.301428</td>\n",
       "      <td>0.444422</td>\n",
       "      <td>8.158433</td>\n",
       "    </tr>\n",
       "    <tr>\n",
       "      <th>2019-09-01</th>\n",
       "      <td>4.875324</td>\n",
       "      <td>0.538447</td>\n",
       "      <td>9.212201</td>\n",
       "      <td>4.613723</td>\n",
       "      <td>-0.047083</td>\n",
       "      <td>9.274530</td>\n",
       "      <td>3.479564</td>\n",
       "      <td>-0.985128</td>\n",
       "      <td>7.944255</td>\n",
       "      <td>4.547796</td>\n",
       "      <td>...</td>\n",
       "      <td>8.041144</td>\n",
       "      <td>5.063930</td>\n",
       "      <td>0.946878</td>\n",
       "      <td>9.180982</td>\n",
       "      <td>4.718284</td>\n",
       "      <td>0.405907</td>\n",
       "      <td>9.030662</td>\n",
       "      <td>4.442798</td>\n",
       "      <td>0.584406</td>\n",
       "      <td>8.301189</td>\n",
       "    </tr>\n",
       "    <tr>\n",
       "      <th>2019-10-01</th>\n",
       "      <td>4.620644</td>\n",
       "      <td>0.275651</td>\n",
       "      <td>8.965637</td>\n",
       "      <td>3.449842</td>\n",
       "      <td>-1.211666</td>\n",
       "      <td>8.111351</td>\n",
       "      <td>3.654706</td>\n",
       "      <td>-0.812263</td>\n",
       "      <td>8.121676</td>\n",
       "      <td>4.270212</td>\n",
       "      <td>...</td>\n",
       "      <td>7.435480</td>\n",
       "      <td>4.244699</td>\n",
       "      <td>0.118656</td>\n",
       "      <td>8.370741</td>\n",
       "      <td>3.892131</td>\n",
       "      <td>-0.433895</td>\n",
       "      <td>8.218157</td>\n",
       "      <td>4.220072</td>\n",
       "      <td>0.360803</td>\n",
       "      <td>8.079341</td>\n",
       "    </tr>\n",
       "    <tr>\n",
       "      <th>2019-11-01</th>\n",
       "      <td>2.836573</td>\n",
       "      <td>-1.515683</td>\n",
       "      <td>7.188829</td>\n",
       "      <td>2.833024</td>\n",
       "      <td>-1.829652</td>\n",
       "      <td>7.495700</td>\n",
       "      <td>3.578847</td>\n",
       "      <td>-0.888818</td>\n",
       "      <td>8.046511</td>\n",
       "      <td>4.145416</td>\n",
       "      <td>...</td>\n",
       "      <td>7.125765</td>\n",
       "      <td>5.128604</td>\n",
       "      <td>1.001646</td>\n",
       "      <td>9.255561</td>\n",
       "      <td>4.462930</td>\n",
       "      <td>0.130424</td>\n",
       "      <td>8.795437</td>\n",
       "      <td>4.280093</td>\n",
       "      <td>0.420679</td>\n",
       "      <td>8.139506</td>\n",
       "    </tr>\n",
       "    <tr>\n",
       "      <th>2019-12-01</th>\n",
       "      <td>3.028145</td>\n",
       "      <td>-1.325670</td>\n",
       "      <td>7.381960</td>\n",
       "      <td>3.043657</td>\n",
       "      <td>-1.619592</td>\n",
       "      <td>7.706907</td>\n",
       "      <td>3.945386</td>\n",
       "      <td>-0.522327</td>\n",
       "      <td>8.413099</td>\n",
       "      <td>4.089217</td>\n",
       "      <td>...</td>\n",
       "      <td>7.805577</td>\n",
       "      <td>5.843728</td>\n",
       "      <td>1.715459</td>\n",
       "      <td>9.971997</td>\n",
       "      <td>5.297449</td>\n",
       "      <td>0.963550</td>\n",
       "      <td>9.631349</td>\n",
       "      <td>4.521210</td>\n",
       "      <td>0.661633</td>\n",
       "      <td>8.380788</td>\n",
       "    </tr>\n",
       "    <tr>\n",
       "      <th>2020-01-01</th>\n",
       "      <td>3.996280</td>\n",
       "      <td>-0.365668</td>\n",
       "      <td>8.358228</td>\n",
       "      <td>2.907440</td>\n",
       "      <td>-1.756070</td>\n",
       "      <td>7.570950</td>\n",
       "      <td>3.020206</td>\n",
       "      <td>-1.447848</td>\n",
       "      <td>7.488261</td>\n",
       "      <td>3.895951</td>\n",
       "      <td>...</td>\n",
       "      <td>7.420529</td>\n",
       "      <td>5.472307</td>\n",
       "      <td>1.343995</td>\n",
       "      <td>9.600618</td>\n",
       "      <td>4.975608</td>\n",
       "      <td>0.641069</td>\n",
       "      <td>9.310147</td>\n",
       "      <td>4.132021</td>\n",
       "      <td>0.272453</td>\n",
       "      <td>7.991588</td>\n",
       "    </tr>\n",
       "    <tr>\n",
       "      <th>2020-02-01</th>\n",
       "      <td>2.822907</td>\n",
       "      <td>-1.540627</td>\n",
       "      <td>7.186440</td>\n",
       "      <td>2.760683</td>\n",
       "      <td>-1.903013</td>\n",
       "      <td>7.424379</td>\n",
       "      <td>3.227472</td>\n",
       "      <td>-1.240312</td>\n",
       "      <td>7.695256</td>\n",
       "      <td>3.833445</td>\n",
       "      <td>...</td>\n",
       "      <td>6.962277</td>\n",
       "      <td>5.590564</td>\n",
       "      <td>1.462130</td>\n",
       "      <td>9.718997</td>\n",
       "      <td>5.443202</td>\n",
       "      <td>1.108752</td>\n",
       "      <td>9.777651</td>\n",
       "      <td>4.021765</td>\n",
       "      <td>0.162172</td>\n",
       "      <td>7.881357</td>\n",
       "    </tr>\n",
       "  </tbody>\n",
       "</table>\n",
       "<p>10 rows × 312 columns</p>\n",
       "</div>"
      ],
      "text/plain": [
       "                 0_x  lower Raleigh, NC  upper Raleigh, NC       0_y  \\\n",
       "2019-05-01  3.366287          -0.947590           7.680163  3.111657   \n",
       "2019-06-01  4.311068          -0.004202           8.626337  4.639369   \n",
       "2019-07-01  6.314961           1.995109          10.634814  4.736273   \n",
       "2019-08-01  4.145673          -0.191141           8.482487  5.171562   \n",
       "2019-09-01  4.875324           0.538447           9.212201  4.613723   \n",
       "2019-10-01  4.620644           0.275651           8.965637  3.449842   \n",
       "2019-11-01  2.836573          -1.515683           7.188829  2.833024   \n",
       "2019-12-01  3.028145          -1.325670           7.381960  3.043657   \n",
       "2020-01-01  3.996280          -0.365668           8.358228  2.907440   \n",
       "2020-02-01  2.822907          -1.540627           7.186440  2.760683   \n",
       "\n",
       "            lower Fayetteville, NC  upper Fayetteville, NC       0_x  \\\n",
       "2019-05-01               -1.504349                7.727664  3.461614   \n",
       "2019-06-01               -0.012169                9.290906  4.748512   \n",
       "2019-07-01                0.084019                9.388527  5.211461   \n",
       "2019-08-01                0.516924                9.826201  4.538334   \n",
       "2019-09-01               -0.047083                9.274530  3.479564   \n",
       "2019-10-01               -1.211666                8.111351  3.654706   \n",
       "2019-11-01               -1.829652                7.495700  3.578847   \n",
       "2019-12-01               -1.619592                7.706907  3.945386   \n",
       "2020-01-01               -1.756070                7.570950  3.020206   \n",
       "2020-02-01               -1.903013                7.424379  3.227472   \n",
       "\n",
       "            lower Albemarle, NC  upper Albemarle, NC       0_y  ...  \\\n",
       "2019-05-01            -0.901392             7.824621  4.101742  ...   \n",
       "2019-06-01             0.334216             9.162809  4.453031  ...   \n",
       "2019-07-01             0.767251             9.655671  4.030026  ...   \n",
       "2019-08-01             0.074311             9.002357  3.948713  ...   \n",
       "2019-09-01            -0.985128             7.944255  4.547796  ...   \n",
       "2019-10-01            -0.812263             8.121676  4.270212  ...   \n",
       "2019-11-01            -0.888818             8.046511  4.145416  ...   \n",
       "2019-12-01            -0.522327             8.413099  4.089217  ...   \n",
       "2020-01-01            -1.447848             7.488261  3.895951  ...   \n",
       "2020-02-01            -1.240312             7.695256  3.833445  ...   \n",
       "\n",
       "            upper YADKINVILLE 6 E, NC       0_y  lower HAYESVILLE 1 NE, NC  \\\n",
       "2019-05-01                   8.403074  6.052865                   2.067085   \n",
       "2019-06-01                   8.033802  5.717889                   1.691579   \n",
       "2019-07-01                   8.752115  6.071343                   2.008941   \n",
       "2019-08-01                   8.744874  5.126533                   1.018007   \n",
       "2019-09-01                   8.041144  5.063930                   0.946878   \n",
       "2019-10-01                   7.435480  4.244699                   0.118656   \n",
       "2019-11-01                   7.125765  5.128604                   1.001646   \n",
       "2019-12-01                   7.805577  5.843728                   1.715459   \n",
       "2020-01-01                   7.420529  5.472307                   1.343995   \n",
       "2020-02-01                   6.962277  5.590564                   1.462130   \n",
       "\n",
       "            upper HAYESVILLE 1 NE, NC       0_x  lower MURPHY 4ESE, NC  \\\n",
       "2019-05-01                  10.038645  6.054696               1.844234   \n",
       "2019-06-01                   9.744200  6.150096               1.908906   \n",
       "2019-07-01                  10.133745  5.999118               1.743897   \n",
       "2019-08-01                   9.235059  4.852656               0.570876   \n",
       "2019-09-01                   9.180982  4.718284               0.405907   \n",
       "2019-10-01                   8.370741  3.892131              -0.433895   \n",
       "2019-11-01                   9.255561  4.462930               0.130424   \n",
       "2019-12-01                   9.971997  5.297449               0.963550   \n",
       "2020-01-01                   9.600618  4.975608               0.641069   \n",
       "2020-02-01                   9.718997  5.443202               1.108752   \n",
       "\n",
       "            upper MURPHY 4ESE, NC       0_y  lower  KING, NC  upper  KING, NC  \n",
       "2019-05-01              10.265159  4.555015         0.729303         8.380726  \n",
       "2019-06-01              10.391286  3.477236        -0.366788         7.321260  \n",
       "2019-07-01              10.254340  4.060046         0.207505         7.912587  \n",
       "2019-08-01               9.134435  4.301428         0.444422         8.158433  \n",
       "2019-09-01               9.030662  4.442798         0.584406         8.301189  \n",
       "2019-10-01               8.218157  4.220072         0.360803         8.079341  \n",
       "2019-11-01               8.795437  4.280093         0.420679         8.139506  \n",
       "2019-12-01               9.631349  4.521210         0.661633         8.380788  \n",
       "2020-01-01               9.310147  4.132021         0.272453         7.991588  \n",
       "2020-02-01               9.777651  4.021765         0.162172         7.881357  \n",
       "\n",
       "[10 rows x 312 columns]"
      ]
     },
     "execution_count": 71,
     "metadata": {},
     "output_type": "execute_result"
    }
   ],
   "source": [
    "pre_df = prediction_fx(ncrd_less, '2019-05-01', '2069-05-01')\n",
    "pre_df.head(10)"
   ]
  },
  {
   "cell_type": "code",
   "execution_count": 73,
   "metadata": {
    "ExecuteTime": {
     "end_time": "2019-08-22T23:05:23.647363Z",
     "start_time": "2019-08-22T23:05:23.538020Z"
    }
   },
   "outputs": [
    {
     "data": {
      "text/plain": [
       "['0_x',\n",
       " 'lower Raleigh, NC',\n",
       " 'upper Raleigh, NC',\n",
       " '0_y',\n",
       " 'lower Fayetteville, NC',\n",
       " 'upper Fayetteville, NC',\n",
       " '0_x',\n",
       " 'lower Albemarle, NC',\n",
       " 'upper Albemarle, NC',\n",
       " '0_y',\n",
       " 'lower Arcola, NC',\n",
       " 'upper Arcola, NC',\n",
       " '0_x',\n",
       " 'lower Asheboro, NC',\n",
       " 'upper Asheboro, NC',\n",
       " '0_y',\n",
       " 'lower Burlington, NC',\n",
       " 'upper Burlington, NC',\n",
       " '0_x',\n",
       " 'lower Carthage, NC',\n",
       " 'upper Carthage, NC',\n",
       " '0_y',\n",
       " 'lower Chapel Hill, NC',\n",
       " 'upper Chapel Hill, NC',\n",
       " '0_x',\n",
       " 'lower Clayton, NC',\n",
       " 'upper Clayton, NC',\n",
       " '0_y',\n",
       " 'lower Dunn, NC',\n",
       " 'upper Dunn, NC',\n",
       " '0_x',\n",
       " 'lower Durham, NC',\n",
       " 'upper Durham, NC',\n",
       " '0_y',\n",
       " 'lower Enfield, NC',\n",
       " 'upper Enfield, NC',\n",
       " '0_x',\n",
       " 'lower Fort Bragg, NC',\n",
       " 'upper Fort Bragg, NC',\n",
       " '0_y',\n",
       " 'lower Graham, NC',\n",
       " 'upper Graham, NC',\n",
       " '0_x',\n",
       " 'lower Greensboro AP, NC',\n",
       " 'upper Greensboro AP, NC',\n",
       " '0_y',\n",
       " 'lower Henderson 2 NNW, NC',\n",
       " 'upper Henderson 2 NNW, NC',\n",
       " '0_x',\n",
       " 'lower JACKSON SPRINGS 5 WNW, NC',\n",
       " 'upper JACKSON SPRINGS 5 WNW, NC',\n",
       " '0_y',\n",
       " 'lower Laurinburg, NC',\n",
       " 'upper Laurinburg, NC',\n",
       " '0_x',\n",
       " 'lower Louisburg, NC',\n",
       " 'upper Louisburg, NC',\n",
       " '0_y',\n",
       " 'lower Randleman, NC',\n",
       " 'upper Randleman, NC',\n",
       " '0_x',\n",
       " 'lower Roanoke Rapids, NC',\n",
       " 'upper Roanoke Rapids, NC',\n",
       " '0_y',\n",
       " 'lower Rougemont, NC',\n",
       " 'upper Rougemont, NC',\n",
       " '0_x',\n",
       " 'lower Siler City, NC',\n",
       " 'upper Siler City, NC',\n",
       " '0_y',\n",
       " 'lower Smithfield, NC',\n",
       " 'upper Smithfield, NC',\n",
       " '0_x',\n",
       " 'lower Tarboro, NC',\n",
       " 'upper Tarboro, NC',\n",
       " '0_y',\n",
       " 'lower Wilson, NC',\n",
       " 'upper Wilson, NC',\n",
       " '0_x',\n",
       " 'lower Yadkin College, NC',\n",
       " 'upper Yadkin College, NC',\n",
       " '0_y',\n",
       " 'lower Murfreesboro, NC',\n",
       " 'upper Murfreesboro, NC',\n",
       " '0_x',\n",
       " 'lower Elizabeth City, NC',\n",
       " 'upper Elizabeth City, NC',\n",
       " '0_y',\n",
       " 'lower Cape Hatteras Area, NC',\n",
       " 'upper Cape Hatteras Area, NC',\n",
       " '0_x',\n",
       " 'lower Atlantic Beach, NC',\n",
       " 'upper Atlantic Beach, NC',\n",
       " '0_y',\n",
       " 'lower Aurora, NC',\n",
       " 'upper Aurora, NC',\n",
       " '0_x',\n",
       " 'lower Greenville, NC',\n",
       " 'upper Greenville, NC',\n",
       " '0_y',\n",
       " 'lower JACKSONVILLE EOC, NC',\n",
       " 'upper JACKSONVILLE EOC, NC',\n",
       " '0_x',\n",
       " 'lower KINSTON 7 SE, NC',\n",
       " 'upper KINSTON 7 SE, NC',\n",
       " '0_y',\n",
       " 'lower MOUNT OLIVE 6SE, NC',\n",
       " 'upper MOUNT OLIVE 6SE, NC',\n",
       " '0_x',\n",
       " 'lower CRAVEN COUNTY REGIONAL, NC',\n",
       " 'upper CRAVEN COUNTY REGIONAL, NC',\n",
       " '0_y',\n",
       " 'lower NEWPORT-MOREHEAD CITY WFO, NC',\n",
       " 'upper NEWPORT-MOREHEAD CITY WFO, NC',\n",
       " '0_x',\n",
       " 'lower PERRYTOWN, NC',\n",
       " 'upper PERRYTOWN, NC',\n",
       " '0_y',\n",
       " 'lower REELSBORO, NC',\n",
       " 'upper REELSBORO, NC',\n",
       " '0_x',\n",
       " 'lower RICHLANDS, NC',\n",
       " 'upper RICHLANDS, NC',\n",
       " '0_y',\n",
       " 'lower  SWANQUARTER FERRY, NC',\n",
       " 'upper  SWANQUARTER FERRY, NC',\n",
       " '0_x',\n",
       " 'lower WASHINGTON WWTP 4W, NC',\n",
       " 'upper WASHINGTON WWTP 4W, NC',\n",
       " '0_y',\n",
       " 'lower WILLIAMSTON 1 E, NC',\n",
       " 'upper WILLIAMSTON 1 E, NC',\n",
       " '0_x',\n",
       " 'lower Wilmington Area, NC',\n",
       " 'upper Wilmington Area, NC',\n",
       " '0_y',\n",
       " 'lower Lumberton Area, NC',\n",
       " 'upper Lumberton Area, NC',\n",
       " '0_x',\n",
       " 'lower LONGWOOD, NC',\n",
       " 'upper LONGWOOD, NC',\n",
       " '0_y',\n",
       " 'lower  WILLIAM O HUSKE L&D, NC',\n",
       " 'upper  WILLIAM O HUSKE L&D, NC',\n",
       " '0_x',\n",
       " \"lower WILMINGTON INT'L AIRPORT, NC\",\n",
       " \"upper WILMINGTON INT'L AIRPORT, NC\",\n",
       " '0_y',\n",
       " 'lower Asheville Area, NC',\n",
       " 'upper Asheville Area, NC',\n",
       " '0_x',\n",
       " 'lower Charlotte Area, NC',\n",
       " 'upper Charlotte Area, NC',\n",
       " '0_y',\n",
       " 'lower Mount Mitchell Area, NC',\n",
       " 'upper Mount Mitchell Area, NC',\n",
       " '0_x',\n",
       " 'lower ASHEVILLE AIRPORT, NC',\n",
       " 'upper ASHEVILLE AIRPORT, NC',\n",
       " '0_y',\n",
       " 'lower BANNER ELK, NC',\n",
       " 'upper BANNER ELK, NC',\n",
       " '0_x',\n",
       " 'lower BEECH MOUNTAIN, NC',\n",
       " 'upper BEECH MOUNTAIN, NC',\n",
       " '0_y',\n",
       " 'lower BRYSON CITY 4, NC',\n",
       " 'upper BRYSON CITY 4, NC',\n",
       " '0_x',\n",
       " 'lower BLACK MOUNTAIN 2 W, NC',\n",
       " 'upper BLACK MOUNTAIN 2 W, NC',\n",
       " '0_y',\n",
       " 'lower BREVARD, NC',\n",
       " 'upper BREVARD, NC',\n",
       " '0_x',\n",
       " 'lower BRIDGEWATER HYDRO, NC',\n",
       " 'upper BRIDGEWATER HYDRO, NC',\n",
       " '0_y',\n",
       " 'lower CATAWBA 3 NNW, NC',\n",
       " 'upper CATAWBA 3 NNW, NC',\n",
       " '0_x',\n",
       " 'lower CONCORD, NC',\n",
       " 'upper CONCORD, NC',\n",
       " '0_y',\n",
       " 'lower CONOVER OXFORD SHOALS, NC',\n",
       " 'upper CONOVER OXFORD SHOALS, NC',\n",
       " '0_x',\n",
       " 'lower COWEETA EXP STATION, NC',\n",
       " 'upper COWEETA EXP STATION, NC',\n",
       " '0_y',\n",
       " 'lower CULLOWHEE, NC',\n",
       " 'upper CULLOWHEE, NC',\n",
       " '0_x',\n",
       " 'lower FRANKLIN, NC',\n",
       " 'upper FRANKLIN, NC',\n",
       " '0_y',\n",
       " 'lower  HENDERSONVILLE 1 NE, NC',\n",
       " 'upper  HENDERSONVILLE 1 NE, NC',\n",
       " '0_x',\n",
       " 'lower Hickory FAA Airport, NC',\n",
       " 'upper Hickory FAA Airport, NC',\n",
       " '0_y',\n",
       " 'lower  HIGHLANDS, NC',\n",
       " 'upper  HIGHLANDS, NC',\n",
       " '0_x',\n",
       " 'lower HOT SPRINGS, NC',\n",
       " 'upper HOT SPRINGS, NC',\n",
       " '0_y',\n",
       " 'lower LAKE TOXAWAY 2 SW, NC',\n",
       " 'upper LAKE TOXAWAY 2 SW, NC',\n",
       " '0_x',\n",
       " 'lower LENOIR, NC',\n",
       " 'upper LENOIR, NC',\n",
       " '0_y',\n",
       " 'lower LINCOLNTON 4 W, NC',\n",
       " 'upper LINCOLNTON 4 W, NC',\n",
       " '0_x',\n",
       " 'lower MARION, NC',\n",
       " 'upper MARION, NC',\n",
       " '0_y',\n",
       " 'lower MARSHALL, NC',\n",
       " 'upper MARSHALL, NC',\n",
       " '0_x',\n",
       " 'lower MOCKSVILLE 5SE, NC',\n",
       " 'upper MOCKSVILLE 5SE, NC',\n",
       " '0_y',\n",
       " 'lower MONROE 2 SE, NC',\n",
       " 'upper MONROE 2 SE, NC',\n",
       " '0_x',\n",
       " 'lower MORGANTON, NC',\n",
       " 'upper MORGANTON, NC',\n",
       " '0_y',\n",
       " 'lower  OCONALUFTEE, NC',\n",
       " 'upper  OCONALUFTEE, NC',\n",
       " '0_x',\n",
       " 'lower PATTERSON, NC',\n",
       " 'upper PATTERSON, NC',\n",
       " '0_y',\n",
       " 'lower PISGAH FOREST 3 NE, NC',\n",
       " 'upper PISGAH FOREST 3 NE, NC',\n",
       " '0_x',\n",
       " 'lower RHODHISS HYDRO PLANT, NC',\n",
       " 'upper RHODHISS HYDRO PLANT, NC',\n",
       " '0_y',\n",
       " 'lower ROBBINSVILLE AG 5 NE, NC',\n",
       " 'upper ROBBINSVILLE AG 5 NE, NC',\n",
       " '0_x',\n",
       " 'lower ROSMAN, NC',\n",
       " 'upper ROSMAN, NC',\n",
       " '0_y',\n",
       " 'lower SALISBURY, NC',\n",
       " 'upper SALISBURY, NC',\n",
       " '0_x',\n",
       " 'lower SALISBURY 9 WNW, NC',\n",
       " 'upper SALISBURY 9 WNW, NC',\n",
       " '0_y',\n",
       " 'lower SHELBY 2 NW, NC',\n",
       " 'upper SHELBY 2 NW, NC',\n",
       " '0_x',\n",
       " 'lower STATESVILLE 2 NNE, NC',\n",
       " 'upper STATESVILLE 2 NNE, NC',\n",
       " '0_y',\n",
       " 'lower TAPOCO, NC',\n",
       " 'upper TAPOCO, NC',\n",
       " '0_x',\n",
       " 'lower TRYON, NC',\n",
       " 'upper TRYON, NC',\n",
       " '0_y',\n",
       " 'lower TURNERSBURG, NC',\n",
       " 'upper TURNERSBURG, NC',\n",
       " '0_x',\n",
       " 'lower WAYNESVILLE 1 E, NC',\n",
       " 'upper WAYNESVILLE 1 E, NC',\n",
       " '0_y',\n",
       " 'lower Boone 1 SE, NC',\n",
       " 'upper Boone 1 SE, NC',\n",
       " '0_x',\n",
       " 'lower DANBURY, NC',\n",
       " 'upper DANBURY, NC',\n",
       " '0_y',\n",
       " 'lower EDEN, NC',\n",
       " 'upper EDEN, NC',\n",
       " '0_x',\n",
       " 'lower JEFFERSON 2 E, NC',\n",
       " 'upper JEFFERSON 2 E, NC',\n",
       " '0_y',\n",
       " 'lower  MOUNT AIRY 2 W, NC',\n",
       " 'upper  MOUNT AIRY 2 W, NC',\n",
       " '0_x',\n",
       " 'lower NORTH WILKESBORO, NC',\n",
       " 'upper NORTH WILKESBORO, NC',\n",
       " '0_y',\n",
       " 'lower REIDSVILLE 2 NW, NC',\n",
       " 'upper REIDSVILLE 2 NW, NC',\n",
       " '0_x',\n",
       " 'lower TRANSOU, NC',\n",
       " 'upper TRANSOU, NC',\n",
       " '0_y',\n",
       " 'lower W. KERR SCOTT RESV., NC',\n",
       " 'upper W. KERR SCOTT RESV., NC',\n",
       " '0_x',\n",
       " 'lower YADKINVILLE 6 E, NC',\n",
       " 'upper YADKINVILLE 6 E, NC',\n",
       " '0_y',\n",
       " 'lower HAYESVILLE 1 NE, NC',\n",
       " 'upper HAYESVILLE 1 NE, NC',\n",
       " '0_x',\n",
       " 'lower MURPHY 4ESE, NC',\n",
       " 'upper MURPHY 4ESE, NC',\n",
       " '0_y',\n",
       " 'lower  KING, NC',\n",
       " 'upper  KING, NC']"
      ]
     },
     "execution_count": 73,
     "metadata": {},
     "output_type": "execute_result"
    }
   ],
   "source": [
    "list(pre_df.columns)"
   ]
  },
  {
   "cell_type": "code",
   "execution_count": 15,
   "metadata": {
    "ExecuteTime": {
     "end_time": "2019-08-20T10:35:14.749921Z",
     "start_time": "2019-08-20T10:35:14.656171Z"
    }
   },
   "outputs": [],
   "source": [
    "exo_var_dict = {\n",
    "    'WHITEVILLE 7 NW, NC': [rd[[' LORIS 2 S, SC']]],\n",
    "    'CASAR, NC': [rd[['CHESNEE 7 WSW, SC', 'GAFFNEY 6 E, SC']],\n",
    "                rd[['CHESNEE 7 WSW, SC']],\n",
    "                rd[['GAFFNEY 6 E, SC']]],\n",
    "    'FOREST CITY 8 W, NC': [rd[['GAFFNEY 6 E, SC']], rd[['GAFFNEY 6 E, SC','SPARTANBURG 3 SSE, SC']]],\n",
    "    'GASTONIA, NC': [rd[['FORT MILL 4 NW, SC','GAFFNEY 6 E, SC']], rd[['GAFFNEY 6 E, SC']]],\n",
    "    'LAKE LURE 2, NC': [rd[['CHESNEE 7 WSW, SC']]],\n",
    "    ' MOUNT HOLLY 4 NE, NC': [rd[['CHESNEE 7 WSW, SC']],rd[['CHESTER 1 SE, SC']],rd[['GAFFNEY 6 E, SC']], \n",
    "                              rd[['LOCKHART, SC']],\n",
    "                             rd[['CATAWBA, SC','GAFFNEY 6 E, SC']],\n",
    "                             rd[['CHESNEE 7 WSW, SC','GAFFNEY 6 E, SC']],\n",
    "                             rd[['CHESNEE 7 WSW, SC', 'LOCKHART, SC']],\n",
    "                             rd[['CHESTER 1 SE, SC', 'GAFFNEY 6 E, SC']],\n",
    "                             rd[['CHESTER 1 SE, SC', 'LOCKHART, SC']],\n",
    "                             rd[['FORT MILL 4 NW, SC', 'GAFFNEY 6 E, SC']],\n",
    "                             rd[['GAFFNEY 6 E, SC', 'LOCKHART, SC']],\n",
    "                             rd[['CATAWBA, SC', 'CHESNEE 7 WSW, SC', 'CHESTER 1 SE, SC']],\n",
    "                             rd[['CATAWBA, SC', 'CHESNEE 7 WSW, SC', 'GAFFNEY 6 E, SC']],\n",
    "                             rd[['CATAWBA, SC', 'CHESNEE 7 WSW, SC', 'LOCKHART, SC']],\n",
    "                             rd[['CATAWBA, SC', 'CHESTER 1 SE, SC', 'LOCKHART, SC']],\n",
    "                             rd[['CATAWBA, SC', 'CHESTER 1 SE, SC', 'GAFFNEY 6 E, SC']]]\n",
    "}"
   ]
  },
  {
   "cell_type": "code",
   "execution_count": 16,
   "metadata": {
    "ExecuteTime": {
     "end_time": "2019-08-20T10:35:19.359879Z",
     "start_time": "2019-08-20T10:35:19.344252Z"
    }
   },
   "outputs": [],
   "source": [
    "exo_var_dict_12 = {\n",
    "    'WHITEVILLE 7 NW, NC': [rd[' LORIS 2 S, SC']],\n",
    "    'CASAR, NC': [rd['GAFFNEY 6 E, SC']],\n",
    "    'FOREST CITY 8 W, NC': [rd['GAFFNEY 6 E, SC']],\n",
    "    'GASTONIA, NC': [rd['GAFFNEY 6 E, SC']],\n",
    "    'GRANDFATHER MTN, NC': [rd['ELIZABETHTON, TN']]\n",
    "}"
   ]
  },
  {
   "cell_type": "code",
   "execution_count": 17,
   "metadata": {
    "ExecuteTime": {
     "end_time": "2019-08-20T10:35:22.282178Z",
     "start_time": "2019-08-20T10:35:22.250926Z"
    }
   },
   "outputs": [
    {
     "name": "stdout",
     "output_type": "stream",
     "text": [
      "            WHITEVILLE 7 NW, NC  CASAR, NC  FOREST CITY 8 W, NC  GASTONIA, NC  \\\n",
      "Date                                                                            \n",
      "1980-01-01                 4.63       4.83             4.609293          4.96   \n",
      "1980-02-01                 1.48       1.34             1.150000          0.97   \n",
      "1980-03-01                 8.62       7.61             9.459499          8.46   \n",
      "1980-04-01                 1.68       3.73             4.967260          2.35   \n",
      "1980-05-01                 4.89       7.96             5.655974          5.32   \n",
      "\n",
      "            LAKE LURE 2, NC   MOUNT HOLLY 4 NE, NC  \n",
      "Date                                                \n",
      "1980-01-01         4.570520                   4.84  \n",
      "1980-02-01         1.238559                   1.27  \n",
      "1980-03-01         9.868008                   7.67  \n",
      "1980-04-01         5.735163                   1.83  \n",
      "1980-05-01         6.112051                   4.25  \n"
     ]
    }
   ],
   "source": [
    "locs_w_exogs = rd[list(exo_var_dict.keys())]\n",
    "print(locs_w_exogs.head())\n",
    "keys_list12 = list(exo_var_dict_12.keys())\n",
    "locs_w_exogs12 = rd[keys_list12]"
   ]
  },
  {
   "cell_type": "code",
   "execution_count": 96,
   "metadata": {
    "ExecuteTime": {
     "end_time": "2019-08-22T23:32:22.491902Z",
     "start_time": "2019-08-22T23:32:22.460653Z"
    }
   },
   "outputs": [
    {
     "data": {
      "text/html": [
       "<div>\n",
       "<style scoped>\n",
       "    .dataframe tbody tr th:only-of-type {\n",
       "        vertical-align: middle;\n",
       "    }\n",
       "\n",
       "    .dataframe tbody tr th {\n",
       "        vertical-align: top;\n",
       "    }\n",
       "\n",
       "    .dataframe thead th {\n",
       "        text-align: right;\n",
       "    }\n",
       "</style>\n",
       "<table border=\"1\" class=\"dataframe\">\n",
       "  <thead>\n",
       "    <tr style=\"text-align: right;\">\n",
       "      <th></th>\n",
       "      <th>A</th>\n",
       "      <th>A</th>\n",
       "    </tr>\n",
       "  </thead>\n",
       "  <tbody>\n",
       "    <tr>\n",
       "      <th>a</th>\n",
       "      <td>1</td>\n",
       "      <td>1</td>\n",
       "    </tr>\n",
       "    <tr>\n",
       "      <th>b</th>\n",
       "      <td>1</td>\n",
       "      <td>1</td>\n",
       "    </tr>\n",
       "    <tr>\n",
       "      <th>c</th>\n",
       "      <td>1</td>\n",
       "      <td>1</td>\n",
       "    </tr>\n",
       "  </tbody>\n",
       "</table>\n",
       "</div>"
      ],
      "text/plain": [
       "   A  A\n",
       "a  1  1\n",
       "b  1  1\n",
       "c  1  1"
      ]
     },
     "execution_count": 96,
     "metadata": {},
     "output_type": "execute_result"
    }
   ],
   "source": [
    "ff = 'A'\n",
    "fb = 'A'\n",
    "fbff= pd.DataFrame(\n",
    "    1, index=['a','b','c'], columns= [ff, fb]\n",
    ")\n",
    "fbff"
   ]
  },
  {
   "cell_type": "code",
   "execution_count": 64,
   "metadata": {
    "ExecuteTime": {
     "end_time": "2019-08-21T22:59:09.712679Z",
     "start_time": "2019-08-21T22:59:09.665807Z"
    }
   },
   "outputs": [],
   "source": [
    "def prediction_exog_fx(data, exog_dict, begin, end):\n",
    "    base = datetime.strptime(begin,'%Y-%m-%d')\n",
    "    date_list = [base + relativedelta(months=x) for x in range(600)]\n",
    "    prediction_df = pd.DataFrame(index = date_list)\n",
    "    pred_val_df = pd.DataFrame(index = date_list)\n",
    "    exog_predictions_df = pd.DataFrame(index = date_list)\n",
    "    for key,value in exog_dict.items():\n",
    "        loc = data[key]\n",
    "        for v in value:\n",
    "            mod_fit1 = sarima_model_creation(loc, 4,0,3,3,0,4, 12,exog=v)\n",
    "            if v.shape[1] > 1:\n",
    "                shap = v.shape[1]\n",
    "                for i in range(shap):\n",
    "                    exog_mod_fit = sarima_model_creation(v.iloc[:,i],4,0,3,3,0,4,12)\n",
    "                    e_preds2 = pd.DataFrame(exog_mod_fit.predict(start=begin, end=end))\n",
    "                    if i is 0:\n",
    "                        exog_predictions_df = e_preds2\n",
    "                    else:\n",
    "                        exog_predictions_df = pd.merge(exog_predictions_df, e_preds2, left_index=True, \n",
    "                                                       right_index=True)\n",
    "            else:\n",
    "                exog_mod_fit = sarima_model_creation(v, 4,0,3,3,0,4,12)\n",
    "                exog_predictions_df = pd.DataFrame(exog_mod_fit.predict(start=begin, end=end))\n",
    "            future_pred = mod_fit1.get_prediction(exog=exog_predictions_df,start=begin, end=end)\n",
    "            future_pred_ci = future_pred.conf_int()\n",
    "            future_pred_val= pd.DataFrame(mod_fit1.predict(exog=exog_predictions_df, start=begin, end=end), \n",
    "                                          columns = [key+[v.columns]])\n",
    "#                 future_pred_full = pd.merge(future_pred_val, future_pred_ci, left_index=True, right_index=True)\n",
    "            prediction_df = pd.merge(prediction_df, future_pred_ci, left_index=True, right_index=True)\n",
    "            pred_val_df = pd.merge(pred_val_df, future_pred_val, left_index=True, right_index=True)\n",
    "    return(pred_val_df, prediction_df)\n",
    "        \n",
    "        "
   ]
  },
  {
   "cell_type": "code",
   "execution_count": 65,
   "metadata": {
    "ExecuteTime": {
     "end_time": "2019-08-22T00:55:01.720210Z",
     "start_time": "2019-08-21T22:59:12.619487Z"
    },
    "scrolled": true
   },
   "outputs": [],
   "source": [
    "values_df, ci_df = prediction_exog_fx(locs_w_exogs, exo_var_dict, '2019-05-01', '2069-05-01')"
   ]
  },
  {
   "cell_type": "code",
   "execution_count": 77,
   "metadata": {
    "ExecuteTime": {
     "end_time": "2019-08-22T23:12:22.248424Z",
     "start_time": "2019-08-22T23:12:22.185926Z"
    }
   },
   "outputs": [
    {
     "data": {
      "text/html": [
       "<div>\n",
       "<style scoped>\n",
       "    .dataframe tbody tr th:only-of-type {\n",
       "        vertical-align: middle;\n",
       "    }\n",
       "\n",
       "    .dataframe tbody tr th {\n",
       "        vertical-align: top;\n",
       "    }\n",
       "\n",
       "    .dataframe thead th {\n",
       "        text-align: right;\n",
       "    }\n",
       "</style>\n",
       "<table border=\"1\" class=\"dataframe\">\n",
       "  <thead>\n",
       "    <tr style=\"text-align: right;\">\n",
       "      <th></th>\n",
       "      <th>0_x</th>\n",
       "      <th>0_y</th>\n",
       "      <th>0_x</th>\n",
       "      <th>0_y</th>\n",
       "      <th>0_x</th>\n",
       "      <th>0_y</th>\n",
       "      <th>0_x</th>\n",
       "      <th>0_y</th>\n",
       "      <th>0_x</th>\n",
       "      <th>0_y</th>\n",
       "      <th>...</th>\n",
       "      <th>0_y</th>\n",
       "      <th>0_x</th>\n",
       "      <th>0_y</th>\n",
       "      <th>0_x</th>\n",
       "      <th>0_y</th>\n",
       "      <th>0_x</th>\n",
       "      <th>0_y</th>\n",
       "      <th>0_x</th>\n",
       "      <th>0_y</th>\n",
       "      <th>0</th>\n",
       "    </tr>\n",
       "  </thead>\n",
       "  <tbody>\n",
       "    <tr>\n",
       "      <th>2019-05-01</th>\n",
       "      <td>5.753516</td>\n",
       "      <td>3.946130</td>\n",
       "      <td>4.628610</td>\n",
       "      <td>3.591515</td>\n",
       "      <td>3.899437</td>\n",
       "      <td>4.176669</td>\n",
       "      <td>4.178921</td>\n",
       "      <td>3.903083</td>\n",
       "      <td>6.951886</td>\n",
       "      <td>4.240776</td>\n",
       "      <td>...</td>\n",
       "      <td>3.833654</td>\n",
       "      <td>3.930699</td>\n",
       "      <td>3.717250</td>\n",
       "      <td>4.098503</td>\n",
       "      <td>2.999996</td>\n",
       "      <td>3.880575</td>\n",
       "      <td>3.704935</td>\n",
       "      <td>3.576740</td>\n",
       "      <td>3.492323</td>\n",
       "      <td>3.550743</td>\n",
       "    </tr>\n",
       "    <tr>\n",
       "      <th>2019-06-01</th>\n",
       "      <td>3.724518</td>\n",
       "      <td>4.600442</td>\n",
       "      <td>4.603507</td>\n",
       "      <td>4.899144</td>\n",
       "      <td>4.043647</td>\n",
       "      <td>4.184025</td>\n",
       "      <td>3.854757</td>\n",
       "      <td>3.514431</td>\n",
       "      <td>5.266286</td>\n",
       "      <td>3.709291</td>\n",
       "      <td>...</td>\n",
       "      <td>3.794374</td>\n",
       "      <td>3.824803</td>\n",
       "      <td>3.758859</td>\n",
       "      <td>3.777296</td>\n",
       "      <td>3.213914</td>\n",
       "      <td>3.678788</td>\n",
       "      <td>3.683364</td>\n",
       "      <td>3.772410</td>\n",
       "      <td>3.740924</td>\n",
       "      <td>3.675629</td>\n",
       "    </tr>\n",
       "    <tr>\n",
       "      <th>2019-07-01</th>\n",
       "      <td>5.557662</td>\n",
       "      <td>4.789477</td>\n",
       "      <td>4.620463</td>\n",
       "      <td>4.932119</td>\n",
       "      <td>4.229915</td>\n",
       "      <td>4.303735</td>\n",
       "      <td>3.854248</td>\n",
       "      <td>3.798161</td>\n",
       "      <td>5.135533</td>\n",
       "      <td>3.723821</td>\n",
       "      <td>...</td>\n",
       "      <td>3.712437</td>\n",
       "      <td>3.825703</td>\n",
       "      <td>3.605133</td>\n",
       "      <td>3.920627</td>\n",
       "      <td>3.273328</td>\n",
       "      <td>3.609286</td>\n",
       "      <td>3.694711</td>\n",
       "      <td>3.647864</td>\n",
       "      <td>3.579727</td>\n",
       "      <td>3.628567</td>\n",
       "    </tr>\n",
       "    <tr>\n",
       "      <th>2019-08-01</th>\n",
       "      <td>6.962032</td>\n",
       "      <td>4.307608</td>\n",
       "      <td>4.054748</td>\n",
       "      <td>4.510153</td>\n",
       "      <td>4.273738</td>\n",
       "      <td>3.978493</td>\n",
       "      <td>3.864488</td>\n",
       "      <td>3.734745</td>\n",
       "      <td>5.740630</td>\n",
       "      <td>3.557211</td>\n",
       "      <td>...</td>\n",
       "      <td>3.398863</td>\n",
       "      <td>3.712387</td>\n",
       "      <td>3.579898</td>\n",
       "      <td>3.772888</td>\n",
       "      <td>3.310991</td>\n",
       "      <td>3.499665</td>\n",
       "      <td>3.573760</td>\n",
       "      <td>3.447058</td>\n",
       "      <td>3.546051</td>\n",
       "      <td>3.635563</td>\n",
       "    </tr>\n",
       "    <tr>\n",
       "      <th>2019-09-01</th>\n",
       "      <td>5.759614</td>\n",
       "      <td>4.124589</td>\n",
       "      <td>4.482363</td>\n",
       "      <td>4.223978</td>\n",
       "      <td>4.151798</td>\n",
       "      <td>3.756654</td>\n",
       "      <td>3.730619</td>\n",
       "      <td>3.757905</td>\n",
       "      <td>5.678520</td>\n",
       "      <td>4.252898</td>\n",
       "      <td>...</td>\n",
       "      <td>4.113615</td>\n",
       "      <td>3.716474</td>\n",
       "      <td>4.029905</td>\n",
       "      <td>3.781442</td>\n",
       "      <td>3.720841</td>\n",
       "      <td>3.968845</td>\n",
       "      <td>4.069324</td>\n",
       "      <td>4.238167</td>\n",
       "      <td>4.212276</td>\n",
       "      <td>3.954684</td>\n",
       "    </tr>\n",
       "    <tr>\n",
       "      <th>2019-10-01</th>\n",
       "      <td>3.492725</td>\n",
       "      <td>3.784372</td>\n",
       "      <td>3.951204</td>\n",
       "      <td>3.624053</td>\n",
       "      <td>3.761492</td>\n",
       "      <td>3.343411</td>\n",
       "      <td>3.630010</td>\n",
       "      <td>3.972551</td>\n",
       "      <td>5.223536</td>\n",
       "      <td>3.720289</td>\n",
       "      <td>...</td>\n",
       "      <td>3.929549</td>\n",
       "      <td>3.750673</td>\n",
       "      <td>3.798698</td>\n",
       "      <td>3.397504</td>\n",
       "      <td>3.531279</td>\n",
       "      <td>3.669133</td>\n",
       "      <td>3.651791</td>\n",
       "      <td>3.760456</td>\n",
       "      <td>3.741603</td>\n",
       "      <td>3.632168</td>\n",
       "    </tr>\n",
       "    <tr>\n",
       "      <th>2019-11-01</th>\n",
       "      <td>3.845209</td>\n",
       "      <td>4.263838</td>\n",
       "      <td>3.888930</td>\n",
       "      <td>4.545980</td>\n",
       "      <td>4.187163</td>\n",
       "      <td>3.808662</td>\n",
       "      <td>3.811119</td>\n",
       "      <td>3.863836</td>\n",
       "      <td>4.768388</td>\n",
       "      <td>3.425112</td>\n",
       "      <td>...</td>\n",
       "      <td>3.708450</td>\n",
       "      <td>3.813984</td>\n",
       "      <td>3.924216</td>\n",
       "      <td>3.492598</td>\n",
       "      <td>3.598184</td>\n",
       "      <td>3.794542</td>\n",
       "      <td>3.732256</td>\n",
       "      <td>3.880909</td>\n",
       "      <td>4.030589</td>\n",
       "      <td>3.852863</td>\n",
       "    </tr>\n",
       "    <tr>\n",
       "      <th>2019-12-01</th>\n",
       "      <td>3.647705</td>\n",
       "      <td>4.222191</td>\n",
       "      <td>4.094379</td>\n",
       "      <td>4.362686</td>\n",
       "      <td>3.789722</td>\n",
       "      <td>4.518101</td>\n",
       "      <td>3.485347</td>\n",
       "      <td>3.769207</td>\n",
       "      <td>5.376335</td>\n",
       "      <td>3.349256</td>\n",
       "      <td>...</td>\n",
       "      <td>3.938125</td>\n",
       "      <td>3.783163</td>\n",
       "      <td>4.042650</td>\n",
       "      <td>3.575134</td>\n",
       "      <td>4.130114</td>\n",
       "      <td>3.656570</td>\n",
       "      <td>3.706340</td>\n",
       "      <td>3.907163</td>\n",
       "      <td>4.112145</td>\n",
       "      <td>3.936292</td>\n",
       "    </tr>\n",
       "    <tr>\n",
       "      <th>2020-01-01</th>\n",
       "      <td>2.551145</td>\n",
       "      <td>4.239287</td>\n",
       "      <td>4.101368</td>\n",
       "      <td>4.507149</td>\n",
       "      <td>4.227263</td>\n",
       "      <td>4.036171</td>\n",
       "      <td>3.782411</td>\n",
       "      <td>3.872347</td>\n",
       "      <td>4.898288</td>\n",
       "      <td>3.727392</td>\n",
       "      <td>...</td>\n",
       "      <td>3.748236</td>\n",
       "      <td>3.803494</td>\n",
       "      <td>3.735740</td>\n",
       "      <td>3.699620</td>\n",
       "      <td>3.185743</td>\n",
       "      <td>3.657504</td>\n",
       "      <td>3.665142</td>\n",
       "      <td>3.651758</td>\n",
       "      <td>3.668828</td>\n",
       "      <td>3.678475</td>\n",
       "    </tr>\n",
       "    <tr>\n",
       "      <th>2020-02-01</th>\n",
       "      <td>4.253857</td>\n",
       "      <td>4.139583</td>\n",
       "      <td>4.081032</td>\n",
       "      <td>4.019727</td>\n",
       "      <td>3.890641</td>\n",
       "      <td>3.574033</td>\n",
       "      <td>3.878353</td>\n",
       "      <td>3.717872</td>\n",
       "      <td>5.106642</td>\n",
       "      <td>3.552340</td>\n",
       "      <td>...</td>\n",
       "      <td>3.523303</td>\n",
       "      <td>3.640892</td>\n",
       "      <td>3.568224</td>\n",
       "      <td>3.590177</td>\n",
       "      <td>3.067745</td>\n",
       "      <td>3.558271</td>\n",
       "      <td>3.551930</td>\n",
       "      <td>3.589905</td>\n",
       "      <td>3.604040</td>\n",
       "      <td>3.485449</td>\n",
       "    </tr>\n",
       "  </tbody>\n",
       "</table>\n",
       "<p>10 rows × 25 columns</p>\n",
       "</div>"
      ],
      "text/plain": [
       "                 0_x       0_y       0_x       0_y       0_x       0_y  \\\n",
       "2019-05-01  5.753516  3.946130  4.628610  3.591515  3.899437  4.176669   \n",
       "2019-06-01  3.724518  4.600442  4.603507  4.899144  4.043647  4.184025   \n",
       "2019-07-01  5.557662  4.789477  4.620463  4.932119  4.229915  4.303735   \n",
       "2019-08-01  6.962032  4.307608  4.054748  4.510153  4.273738  3.978493   \n",
       "2019-09-01  5.759614  4.124589  4.482363  4.223978  4.151798  3.756654   \n",
       "2019-10-01  3.492725  3.784372  3.951204  3.624053  3.761492  3.343411   \n",
       "2019-11-01  3.845209  4.263838  3.888930  4.545980  4.187163  3.808662   \n",
       "2019-12-01  3.647705  4.222191  4.094379  4.362686  3.789722  4.518101   \n",
       "2020-01-01  2.551145  4.239287  4.101368  4.507149  4.227263  4.036171   \n",
       "2020-02-01  4.253857  4.139583  4.081032  4.019727  3.890641  3.574033   \n",
       "\n",
       "                 0_x       0_y       0_x       0_y  ...       0_y       0_x  \\\n",
       "2019-05-01  4.178921  3.903083  6.951886  4.240776  ...  3.833654  3.930699   \n",
       "2019-06-01  3.854757  3.514431  5.266286  3.709291  ...  3.794374  3.824803   \n",
       "2019-07-01  3.854248  3.798161  5.135533  3.723821  ...  3.712437  3.825703   \n",
       "2019-08-01  3.864488  3.734745  5.740630  3.557211  ...  3.398863  3.712387   \n",
       "2019-09-01  3.730619  3.757905  5.678520  4.252898  ...  4.113615  3.716474   \n",
       "2019-10-01  3.630010  3.972551  5.223536  3.720289  ...  3.929549  3.750673   \n",
       "2019-11-01  3.811119  3.863836  4.768388  3.425112  ...  3.708450  3.813984   \n",
       "2019-12-01  3.485347  3.769207  5.376335  3.349256  ...  3.938125  3.783163   \n",
       "2020-01-01  3.782411  3.872347  4.898288  3.727392  ...  3.748236  3.803494   \n",
       "2020-02-01  3.878353  3.717872  5.106642  3.552340  ...  3.523303  3.640892   \n",
       "\n",
       "                 0_y       0_x       0_y       0_x       0_y       0_x  \\\n",
       "2019-05-01  3.717250  4.098503  2.999996  3.880575  3.704935  3.576740   \n",
       "2019-06-01  3.758859  3.777296  3.213914  3.678788  3.683364  3.772410   \n",
       "2019-07-01  3.605133  3.920627  3.273328  3.609286  3.694711  3.647864   \n",
       "2019-08-01  3.579898  3.772888  3.310991  3.499665  3.573760  3.447058   \n",
       "2019-09-01  4.029905  3.781442  3.720841  3.968845  4.069324  4.238167   \n",
       "2019-10-01  3.798698  3.397504  3.531279  3.669133  3.651791  3.760456   \n",
       "2019-11-01  3.924216  3.492598  3.598184  3.794542  3.732256  3.880909   \n",
       "2019-12-01  4.042650  3.575134  4.130114  3.656570  3.706340  3.907163   \n",
       "2020-01-01  3.735740  3.699620  3.185743  3.657504  3.665142  3.651758   \n",
       "2020-02-01  3.568224  3.590177  3.067745  3.558271  3.551930  3.589905   \n",
       "\n",
       "                 0_y         0  \n",
       "2019-05-01  3.492323  3.550743  \n",
       "2019-06-01  3.740924  3.675629  \n",
       "2019-07-01  3.579727  3.628567  \n",
       "2019-08-01  3.546051  3.635563  \n",
       "2019-09-01  4.212276  3.954684  \n",
       "2019-10-01  3.741603  3.632168  \n",
       "2019-11-01  4.030589  3.852863  \n",
       "2019-12-01  4.112145  3.936292  \n",
       "2020-01-01  3.668828  3.678475  \n",
       "2020-02-01  3.604040  3.485449  \n",
       "\n",
       "[10 rows x 25 columns]"
      ]
     },
     "execution_count": 77,
     "metadata": {},
     "output_type": "execute_result"
    }
   ],
   "source": [
    "values_df.head(10)"
   ]
  },
  {
   "cell_type": "code",
   "execution_count": 63,
   "metadata": {
    "ExecuteTime": {
     "end_time": "2019-08-21T22:48:04.408255Z",
     "start_time": "2019-08-21T22:48:04.236380Z"
    }
   },
   "outputs": [
    {
     "name": "stdout",
     "output_type": "stream",
     "text": [
      "<class 'pandas.core.frame.DataFrame'>\n",
      "DatetimeIndex: 600 entries, 2019-05-01 to 2069-04-01\n",
      "Columns: 300 entries, lower WHITEVILLE 7 NW, NC_x to upper  MOUNT HOLLY 4 NE, NC\n",
      "dtypes: float64(300)\n",
      "memory usage: 1.4 MB\n"
     ]
    }
   ],
   "source": [
    "ci_df.info()"
   ]
  },
  {
   "cell_type": "code",
   "execution_count": null,
   "metadata": {},
   "outputs": [],
   "source": [
    "ci_merged = pd.merge(pre_df, ci_df, left_index=True, right_index=True)\n",
    "all_merged = pd.merge(ci_merged, values_df, left_index=True, right_index=True)\n",
    "all_merged.head()"
   ]
  },
  {
   "cell_type": "code",
   "execution_count": null,
   "metadata": {},
   "outputs": [],
   "source": [
    "all_merged.to_csv('predictions.csv')"
   ]
  }
 ],
 "metadata": {
  "kernelspec": {
   "display_name": "Python 3",
   "language": "python",
   "name": "python3"
  },
  "language_info": {
   "codemirror_mode": {
    "name": "ipython",
    "version": 3
   },
   "file_extension": ".py",
   "mimetype": "text/x-python",
   "name": "python",
   "nbconvert_exporter": "python",
   "pygments_lexer": "ipython3",
   "version": "3.7.3"
  },
  "varInspector": {
   "cols": {
    "lenName": 16,
    "lenType": 16,
    "lenVar": 40
   },
   "kernels_config": {
    "python": {
     "delete_cmd_postfix": "",
     "delete_cmd_prefix": "del ",
     "library": "var_list.py",
     "varRefreshCmd": "print(var_dic_list())"
    },
    "r": {
     "delete_cmd_postfix": ") ",
     "delete_cmd_prefix": "rm(",
     "library": "var_list.r",
     "varRefreshCmd": "cat(var_dic_list()) "
    }
   },
   "types_to_exclude": [
    "module",
    "function",
    "builtin_function_or_method",
    "instance",
    "_Feature"
   ],
   "window_display": false
  }
 },
 "nbformat": 4,
 "nbformat_minor": 2
}
