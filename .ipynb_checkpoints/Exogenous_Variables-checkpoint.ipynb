{
 "cells": [
  {
   "cell_type": "code",
   "execution_count": 2,
   "metadata": {
    "ExecuteTime": {
     "end_time": "2019-07-31T20:23:48.612231Z",
     "start_time": "2019-07-31T20:23:48.455983Z"
    }
   },
   "outputs": [],
   "source": [
    "import pandas as pd\n",
    "import numpy as np\n",
    "import csv\n",
    "import statsmodels.api as sm\n",
    "import warnings\n",
    "from tqdm import tqdm_notebook as tqdm\n",
    "from sklearn.model_selection import train_test_split\n",
    "from itertools import combinations\n",
    "from scipy import stats\n",
    "from datetime import datetime\n",
    "from sklearn.metrics import mean_absolute_error\n",
    "\n",
    "\n",
    "file = 'rainfalldata.csv'\n",
    "rd = pd.read_csv(file)\n",
    "file2 = 'ncrainfalldata.csv'\n",
    "ncrd = pd.read_csv(file2)\n",
    "rd.Date = pd.to_datetime(rd.Date)\n",
    "rd = rd.set_index('Date')"
   ]
  },
  {
   "cell_type": "code",
   "execution_count": 3,
   "metadata": {
    "ExecuteTime": {
     "end_time": "2019-07-31T20:23:49.518691Z",
     "start_time": "2019-07-31T20:23:49.503066Z"
    }
   },
   "outputs": [],
   "source": [
    "# this cell takes the stored exogen dictionary that is stored in the Data_Wrangling_CAP1 jupyter notebook\n",
    "# that was imported above.\n",
    "%store -r exogen\n"
   ]
  },
  {
   "cell_type": "code",
   "execution_count": 6,
   "metadata": {
    "ExecuteTime": {
     "end_time": "2019-07-31T20:23:55.560328Z",
     "start_time": "2019-07-31T20:23:55.529076Z"
    }
   },
   "outputs": [],
   "source": [
    "def sarima_model_creation(data, p, d, q, P, D, Q, m, exog=None):\n",
    "    my_order = [p,d,q]\n",
    "    my_sorder = [P,D,Q,m]\n",
    "    sarimamod = sm.tsa.statespace.SARIMAX(data, exog, order=my_order, seasonal_order=my_sorder, \n",
    "                                          enforce_stationarity=False, enforce_invertibility=False,\n",
    "                                          initialization='approximate_diffuse')\n",
    "    model_fit = sarimamod.fit()# start_params=[0, 0, 0, 0, 1])\n",
    "    return(model_fit)"
   ]
  },
  {
   "cell_type": "code",
   "execution_count": 5,
   "metadata": {
    "ExecuteTime": {
     "end_time": "2019-07-31T20:23:53.339117Z",
     "start_time": "2019-07-31T20:23:53.292292Z"
    }
   },
   "outputs": [],
   "source": [
    "def hyperparameter_find(training_data, comb, testing_data, search = False, exogtr = None, exogtest = None):\n",
    "    leastmae = 1000\n",
    "    for com in tqdm(comb):\n",
    "        li_one_step = []\n",
    "        for i in tqdm(range(len(testing_data))):\n",
    "            if i == 0:\n",
    "                copytraining = training_data.copy()\n",
    "                if exogtr is not None:\n",
    "                    excopy = exogtr.copy()\n",
    "                    mod_1 = sarima_model_creation(copytraining, com[0], 0, com[1], com[2], 0, \n",
    "                                                  com[3], 12, exog=excopy)\n",
    "                    one_step_pred = mod_1.forecast(exog=excopy.iloc[[-12]]) #change this to -12\n",
    "                    excopy = pd.concat([excopy, exogtest.iloc[[i]]])\n",
    "                else:\n",
    "                    mod_1 = sarima_model_creation(copytraining, com[0], 0, com[1], com[2], 0, com[3], 12)\n",
    "                    one_step_pred = mod_1.forecast()\n",
    "                li_one_step.append(one_step_pred[0])\n",
    "                copytraining = pd.concat([copytraining, testing_data[[i]]])\n",
    "            else:\n",
    "                if exogtr is not None:\n",
    "                    mod_1 = sarima_model_creation(copytraining, com[0], 0, com[1], com[2], 0, \n",
    "                                                  com[3], 12, exog=excopy)\n",
    "                    one_step_pred2 = mod_1.forecast(exog=excopy.iloc[[-12]]) # change this to -12\n",
    "                    excopy = pd.concat([excopy, exogtest.iloc[[i]]])\n",
    "                else:\n",
    "                    mod_1 = sarima_model_creation(copytraining, com[0], 0, com[1], com[2], 0, com[3], 12)\n",
    "                    one_step_pred2 = mod_1.forecast()\n",
    "                li_one_step.append(one_step_pred2[0])\n",
    "                copytraining = pd.concat([copytraining, testing_data[[i]]])\n",
    "        mae = mean_absolute_error(testing_data, li_one_step)\n",
    "        if search is True:\n",
    "            if mae < leastmae:\n",
    "                leastmae = mae\n",
    "                H_AR = com[0]\n",
    "                H_MA = com[1]\n",
    "                H_SAR = com[2]\n",
    "                H_SMA = com[3]\n",
    "            print(com,mae)            \n",
    "    if search is True:\n",
    "        return('AR: '+ str(H_AR), 'MA: ' +str(H_MA), 'SAR: '+str(H_SAR), 'SMA: '+str(H_SMA))\n",
    "    else:\n",
    "        return(mae)"
   ]
  },
  {
   "cell_type": "code",
   "execution_count": 7,
   "metadata": {
    "ExecuteTime": {
     "end_time": "2019-07-31T20:23:59.034914Z",
     "start_time": "2019-07-31T20:23:59.003666Z"
    }
   },
   "outputs": [],
   "source": [
    "def exog_combinations(df, exoe):\n",
    "    lo_dfs = []\n",
    "    if len(exoe) == 1:\n",
    "        lo_dfs.append(df.loc[:,exoe])\n",
    "    if len(exoe) > 1:\n",
    "        lo_dfs.append(df.loc[:,exoe])\n",
    "        for ex in exoe:\n",
    "            lo_dfs.append(df.loc[:,[ex]])\n",
    "        if len(exoe) >2:\n",
    "            for i in range(2, len(exoe)):\n",
    "                combolist = list(combinations(exoe,i))\n",
    "                for c in combolist:\n",
    "                    lo_dfs.append(df.loc[:,c])\n",
    "    return(lo_dfs)\n"
   ]
  },
  {
   "cell_type": "code",
   "execution_count": 13,
   "metadata": {
    "ExecuteTime": {
     "end_time": "2019-07-31T21:30:38.292853Z",
     "start_time": "2019-07-31T21:30:38.074091Z"
    }
   },
   "outputs": [
    {
     "data": {
      "text/plain": [
       "dict_keys(['Arcola, NC', 'Henderson 2 NNW, NC', 'Laurinburg, NC', 'Roanoke Rapids, NC', 'Murfreesboro, NC', 'Lumberton Area, NC', 'LONGWOOD, NC', 'WHITEVILLE 7 NW, NC', 'Charlotte Area, NC', 'Mount Mitchell Area, NC', 'ASHEVILLE AIRPORT, NC', 'BANNER ELK, NC', 'BEECH MOUNTAIN, NC', 'BRYSON CITY 4, NC', 'BREVARD, NC', 'CASAR, NC', 'COWEETA EXP STATION, NC', 'CULLOWHEE, NC', 'FOREST CITY 8 W, NC', 'FRANKLIN, NC', 'GASTONIA, NC', 'GRANDFATHER MTN, NC', ' HENDERSONVILLE 1 NE, NC', ' HIGHLANDS, NC', 'HOT SPRINGS, NC', 'LAKE LURE 2, NC', 'LAKE TOXAWAY 2 SW, NC', 'MARSHALL, NC', 'MONROE 2 SE, NC', ' MOUNT HOLLY 4 NE, NC', ' OCONALUFTEE, NC', 'PISGAH FOREST 3 NE, NC', 'ROBBINSVILLE AG 5 NE, NC', 'ROSMAN, NC', 'SHELBY 2 NW, NC', 'TAPOCO, NC', 'TRYON, NC', 'WAYNESVILLE 1 E, NC', 'Boone 1 SE, NC', 'DANBURY, NC', 'EDEN, NC', ' MOUNT AIRY 2 W, NC', 'REIDSVILLE 2 NW, NC', 'HAYESVILLE 1 NE, NC', 'MURPHY 4ESE, NC', ' KING, NC'])"
      ]
     },
     "execution_count": 13,
     "metadata": {},
     "output_type": "execute_result"
    }
   ],
   "source": [
    "exogen.keys() # should start with 'Arcola, NC' not 'Albemarle, NC'"
   ]
  },
  {
   "cell_type": "code",
   "execution_count": 15,
   "metadata": {
    "ExecuteTime": {
     "end_time": "2019-07-31T21:35:31.742794Z",
     "start_time": "2019-07-31T21:35:31.664654Z"
    }
   },
   "outputs": [],
   "source": [
    "# we don't need to do Arcola, Henderson or Laurinburg again because we already did those. \n",
    "# Paul - change the todokeys all the way to the end, I left some of mine off for Maddie's computer\n",
    "todokeys = ('Roanoke Rapids, NC', 'Murfreesboro, NC', 'Lumberton Area, NC', 'LONGWOOD, NC', 'WHITEVILLE 7 NW, NC', 'Charlotte Area, NC', 'Mount Mitchell Area, NC', 'ASHEVILLE AIRPORT, NC', 'BANNER ELK, NC', 'BEECH MOUNTAIN, NC', 'BRYSON CITY 4, NC', 'BREVARD, NC', 'CASAR, NC', 'COWEETA EXP STATION, NC', 'CULLOWHEE, NC', 'FOREST CITY 8 W, NC', 'FRANKLIN, NC', 'GASTONIA, NC', 'GRANDFATHER MTN, NC', ' HENDERSONVILLE 1 NE, NC', ' HIGHLANDS, NC', 'HOT SPRINGS, NC', 'LAKE LURE 2, NC', 'LAKE TOXAWAY 2 SW, NC', 'MARSHALL, NC', 'MONROE 2 SE, NC',)\n",
    "sub_exogen = {k: exogen[k] for k in todokeys}"
   ]
  },
  {
   "cell_type": "code",
   "execution_count": 16,
   "metadata": {
    "ExecuteTime": {
     "end_time": "2019-07-31T21:35:44.333192Z",
     "start_time": "2019-07-31T21:35:43.723839Z"
    }
   },
   "outputs": [
    {
     "data": {
      "application/vnd.jupyter.widget-view+json": {
       "model_id": "cde865df32974102b5b1b03b552c693c",
       "version_major": 2,
       "version_minor": 0
      },
      "text/plain": [
       "HBox(children=(IntProgress(value=0, max=26), HTML(value='')))"
      ]
     },
     "metadata": {},
     "output_type": "display_data"
    },
    {
     "data": {
      "text/plain": [
       "[             LORIS 2 S, SC  Myrtle Beach Area, SC\n",
       " Date                                             \n",
       " 1980-01-01        4.220000                 4.4375\n",
       " 1980-02-01        2.100000                 2.0825\n",
       " 1980-03-01        8.240000                 7.9225\n",
       " 1980-04-01        1.400000                 1.7625\n",
       " 1980-05-01        4.520000                 3.9300\n",
       " 1980-06-01        4.670000                 3.4900\n",
       " 1980-07-01        1.960000                 4.3800\n",
       " 1980-08-01        2.270000                 2.2325\n",
       " 1980-09-01        4.370000                 4.5650\n",
       " 1980-10-01        1.550000                 1.9775\n",
       " 1980-11-01        1.650000                 1.7225\n",
       " 1980-12-01        3.120000                 3.2300\n",
       " 1981-01-01        0.950000                 0.9850\n",
       " 1981-02-01        2.650000                 2.5425\n",
       " 1981-03-01        3.700000                 3.6425\n",
       " 1981-04-01        0.780000                 1.1600\n",
       " 1981-05-01        4.710000                 5.5375\n",
       " 1981-06-01        3.940000                 5.9275\n",
       " 1981-07-01       13.320000                11.1125\n",
       " 1981-08-01       14.790000                12.6375\n",
       " 1981-09-01        1.540000                 1.1500\n",
       " 1981-10-01        2.630000                 2.1950\n",
       " 1981-11-01        0.720000                 0.7800\n",
       " 1981-12-01        5.260000                 5.6850\n",
       " 1982-01-01        4.970000                 5.7500\n",
       " 1982-02-01        5.920000                 5.8750\n",
       " 1982-03-01        1.260000                 1.1325\n",
       " 1982-04-01        6.400000                 5.4500\n",
       " 1982-05-01        1.330000                 1.6000\n",
       " 1982-06-01        7.530000                 7.2675\n",
       " ...                    ...                    ...\n",
       " 2016-11-01        2.538925                 0.1800\n",
       " 2016-12-01        2.622960                 2.6600\n",
       " 2017-01-01        2.685491                 2.0300\n",
       " 2017-02-01        2.713847                 1.5000\n",
       " 2017-03-01        2.705818                 1.9400\n",
       " 2017-04-01        2.666979                 3.4400\n",
       " 2017-05-01        2.605635                 4.3000\n",
       " 2017-06-01        2.533310                 3.7000\n",
       " 2017-07-01        2.465741                 2.2200\n",
       " 2017-08-01        2.419999                16.4800\n",
       " 2017-09-01        2.407458                 4.2700\n",
       " 2017-10-01        2.431304                 4.2700\n",
       " 2017-11-01        2.485114                 1.5200\n",
       " 2017-12-01        2.554037                 3.4300\n",
       " 2018-01-01        2.619764                 4.2200\n",
       " 2018-02-01        2.666805                 1.4900\n",
       " 2018-03-01        2.686311                 2.0000\n",
       " 2018-04-01        2.676645                 5.0700\n",
       " 2018-05-01        2.641140                 5.6400\n",
       " 2018-06-01        2.587225                 5.1900\n",
       " 2018-07-01        2.526483                11.0700\n",
       " 2018-08-01        2.473241                 3.0800\n",
       " 2018-09-01        2.440350                13.1200\n",
       " 2018-10-01        2.435827                 3.8300\n",
       " 2018-11-01        2.460470                 6.3700\n",
       " 2018-12-01        2.507254                 7.4200\n",
       " 2019-01-01        2.563509                 1.7400\n",
       " 2019-02-01        2.615157                 1.2600\n",
       " 2019-03-01        2.779055                 2.2600\n",
       " 2019-04-01        4.686629                 4.8800\n",
       " \n",
       " [472 rows x 2 columns],              LORIS 2 S, SC\n",
       " Date                      \n",
       " 1980-01-01        4.220000\n",
       " 1980-02-01        2.100000\n",
       " 1980-03-01        8.240000\n",
       " 1980-04-01        1.400000\n",
       " 1980-05-01        4.520000\n",
       " 1980-06-01        4.670000\n",
       " 1980-07-01        1.960000\n",
       " 1980-08-01        2.270000\n",
       " 1980-09-01        4.370000\n",
       " 1980-10-01        1.550000\n",
       " 1980-11-01        1.650000\n",
       " 1980-12-01        3.120000\n",
       " 1981-01-01        0.950000\n",
       " 1981-02-01        2.650000\n",
       " 1981-03-01        3.700000\n",
       " 1981-04-01        0.780000\n",
       " 1981-05-01        4.710000\n",
       " 1981-06-01        3.940000\n",
       " 1981-07-01       13.320000\n",
       " 1981-08-01       14.790000\n",
       " 1981-09-01        1.540000\n",
       " 1981-10-01        2.630000\n",
       " 1981-11-01        0.720000\n",
       " 1981-12-01        5.260000\n",
       " 1982-01-01        4.970000\n",
       " 1982-02-01        5.920000\n",
       " 1982-03-01        1.260000\n",
       " 1982-04-01        6.400000\n",
       " 1982-05-01        1.330000\n",
       " 1982-06-01        7.530000\n",
       " ...                    ...\n",
       " 2016-11-01        2.538925\n",
       " 2016-12-01        2.622960\n",
       " 2017-01-01        2.685491\n",
       " 2017-02-01        2.713847\n",
       " 2017-03-01        2.705818\n",
       " 2017-04-01        2.666979\n",
       " 2017-05-01        2.605635\n",
       " 2017-06-01        2.533310\n",
       " 2017-07-01        2.465741\n",
       " 2017-08-01        2.419999\n",
       " 2017-09-01        2.407458\n",
       " 2017-10-01        2.431304\n",
       " 2017-11-01        2.485114\n",
       " 2017-12-01        2.554037\n",
       " 2018-01-01        2.619764\n",
       " 2018-02-01        2.666805\n",
       " 2018-03-01        2.686311\n",
       " 2018-04-01        2.676645\n",
       " 2018-05-01        2.641140\n",
       " 2018-06-01        2.587225\n",
       " 2018-07-01        2.526483\n",
       " 2018-08-01        2.473241\n",
       " 2018-09-01        2.440350\n",
       " 2018-10-01        2.435827\n",
       " 2018-11-01        2.460470\n",
       " 2018-12-01        2.507254\n",
       " 2019-01-01        2.563509\n",
       " 2019-02-01        2.615157\n",
       " 2019-03-01        2.779055\n",
       " 2019-04-01        4.686629\n",
       " \n",
       " [472 rows x 1 columns],             Myrtle Beach Area, SC\n",
       " Date                             \n",
       " 1980-01-01                 4.4375\n",
       " 1980-02-01                 2.0825\n",
       " 1980-03-01                 7.9225\n",
       " 1980-04-01                 1.7625\n",
       " 1980-05-01                 3.9300\n",
       " 1980-06-01                 3.4900\n",
       " 1980-07-01                 4.3800\n",
       " 1980-08-01                 2.2325\n",
       " 1980-09-01                 4.5650\n",
       " 1980-10-01                 1.9775\n",
       " 1980-11-01                 1.7225\n",
       " 1980-12-01                 3.2300\n",
       " 1981-01-01                 0.9850\n",
       " 1981-02-01                 2.5425\n",
       " 1981-03-01                 3.6425\n",
       " 1981-04-01                 1.1600\n",
       " 1981-05-01                 5.5375\n",
       " 1981-06-01                 5.9275\n",
       " 1981-07-01                11.1125\n",
       " 1981-08-01                12.6375\n",
       " 1981-09-01                 1.1500\n",
       " 1981-10-01                 2.1950\n",
       " 1981-11-01                 0.7800\n",
       " 1981-12-01                 5.6850\n",
       " 1982-01-01                 5.7500\n",
       " 1982-02-01                 5.8750\n",
       " 1982-03-01                 1.1325\n",
       " 1982-04-01                 5.4500\n",
       " 1982-05-01                 1.6000\n",
       " 1982-06-01                 7.2675\n",
       " ...                           ...\n",
       " 2016-11-01                 0.1800\n",
       " 2016-12-01                 2.6600\n",
       " 2017-01-01                 2.0300\n",
       " 2017-02-01                 1.5000\n",
       " 2017-03-01                 1.9400\n",
       " 2017-04-01                 3.4400\n",
       " 2017-05-01                 4.3000\n",
       " 2017-06-01                 3.7000\n",
       " 2017-07-01                 2.2200\n",
       " 2017-08-01                16.4800\n",
       " 2017-09-01                 4.2700\n",
       " 2017-10-01                 4.2700\n",
       " 2017-11-01                 1.5200\n",
       " 2017-12-01                 3.4300\n",
       " 2018-01-01                 4.2200\n",
       " 2018-02-01                 1.4900\n",
       " 2018-03-01                 2.0000\n",
       " 2018-04-01                 5.0700\n",
       " 2018-05-01                 5.6400\n",
       " 2018-06-01                 5.1900\n",
       " 2018-07-01                11.0700\n",
       " 2018-08-01                 3.0800\n",
       " 2018-09-01                13.1200\n",
       " 2018-10-01                 3.8300\n",
       " 2018-11-01                 6.3700\n",
       " 2018-12-01                 7.4200\n",
       " 2019-01-01                 1.7400\n",
       " 2019-02-01                 1.2600\n",
       " 2019-03-01                 2.2600\n",
       " 2019-04-01                 4.8800\n",
       " \n",
       " [472 rows x 1 columns]]"
      ]
     },
     "execution_count": 16,
     "metadata": {},
     "output_type": "execute_result"
    }
   ],
   "source": [
    "from collections import defaultdict\n",
    "l_o_dfs = defaultdict(list)\n",
    "for key,value in tqdm(sub_exogen.items()):\n",
    "    lo_dfs2 = exog_combinations(rd, value)\n",
    "    l_o_dfs[key] = lo_dfs2\n",
    "l_o_dfs['LONGWOOD, NC']"
   ]
  },
  {
   "cell_type": "code",
   "execution_count": 19,
   "metadata": {
    "ExecuteTime": {
     "end_time": "2019-08-01T02:01:00.135084Z",
     "start_time": "2019-08-01T02:01:00.072584Z"
    }
   },
   "outputs": [],
   "source": [
    "def exogenous_var(data, ncloc, l_exoloc, best_comb):\n",
    "#     for key, value in tqdm(exo_dict.items()):\n",
    "    dat = data[ncloc]\n",
    "#         l_exog = exog_combinations(data, value)\n",
    "    tr, test = train_test_split(dat, test_size = 0.2, shuffle=False)\n",
    "    keymae = hyperparameter_find(tr, best_comb, test)\n",
    "    print('keymae of: '+ key +' = '+str(keymae))\n",
    "    bettermae = {}\n",
    "    for exog in tqdm(l_exoloc):\n",
    "        extr, extest = train_test_split(exog, test_size = 0.2, shuffle=False)\n",
    "        exmae = hyperparameter_find(tr, best_comb, test, exogtr=extr, exogtest = extest)\n",
    "        co = tuple(exog.columns)\n",
    "        print('exmae = {}'.format(co) + ' '+ str(exmae))\n",
    "        if exmae < keymae:\n",
    "            bettermae[co] = exmae\n",
    "            bettermae2 = {key: bettermae}\n",
    "    return(co)"
   ]
  },
  {
   "cell_type": "code",
   "execution_count": null,
   "metadata": {
    "ExecuteTime": {
     "start_time": "2019-08-01T02:01:05.734Z"
    }
   },
   "outputs": [
    {
     "data": {
      "application/vnd.jupyter.widget-view+json": {
       "model_id": "93d35324d4f947f0bd00de61a9a31477",
       "version_major": 2,
       "version_minor": 0
      },
      "text/plain": [
       "HBox(children=(IntProgress(value=0, max=26), HTML(value='')))"
      ]
     },
     "metadata": {},
     "output_type": "display_data"
    },
    {
     "data": {
      "application/vnd.jupyter.widget-view+json": {
       "model_id": "9459f064129a4c63bc4d2ac8bd72bcbb",
       "version_major": 2,
       "version_minor": 0
      },
      "text/plain": [
       "HBox(children=(IntProgress(value=0, max=1), HTML(value='')))"
      ]
     },
     "metadata": {},
     "output_type": "display_data"
    },
    {
     "data": {
      "application/vnd.jupyter.widget-view+json": {
       "model_id": "99d01e5ed8684e79ba0f9c5830b4daf7",
       "version_major": 2,
       "version_minor": 0
      },
      "text/plain": [
       "HBox(children=(IntProgress(value=0, max=95), HTML(value='')))"
      ]
     },
     "metadata": {},
     "output_type": "display_data"
    }
   ],
   "source": [
    "best_comb = [[4,3,3,4]]\n",
    "warnings.filterwarnings(\"ignore\")\n",
    "for key,value in tqdm(l_o_dfs.items()):\n",
    "    exogenous_var(rd, key, value, best_comb)"
   ]
  },
  {
   "cell_type": "code",
   "execution_count": 23,
   "metadata": {
    "scrolled": true
   },
   "outputs": [
    {
     "name": "stdout",
     "output_type": "stream",
     "text": [
      "keymae of: Henderson 2 NNW, NC = 1.6002245784392526\n",
      "exmae = ('SOUTH BOSTON, VA', 'John Kerr Dam, VA') 1.9436784695953795\n",
      "exmae = ('SOUTH BOSTON, VA',) 1.905091464504384\n",
      "exmae = ('John Kerr Dam, VA',) 1.9066707555352826\n",
      "keymae of: JACKSON SPRINGS 5 WNW, NC = 1.880135880758885\n",
      "exmae = ('CHESTERFIELD 3 E, SC', ' CHERAW, SC') 2.27692897709342\n",
      "exmae = ('CHESTERFIELD 3 E, SC',) 2.685657575743084\n",
      "exmae = (' CHERAW, SC',) 2.1676857485863783\n",
      "keymae of: Laurinburg, NC = 1.648422257446495\n",
      "exmae = (' DARLINGTON, SC', ' DILLON, SC', ' FLORENCE REGIONAL AIRPORT, SC', 'FLORENCE 8 NE, SC', 'CHESTERFIELD 3 E, SC', ' CHERAW, SC') 2.175538475973483\n",
      "exmae = (' DARLINGTON, SC',) 2.048045487433798\n",
      "exmae = (' DILLON, SC',) 1.8562542631849823\n",
      "exmae = (' FLORENCE REGIONAL AIRPORT, SC',) 2.268586897110784\n",
      "exmae = ('FLORENCE 8 NE, SC',) 2.0791528083270987\n",
      "exmae = ('CHESTERFIELD 3 E, SC',) 2.256082996088929\n",
      "exmae = (' CHERAW, SC',) 2.2657683522657046\n",
      "exmae = (' DARLINGTON, SC', ' DILLON, SC') 2.0042636269567677\n",
      "exmae = (' DARLINGTON, SC', ' FLORENCE REGIONAL AIRPORT, SC') 2.2276827867158597\n",
      "exmae = (' DARLINGTON, SC', 'FLORENCE 8 NE, SC') 2.152082100491374\n",
      "exmae = (' DARLINGTON, SC', 'CHESTERFIELD 3 E, SC') 2.152112422586365\n",
      "exmae = (' DARLINGTON, SC', ' CHERAW, SC') 2.284921097130388\n",
      "exmae = (' DILLON, SC', ' FLORENCE REGIONAL AIRPORT, SC') 2.1340168943567663\n",
      "exmae = (' DILLON, SC', 'FLORENCE 8 NE, SC') 1.9336379439479046\n",
      "exmae = (' DILLON, SC', 'CHESTERFIELD 3 E, SC') 2.0380797586130086\n",
      "exmae = (' DILLON, SC', ' CHERAW, SC') 2.1375473330628885\n",
      "exmae = (' FLORENCE REGIONAL AIRPORT, SC', 'FLORENCE 8 NE, SC') 2.1887387027104355\n",
      "exmae = (' FLORENCE REGIONAL AIRPORT, SC', 'CHESTERFIELD 3 E, SC') 2.2965748632857443\n",
      "exmae = (' FLORENCE REGIONAL AIRPORT, SC', ' CHERAW, SC') 2.4373613206858407\n",
      "exmae = ('FLORENCE 8 NE, SC', 'CHESTERFIELD 3 E, SC') 2.122488877062515\n",
      "exmae = ('FLORENCE 8 NE, SC', ' CHERAW, SC') 2.3063529575345134\n",
      "exmae = ('CHESTERFIELD 3 E, SC', ' CHERAW, SC') 2.314462182963154\n",
      "exmae = (' DARLINGTON, SC', ' DILLON, SC', ' FLORENCE REGIONAL AIRPORT, SC') 2.122555639985536\n",
      "exmae = (' DARLINGTON, SC', ' DILLON, SC', 'FLORENCE 8 NE, SC') 2.0231510965976383\n",
      "exmae = (' DARLINGTON, SC', ' DILLON, SC', 'CHESTERFIELD 3 E, SC') 2.1530876602740103\n",
      "exmae = (' DARLINGTON, SC', ' DILLON, SC', ' CHERAW, SC') 2.125355437204413\n",
      "exmae = (' DARLINGTON, SC', ' FLORENCE REGIONAL AIRPORT, SC', 'FLORENCE 8 NE, SC') 2.2410245775109536\n",
      "exmae = (' DARLINGTON, SC', ' FLORENCE REGIONAL AIRPORT, SC', 'CHESTERFIELD 3 E, SC') 2.229659489534021\n",
      "exmae = (' DARLINGTON, SC', ' FLORENCE REGIONAL AIRPORT, SC', ' CHERAW, SC') 2.3469242632580776\n",
      "exmae = (' DARLINGTON, SC', 'FLORENCE 8 NE, SC', 'CHESTERFIELD 3 E, SC') 2.207678368713356\n",
      "exmae = (' DARLINGTON, SC', 'FLORENCE 8 NE, SC', ' CHERAW, SC') 2.3112805165749144\n",
      "exmae = (' DARLINGTON, SC', 'CHESTERFIELD 3 E, SC', ' CHERAW, SC') 2.2895274107756256\n",
      "exmae = (' DILLON, SC', ' FLORENCE REGIONAL AIRPORT, SC', 'FLORENCE 8 NE, SC') 2.122560792334913\n",
      "exmae = (' DILLON, SC', ' FLORENCE REGIONAL AIRPORT, SC', 'CHESTERFIELD 3 E, SC') 2.10947841279159\n",
      "exmae = (' DILLON, SC', ' FLORENCE REGIONAL AIRPORT, SC', ' CHERAW, SC') 2.2084049320441492\n",
      "exmae = (' DILLON, SC', 'FLORENCE 8 NE, SC', 'CHESTERFIELD 3 E, SC') 2.0700560607367913\n",
      "exmae = (' DILLON, SC', 'FLORENCE 8 NE, SC', ' CHERAW, SC') 2.1440099208690584\n",
      "exmae = (' DILLON, SC', 'CHESTERFIELD 3 E, SC', ' CHERAW, SC') 2.1490164450876392\n",
      "exmae = (' FLORENCE REGIONAL AIRPORT, SC', 'FLORENCE 8 NE, SC', 'CHESTERFIELD 3 E, SC') 2.2368939533748473\n",
      "exmae = (' FLORENCE REGIONAL AIRPORT, SC', 'FLORENCE 8 NE, SC', ' CHERAW, SC') 2.3541137484821006\n",
      "exmae = (' FLORENCE REGIONAL AIRPORT, SC', 'CHESTERFIELD 3 E, SC', ' CHERAW, SC') 2.3620324017348304\n",
      "exmae = ('FLORENCE 8 NE, SC', 'CHESTERFIELD 3 E, SC', ' CHERAW, SC') 2.304465264634546\n",
      "exmae = (' DARLINGTON, SC', ' DILLON, SC', ' FLORENCE REGIONAL AIRPORT, SC', 'FLORENCE 8 NE, SC') 2.1345371745788086\n",
      "exmae = (' DARLINGTON, SC', ' DILLON, SC', ' FLORENCE REGIONAL AIRPORT, SC', 'CHESTERFIELD 3 E, SC') 2.0778452881550966\n",
      "exmae = (' DARLINGTON, SC', ' DILLON, SC', ' FLORENCE REGIONAL AIRPORT, SC', ' CHERAW, SC') 2.152721065359516\n",
      "exmae = (' DARLINGTON, SC', ' DILLON, SC', 'FLORENCE 8 NE, SC', 'CHESTERFIELD 3 E, SC') 2.1380863919521906\n",
      "exmae = (' DARLINGTON, SC', ' DILLON, SC', 'FLORENCE 8 NE, SC', ' CHERAW, SC') 2.131729791815756\n"
     ]
    },
    {
     "ename": "KeyboardInterrupt",
     "evalue": "",
     "output_type": "error",
     "traceback": [
      "\u001b[1;31m---------------------------------------------------------------------------\u001b[0m",
      "\u001b[1;31mKeyboardInterrupt\u001b[0m                         Traceback (most recent call last)",
      "\u001b[1;32m<ipython-input-23-77df3283bd81>\u001b[0m in \u001b[0;36m<module>\u001b[1;34m\u001b[0m\n\u001b[0;32m      1\u001b[0m \u001b[0mbest_comb\u001b[0m \u001b[1;33m=\u001b[0m \u001b[1;33m[\u001b[0m\u001b[1;33m[\u001b[0m\u001b[1;36m4\u001b[0m\u001b[1;33m,\u001b[0m\u001b[1;36m3\u001b[0m\u001b[1;33m,\u001b[0m\u001b[1;36m3\u001b[0m\u001b[1;33m,\u001b[0m\u001b[1;36m4\u001b[0m\u001b[1;33m]\u001b[0m\u001b[1;33m]\u001b[0m\u001b[1;33m\u001b[0m\u001b[1;33m\u001b[0m\u001b[0m\n\u001b[0;32m      2\u001b[0m \u001b[0mwarnings\u001b[0m\u001b[1;33m.\u001b[0m\u001b[0mfilterwarnings\u001b[0m\u001b[1;33m(\u001b[0m\u001b[1;34m\"ignore\"\u001b[0m\u001b[1;33m)\u001b[0m\u001b[1;33m\u001b[0m\u001b[1;33m\u001b[0m\u001b[0m\n\u001b[1;32m----> 3\u001b[1;33m \u001b[0mexogenous_var\u001b[0m\u001b[1;33m(\u001b[0m\u001b[0mrd\u001b[0m\u001b[1;33m,\u001b[0m \u001b[0msub_exogen\u001b[0m\u001b[1;33m,\u001b[0m \u001b[0mbest_comb\u001b[0m\u001b[1;33m)\u001b[0m\u001b[1;33m\u001b[0m\u001b[1;33m\u001b[0m\u001b[0m\n\u001b[0m",
      "\u001b[1;32m<ipython-input-19-4568139eab35>\u001b[0m in \u001b[0;36mexogenous_var\u001b[1;34m(data, exo_dict, best_comb)\u001b[0m\n\u001b[0;32m      9\u001b[0m         \u001b[1;32mfor\u001b[0m \u001b[0mexog\u001b[0m \u001b[1;32min\u001b[0m \u001b[0ml_exog\u001b[0m\u001b[1;33m:\u001b[0m\u001b[1;33m\u001b[0m\u001b[1;33m\u001b[0m\u001b[0m\n\u001b[0;32m     10\u001b[0m             \u001b[0mextr\u001b[0m\u001b[1;33m,\u001b[0m \u001b[0mextest\u001b[0m \u001b[1;33m=\u001b[0m \u001b[0mtrain_test_split\u001b[0m\u001b[1;33m(\u001b[0m\u001b[0mexog\u001b[0m\u001b[1;33m,\u001b[0m \u001b[0mtest_size\u001b[0m \u001b[1;33m=\u001b[0m \u001b[1;36m0.2\u001b[0m\u001b[1;33m,\u001b[0m \u001b[0mshuffle\u001b[0m\u001b[1;33m=\u001b[0m\u001b[1;32mFalse\u001b[0m\u001b[1;33m)\u001b[0m\u001b[1;33m\u001b[0m\u001b[1;33m\u001b[0m\u001b[0m\n\u001b[1;32m---> 11\u001b[1;33m             \u001b[0mexmae\u001b[0m \u001b[1;33m=\u001b[0m \u001b[0mhyperparameter_find\u001b[0m\u001b[1;33m(\u001b[0m\u001b[0mtr\u001b[0m\u001b[1;33m,\u001b[0m \u001b[0mbest_comb\u001b[0m\u001b[1;33m,\u001b[0m \u001b[0mtest\u001b[0m\u001b[1;33m,\u001b[0m \u001b[0mexogtr\u001b[0m\u001b[1;33m=\u001b[0m\u001b[0mextr\u001b[0m\u001b[1;33m,\u001b[0m \u001b[0mexogtest\u001b[0m \u001b[1;33m=\u001b[0m \u001b[0mextest\u001b[0m\u001b[1;33m)\u001b[0m\u001b[1;33m\u001b[0m\u001b[1;33m\u001b[0m\u001b[0m\n\u001b[0m\u001b[0;32m     12\u001b[0m             \u001b[0mco\u001b[0m \u001b[1;33m=\u001b[0m \u001b[0mtuple\u001b[0m\u001b[1;33m(\u001b[0m\u001b[0mexog\u001b[0m\u001b[1;33m.\u001b[0m\u001b[0mcolumns\u001b[0m\u001b[1;33m)\u001b[0m\u001b[1;33m\u001b[0m\u001b[1;33m\u001b[0m\u001b[0m\n\u001b[0;32m     13\u001b[0m             \u001b[0mprint\u001b[0m\u001b[1;33m(\u001b[0m\u001b[1;34m'exmae = {}'\u001b[0m\u001b[1;33m.\u001b[0m\u001b[0mformat\u001b[0m\u001b[1;33m(\u001b[0m\u001b[0mco\u001b[0m\u001b[1;33m)\u001b[0m \u001b[1;33m+\u001b[0m \u001b[1;34m' '\u001b[0m\u001b[1;33m+\u001b[0m \u001b[0mstr\u001b[0m\u001b[1;33m(\u001b[0m\u001b[0mexmae\u001b[0m\u001b[1;33m)\u001b[0m\u001b[1;33m)\u001b[0m\u001b[1;33m\u001b[0m\u001b[1;33m\u001b[0m\u001b[0m\n",
      "\u001b[1;32m<ipython-input-22-3f713f23d753>\u001b[0m in \u001b[0;36mhyperparameter_find\u001b[1;34m(training_data, comb, testing_data, search, exogtr, exogtest)\u001b[0m\n\u001b[0;32m     20\u001b[0m                 \u001b[1;32mif\u001b[0m \u001b[0mexogtr\u001b[0m \u001b[1;32mis\u001b[0m \u001b[1;32mnot\u001b[0m \u001b[1;32mNone\u001b[0m\u001b[1;33m:\u001b[0m\u001b[1;33m\u001b[0m\u001b[1;33m\u001b[0m\u001b[0m\n\u001b[0;32m     21\u001b[0m                     mod_1 = sarima_model_creation(copytraining, com[0], 0, com[1], com[2], 0, \n\u001b[1;32m---> 22\u001b[1;33m                                                   com[3], 12, exog=excopy)\n\u001b[0m\u001b[0;32m     23\u001b[0m                     \u001b[0mone_step_pred2\u001b[0m \u001b[1;33m=\u001b[0m \u001b[0mmod_1\u001b[0m\u001b[1;33m.\u001b[0m\u001b[0mforecast\u001b[0m\u001b[1;33m(\u001b[0m\u001b[0mexog\u001b[0m\u001b[1;33m=\u001b[0m\u001b[0mexcopy\u001b[0m\u001b[1;33m.\u001b[0m\u001b[0miloc\u001b[0m\u001b[1;33m[\u001b[0m\u001b[1;33m[\u001b[0m\u001b[1;33m-\u001b[0m\u001b[1;36m1\u001b[0m\u001b[1;33m]\u001b[0m\u001b[1;33m]\u001b[0m\u001b[1;33m)\u001b[0m\u001b[1;33m\u001b[0m\u001b[1;33m\u001b[0m\u001b[0m\n\u001b[0;32m     24\u001b[0m                     \u001b[0mexcopy\u001b[0m \u001b[1;33m=\u001b[0m \u001b[0mpd\u001b[0m\u001b[1;33m.\u001b[0m\u001b[0mconcat\u001b[0m\u001b[1;33m(\u001b[0m\u001b[1;33m[\u001b[0m\u001b[0mexcopy\u001b[0m\u001b[1;33m,\u001b[0m \u001b[0mexogtest\u001b[0m\u001b[1;33m.\u001b[0m\u001b[0miloc\u001b[0m\u001b[1;33m[\u001b[0m\u001b[1;33m[\u001b[0m\u001b[0mi\u001b[0m\u001b[1;33m]\u001b[0m\u001b[1;33m]\u001b[0m\u001b[1;33m]\u001b[0m\u001b[1;33m)\u001b[0m\u001b[1;33m\u001b[0m\u001b[1;33m\u001b[0m\u001b[0m\n",
      "\u001b[1;32m<ipython-input-15-5fcefe079e19>\u001b[0m in \u001b[0;36msarima_model_creation\u001b[1;34m(data, p, d, q, P, D, Q, m, exog)\u001b[0m\n\u001b[0;32m      5\u001b[0m                                           \u001b[0menforce_stationarity\u001b[0m\u001b[1;33m=\u001b[0m\u001b[1;32mFalse\u001b[0m\u001b[1;33m,\u001b[0m \u001b[0menforce_invertibility\u001b[0m\u001b[1;33m=\u001b[0m\u001b[1;32mFalse\u001b[0m\u001b[1;33m,\u001b[0m\u001b[1;33m\u001b[0m\u001b[1;33m\u001b[0m\u001b[0m\n\u001b[0;32m      6\u001b[0m                                           initialization='approximate_diffuse')\n\u001b[1;32m----> 7\u001b[1;33m     \u001b[0mmodel_fit\u001b[0m \u001b[1;33m=\u001b[0m \u001b[0msarimamod\u001b[0m\u001b[1;33m.\u001b[0m\u001b[0mfit\u001b[0m\u001b[1;33m(\u001b[0m\u001b[1;33m)\u001b[0m\u001b[1;31m# start_params=[0, 0, 0, 0, 1])\u001b[0m\u001b[1;33m\u001b[0m\u001b[1;33m\u001b[0m\u001b[0m\n\u001b[0m\u001b[0;32m      8\u001b[0m     \u001b[1;32mreturn\u001b[0m\u001b[1;33m(\u001b[0m\u001b[0mmodel_fit\u001b[0m\u001b[1;33m)\u001b[0m\u001b[1;33m\u001b[0m\u001b[1;33m\u001b[0m\u001b[0m\n",
      "\u001b[1;32m~\\Anaconda3\\lib\\site-packages\\statsmodels\\tsa\\statespace\\mlemodel.py\u001b[0m in \u001b[0;36mfit\u001b[1;34m(self, start_params, transformed, cov_type, cov_kwds, method, maxiter, full_output, disp, callback, return_params, optim_score, optim_complex_step, optim_hessian, flags, **kwargs)\u001b[0m\n\u001b[0;32m    467\u001b[0m                                            \u001b[0mfull_output\u001b[0m\u001b[1;33m=\u001b[0m\u001b[0mfull_output\u001b[0m\u001b[1;33m,\u001b[0m\u001b[1;33m\u001b[0m\u001b[1;33m\u001b[0m\u001b[0m\n\u001b[0;32m    468\u001b[0m                                            \u001b[0mdisp\u001b[0m\u001b[1;33m=\u001b[0m\u001b[0mdisp\u001b[0m\u001b[1;33m,\u001b[0m \u001b[0mcallback\u001b[0m\u001b[1;33m=\u001b[0m\u001b[0mcallback\u001b[0m\u001b[1;33m,\u001b[0m\u001b[1;33m\u001b[0m\u001b[1;33m\u001b[0m\u001b[0m\n\u001b[1;32m--> 469\u001b[1;33m                                            skip_hessian=True, **kwargs)\n\u001b[0m\u001b[0;32m    470\u001b[0m \u001b[1;33m\u001b[0m\u001b[0m\n\u001b[0;32m    471\u001b[0m         \u001b[1;31m# Just return the fitted parameters if requested\u001b[0m\u001b[1;33m\u001b[0m\u001b[1;33m\u001b[0m\u001b[1;33m\u001b[0m\u001b[0m\n",
      "\u001b[1;32m~\\Anaconda3\\lib\\site-packages\\statsmodels\\base\\model.py\u001b[0m in \u001b[0;36mfit\u001b[1;34m(self, start_params, method, maxiter, full_output, disp, fargs, callback, retall, skip_hessian, **kwargs)\u001b[0m\n\u001b[0;32m    464\u001b[0m                                                        \u001b[0mcallback\u001b[0m\u001b[1;33m=\u001b[0m\u001b[0mcallback\u001b[0m\u001b[1;33m,\u001b[0m\u001b[1;33m\u001b[0m\u001b[1;33m\u001b[0m\u001b[0m\n\u001b[0;32m    465\u001b[0m                                                        \u001b[0mretall\u001b[0m\u001b[1;33m=\u001b[0m\u001b[0mretall\u001b[0m\u001b[1;33m,\u001b[0m\u001b[1;33m\u001b[0m\u001b[1;33m\u001b[0m\u001b[0m\n\u001b[1;32m--> 466\u001b[1;33m                                                        full_output=full_output)\n\u001b[0m\u001b[0;32m    467\u001b[0m \u001b[1;33m\u001b[0m\u001b[0m\n\u001b[0;32m    468\u001b[0m         \u001b[1;31m# NOTE: this is for fit_regularized and should be generalized\u001b[0m\u001b[1;33m\u001b[0m\u001b[1;33m\u001b[0m\u001b[1;33m\u001b[0m\u001b[0m\n",
      "\u001b[1;32m~\\Anaconda3\\lib\\site-packages\\statsmodels\\base\\optimizer.py\u001b[0m in \u001b[0;36m_fit\u001b[1;34m(self, objective, gradient, start_params, fargs, kwargs, hessian, method, maxiter, full_output, disp, callback, retall)\u001b[0m\n\u001b[0;32m    189\u001b[0m                             \u001b[0mdisp\u001b[0m\u001b[1;33m=\u001b[0m\u001b[0mdisp\u001b[0m\u001b[1;33m,\u001b[0m \u001b[0mmaxiter\u001b[0m\u001b[1;33m=\u001b[0m\u001b[0mmaxiter\u001b[0m\u001b[1;33m,\u001b[0m \u001b[0mcallback\u001b[0m\u001b[1;33m=\u001b[0m\u001b[0mcallback\u001b[0m\u001b[1;33m,\u001b[0m\u001b[1;33m\u001b[0m\u001b[1;33m\u001b[0m\u001b[0m\n\u001b[0;32m    190\u001b[0m                             \u001b[0mretall\u001b[0m\u001b[1;33m=\u001b[0m\u001b[0mretall\u001b[0m\u001b[1;33m,\u001b[0m \u001b[0mfull_output\u001b[0m\u001b[1;33m=\u001b[0m\u001b[0mfull_output\u001b[0m\u001b[1;33m,\u001b[0m\u001b[1;33m\u001b[0m\u001b[1;33m\u001b[0m\u001b[0m\n\u001b[1;32m--> 191\u001b[1;33m                             hess=hessian)\n\u001b[0m\u001b[0;32m    192\u001b[0m \u001b[1;33m\u001b[0m\u001b[0m\n\u001b[0;32m    193\u001b[0m         optim_settings = {'optimizer': method, 'start_params': start_params,\n",
      "\u001b[1;32m~\\Anaconda3\\lib\\site-packages\\statsmodels\\base\\optimizer.py\u001b[0m in \u001b[0;36m_fit_lbfgs\u001b[1;34m(f, score, start_params, fargs, kwargs, disp, maxiter, callback, retall, full_output, hess)\u001b[0m\n\u001b[0;32m    408\u001b[0m                                      \u001b[0mcallback\u001b[0m\u001b[1;33m=\u001b[0m\u001b[0mcallback\u001b[0m\u001b[1;33m,\u001b[0m \u001b[0margs\u001b[0m\u001b[1;33m=\u001b[0m\u001b[0mfargs\u001b[0m\u001b[1;33m,\u001b[0m\u001b[1;33m\u001b[0m\u001b[1;33m\u001b[0m\u001b[0m\n\u001b[0;32m    409\u001b[0m                                      \u001b[0mbounds\u001b[0m\u001b[1;33m=\u001b[0m\u001b[0mbounds\u001b[0m\u001b[1;33m,\u001b[0m \u001b[0mdisp\u001b[0m\u001b[1;33m=\u001b[0m\u001b[0mdisp\u001b[0m\u001b[1;33m,\u001b[0m\u001b[1;33m\u001b[0m\u001b[1;33m\u001b[0m\u001b[0m\n\u001b[1;32m--> 410\u001b[1;33m                                      **extra_kwargs)\n\u001b[0m\u001b[0;32m    411\u001b[0m \u001b[1;33m\u001b[0m\u001b[0m\n\u001b[0;32m    412\u001b[0m     \u001b[1;32mif\u001b[0m \u001b[0mfull_output\u001b[0m\u001b[1;33m:\u001b[0m\u001b[1;33m\u001b[0m\u001b[1;33m\u001b[0m\u001b[0m\n",
      "\u001b[1;32m~\\Anaconda3\\lib\\site-packages\\scipy\\optimize\\lbfgsb.py\u001b[0m in \u001b[0;36mfmin_l_bfgs_b\u001b[1;34m(func, x0, fprime, args, approx_grad, bounds, m, factr, pgtol, epsilon, iprint, maxfun, maxiter, disp, callback, maxls)\u001b[0m\n\u001b[0;32m    197\u001b[0m \u001b[1;33m\u001b[0m\u001b[0m\n\u001b[0;32m    198\u001b[0m     res = _minimize_lbfgsb(fun, x0, args=args, jac=jac, bounds=bounds,\n\u001b[1;32m--> 199\u001b[1;33m                            **opts)\n\u001b[0m\u001b[0;32m    200\u001b[0m     d = {'grad': res['jac'],\n\u001b[0;32m    201\u001b[0m          \u001b[1;34m'task'\u001b[0m\u001b[1;33m:\u001b[0m \u001b[0mres\u001b[0m\u001b[1;33m[\u001b[0m\u001b[1;34m'message'\u001b[0m\u001b[1;33m]\u001b[0m\u001b[1;33m,\u001b[0m\u001b[1;33m\u001b[0m\u001b[1;33m\u001b[0m\u001b[0m\n",
      "\u001b[1;32m~\\Anaconda3\\lib\\site-packages\\scipy\\optimize\\lbfgsb.py\u001b[0m in \u001b[0;36m_minimize_lbfgsb\u001b[1;34m(fun, x0, args, jac, bounds, disp, maxcor, ftol, gtol, eps, maxfun, maxiter, iprint, callback, maxls, **unknown_options)\u001b[0m\n\u001b[0;32m    333\u001b[0m             \u001b[1;31m# until the completion of the current minimization iteration.\u001b[0m\u001b[1;33m\u001b[0m\u001b[1;33m\u001b[0m\u001b[1;33m\u001b[0m\u001b[0m\n\u001b[0;32m    334\u001b[0m             \u001b[1;31m# Overwrite f and g:\u001b[0m\u001b[1;33m\u001b[0m\u001b[1;33m\u001b[0m\u001b[1;33m\u001b[0m\u001b[0m\n\u001b[1;32m--> 335\u001b[1;33m             \u001b[0mf\u001b[0m\u001b[1;33m,\u001b[0m \u001b[0mg\u001b[0m \u001b[1;33m=\u001b[0m \u001b[0mfunc_and_grad\u001b[0m\u001b[1;33m(\u001b[0m\u001b[0mx\u001b[0m\u001b[1;33m)\u001b[0m\u001b[1;33m\u001b[0m\u001b[1;33m\u001b[0m\u001b[0m\n\u001b[0m\u001b[0;32m    336\u001b[0m         \u001b[1;32melif\u001b[0m \u001b[0mtask_str\u001b[0m\u001b[1;33m.\u001b[0m\u001b[0mstartswith\u001b[0m\u001b[1;33m(\u001b[0m\u001b[1;34mb'NEW_X'\u001b[0m\u001b[1;33m)\u001b[0m\u001b[1;33m:\u001b[0m\u001b[1;33m\u001b[0m\u001b[1;33m\u001b[0m\u001b[0m\n\u001b[0;32m    337\u001b[0m             \u001b[1;31m# new iteration\u001b[0m\u001b[1;33m\u001b[0m\u001b[1;33m\u001b[0m\u001b[1;33m\u001b[0m\u001b[0m\n",
      "\u001b[1;32m~\\Anaconda3\\lib\\site-packages\\scipy\\optimize\\lbfgsb.py\u001b[0m in \u001b[0;36mfunc_and_grad\u001b[1;34m(x)\u001b[0m\n\u001b[0;32m    279\u001b[0m         \u001b[1;32mdef\u001b[0m \u001b[0mfunc_and_grad\u001b[0m\u001b[1;33m(\u001b[0m\u001b[0mx\u001b[0m\u001b[1;33m)\u001b[0m\u001b[1;33m:\u001b[0m\u001b[1;33m\u001b[0m\u001b[1;33m\u001b[0m\u001b[0m\n\u001b[0;32m    280\u001b[0m             \u001b[0mf\u001b[0m \u001b[1;33m=\u001b[0m \u001b[0mfun\u001b[0m\u001b[1;33m(\u001b[0m\u001b[0mx\u001b[0m\u001b[1;33m,\u001b[0m \u001b[1;33m*\u001b[0m\u001b[0margs\u001b[0m\u001b[1;33m)\u001b[0m\u001b[1;33m\u001b[0m\u001b[1;33m\u001b[0m\u001b[0m\n\u001b[1;32m--> 281\u001b[1;33m             \u001b[0mg\u001b[0m \u001b[1;33m=\u001b[0m \u001b[0m_approx_fprime_helper\u001b[0m\u001b[1;33m(\u001b[0m\u001b[0mx\u001b[0m\u001b[1;33m,\u001b[0m \u001b[0mfun\u001b[0m\u001b[1;33m,\u001b[0m \u001b[0mepsilon\u001b[0m\u001b[1;33m,\u001b[0m \u001b[0margs\u001b[0m\u001b[1;33m=\u001b[0m\u001b[0margs\u001b[0m\u001b[1;33m,\u001b[0m \u001b[0mf0\u001b[0m\u001b[1;33m=\u001b[0m\u001b[0mf\u001b[0m\u001b[1;33m)\u001b[0m\u001b[1;33m\u001b[0m\u001b[1;33m\u001b[0m\u001b[0m\n\u001b[0m\u001b[0;32m    282\u001b[0m             \u001b[1;32mreturn\u001b[0m \u001b[0mf\u001b[0m\u001b[1;33m,\u001b[0m \u001b[0mg\u001b[0m\u001b[1;33m\u001b[0m\u001b[1;33m\u001b[0m\u001b[0m\n\u001b[0;32m    283\u001b[0m     \u001b[1;32melse\u001b[0m\u001b[1;33m:\u001b[0m\u001b[1;33m\u001b[0m\u001b[1;33m\u001b[0m\u001b[0m\n",
      "\u001b[1;32m~\\Anaconda3\\lib\\site-packages\\scipy\\optimize\\optimize.py\u001b[0m in \u001b[0;36m_approx_fprime_helper\u001b[1;34m(xk, f, epsilon, args, f0)\u001b[0m\n\u001b[0;32m    668\u001b[0m         \u001b[0mei\u001b[0m\u001b[1;33m[\u001b[0m\u001b[0mk\u001b[0m\u001b[1;33m]\u001b[0m \u001b[1;33m=\u001b[0m \u001b[1;36m1.0\u001b[0m\u001b[1;33m\u001b[0m\u001b[1;33m\u001b[0m\u001b[0m\n\u001b[0;32m    669\u001b[0m         \u001b[0md\u001b[0m \u001b[1;33m=\u001b[0m \u001b[0mepsilon\u001b[0m \u001b[1;33m*\u001b[0m \u001b[0mei\u001b[0m\u001b[1;33m\u001b[0m\u001b[1;33m\u001b[0m\u001b[0m\n\u001b[1;32m--> 670\u001b[1;33m         \u001b[0mgrad\u001b[0m\u001b[1;33m[\u001b[0m\u001b[0mk\u001b[0m\u001b[1;33m]\u001b[0m \u001b[1;33m=\u001b[0m \u001b[1;33m(\u001b[0m\u001b[0mf\u001b[0m\u001b[1;33m(\u001b[0m\u001b[1;33m*\u001b[0m\u001b[1;33m(\u001b[0m\u001b[1;33m(\u001b[0m\u001b[0mxk\u001b[0m \u001b[1;33m+\u001b[0m \u001b[0md\u001b[0m\u001b[1;33m,\u001b[0m\u001b[1;33m)\u001b[0m \u001b[1;33m+\u001b[0m \u001b[0margs\u001b[0m\u001b[1;33m)\u001b[0m\u001b[1;33m)\u001b[0m \u001b[1;33m-\u001b[0m \u001b[0mf0\u001b[0m\u001b[1;33m)\u001b[0m \u001b[1;33m/\u001b[0m \u001b[0md\u001b[0m\u001b[1;33m[\u001b[0m\u001b[0mk\u001b[0m\u001b[1;33m]\u001b[0m\u001b[1;33m\u001b[0m\u001b[1;33m\u001b[0m\u001b[0m\n\u001b[0m\u001b[0;32m    671\u001b[0m         \u001b[0mei\u001b[0m\u001b[1;33m[\u001b[0m\u001b[0mk\u001b[0m\u001b[1;33m]\u001b[0m \u001b[1;33m=\u001b[0m \u001b[1;36m0.0\u001b[0m\u001b[1;33m\u001b[0m\u001b[1;33m\u001b[0m\u001b[0m\n\u001b[0;32m    672\u001b[0m     \u001b[1;32mreturn\u001b[0m \u001b[0mgrad\u001b[0m\u001b[1;33m\u001b[0m\u001b[1;33m\u001b[0m\u001b[0m\n",
      "\u001b[1;32m~\\Anaconda3\\lib\\site-packages\\scipy\\optimize\\optimize.py\u001b[0m in \u001b[0;36mfunction_wrapper\u001b[1;34m(*wrapper_args)\u001b[0m\n\u001b[0;32m    298\u001b[0m     \u001b[1;32mdef\u001b[0m \u001b[0mfunction_wrapper\u001b[0m\u001b[1;33m(\u001b[0m\u001b[1;33m*\u001b[0m\u001b[0mwrapper_args\u001b[0m\u001b[1;33m)\u001b[0m\u001b[1;33m:\u001b[0m\u001b[1;33m\u001b[0m\u001b[1;33m\u001b[0m\u001b[0m\n\u001b[0;32m    299\u001b[0m         \u001b[0mncalls\u001b[0m\u001b[1;33m[\u001b[0m\u001b[1;36m0\u001b[0m\u001b[1;33m]\u001b[0m \u001b[1;33m+=\u001b[0m \u001b[1;36m1\u001b[0m\u001b[1;33m\u001b[0m\u001b[1;33m\u001b[0m\u001b[0m\n\u001b[1;32m--> 300\u001b[1;33m         \u001b[1;32mreturn\u001b[0m \u001b[0mfunction\u001b[0m\u001b[1;33m(\u001b[0m\u001b[1;33m*\u001b[0m\u001b[1;33m(\u001b[0m\u001b[0mwrapper_args\u001b[0m \u001b[1;33m+\u001b[0m \u001b[0margs\u001b[0m\u001b[1;33m)\u001b[0m\u001b[1;33m)\u001b[0m\u001b[1;33m\u001b[0m\u001b[1;33m\u001b[0m\u001b[0m\n\u001b[0m\u001b[0;32m    301\u001b[0m \u001b[1;33m\u001b[0m\u001b[0m\n\u001b[0;32m    302\u001b[0m     \u001b[1;32mreturn\u001b[0m \u001b[0mncalls\u001b[0m\u001b[1;33m,\u001b[0m \u001b[0mfunction_wrapper\u001b[0m\u001b[1;33m\u001b[0m\u001b[1;33m\u001b[0m\u001b[0m\n",
      "\u001b[1;32m~\\Anaconda3\\lib\\site-packages\\statsmodels\\base\\model.py\u001b[0m in \u001b[0;36mf\u001b[1;34m(params, *args)\u001b[0m\n\u001b[0;32m    438\u001b[0m \u001b[1;33m\u001b[0m\u001b[0m\n\u001b[0;32m    439\u001b[0m         \u001b[1;32mdef\u001b[0m \u001b[0mf\u001b[0m\u001b[1;33m(\u001b[0m\u001b[0mparams\u001b[0m\u001b[1;33m,\u001b[0m \u001b[1;33m*\u001b[0m\u001b[0margs\u001b[0m\u001b[1;33m)\u001b[0m\u001b[1;33m:\u001b[0m\u001b[1;33m\u001b[0m\u001b[1;33m\u001b[0m\u001b[0m\n\u001b[1;32m--> 440\u001b[1;33m             \u001b[1;32mreturn\u001b[0m \u001b[1;33m-\u001b[0m\u001b[0mself\u001b[0m\u001b[1;33m.\u001b[0m\u001b[0mloglike\u001b[0m\u001b[1;33m(\u001b[0m\u001b[0mparams\u001b[0m\u001b[1;33m,\u001b[0m \u001b[1;33m*\u001b[0m\u001b[0margs\u001b[0m\u001b[1;33m)\u001b[0m \u001b[1;33m/\u001b[0m \u001b[0mnobs\u001b[0m\u001b[1;33m\u001b[0m\u001b[1;33m\u001b[0m\u001b[0m\n\u001b[0m\u001b[0;32m    441\u001b[0m \u001b[1;33m\u001b[0m\u001b[0m\n\u001b[0;32m    442\u001b[0m         \u001b[1;32mif\u001b[0m \u001b[0mmethod\u001b[0m \u001b[1;33m==\u001b[0m \u001b[1;34m'newton'\u001b[0m\u001b[1;33m:\u001b[0m\u001b[1;33m\u001b[0m\u001b[1;33m\u001b[0m\u001b[0m\n",
      "\u001b[1;32m~\\Anaconda3\\lib\\site-packages\\statsmodels\\tsa\\statespace\\mlemodel.py\u001b[0m in \u001b[0;36mloglike\u001b[1;34m(self, params, *args, **kwargs)\u001b[0m\n\u001b[0;32m    644\u001b[0m             \u001b[0mkwargs\u001b[0m\u001b[1;33m[\u001b[0m\u001b[1;34m'inversion_method'\u001b[0m\u001b[1;33m]\u001b[0m \u001b[1;33m=\u001b[0m \u001b[0mINVERT_UNIVARIATE\u001b[0m \u001b[1;33m|\u001b[0m \u001b[0mSOLVE_LU\u001b[0m\u001b[1;33m\u001b[0m\u001b[1;33m\u001b[0m\u001b[0m\n\u001b[0;32m    645\u001b[0m \u001b[1;33m\u001b[0m\u001b[0m\n\u001b[1;32m--> 646\u001b[1;33m         \u001b[0mloglike\u001b[0m \u001b[1;33m=\u001b[0m \u001b[0mself\u001b[0m\u001b[1;33m.\u001b[0m\u001b[0mssm\u001b[0m\u001b[1;33m.\u001b[0m\u001b[0mloglike\u001b[0m\u001b[1;33m(\u001b[0m\u001b[0mcomplex_step\u001b[0m\u001b[1;33m=\u001b[0m\u001b[0mcomplex_step\u001b[0m\u001b[1;33m,\u001b[0m \u001b[1;33m**\u001b[0m\u001b[0mkwargs\u001b[0m\u001b[1;33m)\u001b[0m\u001b[1;33m\u001b[0m\u001b[1;33m\u001b[0m\u001b[0m\n\u001b[0m\u001b[0;32m    647\u001b[0m \u001b[1;33m\u001b[0m\u001b[0m\n\u001b[0;32m    648\u001b[0m         \u001b[1;31m# Koopman, Shephard, and Doornik recommend maximizing the average\u001b[0m\u001b[1;33m\u001b[0m\u001b[1;33m\u001b[0m\u001b[1;33m\u001b[0m\u001b[0m\n",
      "\u001b[1;32m~\\Anaconda3\\lib\\site-packages\\statsmodels\\tsa\\statespace\\kalman_filter.py\u001b[0m in \u001b[0;36mloglike\u001b[1;34m(self, **kwargs)\u001b[0m\n\u001b[0;32m    823\u001b[0m                                ' MEMORY_NO_LIKELIHOOD option is selected.')\n\u001b[0;32m    824\u001b[0m         \u001b[0mkwargs\u001b[0m\u001b[1;33m[\u001b[0m\u001b[1;34m'conserve_memory'\u001b[0m\u001b[1;33m]\u001b[0m \u001b[1;33m=\u001b[0m \u001b[0mMEMORY_CONSERVE\u001b[0m \u001b[1;33m^\u001b[0m \u001b[0mMEMORY_NO_LIKELIHOOD\u001b[0m\u001b[1;33m\u001b[0m\u001b[1;33m\u001b[0m\u001b[0m\n\u001b[1;32m--> 825\u001b[1;33m         \u001b[0mkfilter\u001b[0m \u001b[1;33m=\u001b[0m \u001b[0mself\u001b[0m\u001b[1;33m.\u001b[0m\u001b[0m_filter\u001b[0m\u001b[1;33m(\u001b[0m\u001b[1;33m**\u001b[0m\u001b[0mkwargs\u001b[0m\u001b[1;33m)\u001b[0m\u001b[1;33m\u001b[0m\u001b[1;33m\u001b[0m\u001b[0m\n\u001b[0m\u001b[0;32m    826\u001b[0m         loglikelihood_burn = kwargs.get('loglikelihood_burn',\n\u001b[0;32m    827\u001b[0m                                         self.loglikelihood_burn)\n",
      "\u001b[1;32m~\\Anaconda3\\lib\\site-packages\\statsmodels\\tsa\\statespace\\kalman_filter.py\u001b[0m in \u001b[0;36m_filter\u001b[1;34m(self, filter_method, inversion_method, stability_method, conserve_memory, filter_timing, tolerance, loglikelihood_burn, complex_step)\u001b[0m\n\u001b[0;32m    749\u001b[0m         \u001b[1;31m# Run the filter\u001b[0m\u001b[1;33m\u001b[0m\u001b[1;33m\u001b[0m\u001b[1;33m\u001b[0m\u001b[0m\n\u001b[0;32m    750\u001b[0m         \u001b[0mkfilter\u001b[0m\u001b[1;33m(\u001b[0m\u001b[1;33m)\u001b[0m\u001b[1;33m\u001b[0m\u001b[1;33m\u001b[0m\u001b[0m\n\u001b[1;32m--> 751\u001b[1;33m         \u001b[0mtmp\u001b[0m \u001b[1;33m=\u001b[0m \u001b[0mnp\u001b[0m\u001b[1;33m.\u001b[0m\u001b[0marray\u001b[0m\u001b[1;33m(\u001b[0m\u001b[0mkfilter\u001b[0m\u001b[1;33m.\u001b[0m\u001b[0mloglikelihood\u001b[0m\u001b[1;33m)\u001b[0m\u001b[1;33m\u001b[0m\u001b[1;33m\u001b[0m\u001b[0m\n\u001b[0m\u001b[0;32m    752\u001b[0m         \u001b[0mtmp2\u001b[0m \u001b[1;33m=\u001b[0m \u001b[0mnp\u001b[0m\u001b[1;33m.\u001b[0m\u001b[0marray\u001b[0m\u001b[1;33m(\u001b[0m\u001b[0mkfilter\u001b[0m\u001b[1;33m.\u001b[0m\u001b[0mpredicted_state\u001b[0m\u001b[1;33m)\u001b[0m\u001b[1;33m\u001b[0m\u001b[1;33m\u001b[0m\u001b[0m\n\u001b[0;32m    753\u001b[0m \u001b[1;33m\u001b[0m\u001b[0m\n",
      "\u001b[1;31mKeyboardInterrupt\u001b[0m: "
     ]
    }
   ],
   "source": [
    "# exogenous_var(rd, sub_exogen, best_comb)"
   ]
  },
  {
   "cell_type": "code",
   "execution_count": 21,
   "metadata": {},
   "outputs": [],
   "source": [
    "# if you need to pause the code from running and then start back up from where you left off you can use the\n",
    "# following code to get a sub_dictionary that will be only a portion of the large dictionary (exogen) that I am\n",
    "# using\n",
    "\n",
    "# I had to do this because my computer started running really slow so I had to restart it in order to let the \n",
    "# memory reset and so it could start running at normal speed again.\n",
    "\n",
    "# use exogen.keys() to list all of the keys then find the location where you left off from the printout above\n",
    "# and then copy and paste the rest of the keys into the \"todokeys\" tuple below. Then call sub_exogen in place\n",
    "# of exogen in the \"exogenous_var\" function above. \n",
    "\n",
    "\n",
    "# todokeys = ('Henderson 2 NNW, NC', 'JACKSON SPRINGS 5 WNW, NC', 'Laurinburg, NC', 'Louisburg, NC', 'Roanoke Rapids, NC', 'Rougemont, NC', 'Murfreesboro, NC', 'Lumberton Area, NC', 'ELIZABETHTOWN, NC', 'LONGWOOD, NC', 'WHITEVILLE 7 NW, NC', ' WILLIAM O HUSKE L&D, NC', 'Asheville Area, NC', 'Charlotte Area, NC', 'Mount Mitchell Area, NC', 'ASHEVILLE AIRPORT, NC', 'BANNER ELK, NC', 'BEECH MOUNTAIN, NC', 'BRYSON CITY 4, NC', 'BLACK MOUNTAIN 2 W, NC', 'BREVARD, NC', 'BRIDGEWATER HYDRO, NC', 'CASAR, NC', 'CATAWBA 3 NNW, NC', 'CONCORD, NC', 'COWEETA EXP STATION, NC', 'CULLOWHEE, NC', 'FOREST CITY 8 W, NC', 'FRANKLIN, NC', 'GASTONIA, NC', 'GRANDFATHER MTN, NC', ' HENDERSONVILLE 1 NE, NC', 'Hickory FAA Airport, NC', ' HIGHLANDS, NC', 'HOT SPRINGS, NC', 'LAKE LURE 2, NC', 'LAKE TOXAWAY 2 SW, NC', 'LENOIR, NC', 'LINCOLNTON 4 W, NC', 'MARION, NC', 'MARSHALL, NC', 'MONROE 2 SE, NC', 'MORGANTON, NC')\n",
    "# sub_exogen = {k: exogen[k] for k in todokeys}"
   ]
  }
 ],
 "metadata": {
  "kernelspec": {
   "display_name": "Python 3",
   "language": "python",
   "name": "python3"
  },
  "language_info": {
   "codemirror_mode": {
    "name": "ipython",
    "version": 3
   },
   "file_extension": ".py",
   "mimetype": "text/x-python",
   "name": "python",
   "nbconvert_exporter": "python",
   "pygments_lexer": "ipython3",
   "version": "3.7.3"
  },
  "varInspector": {
   "cols": {
    "lenName": 16,
    "lenType": 16,
    "lenVar": 40
   },
   "kernels_config": {
    "python": {
     "delete_cmd_postfix": "",
     "delete_cmd_prefix": "del ",
     "library": "var_list.py",
     "varRefreshCmd": "print(var_dic_list())"
    },
    "r": {
     "delete_cmd_postfix": ") ",
     "delete_cmd_prefix": "rm(",
     "library": "var_list.r",
     "varRefreshCmd": "cat(var_dic_list()) "
    }
   },
   "types_to_exclude": [
    "module",
    "function",
    "builtin_function_or_method",
    "instance",
    "_Feature"
   ],
   "window_display": false
  }
 },
 "nbformat": 4,
 "nbformat_minor": 2
}
