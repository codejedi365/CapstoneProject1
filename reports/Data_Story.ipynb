{
 "cells": [
  {
   "cell_type": "markdown",
   "metadata": {},
   "source": [
    "# Exploratory Data Analysis"
   ]
  },
  {
   "cell_type": "markdown",
   "metadata": {
    "ExecuteTime": {
     "end_time": "2019-08-24T16:24:15.164410Z",
     "start_time": "2019-08-24T16:24:15.117536Z"
    }
   },
   "source": [
    "In this section of the notebook, I will be exploring the data and answering the following questions:\n",
    "\n",
    "   1. Is there something intereseting to count?\n",
    "   2. Are there any trends (e.g. high, low, increasing, decreasing, anomalies)?\n",
    "   3. Are there any valuable comparisons between two related quantities?\n",
    "  \n",
    "I used histograms, bar plots, scatterplots, and time-series plots to answer the following questions:\n",
    "\n",
    "   4. Are there any insights from the data?\n",
    "   5. Are there any correlations? \n",
    "   6. What is a hypothesis that can be taken further?\n",
    "   7. What other questions arise from these insights and correlations?\n",
    "   \n",
    "After answering these questions, I provide a link to a presentation that uses text and plots to tell the compelling story of my data."
   ]
  },
  {
   "cell_type": "code",
   "execution_count": 2,
   "metadata": {
    "ExecuteTime": {
     "end_time": "2019-08-24T16:38:17.740505Z",
     "start_time": "2019-08-24T16:36:39.403435Z"
    }
   },
   "outputs": [
    {
     "ename": "ModuleNotFoundError",
     "evalue": "No module named 'visualization'",
     "output_type": "error",
     "traceback": [
      "\u001b[1;31m---------------------------------------------------------------------------\u001b[0m",
      "\u001b[1;31mModuleNotFoundError\u001b[0m                       Traceback (most recent call last)",
      "\u001b[1;32m<ipython-input-2-aefd5f9ec874>\u001b[0m in \u001b[0;36m<module>\u001b[1;34m\u001b[0m\n\u001b[0;32m      5\u001b[0m \u001b[1;32mimport\u001b[0m \u001b[0mcsv\u001b[0m\u001b[1;33m\u001b[0m\u001b[1;33m\u001b[0m\u001b[0m\n\u001b[0;32m      6\u001b[0m \u001b[1;32mimport\u001b[0m \u001b[0mstatsmodels\u001b[0m\u001b[1;33m.\u001b[0m\u001b[0mapi\u001b[0m \u001b[1;32mas\u001b[0m \u001b[0msm\u001b[0m\u001b[1;33m\u001b[0m\u001b[1;33m\u001b[0m\u001b[0m\n\u001b[1;32m----> 7\u001b[1;33m \u001b[1;32mimport\u001b[0m \u001b[0mvisualization\u001b[0m \u001b[1;32mas\u001b[0m \u001b[0mvz\u001b[0m\u001b[1;33m\u001b[0m\u001b[1;33m\u001b[0m\u001b[0m\n\u001b[0m\u001b[0;32m      8\u001b[0m \u001b[1;32mimport\u001b[0m \u001b[0mwarnings\u001b[0m\u001b[1;33m\u001b[0m\u001b[1;33m\u001b[0m\u001b[0m\n\u001b[0;32m      9\u001b[0m \u001b[1;32mfrom\u001b[0m \u001b[0msklearn\u001b[0m\u001b[1;33m.\u001b[0m\u001b[0mmodel_selection\u001b[0m \u001b[1;32mimport\u001b[0m \u001b[0mtrain_test_split\u001b[0m\u001b[1;33m\u001b[0m\u001b[1;33m\u001b[0m\u001b[0m\n",
      "\u001b[1;31mModuleNotFoundError\u001b[0m: No module named 'visualization'"
     ]
    }
   ],
   "source": [
    "import pandas as pd\n",
    "import numpy as np\n",
    "import matplotlib.pyplot as plt\n",
    "import seaborn as sns\n",
    "import csv\n",
    "import statsmodels.api as sm\n",
    "import visualization as vz\n",
    "import warnings\n",
    "from sklearn.model_selection import train_test_split\n",
    "from textwrap import wrap\n",
    "from itertools import combinations\n",
    "from scipy import stats\n",
    "from datetime import datetime\n",
    "from statsmodels.tsa.seasonal import seasonal_decompose\n",
    "from statsmodels.graphics.tsaplots import plot_acf\n",
    "from sklearn.metrics import mean_absolute_error\n",
    "from pandas.plotting import register_matplotlib_converters\n",
    "register_matplotlib_converters()\n",
    "\n",
    "file = '../data/manipulated_data/rainfalldata.csv'\n",
    "rd = pd.read_csv(file)\n",
    "file2 = '../data/manipulated_data/ncrainfalldata.csv'\n",
    "ncrd = pd.read_csv(file2)\n",
    "rd.Date = pd.to_datetime(rd.Date)\n",
    "rd = rd.set_index('Date')\n",
    "ncrd.Date = pd.to_datetime(ncrd.Date)\n",
    "ncrd = ncrd.set_index('Date')"
   ]
  },
  {
   "cell_type": "code",
   "execution_count": null,
   "metadata": {
    "ExecuteTime": {
     "end_time": "2019-08-24T16:38:17.751498Z",
     "start_time": "2019-08-24T16:37:54.422Z"
    }
   },
   "outputs": [],
   "source": [
    "rd.head()"
   ]
  },
  {
   "cell_type": "code",
   "execution_count": null,
   "metadata": {
    "ExecuteTime": {
     "end_time": "2019-08-24T16:38:17.759495Z",
     "start_time": "2019-08-24T16:38:01.065Z"
    }
   },
   "outputs": [],
   "source": [
    "ncrd.head()"
   ]
  },
  {
   "cell_type": "code",
   "execution_count": null,
   "metadata": {},
   "outputs": [],
   "source": [
    "monthavg = []\n",
    "monthsem = []\n",
    "monthstd = []\n",
    "for i in range(1,13):\n",
    "    monthavg.append(np.mean(rd['Raleigh, NC'][rd.index.month == i]))\n",
    "    monthsem.append(stats.sem(rd['Raleigh, NC'][rd.index.month == i]))\n",
    "    monthstd.append(np.std(rd['Raleigh, NC'][rd.index.month == i]))\n",
    "print(monthstd)\n",
    "    \n",
    "fig, ax = plt.subplots()\n",
    "ax.bar(rd.index.month.unique(), monthavg, yerr = monthsem, alpha=0.5, ecolor='black', capsize=10)\n",
    "ax.set_title('Average Monthly Rainfall in Raleigh, NC from 1956 to 2019')\n",
    "ax.set_xlabel('Month')\n",
    "ax.set_ylabel('Rainfall (in)')\n",
    "plt.tight_layout()\n",
    "plt.savefig('raleighmonthly.jpg')\n",
    "plt.show()"
   ]
  },
  {
   "cell_type": "code",
   "execution_count": null,
   "metadata": {},
   "outputs": [],
   "source": [
    "rdyearavg = rd.resample('Y').mean()\n",
    "rdyearavg.head()"
   ]
  },
  {
   "cell_type": "code",
   "execution_count": null,
   "metadata": {},
   "outputs": [],
   "source": [
    "def yearlyavgfigs(df, loc, **keyword_parameters):\n",
    "    plt.figure(figsize = (400/96, 400/96),dpi=96)\n",
    "    if len(loc) == 1:\n",
    "        if ('color' in keyword_parameters):\n",
    "            plt.plot(df.index.year, df[loc[0]], keyword_parameters['color'])\n",
    "        else:\n",
    "            plt.plot(df.index.year, df[loc[0]])\n",
    "        plt.title('Average Yearly Rainfall in ' + loc[0] + ' from 1980 to 2019')\n",
    "    else:\n",
    "        plt.plot(df.index.year, df[loc[0]])\n",
    "        plt.plot(df.index.year, df[loc[1]])\n",
    "        plt.title(\"\\n\".join(wrap('Average Yearly Rainfall in ' + loc[0] + '-' + loc[1] + ' from 1980 to 2019', 60)))\n",
    "    plt.xlabel('Year')\n",
    "    plt.ylabel('Rainfall (in)')\n",
    "    plt.show()\n",
    "yearlyavgfigs(rdyearavg, ['Raleigh, NC'])\n",
    "yearlyavgfigs(rdyearavg, ['Greensboro AP, NC'], color='orange')\n",
    "yearlyavgfigs(rdyearavg, ['Raleigh, NC', 'Greensboro AP, NC'])"
   ]
  },
  {
   "cell_type": "markdown",
   "metadata": {},
   "source": [
    "# Seasonal Decomposition"
   ]
  },
  {
   "cell_type": "code",
   "execution_count": 3,
   "metadata": {
    "ExecuteTime": {
     "end_time": "2019-08-24T17:21:33.569832Z",
     "start_time": "2019-08-24T17:21:33.445903Z"
    }
   },
   "outputs": [],
   "source": [
    "plt.rcParams[\"figure.figsize\"] = (50,50)\n",
    "plt.rcParams[\"font.size\"] = 32.0"
   ]
  },
  {
   "cell_type": "code",
   "execution_count": null,
   "metadata": {},
   "outputs": [],
   "source": []
  }
 ],
 "metadata": {
  "kernelspec": {
   "display_name": "Python 3",
   "language": "python",
   "name": "python3"
  },
  "language_info": {
   "codemirror_mode": {
    "name": "ipython",
    "version": 3
   },
   "file_extension": ".py",
   "mimetype": "text/x-python",
   "name": "python",
   "nbconvert_exporter": "python",
   "pygments_lexer": "ipython3",
   "version": "3.7.3"
  },
  "varInspector": {
   "cols": {
    "lenName": 16,
    "lenType": 16,
    "lenVar": 40
   },
   "kernels_config": {
    "python": {
     "delete_cmd_postfix": "",
     "delete_cmd_prefix": "del ",
     "library": "var_list.py",
     "varRefreshCmd": "print(var_dic_list())"
    },
    "r": {
     "delete_cmd_postfix": ") ",
     "delete_cmd_prefix": "rm(",
     "library": "var_list.r",
     "varRefreshCmd": "cat(var_dic_list()) "
    }
   },
   "types_to_exclude": [
    "module",
    "function",
    "builtin_function_or_method",
    "instance",
    "_Feature"
   ],
   "window_display": false
  }
 },
 "nbformat": 4,
 "nbformat_minor": 2
}
