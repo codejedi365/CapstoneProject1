{
 "cells": [
  {
   "cell_type": "code",
   "execution_count": 1,
   "metadata": {
    "ExecuteTime": {
     "end_time": "2019-07-31T20:23:48.612231Z",
     "start_time": "2019-07-31T20:23:48.455983Z"
    }
   },
   "outputs": [],
   "source": [
    "import os\n",
    "import getpass\n",
    "import pandas as pd\n",
    "import numpy as np\n",
    "import csv\n",
    "import statsmodels.api as sm\n",
    "import warnings\n",
    "import multiprocessing\n",
    "from tqdm import tqdm_notebook as tqdm\n",
    "from sklearn.model_selection import train_test_split\n",
    "from itertools import combinations\n",
    "from scipy import stats\n",
    "from datetime import datetime\n",
    "from sklearn.metrics import mean_absolute_error\n",
    "\n",
    "try: \n",
    "    __file__\n",
    "except:\n",
    "    curr_dir = os.path.abspath('')\n",
    "else:\n",
    "    curr_dir = os.path.dirname(os.path.abspath(__file__))\n",
    "    \n",
    "app_root = curr_dir if os.path.basename(curr_dir) != \"src\" else os.path.dirname(curr_dir)\n",
    "\n",
    "if getpass.getuser() == \"rainfalld\":  # docker daemon\n",
    "    home = os.path.expanduser(\"~\")\n",
    "    destdir = home                    # /var/cache/rainfall-predictor\n",
    "else:\n",
    "    destdir = os.path.join(app_root,'data')      # non-docker stay in repository\n",
    "\n",
    "\n",
    "file = os.path.join(app_root,'data','rainfalldata.csv')\n",
    "rd = pd.read_csv(file)\n",
    "file2 = os.path.join(app_root,'data','ncrainfalldata.csv')\n",
    "ncrd = pd.read_csv(file2)\n",
    "rd.Date = pd.to_datetime(rd.Date)\n",
    "rd = rd.set_index('Date')"
   ]
  },
  {
   "cell_type": "code",
   "execution_count": 2,
   "metadata": {
    "ExecuteTime": {
     "end_time": "2019-07-31T20:23:49.518691Z",
     "start_time": "2019-07-31T20:23:49.503066Z"
    }
   },
   "outputs": [],
   "source": [
    "import json\n",
    "# this cell takes the stored exogen dictionary that is stored in the Data_Wrangling_CAP1 jupyter notebook\n",
    "# that was imported above.\n",
    "try:\n",
    "    %store -r exogen\n",
    "except NameError:\n",
    "    f = open(os.path.join(destdir,\"exogen.json\"),\"r\")\n",
    "    exogen = json.load(f)      # read from file, passed from Data_Wrangling\n",
    "    f.close()\n"
   ]
  },
  {
   "cell_type": "code",
   "execution_count": 3,
   "metadata": {
    "ExecuteTime": {
     "end_time": "2019-07-31T20:23:50.675146Z",
     "start_time": "2019-07-31T20:23:50.643924Z"
    },
    "scrolled": false
   },
   "outputs": [
    {
     "data": {
      "text/plain": [
       "dict_keys(['Arcola, NC', 'Henderson 2 NNW, NC', 'Laurinburg, NC', 'Roanoke Rapids, NC', 'Murfreesboro, NC', 'Lumberton Area, NC', 'LONGWOOD, NC', 'WHITEVILLE 7 NW, NC', 'Charlotte Area, NC', 'Mount Mitchell Area, NC', 'ASHEVILLE AIRPORT, NC', 'BANNER ELK, NC', 'BEECH MOUNTAIN, NC', 'BRYSON CITY 4, NC', 'BREVARD, NC', 'CASAR, NC', 'COWEETA EXP STATION, NC', 'CULLOWHEE, NC', 'FOREST CITY 8 W, NC', 'FRANKLIN, NC', 'GASTONIA, NC', 'GRANDFATHER MTN, NC', ' HENDERSONVILLE 1 NE, NC', ' HIGHLANDS, NC', 'HOT SPRINGS, NC', 'LAKE LURE 2, NC', 'LAKE TOXAWAY 2 SW, NC', 'MARSHALL, NC', 'MONROE 2 SE, NC', ' MOUNT HOLLY 4 NE, NC', ' OCONALUFTEE, NC', 'PISGAH FOREST 3 NE, NC', 'ROBBINSVILLE AG 5 NE, NC', 'ROSMAN, NC', 'SHELBY 2 NW, NC', 'TAPOCO, NC', 'TRYON, NC', 'WAYNESVILLE 1 E, NC', 'Boone 1 SE, NC', 'DANBURY, NC', 'EDEN, NC', ' MOUNT AIRY 2 W, NC', 'REIDSVILLE 2 NW, NC', 'HAYESVILLE 1 NE, NC', 'MURPHY 4ESE, NC', ' KING, NC'])"
      ]
     },
     "execution_count": 3,
     "metadata": {},
     "output_type": "execute_result"
    }
   ],
   "source": [
    "exogen.keys()"
   ]
  },
  {
   "cell_type": "code",
   "execution_count": 4,
   "metadata": {
    "ExecuteTime": {
     "end_time": "2019-07-31T20:23:55.560328Z",
     "start_time": "2019-07-31T20:23:55.529076Z"
    }
   },
   "outputs": [],
   "source": [
    "def sarima_model_creation(data, p, d, q, P, D, Q, m, exog=None):\n",
    "    my_order = [p,d,q]\n",
    "    my_sorder = [P,D,Q,m]\n",
    "    sarimamod = sm.tsa.statespace.SARIMAX(data, exog, order=my_order, seasonal_order=my_sorder, \n",
    "                                          enforce_stationarity=False, enforce_invertibility=False,\n",
    "                                          initialization='approximate_diffuse')\n",
    "    model_fit = sarimamod.fit()# start_params=[0, 0, 0, 0, 1])\n",
    "    return(model_fit)"
   ]
  },
  {
   "cell_type": "code",
   "execution_count": 5,
   "metadata": {
    "ExecuteTime": {
     "end_time": "2019-07-31T20:23:53.339117Z",
     "start_time": "2019-07-31T20:23:53.292292Z"
    }
   },
   "outputs": [],
   "source": [
    "# Function : make forecast based on provided data\n",
    "#\n",
    "# @param train_data --- what I already believe is true.  Dec 2007 and before 80%\n",
    "# @param test_data -- what I want to prove Jan 2008 and up 20%\n",
    "# @param exotrain -- external data not included but could help predictions Dec 2007 and before\n",
    "# @param exotest -- external data I want to prove\n",
    "# @return -- list of all predictions for the location\n",
    "def model_creation_pred_one_step(train_data, test_data, exotrain=None, exotest=None):\n",
    "    list_one_step = []\n",
    "\n",
    "    nextMonth = model_based_forecast(train_data, test_data, exotrain, exotest)\n",
    "    list_one_step.append(nextMonth[0])             # captures prediction\n",
    "\n",
    "    # if test data exists\n",
    "    if len(test_data) >= 1:\n",
    "        # increment data for next month's iteration\n",
    "        train_data = pd.concat([train_data, test_data[[0]]])\n",
    "        test_data = test_data.drop(test_data.index[0], axis = 0)\n",
    "        if exotrain is not None:\n",
    "            exotrain = pd.concat([exotrain, exotest[[0]]])\n",
    "            exotest = exotest.drop(exotest.index[0], axis = 0)\n",
    "\n",
    "        # execute & capture future predictions\n",
    "        futurePredictions = model_creation_pred_one_step(train_data, test_data, exotrain, exotest)\n",
    "        # add to list\n",
    "        list_one_step.append(futurePredictions)\n",
    "        \n",
    "    return(list_one_step)\n",
    "\n",
    "# Function : Make forecast from model\n",
    "# @return -- a forecast of next month's rain amount\n",
    "def model_based_forecast(train_data, test_data, exotrain=None, exotest=None):\n",
    "    mod = sarima_model_creation(train_data, 4, 0, 3, 3, 0, 4, 12, exotrain)\n",
    "    # if exists, passing exotrain's prevMonth (december, for forecasting jan), otherwise only forcast based on model\n",
    "    nextMonth = mod.forecast() if exotrain is None else mod.forecast( exotrain.iloc[[-1]] )       # turnary assignment expression\n",
    "    return(nextMonth)\n",
    "\n",
    "# previously billsFn\n",
    "def maeFinder(train_data, test_data, exotrain=None, exotest=None):\n",
    "    clone_train_data = train_data.copy()\n",
    "    clone_test_data = test_data.copy()\n",
    "    clone_exotrain = exotrain if exotrain is None else exotrain.copy()\n",
    "    clone_exotest = exotest if exotest is None else exotest.copy()\n",
    "\n",
    "    predictions = model_creation_pred_one_step(clone_train_data, clone_test_data, clone_exotrain, clone_exotest)\n",
    "    mae = mean_absolute_error(test_data, predictions)\n",
    "    return(mae)\n",
    "\n"
   ]
  },
  {
   "cell_type": "code",
   "execution_count": 6,
   "metadata": {
    "ExecuteTime": {
     "end_time": "2019-07-31T20:23:59.034914Z",
     "start_time": "2019-07-31T20:23:59.003666Z"
    }
   },
   "outputs": [
    {
     "data": {
      "text/plain": [
       "dict_keys(['Arcola, NC', 'Henderson 2 NNW, NC', 'Laurinburg, NC', 'Roanoke Rapids, NC', 'Murfreesboro, NC', 'Lumberton Area, NC', 'LONGWOOD, NC', 'WHITEVILLE 7 NW, NC', 'Charlotte Area, NC', 'Mount Mitchell Area, NC', 'ASHEVILLE AIRPORT, NC', 'BANNER ELK, NC', 'BEECH MOUNTAIN, NC', 'BRYSON CITY 4, NC', 'BREVARD, NC', 'CASAR, NC', 'COWEETA EXP STATION, NC', 'CULLOWHEE, NC', 'FOREST CITY 8 W, NC', 'FRANKLIN, NC', 'GASTONIA, NC', 'GRANDFATHER MTN, NC', ' HENDERSONVILLE 1 NE, NC', ' HIGHLANDS, NC', 'HOT SPRINGS, NC', 'LAKE LURE 2, NC', 'LAKE TOXAWAY 2 SW, NC', 'MARSHALL, NC', 'MONROE 2 SE, NC', ' MOUNT HOLLY 4 NE, NC', ' OCONALUFTEE, NC', 'PISGAH FOREST 3 NE, NC', 'ROBBINSVILLE AG 5 NE, NC', 'ROSMAN, NC', 'SHELBY 2 NW, NC', 'TAPOCO, NC', 'TRYON, NC', 'WAYNESVILLE 1 E, NC', 'Boone 1 SE, NC', 'DANBURY, NC', 'EDEN, NC', ' MOUNT AIRY 2 W, NC', 'REIDSVILLE 2 NW, NC', 'HAYESVILLE 1 NE, NC', 'MURPHY 4ESE, NC', ' KING, NC'])"
      ]
     },
     "execution_count": 6,
     "metadata": {},
     "output_type": "execute_result"
    }
   ],
   "source": [
    "def exog_combinations(df, exoe):\n",
    "    lo_dfs = []\n",
    "    if len(exoe) == 1:\n",
    "        lo_dfs.append(df.loc[:,exoe])\n",
    "    if len(exoe) > 1:\n",
    "        lo_dfs.append(df.loc[:,exoe])\n",
    "        for ex in exoe:\n",
    "            lo_dfs.append(df.loc[:,[ex]])\n",
    "        if len(exoe) >2:\n",
    "            for i in range(2, len(exoe)):\n",
    "                combolist = list(combinations(exoe,i))\n",
    "                for c in combolist:\n",
    "                    lo_dfs.append(df.loc[:,c])\n",
    "    return(lo_dfs)\n",
    "\n",
    "exogen.keys()"
   ]
  },
  {
   "cell_type": "code",
   "execution_count": 7,
   "metadata": {},
   "outputs": [],
   "source": [
    "# Defining set of cities to evaluate\n",
    "if getpass.getuser() == \"rainfalld\":       # docker daemon, automatically do all exogen\n",
    "    todokeys = exogen.keys()\n",
    "else:    # manual setting of dictionary elements to do\n",
    "    todokeys = ('Roanoke Rapids, NC', 'Murfreesboro, NC', 'Lumberton Area, NC', 'LONGWOOD, NC', 'WHITEVILLE 7 NW, NC', 'Charlotte Area, NC', 'Mount Mitchell Area, NC', 'ASHEVILLE AIRPORT, NC', 'BANNER ELK, NC', 'BEECH MOUNTAIN, NC', 'BRYSON CITY 4, NC', 'BREVARD, NC', 'CASAR, NC', 'COWEETA EXP STATION, NC', 'CULLOWHEE, NC', 'FOREST CITY 8 W, NC', 'FRANKLIN, NC', 'GASTONIA, NC', 'GRANDFATHER MTN, NC', ' HENDERSONVILLE 1 NE, NC', ' HIGHLANDS, NC', 'HOT SPRINGS, NC', 'LAKE LURE 2, NC', 'LAKE TOXAWAY 2 SW, NC', 'MARSHALL, NC', 'MONROE 2 SE, NC', ' MOUNT HOLLY 4 NE, NC', ' OCONALUFTEE, NC', 'PISGAH FOREST 3 NE, NC', 'ROBBINSVILLE AG 5 NE, NC', 'ROSMAN, NC', 'SHELBY 2 NW, NC', 'TAPOCO, NC', 'TRYON, NC', 'WAYNESVILLE 1 E, NC', 'Boone 1 SE, NC', 'DANBURY, NC', 'EDEN, NC', ' MOUNT AIRY 2 W, NC', 'REIDSVILLE 2 NW, NC', 'HAYESVILLE 1 NE, NC', 'MURPHY 4ESE, NC', ' KING, NC')\n",
    "\n",
    "sub_exogen = {k: exogen[k] for k in todokeys}"
   ]
  },
  {
   "cell_type": "code",
   "execution_count": 8,
   "metadata": {
    "ExecuteTime": {
     "end_time": "2019-07-31T20:24:01.912170Z",
     "start_time": "2019-07-31T20:24:01.380989Z"
    }
   },
   "outputs": [
    {
     "data": {
      "application/vnd.jupyter.widget-view+json": {
       "model_id": "847ff50303c9447287f210333f1c4714",
       "version_major": 2,
       "version_minor": 0
      },
      "text/plain": [
       "HBox(children=(IntProgress(value=0, max=43), HTML(value='')))"
      ]
     },
     "metadata": {},
     "output_type": "display_data"
    },
    {
     "name": "stdout",
     "output_type": "stream",
     "text": [
      "\n"
     ]
    },
    {
     "data": {
      "text/plain": [
       "[             LORIS 2 S, SC  Myrtle Beach Area, SC\n",
       " Date                                             \n",
       " 1980-01-01        4.220000                 4.4375\n",
       " 1980-02-01        2.100000                 2.0825\n",
       " 1980-03-01        8.240000                 7.9225\n",
       " 1980-04-01        1.400000                 1.7625\n",
       " 1980-05-01        4.520000                 3.9300\n",
       " 1980-06-01        4.670000                 3.4900\n",
       " 1980-07-01        1.960000                 4.3800\n",
       " 1980-08-01        2.270000                 2.2325\n",
       " 1980-09-01        4.370000                 4.5650\n",
       " 1980-10-01        1.550000                 1.9775\n",
       " 1980-11-01        1.650000                 1.7225\n",
       " 1980-12-01        3.120000                 3.2300\n",
       " 1981-01-01        0.950000                 0.9850\n",
       " 1981-02-01        2.650000                 2.5425\n",
       " 1981-03-01        3.700000                 3.6425\n",
       " 1981-04-01        0.780000                 1.1600\n",
       " 1981-05-01        4.710000                 5.5375\n",
       " 1981-06-01        3.940000                 5.9275\n",
       " 1981-07-01       13.320000                11.1125\n",
       " 1981-08-01       14.790000                12.6375\n",
       " 1981-09-01        1.540000                 1.1500\n",
       " 1981-10-01        2.630000                 2.1950\n",
       " 1981-11-01        0.720000                 0.7800\n",
       " 1981-12-01        5.260000                 5.6850\n",
       " 1982-01-01        4.970000                 5.7500\n",
       " 1982-02-01        5.920000                 5.8750\n",
       " 1982-03-01        1.260000                 1.1325\n",
       " 1982-04-01        6.400000                 5.4500\n",
       " 1982-05-01        1.330000                 1.6000\n",
       " 1982-06-01        7.530000                 7.2675\n",
       " ...                    ...                    ...\n",
       " 2016-11-01        2.538925                 0.1800\n",
       " 2016-12-01        2.622960                 2.6600\n",
       " 2017-01-01        2.685491                 2.0300\n",
       " 2017-02-01        2.713847                 1.5000\n",
       " 2017-03-01        2.705818                 1.9400\n",
       " 2017-04-01        2.666979                 3.4400\n",
       " 2017-05-01        2.605635                 4.3000\n",
       " 2017-06-01        2.533310                 3.7000\n",
       " 2017-07-01        2.465741                 2.2200\n",
       " 2017-08-01        2.419999                16.4800\n",
       " 2017-09-01        2.407458                 4.2700\n",
       " 2017-10-01        2.431304                 4.2700\n",
       " 2017-11-01        2.485114                 1.5200\n",
       " 2017-12-01        2.554037                 3.4300\n",
       " 2018-01-01        2.619764                 4.2200\n",
       " 2018-02-01        2.666805                 1.4900\n",
       " 2018-03-01        2.686311                 2.0000\n",
       " 2018-04-01        2.676645                 5.0700\n",
       " 2018-05-01        2.641140                 5.6400\n",
       " 2018-06-01        2.587225                 5.1900\n",
       " 2018-07-01        2.526483                11.0700\n",
       " 2018-08-01        2.473241                 3.0800\n",
       " 2018-09-01        2.440350                13.1200\n",
       " 2018-10-01        2.435827                 3.8300\n",
       " 2018-11-01        2.460470                 6.3700\n",
       " 2018-12-01        2.507254                 7.4200\n",
       " 2019-01-01        2.563509                 1.7400\n",
       " 2019-02-01        2.615157                 1.2600\n",
       " 2019-03-01        2.779055                 2.2600\n",
       " 2019-04-01        4.686629                 4.8800\n",
       " \n",
       " [472 rows x 2 columns],              LORIS 2 S, SC\n",
       " Date                      \n",
       " 1980-01-01        4.220000\n",
       " 1980-02-01        2.100000\n",
       " 1980-03-01        8.240000\n",
       " 1980-04-01        1.400000\n",
       " 1980-05-01        4.520000\n",
       " 1980-06-01        4.670000\n",
       " 1980-07-01        1.960000\n",
       " 1980-08-01        2.270000\n",
       " 1980-09-01        4.370000\n",
       " 1980-10-01        1.550000\n",
       " 1980-11-01        1.650000\n",
       " 1980-12-01        3.120000\n",
       " 1981-01-01        0.950000\n",
       " 1981-02-01        2.650000\n",
       " 1981-03-01        3.700000\n",
       " 1981-04-01        0.780000\n",
       " 1981-05-01        4.710000\n",
       " 1981-06-01        3.940000\n",
       " 1981-07-01       13.320000\n",
       " 1981-08-01       14.790000\n",
       " 1981-09-01        1.540000\n",
       " 1981-10-01        2.630000\n",
       " 1981-11-01        0.720000\n",
       " 1981-12-01        5.260000\n",
       " 1982-01-01        4.970000\n",
       " 1982-02-01        5.920000\n",
       " 1982-03-01        1.260000\n",
       " 1982-04-01        6.400000\n",
       " 1982-05-01        1.330000\n",
       " 1982-06-01        7.530000\n",
       " ...                    ...\n",
       " 2016-11-01        2.538925\n",
       " 2016-12-01        2.622960\n",
       " 2017-01-01        2.685491\n",
       " 2017-02-01        2.713847\n",
       " 2017-03-01        2.705818\n",
       " 2017-04-01        2.666979\n",
       " 2017-05-01        2.605635\n",
       " 2017-06-01        2.533310\n",
       " 2017-07-01        2.465741\n",
       " 2017-08-01        2.419999\n",
       " 2017-09-01        2.407458\n",
       " 2017-10-01        2.431304\n",
       " 2017-11-01        2.485114\n",
       " 2017-12-01        2.554037\n",
       " 2018-01-01        2.619764\n",
       " 2018-02-01        2.666805\n",
       " 2018-03-01        2.686311\n",
       " 2018-04-01        2.676645\n",
       " 2018-05-01        2.641140\n",
       " 2018-06-01        2.587225\n",
       " 2018-07-01        2.526483\n",
       " 2018-08-01        2.473241\n",
       " 2018-09-01        2.440350\n",
       " 2018-10-01        2.435827\n",
       " 2018-11-01        2.460470\n",
       " 2018-12-01        2.507254\n",
       " 2019-01-01        2.563509\n",
       " 2019-02-01        2.615157\n",
       " 2019-03-01        2.779055\n",
       " 2019-04-01        4.686629\n",
       " \n",
       " [472 rows x 1 columns],             Myrtle Beach Area, SC\n",
       " Date                             \n",
       " 1980-01-01                 4.4375\n",
       " 1980-02-01                 2.0825\n",
       " 1980-03-01                 7.9225\n",
       " 1980-04-01                 1.7625\n",
       " 1980-05-01                 3.9300\n",
       " 1980-06-01                 3.4900\n",
       " 1980-07-01                 4.3800\n",
       " 1980-08-01                 2.2325\n",
       " 1980-09-01                 4.5650\n",
       " 1980-10-01                 1.9775\n",
       " 1980-11-01                 1.7225\n",
       " 1980-12-01                 3.2300\n",
       " 1981-01-01                 0.9850\n",
       " 1981-02-01                 2.5425\n",
       " 1981-03-01                 3.6425\n",
       " 1981-04-01                 1.1600\n",
       " 1981-05-01                 5.5375\n",
       " 1981-06-01                 5.9275\n",
       " 1981-07-01                11.1125\n",
       " 1981-08-01                12.6375\n",
       " 1981-09-01                 1.1500\n",
       " 1981-10-01                 2.1950\n",
       " 1981-11-01                 0.7800\n",
       " 1981-12-01                 5.6850\n",
       " 1982-01-01                 5.7500\n",
       " 1982-02-01                 5.8750\n",
       " 1982-03-01                 1.1325\n",
       " 1982-04-01                 5.4500\n",
       " 1982-05-01                 1.6000\n",
       " 1982-06-01                 7.2675\n",
       " ...                           ...\n",
       " 2016-11-01                 0.1800\n",
       " 2016-12-01                 2.6600\n",
       " 2017-01-01                 2.0300\n",
       " 2017-02-01                 1.5000\n",
       " 2017-03-01                 1.9400\n",
       " 2017-04-01                 3.4400\n",
       " 2017-05-01                 4.3000\n",
       " 2017-06-01                 3.7000\n",
       " 2017-07-01                 2.2200\n",
       " 2017-08-01                16.4800\n",
       " 2017-09-01                 4.2700\n",
       " 2017-10-01                 4.2700\n",
       " 2017-11-01                 1.5200\n",
       " 2017-12-01                 3.4300\n",
       " 2018-01-01                 4.2200\n",
       " 2018-02-01                 1.4900\n",
       " 2018-03-01                 2.0000\n",
       " 2018-04-01                 5.0700\n",
       " 2018-05-01                 5.6400\n",
       " 2018-06-01                 5.1900\n",
       " 2018-07-01                11.0700\n",
       " 2018-08-01                 3.0800\n",
       " 2018-09-01                13.1200\n",
       " 2018-10-01                 3.8300\n",
       " 2018-11-01                 6.3700\n",
       " 2018-12-01                 7.4200\n",
       " 2019-01-01                 1.7400\n",
       " 2019-02-01                 1.2600\n",
       " 2019-03-01                 2.2600\n",
       " 2019-04-01                 4.8800\n",
       " \n",
       " [472 rows x 1 columns]]"
      ]
     },
     "execution_count": 8,
     "metadata": {},
     "output_type": "execute_result"
    }
   ],
   "source": [
    "from collections import defaultdict\n",
    "l_o_dfs = defaultdict(list)\n",
    "for key,value in tqdm(sub_exogen.items()):\n",
    "    lo_dfs2 = exog_combinations(rd, value)\n",
    "    l_o_dfs[key] = lo_dfs2\n",
    "l_o_dfs['LONGWOOD, NC']"
   ]
  },
  {
   "cell_type": "code",
   "execution_count": 9,
   "metadata": {
    "ExecuteTime": {
     "end_time": "2019-07-31T20:24:07.727065Z",
     "start_time": "2019-07-31T20:24:07.695861Z"
    }
   },
   "outputs": [],
   "source": [
    "def exogenous_var(data, ncloc, l_exoloc):\n",
    "#     for key, value in tqdm(exo_dict.items()):\n",
    "    dat = data[ncloc]\n",
    "#         l_exog = exog_combinations(data, value)\n",
    "    tr, test = train_test_split(dat, test_size=0.2, shuffle=False)\n",
    "    keymae = maeFinder(tr, test)\n",
    "    print('keymae of: '+ key +' = '+str(keymae))\n",
    "    bettermae = {}\n",
    "    bettermaeLock = multiprocessing.Lock()\n",
    "    \n",
    "    def find_exmae(exog, l):\n",
    "        extr, extest = train_test_split(exog, test_size=0.2, shuffle=False)\n",
    "        exmae = maeFinder(tr, test, extr, extest)\n",
    "        co = tuple(exog.columns)\n",
    "        if exmae < keymae:\n",
    "            l.acquire()\n",
    "            try:\n",
    "                bettermae[co] = exmae\n",
    "                bettermae2 = {key: bettermae}\n",
    "            finally:\n",
    "                l.release()\n",
    "        \n",
    "        return { \"co\": co, \"exmae\": exmae }\n",
    "    \n",
    "    def on_success(result):\n",
    "        tqdm(l_exoloc); # update counter of completion\n",
    "        print('exmae = {}'.format(result[\"co\"]) + ' '+ str(result[\"exmae\"]))\n",
    "    \n",
    "    def on_error():\n",
    "        # do something\n",
    "        pass\n",
    "    \n",
    "    process_limit = multiprocessing.cpu_count()\n",
    "    pool = multiprocessing.Semaphore(process_limit)\n",
    "    tqdm(l_exoloc); # initialize counter\n",
    "    # num_exmaes = len(list(l_exoloc.keys()))\n",
    "    for exog in l_exoloc:\n",
    "        pool.apply_async(find_exmae, (exog, bettermaeLock), None, on_success, on_error)\n",
    "    \n",
    "    pool.close()      # no more tasks can be added for the pool to accomplish\n",
    "    pool.join()       # tell parent to wait until all tasks are accomplished by the process pool\n",
    "\n",
    "    return()\n",
    "\n",
    "    # for exog in tqdm(l_exoloc):\n",
    "    #     extr, extest = train_test_split(exog, 0.2, False)\n",
    "    #     exmae = maeFinder(tr, test, extr, extest)\n",
    "    #     co = tuple(exog.columns)\n",
    "    #     print('exmae = {}'.format(co) + ' '+ str(exmae))\n",
    "    #     if exmae < keymae:\n",
    "    #         bettermae[co] = exmae\n",
    "    #         bettermae2 = {key: bettermae}\n",
    "    # return(co)\n"
   ]
  },
  {
   "cell_type": "code",
   "execution_count": null,
   "metadata": {
    "ExecuteTime": {
     "start_time": "2019-07-31T20:25:52.191Z"
    }
   },
   "outputs": [
    {
     "data": {
      "application/vnd.jupyter.widget-view+json": {
       "model_id": "3df0f86a6a0043e3966e5ea26d06bfa5",
       "version_major": 2,
       "version_minor": 0
      },
      "text/plain": [
       "HBox(children=(IntProgress(value=0, max=43), HTML(value='')))"
      ]
     },
     "metadata": {},
     "output_type": "display_data"
    }
   ],
   "source": [
    "# best_comb = [[4,3,3,4]]\n",
    "warnings.filterwarnings(\"ignore\")\n",
    "for key,value in tqdm(l_o_dfs.items()):\n",
    "    exogenous_var(rd, key, value)"
   ]
  },
  {
   "cell_type": "code",
   "execution_count": null,
   "metadata": {
    "scrolled": true
   },
   "outputs": [],
   "source": [
    "# exogenous_var(rd, sub_exogen, best_comb)"
   ]
  },
  {
   "cell_type": "code",
   "execution_count": null,
   "metadata": {},
   "outputs": [],
   "source": [
    "# if you need to pause the code from running and then start back up from where you left off you can use the\n",
    "# following code to get a sub_dictionary that will be only a portion of the large dictionary (exogen) that I am\n",
    "# using\n",
    "\n",
    "# I had to do this because my computer started running really slow so I had to restart it in order to let the \n",
    "# memory reset and so it could start running at normal speed again.\n",
    "\n",
    "# use exogen.keys() to list all of the keys then find the location where you left off from the printout above\n",
    "# and then copy and paste the rest of the keys into the \"todokeys\" tuple below. Then call sub_exogen in place\n",
    "# of exogen in the \"exogenous_var\" function above. \n",
    "\n",
    "\n",
    "# todokeys = ('Henderson 2 NNW, NC', 'JACKSON SPRINGS 5 WNW, NC', 'Laurinburg, NC', 'Louisburg, NC', 'Roanoke Rapids, NC', 'Rougemont, NC', 'Murfreesboro, NC', 'Lumberton Area, NC', 'ELIZABETHTOWN, NC', 'LONGWOOD, NC', 'WHITEVILLE 7 NW, NC', ' WILLIAM O HUSKE L&D, NC', 'Asheville Area, NC', 'Charlotte Area, NC', 'Mount Mitchell Area, NC', 'ASHEVILLE AIRPORT, NC', 'BANNER ELK, NC', 'BEECH MOUNTAIN, NC', 'BRYSON CITY 4, NC', 'BLACK MOUNTAIN 2 W, NC', 'BREVARD, NC', 'BRIDGEWATER HYDRO, NC', 'CASAR, NC', 'CATAWBA 3 NNW, NC', 'CONCORD, NC', 'COWEETA EXP STATION, NC', 'CULLOWHEE, NC', 'FOREST CITY 8 W, NC', 'FRANKLIN, NC', 'GASTONIA, NC', 'GRANDFATHER MTN, NC', ' HENDERSONVILLE 1 NE, NC', 'Hickory FAA Airport, NC', ' HIGHLANDS, NC', 'HOT SPRINGS, NC', 'LAKE LURE 2, NC', 'LAKE TOXAWAY 2 SW, NC', 'LENOIR, NC', 'LINCOLNTON 4 W, NC', 'MARION, NC', 'MARSHALL, NC', 'MONROE 2 SE, NC', 'MORGANTON, NC')\n",
    "# sub_exogen = {k: exogen[k] for k in todokeys}"
   ]
  },
  {
   "cell_type": "code",
   "execution_count": null,
   "metadata": {},
   "outputs": [],
   "source": []
  }
 ],
 "metadata": {
  "kernelspec": {
   "display_name": "Python 3",
   "language": "python",
   "name": "python3"
  },
  "language_info": {
   "codemirror_mode": {
    "name": "ipython",
    "version": 3
   },
   "file_extension": ".py",
   "mimetype": "text/x-python",
   "name": "python",
   "nbconvert_exporter": "python",
   "pygments_lexer": "ipython3",
   "version": "3.7.3"
  },
  "varInspector": {
   "cols": {
    "lenName": 16,
    "lenType": 16,
    "lenVar": 40
   },
   "kernels_config": {
    "python": {
     "delete_cmd_postfix": "",
     "delete_cmd_prefix": "del ",
     "library": "var_list.py",
     "varRefreshCmd": "print(var_dic_list())"
    },
    "r": {
     "delete_cmd_postfix": ") ",
     "delete_cmd_prefix": "rm(",
     "library": "var_list.r",
     "varRefreshCmd": "cat(var_dic_list()) "
    }
   },
   "types_to_exclude": [
    "module",
    "function",
    "builtin_function_or_method",
    "instance",
    "_Feature"
   ],
   "window_display": false
  }
 },
 "nbformat": 4,
 "nbformat_minor": 2
}
