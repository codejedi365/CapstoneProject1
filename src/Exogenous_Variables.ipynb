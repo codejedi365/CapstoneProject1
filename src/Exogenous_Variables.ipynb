{
 "cells": [
  {
   "cell_type": "code",
   "execution_count": 1,
   "metadata": {
    "ExecuteTime": {
     "end_time": "2019-09-01T15:51:04.069356Z",
     "start_time": "2019-09-01T15:49:22.228823Z"
    }
   },
   "outputs": [],
   "source": [
    "import pandas as pd\n",
    "import numpy as np\n",
    "import csv\n",
    "import statsmodels.api as sm\n",
    "import warnings\n",
    "from tqdm import tqdm_notebook as tqdm\n",
    "from sklearn.model_selection import train_test_split\n",
    "from itertools import combinations\n",
    "from scipy import stats\n",
    "from datetime import datetime\n",
    "from sklearn.metrics import mean_absolute_error\n",
    "from datetime import datetime\n",
    "from dateutil.relativedelta import relativedelta\n",
    "warnings.filterwarnings(\"ignore\")\n",
    "\n",
    "file = '../data/manipulated_data/rainfalldata.csv'\n",
    "rd = pd.read_csv(file)\n",
    "file2 = '../data/manipulated_data/ncrainfalldata.csv'\n",
    "ncrd = pd.read_csv(file2)\n",
    "rd.Date = pd.to_datetime(rd.Date)\n",
    "rd = rd.set_index('Date')\n",
    "ncrd.Date = pd.to_datetime(ncrd.Date)\n",
    "ncrd = ncrd.set_index('Date')"
   ]
  },
  {
   "cell_type": "code",
   "execution_count": 8,
   "metadata": {
    "ExecuteTime": {
     "end_time": "2019-08-20T10:30:04.299825Z",
     "start_time": "2019-08-20T10:30:04.206119Z"
    }
   },
   "outputs": [],
   "source": [
    "# this cell takes the stored exogen dictionary that is stored in the Data_Wrangling_CAP1 jupyter notebook\n",
    "# that was imported above.\n",
    "%store -r exogen\n"
   ]
  },
  {
   "cell_type": "code",
   "execution_count": 2,
   "metadata": {
    "ExecuteTime": {
     "end_time": "2019-09-01T15:51:04.428724Z",
     "start_time": "2019-09-01T15:51:04.413112Z"
    }
   },
   "outputs": [],
   "source": [
    "def sarima_model_creation(data, p, d, q, P, D, Q, m, exog=None):\n",
    "    my_order = [p,d,q]\n",
    "    my_sorder = [P,D,Q,m]\n",
    "    sarimamod = sm.tsa.statespace.SARIMAX(data, exog, order=my_order, seasonal_order=my_sorder, \n",
    "                                          enforce_stationarity=False, enforce_invertibility=False,\n",
    "                                          initialization='approximate_diffuse')\n",
    "    model_fit = sarimamod.fit()# start_params=[0, 0, 0, 0, 1])\n",
    "    return(model_fit)"
   ]
  },
  {
   "cell_type": "code",
   "execution_count": 6,
   "metadata": {
    "ExecuteTime": {
     "end_time": "2019-09-01T13:02:33.081089Z",
     "start_time": "2019-09-01T13:02:33.034217Z"
    }
   },
   "outputs": [],
   "source": [
    "def hyperparameter_find(training_data, comb, testing_data, search = False, exogtr = None, exogtest = None):\n",
    "    leastmae = 1000\n",
    "    for com in tqdm(comb):\n",
    "        li_one_step = []\n",
    "        for i in tqdm(range(len(testing_data))):\n",
    "            if i == 0:\n",
    "                copytraining = training_data.copy()\n",
    "                if exogtr is not None:\n",
    "                    excopy = exogtr.copy()\n",
    "                    mod_1 = sarima_model_creation(copytraining, com[0], 0, com[1], com[2], 0, \n",
    "                                                  com[3], 12, exog=excopy)\n",
    "                    one_step_pred = mod_1.forecast(exog=excopy.iloc[[-1]]) #uses the data from the year before\n",
    "                    excopy = pd.concat([excopy, exogtest.iloc[[i]]])\n",
    "                else:\n",
    "                    mod_1 = sarima_model_creation(copytraining, com[0], 0, com[1], com[2], 0, com[3], 12)\n",
    "                    one_step_pred = mod_1.forecast()\n",
    "                li_one_step.append(one_step_pred[0])\n",
    "                copytraining = pd.concat([copytraining, testing_data[[i]]])\n",
    "            else:\n",
    "                if exogtr is not None:\n",
    "                    mod_1 = sarima_model_creation(copytraining, com[0], 0, com[1], com[2], 0, \n",
    "                                                  com[3], 12, exog=excopy)\n",
    "                    one_step_pred2 = mod_1.forecast(exog=excopy.iloc[[-1]])\n",
    "                    excopy = pd.concat([excopy, exogtest.iloc[[i]]])\n",
    "                else:\n",
    "                    mod_1 = sarima_model_creation(copytraining, com[0], 0, com[1], com[2], 0, com[3], 12)\n",
    "                    one_step_pred2 = mod_1.forecast()\n",
    "                li_one_step.append(one_step_pred2[0])\n",
    "                copytraining = pd.concat([copytraining, testing_data[[i]]])\n",
    "        mae = mean_absolute_error(testing_data, li_one_step)\n",
    "        if search is True:\n",
    "            if mae < leastmae:\n",
    "                leastmae = mae\n",
    "                H_AR = com[0]\n",
    "                H_MA = com[1]\n",
    "                H_SAR = com[2]\n",
    "                H_SMA = com[3]\n",
    "            print(com,mae)            \n",
    "    if search is True:\n",
    "        return('AR: '+ str(H_AR), 'MA: ' +str(H_MA), 'SAR: '+str(H_SAR), 'SMA: '+str(H_SMA))\n",
    "    else:\n",
    "        return(mae)"
   ]
  },
  {
   "cell_type": "code",
   "execution_count": 6,
   "metadata": {
    "ExecuteTime": {
     "end_time": "2019-07-31T20:23:59.034914Z",
     "start_time": "2019-07-31T20:23:59.003666Z"
    }
   },
   "outputs": [],
   "source": [
    "def exog_combinations(df, exoe):\n",
    "    lo_dfs = []\n",
    "    if len(exoe) == 1:\n",
    "        lo_dfs.append(df.loc[:,exoe])\n",
    "    if len(exoe) > 1:\n",
    "        lo_dfs.append(df.loc[:,exoe])\n",
    "        for ex in exoe:\n",
    "            lo_dfs.append(df.loc[:,[ex]])\n",
    "        if len(exoe) >2:\n",
    "            for i in range(2, len(exoe)):\n",
    "                combolist = list(combinations(exoe,i))\n",
    "                for c in combolist:\n",
    "                    lo_dfs.append(df.loc[:,c])\n",
    "    return(lo_dfs)\n"
   ]
  },
  {
   "cell_type": "code",
   "execution_count": 7,
   "metadata": {},
   "outputs": [],
   "source": [
    "todokeys = ('TAPOCO, NC', 'TRYON, NC', 'WAYNESVILLE 1 E, NC', 'Boone 1 SE, NC', 'DANBURY, NC', 'EDEN, NC', ' MOUNT AIRY 2 W, NC', 'REIDSVILLE 2 NW, NC', 'HAYESVILLE 1 NE, NC', 'MURPHY 4ESE, NC', ' KING, NC')\n",
    "sub_exogen = {k: exogen[k] for k in todokeys}"
   ]
  },
  {
   "cell_type": "code",
   "execution_count": 8,
   "metadata": {
    "ExecuteTime": {
     "end_time": "2019-07-31T20:24:01.912170Z",
     "start_time": "2019-07-31T20:24:01.380989Z"
    }
   },
   "outputs": [
    {
     "data": {
      "application/vnd.jupyter.widget-view+json": {
       "model_id": "6184a883e0f0447abbd74d3dca8d8f56",
       "version_major": 2,
       "version_minor": 0
      },
      "text/plain": [
       "HBox(children=(IntProgress(value=0, max=11), HTML(value='')))"
      ]
     },
     "metadata": {},
     "output_type": "display_data"
    },
    {
     "name": "stdout",
     "output_type": "stream",
     "text": [
      "\n"
     ]
    }
   ],
   "source": [
    "from collections import defaultdict\n",
    "l_o_dfs = defaultdict(list)\n",
    "for key,value in tqdm(sub_exogen.items()):\n",
    "    lo_dfs2 = exog_combinations(rd, value)\n",
    "    l_o_dfs[key] = lo_dfs2\n",
    "# l_o_dfs['ROBBINSVILLE AG 5 NE, NC']"
   ]
  },
  {
   "cell_type": "code",
   "execution_count": 9,
   "metadata": {
    "ExecuteTime": {
     "end_time": "2019-07-31T20:24:07.727065Z",
     "start_time": "2019-07-31T20:24:07.695861Z"
    }
   },
   "outputs": [],
   "source": [
    "def exogenous_var(data, ncloc, l_exoloc, best_comb):\n",
    "    dat = data[ncloc]\n",
    "    tr, test = train_test_split(dat, test_size = 0.2, shuffle=False)\n",
    "    keymae = hyperparameter_find(tr, best_comb, test)\n",
    "    print('keymae of: '+ key +' = '+str(keymae))\n",
    "    bettermae = {}\n",
    "    for exog in tqdm(l_exoloc):\n",
    "        extr, extest = train_test_split(exog, test_size = 0.2, shuffle=False)\n",
    "        exmae = hyperparameter_find(tr, best_comb, test, exogtr=extr, exogtest = extest)\n",
    "        co = tuple(exog.columns)\n",
    "        print('exmae = {}'.format(co) + ' '+ str(exmae))\n",
    "        if exmae < keymae:\n",
    "            bettermae[co] = exmae\n",
    "            bettermae2 = {key: bettermae}\n",
    "    return(co)"
   ]
  },
  {
   "cell_type": "code",
   "execution_count": 10,
   "metadata": {
    "ExecuteTime": {
     "start_time": "2019-07-31T20:25:52.191Z"
    }
   },
   "outputs": [
    {
     "data": {
      "application/vnd.jupyter.widget-view+json": {
       "model_id": "76dd734e786c4598a9f02ac777521bf4",
       "version_major": 2,
       "version_minor": 0
      },
      "text/plain": [
       "HBox(children=(IntProgress(value=0, max=11), HTML(value='')))"
      ]
     },
     "metadata": {},
     "output_type": "display_data"
    },
    {
     "data": {
      "application/vnd.jupyter.widget-view+json": {
       "model_id": "0bd8711a79e74db291cb87824ebe5752",
       "version_major": 2,
       "version_minor": 0
      },
      "text/plain": [
       "HBox(children=(IntProgress(value=0, max=1), HTML(value='')))"
      ]
     },
     "metadata": {},
     "output_type": "display_data"
    },
    {
     "data": {
      "application/vnd.jupyter.widget-view+json": {
       "model_id": "c30ce86a957b4d76b3b7b3a58005ba97",
       "version_major": 2,
       "version_minor": 0
      },
      "text/plain": [
       "HBox(children=(IntProgress(value=0, max=95), HTML(value='')))"
      ]
     },
     "metadata": {},
     "output_type": "display_data"
    },
    {
     "name": "stdout",
     "output_type": "stream",
     "text": [
      "keymae of: TAPOCO, NC = 0.9800673566131274\n"
     ]
    },
    {
     "data": {
      "application/vnd.jupyter.widget-view+json": {
       "model_id": "3e6270e0080b40049eacfb36bbc688ae",
       "version_major": 2,
       "version_minor": 0
      },
      "text/plain": [
       "HBox(children=(IntProgress(value=0, max=7), HTML(value='')))"
      ]
     },
     "metadata": {},
     "output_type": "display_data"
    },
    {
     "data": {
      "application/vnd.jupyter.widget-view+json": {
       "model_id": "6e64e35c8cd349fb934a9b09f1e7b942",
       "version_major": 2,
       "version_minor": 0
      },
      "text/plain": [
       "HBox(children=(IntProgress(value=0, max=1), HTML(value='')))"
      ]
     },
     "metadata": {},
     "output_type": "display_data"
    },
    {
     "data": {
      "application/vnd.jupyter.widget-view+json": {
       "model_id": "884f89eaf64c49489fc4a18b0e31fbd4",
       "version_major": 2,
       "version_minor": 0
      },
      "text/plain": [
       "HBox(children=(IntProgress(value=0, max=95), HTML(value='')))"
      ]
     },
     "metadata": {},
     "output_type": "display_data"
    },
    {
     "name": "stdout",
     "output_type": "stream",
     "text": [
      "exmae = ('GATLINBURG 2 SW, TN', 'NEWFOUND GAP, TN', ' TOWNSEND 5S, TN') 1.5764560295913925\n"
     ]
    },
    {
     "data": {
      "application/vnd.jupyter.widget-view+json": {
       "model_id": "1f4c02412e1746ad87bbb8462ee9f442",
       "version_major": 2,
       "version_minor": 0
      },
      "text/plain": [
       "HBox(children=(IntProgress(value=0, max=1), HTML(value='')))"
      ]
     },
     "metadata": {},
     "output_type": "display_data"
    },
    {
     "data": {
      "application/vnd.jupyter.widget-view+json": {
       "model_id": "28df643a4a80446396db552711ef01c6",
       "version_major": 2,
       "version_minor": 0
      },
      "text/plain": [
       "HBox(children=(IntProgress(value=0, max=95), HTML(value='')))"
      ]
     },
     "metadata": {},
     "output_type": "display_data"
    },
    {
     "name": "stdout",
     "output_type": "stream",
     "text": [
      "exmae = ('GATLINBURG 2 SW, TN',) 1.4972163335360191\n"
     ]
    },
    {
     "data": {
      "application/vnd.jupyter.widget-view+json": {
       "model_id": "d6a56d79f5b54c428be886d01f4609db",
       "version_major": 2,
       "version_minor": 0
      },
      "text/plain": [
       "HBox(children=(IntProgress(value=0, max=1), HTML(value='')))"
      ]
     },
     "metadata": {},
     "output_type": "display_data"
    },
    {
     "data": {
      "application/vnd.jupyter.widget-view+json": {
       "model_id": "ae41bd3401784b78b3fcaf8aa8957817",
       "version_major": 2,
       "version_minor": 0
      },
      "text/plain": [
       "HBox(children=(IntProgress(value=0, max=95), HTML(value='')))"
      ]
     },
     "metadata": {},
     "output_type": "display_data"
    },
    {
     "name": "stdout",
     "output_type": "stream",
     "text": [
      "exmae = ('NEWFOUND GAP, TN',) 1.5501456737516661\n"
     ]
    },
    {
     "data": {
      "application/vnd.jupyter.widget-view+json": {
       "model_id": "b408327e967a4157b3522e5f41494a71",
       "version_major": 2,
       "version_minor": 0
      },
      "text/plain": [
       "HBox(children=(IntProgress(value=0, max=1), HTML(value='')))"
      ]
     },
     "metadata": {},
     "output_type": "display_data"
    },
    {
     "data": {
      "application/vnd.jupyter.widget-view+json": {
       "model_id": "598ebd61bb4c4e8ba483fa5ef2696d7c",
       "version_major": 2,
       "version_minor": 0
      },
      "text/plain": [
       "HBox(children=(IntProgress(value=0, max=95), HTML(value='')))"
      ]
     },
     "metadata": {},
     "output_type": "display_data"
    },
    {
     "name": "stdout",
     "output_type": "stream",
     "text": [
      "exmae = (' TOWNSEND 5S, TN',) 2.1402191932997416\n"
     ]
    },
    {
     "data": {
      "application/vnd.jupyter.widget-view+json": {
       "model_id": "899d2b692bb144e6ad3de8b182a8c682",
       "version_major": 2,
       "version_minor": 0
      },
      "text/plain": [
       "HBox(children=(IntProgress(value=0, max=1), HTML(value='')))"
      ]
     },
     "metadata": {},
     "output_type": "display_data"
    },
    {
     "data": {
      "application/vnd.jupyter.widget-view+json": {
       "model_id": "c5c7601737474d5885734734fd63c3e1",
       "version_major": 2,
       "version_minor": 0
      },
      "text/plain": [
       "HBox(children=(IntProgress(value=0, max=95), HTML(value='')))"
      ]
     },
     "metadata": {},
     "output_type": "display_data"
    },
    {
     "name": "stdout",
     "output_type": "stream",
     "text": [
      "exmae = ('GATLINBURG 2 SW, TN', 'NEWFOUND GAP, TN') 1.5489398080891763\n"
     ]
    },
    {
     "data": {
      "application/vnd.jupyter.widget-view+json": {
       "model_id": "897c439a18b843cb9c47eb25ef4d821b",
       "version_major": 2,
       "version_minor": 0
      },
      "text/plain": [
       "HBox(children=(IntProgress(value=0, max=1), HTML(value='')))"
      ]
     },
     "metadata": {},
     "output_type": "display_data"
    },
    {
     "data": {
      "application/vnd.jupyter.widget-view+json": {
       "model_id": "410828714c90450f91520d2916d4682a",
       "version_major": 2,
       "version_minor": 0
      },
      "text/plain": [
       "HBox(children=(IntProgress(value=0, max=95), HTML(value='')))"
      ]
     },
     "metadata": {},
     "output_type": "display_data"
    },
    {
     "name": "stdout",
     "output_type": "stream",
     "text": [
      "exmae = ('GATLINBURG 2 SW, TN', ' TOWNSEND 5S, TN') 1.616671690504988\n"
     ]
    },
    {
     "data": {
      "application/vnd.jupyter.widget-view+json": {
       "model_id": "3fdb285a51c84fc6a6b27e408af81931",
       "version_major": 2,
       "version_minor": 0
      },
      "text/plain": [
       "HBox(children=(IntProgress(value=0, max=1), HTML(value='')))"
      ]
     },
     "metadata": {},
     "output_type": "display_data"
    },
    {
     "data": {
      "application/vnd.jupyter.widget-view+json": {
       "model_id": "3e1956cb66694e2e9423470155d269c7",
       "version_major": 2,
       "version_minor": 0
      },
      "text/plain": [
       "HBox(children=(IntProgress(value=0, max=95), HTML(value='')))"
      ]
     },
     "metadata": {},
     "output_type": "display_data"
    },
    {
     "name": "stdout",
     "output_type": "stream",
     "text": [
      "exmae = ('NEWFOUND GAP, TN', ' TOWNSEND 5S, TN') 2.436971933451168\n"
     ]
    },
    {
     "data": {
      "application/vnd.jupyter.widget-view+json": {
       "model_id": "8a1eb2d5f842444ab01ca8717be669eb",
       "version_major": 2,
       "version_minor": 0
      },
      "text/plain": [
       "HBox(children=(IntProgress(value=0, max=1), HTML(value='')))"
      ]
     },
     "metadata": {},
     "output_type": "display_data"
    },
    {
     "data": {
      "application/vnd.jupyter.widget-view+json": {
       "model_id": "eae5ffb696704e5092abb5bda8b17e86",
       "version_major": 2,
       "version_minor": 0
      },
      "text/plain": [
       "HBox(children=(IntProgress(value=0, max=95), HTML(value='')))"
      ]
     },
     "metadata": {},
     "output_type": "display_data"
    },
    {
     "name": "stdout",
     "output_type": "stream",
     "text": [
      "keymae of: TRYON, NC = 2.6823507498407078\n"
     ]
    },
    {
     "data": {
      "application/vnd.jupyter.widget-view+json": {
       "model_id": "f26464157f194ec693603d43a55edde8",
       "version_major": 2,
       "version_minor": 0
      },
      "text/plain": [
       "HBox(children=(IntProgress(value=0, max=31), HTML(value='')))"
      ]
     },
     "metadata": {},
     "output_type": "display_data"
    },
    {
     "data": {
      "application/vnd.jupyter.widget-view+json": {
       "model_id": "02c01a5b203b43d78aed51a4b0c03cff",
       "version_major": 2,
       "version_minor": 0
      },
      "text/plain": [
       "HBox(children=(IntProgress(value=0, max=1), HTML(value='')))"
      ]
     },
     "metadata": {},
     "output_type": "display_data"
    },
    {
     "data": {
      "application/vnd.jupyter.widget-view+json": {
       "model_id": "43f836d173bd485c91b54136ff854d84",
       "version_major": 2,
       "version_minor": 0
      },
      "text/plain": [
       "HBox(children=(IntProgress(value=0, max=95), HTML(value='')))"
      ]
     },
     "metadata": {},
     "output_type": "display_data"
    },
    {
     "name": "stdout",
     "output_type": "stream",
     "text": [
      "exmae = ('Greenville-Spartanburg Area, SC', 'CAESARS HEAD, SC', 'CHESNEE 7 WSW, SC', 'CLEVELAND 3S, SC', 'SPARTANBURG 3 SSE, SC') 3.731134415701127\n"
     ]
    },
    {
     "data": {
      "application/vnd.jupyter.widget-view+json": {
       "model_id": "667b726488b140929409bb5fd313674a",
       "version_major": 2,
       "version_minor": 0
      },
      "text/plain": [
       "HBox(children=(IntProgress(value=0, max=1), HTML(value='')))"
      ]
     },
     "metadata": {},
     "output_type": "display_data"
    },
    {
     "data": {
      "application/vnd.jupyter.widget-view+json": {
       "model_id": "d5ef6496a1d5449b9bef339a1759ceba",
       "version_major": 2,
       "version_minor": 0
      },
      "text/plain": [
       "HBox(children=(IntProgress(value=0, max=95), HTML(value='')))"
      ]
     },
     "metadata": {},
     "output_type": "display_data"
    },
    {
     "name": "stdout",
     "output_type": "stream",
     "text": [
      "exmae = ('Greenville-Spartanburg Area, SC',) 2.986931810013167\n"
     ]
    },
    {
     "data": {
      "application/vnd.jupyter.widget-view+json": {
       "model_id": "18a69cff0bc14d0b98a7b8d08f324eb4",
       "version_major": 2,
       "version_minor": 0
      },
      "text/plain": [
       "HBox(children=(IntProgress(value=0, max=1), HTML(value='')))"
      ]
     },
     "metadata": {},
     "output_type": "display_data"
    },
    {
     "data": {
      "application/vnd.jupyter.widget-view+json": {
       "model_id": "a7d8a04db59c4fedac3f3074d26ece59",
       "version_major": 2,
       "version_minor": 0
      },
      "text/plain": [
       "HBox(children=(IntProgress(value=0, max=95), HTML(value='')))"
      ]
     },
     "metadata": {},
     "output_type": "display_data"
    },
    {
     "name": "stdout",
     "output_type": "stream",
     "text": [
      "exmae = ('CAESARS HEAD, SC',) 3.1072872524201767\n"
     ]
    },
    {
     "data": {
      "application/vnd.jupyter.widget-view+json": {
       "model_id": "de20ae3b52ec4d5e99389beadaa03835",
       "version_major": 2,
       "version_minor": 0
      },
      "text/plain": [
       "HBox(children=(IntProgress(value=0, max=1), HTML(value='')))"
      ]
     },
     "metadata": {},
     "output_type": "display_data"
    },
    {
     "data": {
      "application/vnd.jupyter.widget-view+json": {
       "model_id": "7da1a96af2574cbaba8e33666131229b",
       "version_major": 2,
       "version_minor": 0
      },
      "text/plain": [
       "HBox(children=(IntProgress(value=0, max=95), HTML(value='')))"
      ]
     },
     "metadata": {},
     "output_type": "display_data"
    },
    {
     "name": "stdout",
     "output_type": "stream",
     "text": [
      "exmae = ('CHESNEE 7 WSW, SC',) 2.815911182694172\n"
     ]
    },
    {
     "data": {
      "application/vnd.jupyter.widget-view+json": {
       "model_id": "209b2bb5155f4a438ca6215454d26fc8",
       "version_major": 2,
       "version_minor": 0
      },
      "text/plain": [
       "HBox(children=(IntProgress(value=0, max=1), HTML(value='')))"
      ]
     },
     "metadata": {},
     "output_type": "display_data"
    },
    {
     "data": {
      "application/vnd.jupyter.widget-view+json": {
       "model_id": "e43ce2dcb94247c99ed40590022aaf64",
       "version_major": 2,
       "version_minor": 0
      },
      "text/plain": [
       "HBox(children=(IntProgress(value=0, max=95), HTML(value='')))"
      ]
     },
     "metadata": {},
     "output_type": "display_data"
    },
    {
     "name": "stdout",
     "output_type": "stream",
     "text": [
      "exmae = ('CLEVELAND 3S, SC',) 3.077446176795452\n"
     ]
    },
    {
     "data": {
      "application/vnd.jupyter.widget-view+json": {
       "model_id": "f89be20137cc47f1bb0bfa23f053dbc4",
       "version_major": 2,
       "version_minor": 0
      },
      "text/plain": [
       "HBox(children=(IntProgress(value=0, max=1), HTML(value='')))"
      ]
     },
     "metadata": {},
     "output_type": "display_data"
    },
    {
     "data": {
      "application/vnd.jupyter.widget-view+json": {
       "model_id": "397d5302c60240878ad66cb3ffcd6706",
       "version_major": 2,
       "version_minor": 0
      },
      "text/plain": [
       "HBox(children=(IntProgress(value=0, max=95), HTML(value='')))"
      ]
     },
     "metadata": {},
     "output_type": "display_data"
    },
    {
     "name": "stdout",
     "output_type": "stream",
     "text": [
      "exmae = ('SPARTANBURG 3 SSE, SC',) 2.812649001967126\n"
     ]
    },
    {
     "data": {
      "application/vnd.jupyter.widget-view+json": {
       "model_id": "090720760cba4872bc29dc74e78d8e90",
       "version_major": 2,
       "version_minor": 0
      },
      "text/plain": [
       "HBox(children=(IntProgress(value=0, max=1), HTML(value='')))"
      ]
     },
     "metadata": {},
     "output_type": "display_data"
    },
    {
     "data": {
      "application/vnd.jupyter.widget-view+json": {
       "model_id": "327245610c094901ae0d02c3882b46ca",
       "version_major": 2,
       "version_minor": 0
      },
      "text/plain": [
       "HBox(children=(IntProgress(value=0, max=95), HTML(value='')))"
      ]
     },
     "metadata": {},
     "output_type": "display_data"
    },
    {
     "name": "stdout",
     "output_type": "stream",
     "text": [
      "exmae = ('Greenville-Spartanburg Area, SC', 'CAESARS HEAD, SC') 2.942549753368086\n"
     ]
    },
    {
     "data": {
      "application/vnd.jupyter.widget-view+json": {
       "model_id": "36b61ba55ae240908225a1ee3de8f498",
       "version_major": 2,
       "version_minor": 0
      },
      "text/plain": [
       "HBox(children=(IntProgress(value=0, max=1), HTML(value='')))"
      ]
     },
     "metadata": {},
     "output_type": "display_data"
    },
    {
     "data": {
      "application/vnd.jupyter.widget-view+json": {
       "model_id": "be84f296d72f4f729fc32cc85ce330ae",
       "version_major": 2,
       "version_minor": 0
      },
      "text/plain": [
       "HBox(children=(IntProgress(value=0, max=95), HTML(value='')))"
      ]
     },
     "metadata": {},
     "output_type": "display_data"
    },
    {
     "name": "stdout",
     "output_type": "stream",
     "text": [
      "exmae = ('Greenville-Spartanburg Area, SC', 'CHESNEE 7 WSW, SC') 2.8608751566191\n"
     ]
    },
    {
     "data": {
      "application/vnd.jupyter.widget-view+json": {
       "model_id": "e0cccd834b6943b0ad5c16e3a9d0b54b",
       "version_major": 2,
       "version_minor": 0
      },
      "text/plain": [
       "HBox(children=(IntProgress(value=0, max=1), HTML(value='')))"
      ]
     },
     "metadata": {},
     "output_type": "display_data"
    },
    {
     "data": {
      "application/vnd.jupyter.widget-view+json": {
       "model_id": "8f6836e1a51c4cadb27c3c928036d84b",
       "version_major": 2,
       "version_minor": 0
      },
      "text/plain": [
       "HBox(children=(IntProgress(value=0, max=95), HTML(value='')))"
      ]
     },
     "metadata": {},
     "output_type": "display_data"
    },
    {
     "name": "stdout",
     "output_type": "stream",
     "text": [
      "exmae = ('Greenville-Spartanburg Area, SC', 'CLEVELAND 3S, SC') 3.049632259088924\n"
     ]
    },
    {
     "data": {
      "application/vnd.jupyter.widget-view+json": {
       "model_id": "d47f286cb8554df0a710f70f4c8f038f",
       "version_major": 2,
       "version_minor": 0
      },
      "text/plain": [
       "HBox(children=(IntProgress(value=0, max=1), HTML(value='')))"
      ]
     },
     "metadata": {},
     "output_type": "display_data"
    },
    {
     "data": {
      "application/vnd.jupyter.widget-view+json": {
       "model_id": "af6f1eab605d409f8c8a26d3af068b1d",
       "version_major": 2,
       "version_minor": 0
      },
      "text/plain": [
       "HBox(children=(IntProgress(value=0, max=95), HTML(value='')))"
      ]
     },
     "metadata": {},
     "output_type": "display_data"
    },
    {
     "name": "stdout",
     "output_type": "stream",
     "text": [
      "exmae = ('Greenville-Spartanburg Area, SC', 'SPARTANBURG 3 SSE, SC') 2.9144776099202763\n"
     ]
    },
    {
     "data": {
      "application/vnd.jupyter.widget-view+json": {
       "model_id": "c505360aae764f059fb1261f3569800a",
       "version_major": 2,
       "version_minor": 0
      },
      "text/plain": [
       "HBox(children=(IntProgress(value=0, max=1), HTML(value='')))"
      ]
     },
     "metadata": {},
     "output_type": "display_data"
    },
    {
     "data": {
      "application/vnd.jupyter.widget-view+json": {
       "model_id": "2731093d86b84f1288ff60d79e7d9854",
       "version_major": 2,
       "version_minor": 0
      },
      "text/plain": [
       "HBox(children=(IntProgress(value=0, max=95), HTML(value='')))"
      ]
     },
     "metadata": {},
     "output_type": "display_data"
    },
    {
     "name": "stdout",
     "output_type": "stream",
     "text": [
      "exmae = ('CAESARS HEAD, SC', 'CHESNEE 7 WSW, SC') 2.9762863578022682\n"
     ]
    },
    {
     "data": {
      "application/vnd.jupyter.widget-view+json": {
       "model_id": "33f5cca073b047d88eb34d4fbc682273",
       "version_major": 2,
       "version_minor": 0
      },
      "text/plain": [
       "HBox(children=(IntProgress(value=0, max=1), HTML(value='')))"
      ]
     },
     "metadata": {},
     "output_type": "display_data"
    },
    {
     "data": {
      "application/vnd.jupyter.widget-view+json": {
       "model_id": "1d4e4349f4254655adf790c27e61ee71",
       "version_major": 2,
       "version_minor": 0
      },
      "text/plain": [
       "HBox(children=(IntProgress(value=0, max=95), HTML(value='')))"
      ]
     },
     "metadata": {},
     "output_type": "display_data"
    },
    {
     "name": "stdout",
     "output_type": "stream",
     "text": [
      "exmae = ('CAESARS HEAD, SC', 'CLEVELAND 3S, SC') 3.20189310778487\n"
     ]
    },
    {
     "data": {
      "application/vnd.jupyter.widget-view+json": {
       "model_id": "f55bd4da911640a28f2e3c1f7790211c",
       "version_major": 2,
       "version_minor": 0
      },
      "text/plain": [
       "HBox(children=(IntProgress(value=0, max=1), HTML(value='')))"
      ]
     },
     "metadata": {},
     "output_type": "display_data"
    },
    {
     "data": {
      "application/vnd.jupyter.widget-view+json": {
       "model_id": "a06e87d8df5c46b38584b08beca9713a",
       "version_major": 2,
       "version_minor": 0
      },
      "text/plain": [
       "HBox(children=(IntProgress(value=0, max=95), HTML(value='')))"
      ]
     },
     "metadata": {},
     "output_type": "display_data"
    },
    {
     "name": "stdout",
     "output_type": "stream",
     "text": [
      "exmae = ('CAESARS HEAD, SC', 'SPARTANBURG 3 SSE, SC') 3.096819228892839\n"
     ]
    },
    {
     "data": {
      "application/vnd.jupyter.widget-view+json": {
       "model_id": "a721f96c917a492cbe80754f98a5e7c2",
       "version_major": 2,
       "version_minor": 0
      },
      "text/plain": [
       "HBox(children=(IntProgress(value=0, max=1), HTML(value='')))"
      ]
     },
     "metadata": {},
     "output_type": "display_data"
    },
    {
     "data": {
      "application/vnd.jupyter.widget-view+json": {
       "model_id": "33c0832bc95b4424904b6107775f2931",
       "version_major": 2,
       "version_minor": 0
      },
      "text/plain": [
       "HBox(children=(IntProgress(value=0, max=95), HTML(value='')))"
      ]
     },
     "metadata": {},
     "output_type": "display_data"
    },
    {
     "name": "stdout",
     "output_type": "stream",
     "text": [
      "exmae = ('CHESNEE 7 WSW, SC', 'CLEVELAND 3S, SC') 2.9903458656920554\n"
     ]
    },
    {
     "data": {
      "application/vnd.jupyter.widget-view+json": {
       "model_id": "44b50da3c34143f7aeaf4dd30d780566",
       "version_major": 2,
       "version_minor": 0
      },
      "text/plain": [
       "HBox(children=(IntProgress(value=0, max=1), HTML(value='')))"
      ]
     },
     "metadata": {},
     "output_type": "display_data"
    },
    {
     "data": {
      "application/vnd.jupyter.widget-view+json": {
       "model_id": "d23efadd09a740609818fd89a158d911",
       "version_major": 2,
       "version_minor": 0
      },
      "text/plain": [
       "HBox(children=(IntProgress(value=0, max=95), HTML(value='')))"
      ]
     },
     "metadata": {},
     "output_type": "display_data"
    },
    {
     "name": "stdout",
     "output_type": "stream",
     "text": [
      "exmae = ('CHESNEE 7 WSW, SC', 'SPARTANBURG 3 SSE, SC') 2.890486851482266\n"
     ]
    },
    {
     "data": {
      "application/vnd.jupyter.widget-view+json": {
       "model_id": "2333823de14643cc889fb19d6115cb53",
       "version_major": 2,
       "version_minor": 0
      },
      "text/plain": [
       "HBox(children=(IntProgress(value=0, max=1), HTML(value='')))"
      ]
     },
     "metadata": {},
     "output_type": "display_data"
    },
    {
     "data": {
      "application/vnd.jupyter.widget-view+json": {
       "model_id": "4158414d3f094e9b9954dd8571e6c911",
       "version_major": 2,
       "version_minor": 0
      },
      "text/plain": [
       "HBox(children=(IntProgress(value=0, max=95), HTML(value='')))"
      ]
     },
     "metadata": {},
     "output_type": "display_data"
    },
    {
     "name": "stdout",
     "output_type": "stream",
     "text": [
      "exmae = ('CLEVELAND 3S, SC', 'SPARTANBURG 3 SSE, SC') 3.0436085745720485\n"
     ]
    },
    {
     "data": {
      "application/vnd.jupyter.widget-view+json": {
       "model_id": "14d73b39633047f9a7b3b0136ad9b634",
       "version_major": 2,
       "version_minor": 0
      },
      "text/plain": [
       "HBox(children=(IntProgress(value=0, max=1), HTML(value='')))"
      ]
     },
     "metadata": {},
     "output_type": "display_data"
    },
    {
     "data": {
      "application/vnd.jupyter.widget-view+json": {
       "model_id": "dadc780a13d44cebae365729d430e741",
       "version_major": 2,
       "version_minor": 0
      },
      "text/plain": [
       "HBox(children=(IntProgress(value=0, max=95), HTML(value='')))"
      ]
     },
     "metadata": {},
     "output_type": "display_data"
    },
    {
     "name": "stdout",
     "output_type": "stream",
     "text": [
      "exmae = ('Greenville-Spartanburg Area, SC', 'CAESARS HEAD, SC', 'CHESNEE 7 WSW, SC') 2.9033859279655085\n"
     ]
    },
    {
     "data": {
      "application/vnd.jupyter.widget-view+json": {
       "model_id": "e35bd3925560459ba967b0bd19ef0fa6",
       "version_major": 2,
       "version_minor": 0
      },
      "text/plain": [
       "HBox(children=(IntProgress(value=0, max=1), HTML(value='')))"
      ]
     },
     "metadata": {},
     "output_type": "display_data"
    },
    {
     "data": {
      "application/vnd.jupyter.widget-view+json": {
       "model_id": "5abddcddb3304f2d907c498c028480c9",
       "version_major": 2,
       "version_minor": 0
      },
      "text/plain": [
       "HBox(children=(IntProgress(value=0, max=95), HTML(value='')))"
      ]
     },
     "metadata": {},
     "output_type": "display_data"
    },
    {
     "name": "stdout",
     "output_type": "stream",
     "text": [
      "exmae = ('Greenville-Spartanburg Area, SC', 'CAESARS HEAD, SC', 'CLEVELAND 3S, SC') 3.154525441526979\n"
     ]
    },
    {
     "data": {
      "application/vnd.jupyter.widget-view+json": {
       "model_id": "dbb1ba77f4624fd8bbe9b61280d04cb8",
       "version_major": 2,
       "version_minor": 0
      },
      "text/plain": [
       "HBox(children=(IntProgress(value=0, max=1), HTML(value='')))"
      ]
     },
     "metadata": {},
     "output_type": "display_data"
    },
    {
     "data": {
      "application/vnd.jupyter.widget-view+json": {
       "model_id": "5e89a755c03f4fb997d6fbfd8435a046",
       "version_major": 2,
       "version_minor": 0
      },
      "text/plain": [
       "HBox(children=(IntProgress(value=0, max=95), HTML(value='')))"
      ]
     },
     "metadata": {},
     "output_type": "display_data"
    },
    {
     "name": "stdout",
     "output_type": "stream",
     "text": [
      "exmae = ('Greenville-Spartanburg Area, SC', 'CAESARS HEAD, SC', 'SPARTANBURG 3 SSE, SC') 2.9314747667962813\n"
     ]
    },
    {
     "data": {
      "application/vnd.jupyter.widget-view+json": {
       "model_id": "e23aee9253b94485b026aae5e949cdc9",
       "version_major": 2,
       "version_minor": 0
      },
      "text/plain": [
       "HBox(children=(IntProgress(value=0, max=1), HTML(value='')))"
      ]
     },
     "metadata": {},
     "output_type": "display_data"
    },
    {
     "data": {
      "application/vnd.jupyter.widget-view+json": {
       "model_id": "5112d06f9adf4b3ab818f4fc42c378a9",
       "version_major": 2,
       "version_minor": 0
      },
      "text/plain": [
       "HBox(children=(IntProgress(value=0, max=95), HTML(value='')))"
      ]
     },
     "metadata": {},
     "output_type": "display_data"
    },
    {
     "name": "stdout",
     "output_type": "stream",
     "text": [
      "exmae = ('Greenville-Spartanburg Area, SC', 'CHESNEE 7 WSW, SC', 'CLEVELAND 3S, SC') 2.9713486547381884\n"
     ]
    },
    {
     "data": {
      "application/vnd.jupyter.widget-view+json": {
       "model_id": "1c50b7f127554fde864d1b0ad581b059",
       "version_major": 2,
       "version_minor": 0
      },
      "text/plain": [
       "HBox(children=(IntProgress(value=0, max=1), HTML(value='')))"
      ]
     },
     "metadata": {},
     "output_type": "display_data"
    },
    {
     "data": {
      "application/vnd.jupyter.widget-view+json": {
       "model_id": "06930ef2b63949ed85faf6852951b0c1",
       "version_major": 2,
       "version_minor": 0
      },
      "text/plain": [
       "HBox(children=(IntProgress(value=0, max=95), HTML(value='')))"
      ]
     },
     "metadata": {},
     "output_type": "display_data"
    },
    {
     "name": "stdout",
     "output_type": "stream",
     "text": [
      "exmae = ('Greenville-Spartanburg Area, SC', 'CHESNEE 7 WSW, SC', 'SPARTANBURG 3 SSE, SC') 2.86854756656046\n"
     ]
    },
    {
     "data": {
      "application/vnd.jupyter.widget-view+json": {
       "model_id": "c77dfe5ee5fb495ab9493544756d96d7",
       "version_major": 2,
       "version_minor": 0
      },
      "text/plain": [
       "HBox(children=(IntProgress(value=0, max=1), HTML(value='')))"
      ]
     },
     "metadata": {},
     "output_type": "display_data"
    },
    {
     "data": {
      "application/vnd.jupyter.widget-view+json": {
       "model_id": "0f5b38249dec4bc38e4edbdde844aca1",
       "version_major": 2,
       "version_minor": 0
      },
      "text/plain": [
       "HBox(children=(IntProgress(value=0, max=95), HTML(value='')))"
      ]
     },
     "metadata": {},
     "output_type": "display_data"
    },
    {
     "name": "stdout",
     "output_type": "stream",
     "text": [
      "exmae = ('Greenville-Spartanburg Area, SC', 'CLEVELAND 3S, SC', 'SPARTANBURG 3 SSE, SC') 3.0161890393875477\n"
     ]
    },
    {
     "data": {
      "application/vnd.jupyter.widget-view+json": {
       "model_id": "78826c8917a04526ad171b3e3bced6b5",
       "version_major": 2,
       "version_minor": 0
      },
      "text/plain": [
       "HBox(children=(IntProgress(value=0, max=1), HTML(value='')))"
      ]
     },
     "metadata": {},
     "output_type": "display_data"
    },
    {
     "data": {
      "application/vnd.jupyter.widget-view+json": {
       "model_id": "22b9a1acfbd74a049a806999d642154c",
       "version_major": 2,
       "version_minor": 0
      },
      "text/plain": [
       "HBox(children=(IntProgress(value=0, max=95), HTML(value='')))"
      ]
     },
     "metadata": {},
     "output_type": "display_data"
    },
    {
     "name": "stdout",
     "output_type": "stream",
     "text": [
      "exmae = ('CAESARS HEAD, SC', 'CHESNEE 7 WSW, SC', 'CLEVELAND 3S, SC') 2.99567340879987\n"
     ]
    },
    {
     "data": {
      "application/vnd.jupyter.widget-view+json": {
       "model_id": "4da1357198c14d81aa4b424c4cfac0bb",
       "version_major": 2,
       "version_minor": 0
      },
      "text/plain": [
       "HBox(children=(IntProgress(value=0, max=1), HTML(value='')))"
      ]
     },
     "metadata": {},
     "output_type": "display_data"
    },
    {
     "data": {
      "application/vnd.jupyter.widget-view+json": {
       "model_id": "1e0e81357b724fe484802b24b7f93ecf",
       "version_major": 2,
       "version_minor": 0
      },
      "text/plain": [
       "HBox(children=(IntProgress(value=0, max=95), HTML(value='')))"
      ]
     },
     "metadata": {},
     "output_type": "display_data"
    },
    {
     "name": "stdout",
     "output_type": "stream",
     "text": [
      "exmae = ('CAESARS HEAD, SC', 'CHESNEE 7 WSW, SC', 'SPARTANBURG 3 SSE, SC') 2.9370572008592566\n"
     ]
    },
    {
     "data": {
      "application/vnd.jupyter.widget-view+json": {
       "model_id": "e336baa3443841ac9b8395a01e2a9cf3",
       "version_major": 2,
       "version_minor": 0
      },
      "text/plain": [
       "HBox(children=(IntProgress(value=0, max=1), HTML(value='')))"
      ]
     },
     "metadata": {},
     "output_type": "display_data"
    },
    {
     "data": {
      "application/vnd.jupyter.widget-view+json": {
       "model_id": "5a0a5764e3fc40bda90a691c3cc53ca8",
       "version_major": 2,
       "version_minor": 0
      },
      "text/plain": [
       "HBox(children=(IntProgress(value=0, max=95), HTML(value='')))"
      ]
     },
     "metadata": {},
     "output_type": "display_data"
    },
    {
     "name": "stdout",
     "output_type": "stream",
     "text": [
      "exmae = ('CAESARS HEAD, SC', 'CLEVELAND 3S, SC', 'SPARTANBURG 3 SSE, SC') 3.277737214007516\n"
     ]
    },
    {
     "data": {
      "application/vnd.jupyter.widget-view+json": {
       "model_id": "805cf8ffcd9d4624b743c98f8c2ac4a2",
       "version_major": 2,
       "version_minor": 0
      },
      "text/plain": [
       "HBox(children=(IntProgress(value=0, max=1), HTML(value='')))"
      ]
     },
     "metadata": {},
     "output_type": "display_data"
    },
    {
     "data": {
      "application/vnd.jupyter.widget-view+json": {
       "model_id": "4f51a5cc03444a2aaaaf59caa322bb4f",
       "version_major": 2,
       "version_minor": 0
      },
      "text/plain": [
       "HBox(children=(IntProgress(value=0, max=95), HTML(value='')))"
      ]
     },
     "metadata": {},
     "output_type": "display_data"
    },
    {
     "name": "stdout",
     "output_type": "stream",
     "text": [
      "exmae = ('CHESNEE 7 WSW, SC', 'CLEVELAND 3S, SC', 'SPARTANBURG 3 SSE, SC') 2.9667226323555127\n"
     ]
    },
    {
     "data": {
      "application/vnd.jupyter.widget-view+json": {
       "model_id": "9f87da1b67554a2d924d7c0559fa0f2a",
       "version_major": 2,
       "version_minor": 0
      },
      "text/plain": [
       "HBox(children=(IntProgress(value=0, max=1), HTML(value='')))"
      ]
     },
     "metadata": {},
     "output_type": "display_data"
    },
    {
     "data": {
      "application/vnd.jupyter.widget-view+json": {
       "model_id": "d9b6af89cedb4613accafaaa8d3994fb",
       "version_major": 2,
       "version_minor": 0
      },
      "text/plain": [
       "HBox(children=(IntProgress(value=0, max=95), HTML(value='')))"
      ]
     },
     "metadata": {},
     "output_type": "display_data"
    },
    {
     "name": "stdout",
     "output_type": "stream",
     "text": [
      "exmae = ('Greenville-Spartanburg Area, SC', 'CAESARS HEAD, SC', 'CHESNEE 7 WSW, SC', 'CLEVELAND 3S, SC') 3.190416268016882\n"
     ]
    },
    {
     "data": {
      "application/vnd.jupyter.widget-view+json": {
       "model_id": "9d48d63054824586af2863a08033ec5c",
       "version_major": 2,
       "version_minor": 0
      },
      "text/plain": [
       "HBox(children=(IntProgress(value=0, max=1), HTML(value='')))"
      ]
     },
     "metadata": {},
     "output_type": "display_data"
    },
    {
     "data": {
      "application/vnd.jupyter.widget-view+json": {
       "model_id": "db896f2ae2f94742ab043a81c8faec46",
       "version_major": 2,
       "version_minor": 0
      },
      "text/plain": [
       "HBox(children=(IntProgress(value=0, max=95), HTML(value='')))"
      ]
     },
     "metadata": {},
     "output_type": "display_data"
    },
    {
     "name": "stdout",
     "output_type": "stream",
     "text": [
      "exmae = ('Greenville-Spartanburg Area, SC', 'CAESARS HEAD, SC', 'CHESNEE 7 WSW, SC', 'SPARTANBURG 3 SSE, SC') 2.8771958771274124\n"
     ]
    },
    {
     "data": {
      "application/vnd.jupyter.widget-view+json": {
       "model_id": "f864284d7c60468aaa6a8332eb8e74bf",
       "version_major": 2,
       "version_minor": 0
      },
      "text/plain": [
       "HBox(children=(IntProgress(value=0, max=1), HTML(value='')))"
      ]
     },
     "metadata": {},
     "output_type": "display_data"
    },
    {
     "data": {
      "application/vnd.jupyter.widget-view+json": {
       "model_id": "6f77ce64ef4d428fbcdfb8c3924dfb57",
       "version_major": 2,
       "version_minor": 0
      },
      "text/plain": [
       "HBox(children=(IntProgress(value=0, max=95), HTML(value='')))"
      ]
     },
     "metadata": {},
     "output_type": "display_data"
    },
    {
     "name": "stdout",
     "output_type": "stream",
     "text": [
      "exmae = ('Greenville-Spartanburg Area, SC', 'CAESARS HEAD, SC', 'CLEVELAND 3S, SC', 'SPARTANBURG 3 SSE, SC') 3.0292999192163945\n"
     ]
    },
    {
     "data": {
      "application/vnd.jupyter.widget-view+json": {
       "model_id": "f3ea1c0602ea4d459cae21d52255f52a",
       "version_major": 2,
       "version_minor": 0
      },
      "text/plain": [
       "HBox(children=(IntProgress(value=0, max=1), HTML(value='')))"
      ]
     },
     "metadata": {},
     "output_type": "display_data"
    },
    {
     "data": {
      "application/vnd.jupyter.widget-view+json": {
       "model_id": "a901b12e2713450785abe7dba02c73f8",
       "version_major": 2,
       "version_minor": 0
      },
      "text/plain": [
       "HBox(children=(IntProgress(value=0, max=95), HTML(value='')))"
      ]
     },
     "metadata": {},
     "output_type": "display_data"
    },
    {
     "name": "stdout",
     "output_type": "stream",
     "text": [
      "exmae = ('Greenville-Spartanburg Area, SC', 'CHESNEE 7 WSW, SC', 'CLEVELAND 3S, SC', 'SPARTANBURG 3 SSE, SC') 2.975167876273045\n"
     ]
    },
    {
     "data": {
      "application/vnd.jupyter.widget-view+json": {
       "model_id": "6e7c4235230f423bbc72fc062dc5e683",
       "version_major": 2,
       "version_minor": 0
      },
      "text/plain": [
       "HBox(children=(IntProgress(value=0, max=1), HTML(value='')))"
      ]
     },
     "metadata": {},
     "output_type": "display_data"
    },
    {
     "data": {
      "application/vnd.jupyter.widget-view+json": {
       "model_id": "dabff3600f374a76b696d2cbfeaa01a0",
       "version_major": 2,
       "version_minor": 0
      },
      "text/plain": [
       "HBox(children=(IntProgress(value=0, max=95), HTML(value='')))"
      ]
     },
     "metadata": {},
     "output_type": "display_data"
    },
    {
     "name": "stdout",
     "output_type": "stream",
     "text": [
      "exmae = ('CAESARS HEAD, SC', 'CHESNEE 7 WSW, SC', 'CLEVELAND 3S, SC', 'SPARTANBURG 3 SSE, SC') 3.258738835983667\n"
     ]
    },
    {
     "data": {
      "application/vnd.jupyter.widget-view+json": {
       "model_id": "4b7fff2c79844c88af9b9570fbcaea53",
       "version_major": 2,
       "version_minor": 0
      },
      "text/plain": [
       "HBox(children=(IntProgress(value=0, max=1), HTML(value='')))"
      ]
     },
     "metadata": {},
     "output_type": "display_data"
    },
    {
     "data": {
      "application/vnd.jupyter.widget-view+json": {
       "model_id": "eceb6e1f7c004a7cb9bdd0521ac88f0f",
       "version_major": 2,
       "version_minor": 0
      },
      "text/plain": [
       "HBox(children=(IntProgress(value=0, max=95), HTML(value='')))"
      ]
     },
     "metadata": {},
     "output_type": "display_data"
    },
    {
     "name": "stdout",
     "output_type": "stream",
     "text": [
      "keymae of: WAYNESVILLE 1 E, NC = 1.747482139423062\n"
     ]
    },
    {
     "data": {
      "application/vnd.jupyter.widget-view+json": {
       "model_id": "91a68b435cd64122ac9b289d85b02a54",
       "version_major": 2,
       "version_minor": 0
      },
      "text/plain": [
       "HBox(children=(IntProgress(value=0, max=3), HTML(value='')))"
      ]
     },
     "metadata": {},
     "output_type": "display_data"
    },
    {
     "data": {
      "application/vnd.jupyter.widget-view+json": {
       "model_id": "ab7448b200b040e497a8067e9f37c6a0",
       "version_major": 2,
       "version_minor": 0
      },
      "text/plain": [
       "HBox(children=(IntProgress(value=0, max=1), HTML(value='')))"
      ]
     },
     "metadata": {},
     "output_type": "display_data"
    },
    {
     "data": {
      "application/vnd.jupyter.widget-view+json": {
       "model_id": "e8bdd7951fd04b4e95b80b91cd323607",
       "version_major": 2,
       "version_minor": 0
      },
      "text/plain": [
       "HBox(children=(IntProgress(value=0, max=95), HTML(value='')))"
      ]
     },
     "metadata": {},
     "output_type": "display_data"
    },
    {
     "name": "stdout",
     "output_type": "stream",
     "text": [
      "exmae = ('MT LECONTE, TN', 'NEWFOUND GAP, TN') 2.2339993455520246\n"
     ]
    },
    {
     "data": {
      "application/vnd.jupyter.widget-view+json": {
       "model_id": "57333bc9e8234726905688137b6cf53a",
       "version_major": 2,
       "version_minor": 0
      },
      "text/plain": [
       "HBox(children=(IntProgress(value=0, max=1), HTML(value='')))"
      ]
     },
     "metadata": {},
     "output_type": "display_data"
    },
    {
     "data": {
      "application/vnd.jupyter.widget-view+json": {
       "model_id": "f29e28eb5506424ca5f23e62c0e9d789",
       "version_major": 2,
       "version_minor": 0
      },
      "text/plain": [
       "HBox(children=(IntProgress(value=0, max=95), HTML(value='')))"
      ]
     },
     "metadata": {},
     "output_type": "display_data"
    },
    {
     "name": "stdout",
     "output_type": "stream",
     "text": [
      "exmae = ('MT LECONTE, TN',) 2.067047382901454\n"
     ]
    },
    {
     "data": {
      "application/vnd.jupyter.widget-view+json": {
       "model_id": "1da56223321643b4a4694acc2d5970ea",
       "version_major": 2,
       "version_minor": 0
      },
      "text/plain": [
       "HBox(children=(IntProgress(value=0, max=1), HTML(value='')))"
      ]
     },
     "metadata": {},
     "output_type": "display_data"
    },
    {
     "data": {
      "application/vnd.jupyter.widget-view+json": {
       "model_id": "86a1a255746a423ea1e0aba40c4388ae",
       "version_major": 2,
       "version_minor": 0
      },
      "text/plain": [
       "HBox(children=(IntProgress(value=0, max=95), HTML(value='')))"
      ]
     },
     "metadata": {},
     "output_type": "display_data"
    },
    {
     "name": "stdout",
     "output_type": "stream",
     "text": [
      "exmae = ('NEWFOUND GAP, TN',) 2.262076438940648\n"
     ]
    },
    {
     "data": {
      "application/vnd.jupyter.widget-view+json": {
       "model_id": "3a400698bac6479d82a76868ef545c6c",
       "version_major": 2,
       "version_minor": 0
      },
      "text/plain": [
       "HBox(children=(IntProgress(value=0, max=1), HTML(value='')))"
      ]
     },
     "metadata": {},
     "output_type": "display_data"
    },
    {
     "data": {
      "application/vnd.jupyter.widget-view+json": {
       "model_id": "bbc8e9a91db448b2bd30a7512112730e",
       "version_major": 2,
       "version_minor": 0
      },
      "text/plain": [
       "HBox(children=(IntProgress(value=0, max=95), HTML(value='')))"
      ]
     },
     "metadata": {},
     "output_type": "display_data"
    },
    {
     "ename": "MemoryError",
     "evalue": "",
     "output_type": "error",
     "traceback": [
      "\u001b[1;31m---------------------------------------------------------------------------\u001b[0m",
      "\u001b[1;31mMemoryError\u001b[0m                               Traceback (most recent call last)",
      "\u001b[1;32m<ipython-input-10-37650317f322>\u001b[0m in \u001b[0;36m<module>\u001b[1;34m\u001b[0m\n\u001b[0;32m      2\u001b[0m \u001b[0mwarnings\u001b[0m\u001b[1;33m.\u001b[0m\u001b[0mfilterwarnings\u001b[0m\u001b[1;33m(\u001b[0m\u001b[1;34m\"ignore\"\u001b[0m\u001b[1;33m)\u001b[0m\u001b[1;33m\u001b[0m\u001b[1;33m\u001b[0m\u001b[0m\n\u001b[0;32m      3\u001b[0m \u001b[1;32mfor\u001b[0m \u001b[0mkey\u001b[0m\u001b[1;33m,\u001b[0m\u001b[0mvalue\u001b[0m \u001b[1;32min\u001b[0m \u001b[0mtqdm\u001b[0m\u001b[1;33m(\u001b[0m\u001b[0ml_o_dfs\u001b[0m\u001b[1;33m.\u001b[0m\u001b[0mitems\u001b[0m\u001b[1;33m(\u001b[0m\u001b[1;33m)\u001b[0m\u001b[1;33m)\u001b[0m\u001b[1;33m:\u001b[0m\u001b[1;33m\u001b[0m\u001b[1;33m\u001b[0m\u001b[0m\n\u001b[1;32m----> 4\u001b[1;33m     \u001b[0mexogenous_var\u001b[0m\u001b[1;33m(\u001b[0m\u001b[0mrd\u001b[0m\u001b[1;33m,\u001b[0m \u001b[0mkey\u001b[0m\u001b[1;33m,\u001b[0m \u001b[0mvalue\u001b[0m\u001b[1;33m,\u001b[0m \u001b[0mbest_comb\u001b[0m\u001b[1;33m)\u001b[0m\u001b[1;33m\u001b[0m\u001b[1;33m\u001b[0m\u001b[0m\n\u001b[0m",
      "\u001b[1;32m<ipython-input-9-1776fc404cd7>\u001b[0m in \u001b[0;36mexogenous_var\u001b[1;34m(data, ncloc, l_exoloc, best_comb)\u001b[0m\n\u001b[0;32m      4\u001b[0m \u001b[1;31m#         l_exog = exog_combinations(data, value)\u001b[0m\u001b[1;33m\u001b[0m\u001b[1;33m\u001b[0m\u001b[1;33m\u001b[0m\u001b[0m\n\u001b[0;32m      5\u001b[0m     \u001b[0mtr\u001b[0m\u001b[1;33m,\u001b[0m \u001b[0mtest\u001b[0m \u001b[1;33m=\u001b[0m \u001b[0mtrain_test_split\u001b[0m\u001b[1;33m(\u001b[0m\u001b[0mdat\u001b[0m\u001b[1;33m,\u001b[0m \u001b[0mtest_size\u001b[0m \u001b[1;33m=\u001b[0m \u001b[1;36m0.2\u001b[0m\u001b[1;33m,\u001b[0m \u001b[0mshuffle\u001b[0m\u001b[1;33m=\u001b[0m\u001b[1;32mFalse\u001b[0m\u001b[1;33m)\u001b[0m\u001b[1;33m\u001b[0m\u001b[1;33m\u001b[0m\u001b[0m\n\u001b[1;32m----> 6\u001b[1;33m     \u001b[0mkeymae\u001b[0m \u001b[1;33m=\u001b[0m \u001b[0mhyperparameter_find\u001b[0m\u001b[1;33m(\u001b[0m\u001b[0mtr\u001b[0m\u001b[1;33m,\u001b[0m \u001b[0mbest_comb\u001b[0m\u001b[1;33m,\u001b[0m \u001b[0mtest\u001b[0m\u001b[1;33m)\u001b[0m\u001b[1;33m\u001b[0m\u001b[1;33m\u001b[0m\u001b[0m\n\u001b[0m\u001b[0;32m      7\u001b[0m     \u001b[0mprint\u001b[0m\u001b[1;33m(\u001b[0m\u001b[1;34m'keymae of: '\u001b[0m\u001b[1;33m+\u001b[0m \u001b[0mkey\u001b[0m \u001b[1;33m+\u001b[0m\u001b[1;34m' = '\u001b[0m\u001b[1;33m+\u001b[0m\u001b[0mstr\u001b[0m\u001b[1;33m(\u001b[0m\u001b[0mkeymae\u001b[0m\u001b[1;33m)\u001b[0m\u001b[1;33m)\u001b[0m\u001b[1;33m\u001b[0m\u001b[1;33m\u001b[0m\u001b[0m\n\u001b[0;32m      8\u001b[0m     \u001b[0mbettermae\u001b[0m \u001b[1;33m=\u001b[0m \u001b[1;33m{\u001b[0m\u001b[1;33m}\u001b[0m\u001b[1;33m\u001b[0m\u001b[1;33m\u001b[0m\u001b[0m\n",
      "\u001b[1;32m<ipython-input-5-e77bf4e9a9de>\u001b[0m in \u001b[0;36mhyperparameter_find\u001b[1;34m(training_data, comb, testing_data, search, exogtr, exogtest)\u001b[0m\n\u001b[0;32m     24\u001b[0m                     \u001b[0mexcopy\u001b[0m \u001b[1;33m=\u001b[0m \u001b[0mpd\u001b[0m\u001b[1;33m.\u001b[0m\u001b[0mconcat\u001b[0m\u001b[1;33m(\u001b[0m\u001b[1;33m[\u001b[0m\u001b[0mexcopy\u001b[0m\u001b[1;33m,\u001b[0m \u001b[0mexogtest\u001b[0m\u001b[1;33m.\u001b[0m\u001b[0miloc\u001b[0m\u001b[1;33m[\u001b[0m\u001b[1;33m[\u001b[0m\u001b[0mi\u001b[0m\u001b[1;33m]\u001b[0m\u001b[1;33m]\u001b[0m\u001b[1;33m]\u001b[0m\u001b[1;33m)\u001b[0m\u001b[1;33m\u001b[0m\u001b[1;33m\u001b[0m\u001b[0m\n\u001b[0;32m     25\u001b[0m                 \u001b[1;32melse\u001b[0m\u001b[1;33m:\u001b[0m\u001b[1;33m\u001b[0m\u001b[1;33m\u001b[0m\u001b[0m\n\u001b[1;32m---> 26\u001b[1;33m                     \u001b[0mmod_1\u001b[0m \u001b[1;33m=\u001b[0m \u001b[0msarima_model_creation\u001b[0m\u001b[1;33m(\u001b[0m\u001b[0mcopytraining\u001b[0m\u001b[1;33m,\u001b[0m \u001b[0mcom\u001b[0m\u001b[1;33m[\u001b[0m\u001b[1;36m0\u001b[0m\u001b[1;33m]\u001b[0m\u001b[1;33m,\u001b[0m \u001b[1;36m0\u001b[0m\u001b[1;33m,\u001b[0m \u001b[0mcom\u001b[0m\u001b[1;33m[\u001b[0m\u001b[1;36m1\u001b[0m\u001b[1;33m]\u001b[0m\u001b[1;33m,\u001b[0m \u001b[0mcom\u001b[0m\u001b[1;33m[\u001b[0m\u001b[1;36m2\u001b[0m\u001b[1;33m]\u001b[0m\u001b[1;33m,\u001b[0m \u001b[1;36m0\u001b[0m\u001b[1;33m,\u001b[0m \u001b[0mcom\u001b[0m\u001b[1;33m[\u001b[0m\u001b[1;36m3\u001b[0m\u001b[1;33m]\u001b[0m\u001b[1;33m,\u001b[0m \u001b[1;36m12\u001b[0m\u001b[1;33m)\u001b[0m\u001b[1;33m\u001b[0m\u001b[1;33m\u001b[0m\u001b[0m\n\u001b[0m\u001b[0;32m     27\u001b[0m                     \u001b[0mone_step_pred2\u001b[0m \u001b[1;33m=\u001b[0m \u001b[0mmod_1\u001b[0m\u001b[1;33m.\u001b[0m\u001b[0mforecast\u001b[0m\u001b[1;33m(\u001b[0m\u001b[1;33m)\u001b[0m\u001b[1;33m\u001b[0m\u001b[1;33m\u001b[0m\u001b[0m\n\u001b[0;32m     28\u001b[0m                 \u001b[0mli_one_step\u001b[0m\u001b[1;33m.\u001b[0m\u001b[0mappend\u001b[0m\u001b[1;33m(\u001b[0m\u001b[0mone_step_pred2\u001b[0m\u001b[1;33m[\u001b[0m\u001b[1;36m0\u001b[0m\u001b[1;33m]\u001b[0m\u001b[1;33m)\u001b[0m\u001b[1;33m\u001b[0m\u001b[1;33m\u001b[0m\u001b[0m\n",
      "\u001b[1;32m<ipython-input-4-5fcefe079e19>\u001b[0m in \u001b[0;36msarima_model_creation\u001b[1;34m(data, p, d, q, P, D, Q, m, exog)\u001b[0m\n\u001b[0;32m      5\u001b[0m                                           \u001b[0menforce_stationarity\u001b[0m\u001b[1;33m=\u001b[0m\u001b[1;32mFalse\u001b[0m\u001b[1;33m,\u001b[0m \u001b[0menforce_invertibility\u001b[0m\u001b[1;33m=\u001b[0m\u001b[1;32mFalse\u001b[0m\u001b[1;33m,\u001b[0m\u001b[1;33m\u001b[0m\u001b[1;33m\u001b[0m\u001b[0m\n\u001b[0;32m      6\u001b[0m                                           initialization='approximate_diffuse')\n\u001b[1;32m----> 7\u001b[1;33m     \u001b[0mmodel_fit\u001b[0m \u001b[1;33m=\u001b[0m \u001b[0msarimamod\u001b[0m\u001b[1;33m.\u001b[0m\u001b[0mfit\u001b[0m\u001b[1;33m(\u001b[0m\u001b[1;33m)\u001b[0m\u001b[1;31m# start_params=[0, 0, 0, 0, 1])\u001b[0m\u001b[1;33m\u001b[0m\u001b[1;33m\u001b[0m\u001b[0m\n\u001b[0m\u001b[0;32m      8\u001b[0m     \u001b[1;32mreturn\u001b[0m\u001b[1;33m(\u001b[0m\u001b[0mmodel_fit\u001b[0m\u001b[1;33m)\u001b[0m\u001b[1;33m\u001b[0m\u001b[1;33m\u001b[0m\u001b[0m\n",
      "\u001b[1;32m~\\Anaconda3\\lib\\site-packages\\statsmodels\\tsa\\statespace\\mlemodel.py\u001b[0m in \u001b[0;36mfit\u001b[1;34m(self, start_params, transformed, cov_type, cov_kwds, method, maxiter, full_output, disp, callback, return_params, optim_score, optim_complex_step, optim_hessian, flags, **kwargs)\u001b[0m\n\u001b[0;32m    475\u001b[0m         \u001b[1;32melse\u001b[0m\u001b[1;33m:\u001b[0m\u001b[1;33m\u001b[0m\u001b[1;33m\u001b[0m\u001b[0m\n\u001b[0;32m    476\u001b[0m             res = self.smooth(mlefit.params, transformed=False,\n\u001b[1;32m--> 477\u001b[1;33m                               cov_type=cov_type, cov_kwds=cov_kwds)\n\u001b[0m\u001b[0;32m    478\u001b[0m \u001b[1;33m\u001b[0m\u001b[0m\n\u001b[0;32m    479\u001b[0m             \u001b[0mres\u001b[0m\u001b[1;33m.\u001b[0m\u001b[0mmlefit\u001b[0m \u001b[1;33m=\u001b[0m \u001b[0mmlefit\u001b[0m\u001b[1;33m\u001b[0m\u001b[1;33m\u001b[0m\u001b[0m\n",
      "\u001b[1;32m~\\Anaconda3\\lib\\site-packages\\statsmodels\\tsa\\statespace\\mlemodel.py\u001b[0m in \u001b[0;36msmooth\u001b[1;34m(self, params, transformed, complex_step, cov_type, cov_kwds, return_ssm, results_class, results_wrapper_class, **kwargs)\u001b[0m\n\u001b[0;32m    591\u001b[0m \u001b[1;33m\u001b[0m\u001b[0m\n\u001b[0;32m    592\u001b[0m         \u001b[1;31m# Get the state space output\u001b[0m\u001b[1;33m\u001b[0m\u001b[1;33m\u001b[0m\u001b[1;33m\u001b[0m\u001b[0m\n\u001b[1;32m--> 593\u001b[1;33m         \u001b[0mresult\u001b[0m \u001b[1;33m=\u001b[0m \u001b[0mself\u001b[0m\u001b[1;33m.\u001b[0m\u001b[0mssm\u001b[0m\u001b[1;33m.\u001b[0m\u001b[0msmooth\u001b[0m\u001b[1;33m(\u001b[0m\u001b[0mcomplex_step\u001b[0m\u001b[1;33m=\u001b[0m\u001b[0mcomplex_step\u001b[0m\u001b[1;33m,\u001b[0m \u001b[1;33m**\u001b[0m\u001b[0mkwargs\u001b[0m\u001b[1;33m)\u001b[0m\u001b[1;33m\u001b[0m\u001b[1;33m\u001b[0m\u001b[0m\n\u001b[0m\u001b[0;32m    594\u001b[0m \u001b[1;33m\u001b[0m\u001b[0m\n\u001b[0;32m    595\u001b[0m         \u001b[1;31m# Wrap in a results object\u001b[0m\u001b[1;33m\u001b[0m\u001b[1;33m\u001b[0m\u001b[1;33m\u001b[0m\u001b[0m\n",
      "\u001b[1;32m~\\Anaconda3\\lib\\site-packages\\statsmodels\\tsa\\statespace\\kalman_smoother.py\u001b[0m in \u001b[0;36msmooth\u001b[1;34m(self, smoother_output, smooth_method, results, run_filter, prefix, complex_step, **kwargs)\u001b[0m\n\u001b[0;32m    402\u001b[0m         \u001b[0mresults\u001b[0m \u001b[1;33m=\u001b[0m \u001b[0mself\u001b[0m\u001b[1;33m.\u001b[0m\u001b[0mresults_class\u001b[0m\u001b[1;33m(\u001b[0m\u001b[0mself\u001b[0m\u001b[1;33m)\u001b[0m\u001b[1;33m\u001b[0m\u001b[1;33m\u001b[0m\u001b[0m\n\u001b[0;32m    403\u001b[0m         \u001b[0mresults\u001b[0m\u001b[1;33m.\u001b[0m\u001b[0mupdate_representation\u001b[0m\u001b[1;33m(\u001b[0m\u001b[0mself\u001b[0m\u001b[1;33m)\u001b[0m\u001b[1;33m\u001b[0m\u001b[1;33m\u001b[0m\u001b[0m\n\u001b[1;32m--> 404\u001b[1;33m         \u001b[0mresults\u001b[0m\u001b[1;33m.\u001b[0m\u001b[0mupdate_filter\u001b[0m\u001b[1;33m(\u001b[0m\u001b[0mkfilter\u001b[0m\u001b[1;33m)\u001b[0m\u001b[1;33m\u001b[0m\u001b[1;33m\u001b[0m\u001b[0m\n\u001b[0m\u001b[0;32m    405\u001b[0m \u001b[1;33m\u001b[0m\u001b[0m\n\u001b[0;32m    406\u001b[0m         \u001b[1;31m# Run the smoother\u001b[0m\u001b[1;33m\u001b[0m\u001b[1;33m\u001b[0m\u001b[1;33m\u001b[0m\u001b[0m\n",
      "\u001b[1;32m~\\Anaconda3\\lib\\site-packages\\statsmodels\\tsa\\statespace\\kalman_filter.py\u001b[0m in \u001b[0;36mupdate_filter\u001b[1;34m(self, kalman_filter)\u001b[0m\n\u001b[0;32m   1385\u001b[0m         )\n\u001b[0;32m   1386\u001b[0m         self.predicted_state_cov = np.array(\n\u001b[1;32m-> 1387\u001b[1;33m             \u001b[0mkalman_filter\u001b[0m\u001b[1;33m.\u001b[0m\u001b[0mpredicted_state_cov\u001b[0m\u001b[1;33m,\u001b[0m \u001b[0mcopy\u001b[0m\u001b[1;33m=\u001b[0m\u001b[1;32mTrue\u001b[0m\u001b[1;33m\u001b[0m\u001b[1;33m\u001b[0m\u001b[0m\n\u001b[0m\u001b[0;32m   1388\u001b[0m         )\n\u001b[0;32m   1389\u001b[0m \u001b[1;33m\u001b[0m\u001b[0m\n",
      "\u001b[1;31mMemoryError\u001b[0m: "
     ]
    }
   ],
   "source": [
    "best_comb = [[4,3,3,4]]\n",
    "warnings.filterwarnings(\"ignore\")\n",
    "for key,value in tqdm(l_o_dfs.items()):\n",
    "    exogenous_var(rd, key, value, best_comb)"
   ]
  },
  {
   "cell_type": "code",
   "execution_count": 3,
   "metadata": {
    "ExecuteTime": {
     "end_time": "2019-09-01T15:51:04.616208Z",
     "start_time": "2019-09-01T15:51:04.553719Z"
    },
    "scrolled": true
   },
   "outputs": [],
   "source": [
    "with_exogs = ['WHITEVILLE 7 NW, NC', 'CASAR, NC', 'FOREST CITY 8 W, NC', 'GASTONIA, NC', 'LAKE LURE 2, NC', \n",
    "                       'ELIZABETHTOWN, NC', ' MOUNT HOLLY 4 NE, NC','GRANDFATHER MTN, NC']\n",
    "ncrd2 = ncrd.copy()\n",
    "ncrd_less = ncrd2.drop(with_exogs,axis=1)"
   ]
  },
  {
   "cell_type": "code",
   "execution_count": 10,
   "metadata": {
    "ExecuteTime": {
     "end_time": "2019-09-01T16:42:59.303538Z",
     "start_time": "2019-09-01T16:42:59.272289Z"
    }
   },
   "outputs": [],
   "source": [
    "def prediction_fx(data, begin, end):\n",
    "    base = datetime.strptime(begin,'%Y-%m-%d')\n",
    "    date_list = [base + relativedelta(months=x) for x in range(600)]\n",
    "    prediction1_df = pd.DataFrame(index=date_list)\n",
    "    for col in tqdm(data.columns):\n",
    "        loc = data[col]\n",
    "        mod_fit1 = sarima_model_creation(loc, 4,0,3,3,0,4,12)\n",
    "        point_predictions = pd.DataFrame(mod_fit1.predict(start=begin, end=end), columns=[col])\n",
    "        future_pred1 = mod_fit1.get_prediction(start=begin, end=end)\n",
    "        future_pred1_ci = future_pred1.conf_int(alpha=0.5)\n",
    "        point_predictions_df = pd.merge(point_predictions, future_pred1_ci, left_index=True, right_index=True)\n",
    "        prediction1_df = pd.merge(prediction1_df, point_predictions_df, left_index=True, right_index=True)\n",
    "    return(prediction1_df)"
   ]
  },
  {
   "cell_type": "code",
   "execution_count": 11,
   "metadata": {
    "ExecuteTime": {
     "end_time": "2019-09-01T18:54:37.274414Z",
     "start_time": "2019-09-01T16:43:01.759744Z"
    },
    "scrolled": true
   },
   "outputs": [
    {
     "data": {
      "application/vnd.jupyter.widget-view+json": {
       "model_id": "12d8c4b4dbdf42ffadd7fe1aa0ce857c",
       "version_major": 2,
       "version_minor": 0
      },
      "text/plain": [
       "HBox(children=(IntProgress(value=0, max=104), HTML(value='')))"
      ]
     },
     "metadata": {},
     "output_type": "display_data"
    },
    {
     "name": "stdout",
     "output_type": "stream",
     "text": [
      "\n"
     ]
    },
    {
     "data": {
      "text/html": [
       "<div>\n",
       "<style scoped>\n",
       "    .dataframe tbody tr th:only-of-type {\n",
       "        vertical-align: middle;\n",
       "    }\n",
       "\n",
       "    .dataframe tbody tr th {\n",
       "        vertical-align: top;\n",
       "    }\n",
       "\n",
       "    .dataframe thead th {\n",
       "        text-align: right;\n",
       "    }\n",
       "</style>\n",
       "<table border=\"1\" class=\"dataframe\">\n",
       "  <thead>\n",
       "    <tr style=\"text-align: right;\">\n",
       "      <th></th>\n",
       "      <th>Raleigh, NC</th>\n",
       "      <th>lower Raleigh, NC</th>\n",
       "      <th>upper Raleigh, NC</th>\n",
       "      <th>Fayetteville, NC</th>\n",
       "      <th>lower Fayetteville, NC</th>\n",
       "      <th>upper Fayetteville, NC</th>\n",
       "      <th>Albemarle, NC</th>\n",
       "      <th>lower Albemarle, NC</th>\n",
       "      <th>upper Albemarle, NC</th>\n",
       "      <th>Arcola, NC</th>\n",
       "      <th>...</th>\n",
       "      <th>upper YADKINVILLE 6 E, NC</th>\n",
       "      <th>HAYESVILLE 1 NE, NC</th>\n",
       "      <th>lower HAYESVILLE 1 NE, NC</th>\n",
       "      <th>upper HAYESVILLE 1 NE, NC</th>\n",
       "      <th>MURPHY 4ESE, NC</th>\n",
       "      <th>lower MURPHY 4ESE, NC</th>\n",
       "      <th>upper MURPHY 4ESE, NC</th>\n",
       "      <th>KING, NC</th>\n",
       "      <th>lower  KING, NC</th>\n",
       "      <th>upper  KING, NC</th>\n",
       "    </tr>\n",
       "  </thead>\n",
       "  <tbody>\n",
       "    <tr>\n",
       "      <th>2019-05-01</th>\n",
       "      <td>3.366287</td>\n",
       "      <td>1.881736</td>\n",
       "      <td>4.850837</td>\n",
       "      <td>3.111657</td>\n",
       "      <td>1.523134</td>\n",
       "      <td>4.700181</td>\n",
       "      <td>3.461614</td>\n",
       "      <td>1.960157</td>\n",
       "      <td>4.963072</td>\n",
       "      <td>4.101742</td>\n",
       "      <td>...</td>\n",
       "      <td>5.865633</td>\n",
       "      <td>6.052865</td>\n",
       "      <td>4.681224</td>\n",
       "      <td>7.424506</td>\n",
       "      <td>6.054696</td>\n",
       "      <td>4.605734</td>\n",
       "      <td>7.503659</td>\n",
       "      <td>4.555015</td>\n",
       "      <td>3.238458</td>\n",
       "      <td>5.871571</td>\n",
       "    </tr>\n",
       "    <tr>\n",
       "      <th>2019-06-01</th>\n",
       "      <td>4.311068</td>\n",
       "      <td>2.826038</td>\n",
       "      <td>5.796097</td>\n",
       "      <td>4.639369</td>\n",
       "      <td>3.038618</td>\n",
       "      <td>6.240120</td>\n",
       "      <td>4.748512</td>\n",
       "      <td>3.229404</td>\n",
       "      <td>6.267621</td>\n",
       "      <td>4.453031</td>\n",
       "      <td>...</td>\n",
       "      <td>5.482044</td>\n",
       "      <td>5.717889</td>\n",
       "      <td>4.332300</td>\n",
       "      <td>7.103479</td>\n",
       "      <td>6.150096</td>\n",
       "      <td>4.690559</td>\n",
       "      <td>7.609633</td>\n",
       "      <td>3.477236</td>\n",
       "      <td>2.154377</td>\n",
       "      <td>4.800094</td>\n",
       "    </tr>\n",
       "    <tr>\n",
       "      <th>2019-07-01</th>\n",
       "      <td>6.314961</td>\n",
       "      <td>4.828354</td>\n",
       "      <td>7.801568</td>\n",
       "      <td>4.736273</td>\n",
       "      <td>3.135275</td>\n",
       "      <td>6.337270</td>\n",
       "      <td>5.211461</td>\n",
       "      <td>3.682058</td>\n",
       "      <td>6.740863</td>\n",
       "      <td>4.030026</td>\n",
       "      <td>...</td>\n",
       "      <td>6.198524</td>\n",
       "      <td>6.071343</td>\n",
       "      <td>4.673333</td>\n",
       "      <td>7.469353</td>\n",
       "      <td>5.999118</td>\n",
       "      <td>4.534753</td>\n",
       "      <td>7.463484</td>\n",
       "      <td>4.060046</td>\n",
       "      <td>2.734256</td>\n",
       "      <td>5.385835</td>\n",
       "    </tr>\n",
       "    <tr>\n",
       "      <th>2019-08-01</th>\n",
       "      <td>4.145673</td>\n",
       "      <td>2.653229</td>\n",
       "      <td>5.638117</td>\n",
       "      <td>5.171562</td>\n",
       "      <td>3.569744</td>\n",
       "      <td>6.773380</td>\n",
       "      <td>4.538334</td>\n",
       "      <td>3.002113</td>\n",
       "      <td>6.074555</td>\n",
       "      <td>3.948713</td>\n",
       "      <td>...</td>\n",
       "      <td>6.188571</td>\n",
       "      <td>5.126533</td>\n",
       "      <td>3.712651</td>\n",
       "      <td>6.540416</td>\n",
       "      <td>4.852656</td>\n",
       "      <td>3.379151</td>\n",
       "      <td>6.326161</td>\n",
       "      <td>4.301428</td>\n",
       "      <td>2.974102</td>\n",
       "      <td>5.628753</td>\n",
       "    </tr>\n",
       "    <tr>\n",
       "      <th>2019-09-01</th>\n",
       "      <td>4.875324</td>\n",
       "      <td>3.382859</td>\n",
       "      <td>6.367790</td>\n",
       "      <td>4.613723</td>\n",
       "      <td>3.009782</td>\n",
       "      <td>6.217664</td>\n",
       "      <td>3.479564</td>\n",
       "      <td>1.943112</td>\n",
       "      <td>5.016015</td>\n",
       "      <td>4.547796</td>\n",
       "      <td>...</td>\n",
       "      <td>5.482877</td>\n",
       "      <td>5.063930</td>\n",
       "      <td>3.647114</td>\n",
       "      <td>6.480747</td>\n",
       "      <td>4.718284</td>\n",
       "      <td>3.234249</td>\n",
       "      <td>6.202319</td>\n",
       "      <td>4.442798</td>\n",
       "      <td>3.114995</td>\n",
       "      <td>5.770601</td>\n",
       "    </tr>\n",
       "    <tr>\n",
       "      <th>2019-10-01</th>\n",
       "      <td>4.620644</td>\n",
       "      <td>3.125386</td>\n",
       "      <td>6.115903</td>\n",
       "      <td>3.449842</td>\n",
       "      <td>1.845660</td>\n",
       "      <td>5.054025</td>\n",
       "      <td>3.654706</td>\n",
       "      <td>2.117471</td>\n",
       "      <td>5.191941</td>\n",
       "      <td>4.270212</td>\n",
       "      <td>...</td>\n",
       "      <td>4.877054</td>\n",
       "      <td>4.244699</td>\n",
       "      <td>2.824788</td>\n",
       "      <td>5.664609</td>\n",
       "      <td>3.892131</td>\n",
       "      <td>2.403399</td>\n",
       "      <td>5.380862</td>\n",
       "      <td>4.220072</td>\n",
       "      <td>2.891967</td>\n",
       "      <td>5.548176</td>\n",
       "    </tr>\n",
       "    <tr>\n",
       "      <th>2019-11-01</th>\n",
       "      <td>2.836573</td>\n",
       "      <td>1.338815</td>\n",
       "      <td>4.334331</td>\n",
       "      <td>2.833024</td>\n",
       "      <td>1.228440</td>\n",
       "      <td>4.437609</td>\n",
       "      <td>3.578847</td>\n",
       "      <td>2.041373</td>\n",
       "      <td>5.116321</td>\n",
       "      <td>4.145416</td>\n",
       "      <td>...</td>\n",
       "      <td>4.565123</td>\n",
       "      <td>5.128604</td>\n",
       "      <td>3.708378</td>\n",
       "      <td>6.548829</td>\n",
       "      <td>4.462930</td>\n",
       "      <td>2.971968</td>\n",
       "      <td>5.953892</td>\n",
       "      <td>4.280093</td>\n",
       "      <td>2.951938</td>\n",
       "      <td>5.608247</td>\n",
       "    </tr>\n",
       "    <tr>\n",
       "      <th>2019-12-01</th>\n",
       "      <td>3.028145</td>\n",
       "      <td>1.529850</td>\n",
       "      <td>4.526440</td>\n",
       "      <td>3.043657</td>\n",
       "      <td>1.438876</td>\n",
       "      <td>4.648439</td>\n",
       "      <td>3.945386</td>\n",
       "      <td>2.407895</td>\n",
       "      <td>5.482877</td>\n",
       "      <td>4.089217</td>\n",
       "      <td>...</td>\n",
       "      <td>5.244915</td>\n",
       "      <td>5.843728</td>\n",
       "      <td>4.423051</td>\n",
       "      <td>7.264404</td>\n",
       "      <td>5.297449</td>\n",
       "      <td>3.806008</td>\n",
       "      <td>6.788890</td>\n",
       "      <td>4.521210</td>\n",
       "      <td>3.193000</td>\n",
       "      <td>5.849421</td>\n",
       "    </tr>\n",
       "    <tr>\n",
       "      <th>2020-01-01</th>\n",
       "      <td>3.996280</td>\n",
       "      <td>2.495186</td>\n",
       "      <td>5.497373</td>\n",
       "      <td>2.907440</td>\n",
       "      <td>1.302569</td>\n",
       "      <td>4.512311</td>\n",
       "      <td>3.020206</td>\n",
       "      <td>1.482598</td>\n",
       "      <td>4.557815</td>\n",
       "      <td>3.895951</td>\n",
       "      <td>...</td>\n",
       "      <td>4.858702</td>\n",
       "      <td>5.472307</td>\n",
       "      <td>4.051615</td>\n",
       "      <td>6.892998</td>\n",
       "      <td>4.975608</td>\n",
       "      <td>3.483947</td>\n",
       "      <td>6.467269</td>\n",
       "      <td>4.132021</td>\n",
       "      <td>2.803813</td>\n",
       "      <td>5.460228</td>\n",
       "    </tr>\n",
       "    <tr>\n",
       "      <th>2020-02-01</th>\n",
       "      <td>2.822907</td>\n",
       "      <td>1.321267</td>\n",
       "      <td>4.324546</td>\n",
       "      <td>2.760683</td>\n",
       "      <td>1.155748</td>\n",
       "      <td>4.365618</td>\n",
       "      <td>3.227472</td>\n",
       "      <td>1.689957</td>\n",
       "      <td>4.764987</td>\n",
       "      <td>3.833445</td>\n",
       "      <td>...</td>\n",
       "      <td>4.400556</td>\n",
       "      <td>5.590564</td>\n",
       "      <td>4.169830</td>\n",
       "      <td>7.011297</td>\n",
       "      <td>5.443202</td>\n",
       "      <td>3.951571</td>\n",
       "      <td>6.934832</td>\n",
       "      <td>4.021765</td>\n",
       "      <td>2.693549</td>\n",
       "      <td>5.349981</td>\n",
       "    </tr>\n",
       "  </tbody>\n",
       "</table>\n",
       "<p>10 rows × 312 columns</p>\n",
       "</div>"
      ],
      "text/plain": [
       "            Raleigh, NC  lower Raleigh, NC  upper Raleigh, NC  \\\n",
       "2019-05-01     3.366287           1.881736           4.850837   \n",
       "2019-06-01     4.311068           2.826038           5.796097   \n",
       "2019-07-01     6.314961           4.828354           7.801568   \n",
       "2019-08-01     4.145673           2.653229           5.638117   \n",
       "2019-09-01     4.875324           3.382859           6.367790   \n",
       "2019-10-01     4.620644           3.125386           6.115903   \n",
       "2019-11-01     2.836573           1.338815           4.334331   \n",
       "2019-12-01     3.028145           1.529850           4.526440   \n",
       "2020-01-01     3.996280           2.495186           5.497373   \n",
       "2020-02-01     2.822907           1.321267           4.324546   \n",
       "\n",
       "            Fayetteville, NC  lower Fayetteville, NC  upper Fayetteville, NC  \\\n",
       "2019-05-01          3.111657                1.523134                4.700181   \n",
       "2019-06-01          4.639369                3.038618                6.240120   \n",
       "2019-07-01          4.736273                3.135275                6.337270   \n",
       "2019-08-01          5.171562                3.569744                6.773380   \n",
       "2019-09-01          4.613723                3.009782                6.217664   \n",
       "2019-10-01          3.449842                1.845660                5.054025   \n",
       "2019-11-01          2.833024                1.228440                4.437609   \n",
       "2019-12-01          3.043657                1.438876                4.648439   \n",
       "2020-01-01          2.907440                1.302569                4.512311   \n",
       "2020-02-01          2.760683                1.155748                4.365618   \n",
       "\n",
       "            Albemarle, NC  lower Albemarle, NC  upper Albemarle, NC  \\\n",
       "2019-05-01       3.461614             1.960157             4.963072   \n",
       "2019-06-01       4.748512             3.229404             6.267621   \n",
       "2019-07-01       5.211461             3.682058             6.740863   \n",
       "2019-08-01       4.538334             3.002113             6.074555   \n",
       "2019-09-01       3.479564             1.943112             5.016015   \n",
       "2019-10-01       3.654706             2.117471             5.191941   \n",
       "2019-11-01       3.578847             2.041373             5.116321   \n",
       "2019-12-01       3.945386             2.407895             5.482877   \n",
       "2020-01-01       3.020206             1.482598             4.557815   \n",
       "2020-02-01       3.227472             1.689957             4.764987   \n",
       "\n",
       "            Arcola, NC  ...  upper YADKINVILLE 6 E, NC  HAYESVILLE 1 NE, NC  \\\n",
       "2019-05-01    4.101742  ...                   5.865633             6.052865   \n",
       "2019-06-01    4.453031  ...                   5.482044             5.717889   \n",
       "2019-07-01    4.030026  ...                   6.198524             6.071343   \n",
       "2019-08-01    3.948713  ...                   6.188571             5.126533   \n",
       "2019-09-01    4.547796  ...                   5.482877             5.063930   \n",
       "2019-10-01    4.270212  ...                   4.877054             4.244699   \n",
       "2019-11-01    4.145416  ...                   4.565123             5.128604   \n",
       "2019-12-01    4.089217  ...                   5.244915             5.843728   \n",
       "2020-01-01    3.895951  ...                   4.858702             5.472307   \n",
       "2020-02-01    3.833445  ...                   4.400556             5.590564   \n",
       "\n",
       "            lower HAYESVILLE 1 NE, NC  upper HAYESVILLE 1 NE, NC  \\\n",
       "2019-05-01                   4.681224                   7.424506   \n",
       "2019-06-01                   4.332300                   7.103479   \n",
       "2019-07-01                   4.673333                   7.469353   \n",
       "2019-08-01                   3.712651                   6.540416   \n",
       "2019-09-01                   3.647114                   6.480747   \n",
       "2019-10-01                   2.824788                   5.664609   \n",
       "2019-11-01                   3.708378                   6.548829   \n",
       "2019-12-01                   4.423051                   7.264404   \n",
       "2020-01-01                   4.051615                   6.892998   \n",
       "2020-02-01                   4.169830                   7.011297   \n",
       "\n",
       "            MURPHY 4ESE, NC  lower MURPHY 4ESE, NC  upper MURPHY 4ESE, NC  \\\n",
       "2019-05-01         6.054696               4.605734               7.503659   \n",
       "2019-06-01         6.150096               4.690559               7.609633   \n",
       "2019-07-01         5.999118               4.534753               7.463484   \n",
       "2019-08-01         4.852656               3.379151               6.326161   \n",
       "2019-09-01         4.718284               3.234249               6.202319   \n",
       "2019-10-01         3.892131               2.403399               5.380862   \n",
       "2019-11-01         4.462930               2.971968               5.953892   \n",
       "2019-12-01         5.297449               3.806008               6.788890   \n",
       "2020-01-01         4.975608               3.483947               6.467269   \n",
       "2020-02-01         5.443202               3.951571               6.934832   \n",
       "\n",
       "             KING, NC  lower  KING, NC  upper  KING, NC  \n",
       "2019-05-01   4.555015         3.238458         5.871571  \n",
       "2019-06-01   3.477236         2.154377         4.800094  \n",
       "2019-07-01   4.060046         2.734256         5.385835  \n",
       "2019-08-01   4.301428         2.974102         5.628753  \n",
       "2019-09-01   4.442798         3.114995         5.770601  \n",
       "2019-10-01   4.220072         2.891967         5.548176  \n",
       "2019-11-01   4.280093         2.951938         5.608247  \n",
       "2019-12-01   4.521210         3.193000         5.849421  \n",
       "2020-01-01   4.132021         2.803813         5.460228  \n",
       "2020-02-01   4.021765         2.693549         5.349981  \n",
       "\n",
       "[10 rows x 312 columns]"
      ]
     },
     "execution_count": 11,
     "metadata": {},
     "output_type": "execute_result"
    }
   ],
   "source": [
    "pre_df = prediction_fx(ncrd_less, '2019-05-01', '2069-05-01')\n",
    "pre_df.head(10)"
   ]
  },
  {
   "cell_type": "code",
   "execution_count": 5,
   "metadata": {
    "ExecuteTime": {
     "end_time": "2019-09-01T15:51:05.178689Z",
     "start_time": "2019-09-01T15:51:05.147466Z"
    }
   },
   "outputs": [],
   "source": [
    "exo_var_dict2 = {\n",
    "    'WHITEVILLE 7 NW, NC': rd[[' LORIS 2 S, SC']],\n",
    "    'CASAR, NC': rd[['GAFFNEY 6 E, SC']],\n",
    "    'FOREST CITY 8 W, NC': rd[['GAFFNEY 6 E, SC']],\n",
    "    'GASTONIA, NC': rd[['FORT MILL 4 NW, SC','GAFFNEY 6 E, SC']],\n",
    "    'LAKE LURE 2, NC': rd[['CHESNEE 7 WSW, SC']],\n",
    "    ' MOUNT HOLLY 4 NE, NC': rd[['CHESNEE 7 WSW, SC','GAFFNEY 6 E, SC']],\n",
    "    'ELIZABETHTOWN, NC': rd[[' LORIS 2 S, SC']],\n",
    "    'GRANDFATHER MTN, NC': rd[['ELIZABETHTON, TN']]\n",
    "    \n",
    "}"
   ]
  },
  {
   "cell_type": "code",
   "execution_count": 6,
   "metadata": {
    "ExecuteTime": {
     "end_time": "2019-09-01T15:51:05.460573Z",
     "start_time": "2019-09-01T15:51:05.428687Z"
    }
   },
   "outputs": [],
   "source": [
    "def prediction_exog_fx2(data, exog_dict, begin, end):\n",
    "    base = datetime.strptime(begin,'%Y-%m-%d')\n",
    "    date_list = [base + relativedelta(months=x) for x in range(600)]\n",
    "    prediction_df = pd.DataFrame(index = date_list)\n",
    "    pred_val_df = pd.DataFrame(index = date_list)\n",
    "    exog_predictions_df = pd.DataFrame(index = date_list)\n",
    "    for key,value in tqdm(exog_dict.items()):\n",
    "        loc = data[key]\n",
    "        mod_fit1 = sarima_model_creation(loc, 4,0,3,3,0,4, 12,exog=value)\n",
    "        if value.shape[1] > 1:\n",
    "            shap = value.shape[1]\n",
    "            for i in range(shap):\n",
    "                exog_mod_fit = sarima_model_creation(value.iloc[:,i],4,0,3,3,0,4,12)\n",
    "                e_preds2 = pd.DataFrame(exog_mod_fit.predict(start=begin, end=end))\n",
    "                if i is 0:\n",
    "                    exog_predictions_df = e_preds2\n",
    "                else:\n",
    "                    exog_predictions_df = pd.merge(exog_predictions_df, e_preds2, left_index=True, \n",
    "                                                   right_index=True)\n",
    "        else:\n",
    "            exog_mod_fit = sarima_model_creation(value, 4,0,3,3,0,4,12)\n",
    "            exog_predictions_df = pd.DataFrame(exog_mod_fit.predict(start=begin, end=end))\n",
    "        future_pred = mod_fit1.get_prediction(exog=exog_predictions_df,start=begin, end=end)\n",
    "        future_pred_ci = future_pred.conf_int(alpha=0.5)\n",
    "        future_pred_val= pd.DataFrame(mod_fit1.predict(exog=exog_predictions_df, start=begin, end=end), \n",
    "                                      columns = [key])\n",
    "        future_pred_full = pd.merge(future_pred_val, future_pred_ci, left_index=True, right_index=True)\n",
    "        prediction_df = pd.merge(prediction_df, future_pred_full, left_index=True, right_index=True)\n",
    "    return(prediction_df)"
   ]
  },
  {
   "cell_type": "code",
   "execution_count": 7,
   "metadata": {
    "ExecuteTime": {
     "end_time": "2019-09-01T16:13:54.582228Z",
     "start_time": "2019-09-01T15:51:05.726182Z"
    },
    "scrolled": true
   },
   "outputs": [
    {
     "data": {
      "application/vnd.jupyter.widget-view+json": {
       "model_id": "c24552103755401eb071a06ba0127afc",
       "version_major": 2,
       "version_minor": 0
      },
      "text/plain": [
       "HBox(children=(IntProgress(value=0, max=8), HTML(value='')))"
      ]
     },
     "metadata": {},
     "output_type": "display_data"
    },
    {
     "name": "stdout",
     "output_type": "stream",
     "text": [
      "\n"
     ]
    }
   ],
   "source": [
    "e_ci_df = prediction_exog_fx2(rd, exo_var_dict2, '2019-05-01', '2069-05-01')"
   ]
  },
  {
   "cell_type": "code",
   "execution_count": 8,
   "metadata": {
    "ExecuteTime": {
     "end_time": "2019-09-01T16:13:55.248761Z",
     "start_time": "2019-09-01T16:13:55.104864Z"
    },
    "scrolled": true
   },
   "outputs": [
    {
     "data": {
      "text/html": [
       "<div>\n",
       "<style scoped>\n",
       "    .dataframe tbody tr th:only-of-type {\n",
       "        vertical-align: middle;\n",
       "    }\n",
       "\n",
       "    .dataframe tbody tr th {\n",
       "        vertical-align: top;\n",
       "    }\n",
       "\n",
       "    .dataframe thead th {\n",
       "        text-align: right;\n",
       "    }\n",
       "</style>\n",
       "<table border=\"1\" class=\"dataframe\">\n",
       "  <thead>\n",
       "    <tr style=\"text-align: right;\">\n",
       "      <th></th>\n",
       "      <th>WHITEVILLE 7 NW, NC</th>\n",
       "      <th>lower WHITEVILLE 7 NW, NC</th>\n",
       "      <th>upper WHITEVILLE 7 NW, NC</th>\n",
       "      <th>CASAR, NC</th>\n",
       "      <th>lower CASAR, NC</th>\n",
       "      <th>upper CASAR, NC</th>\n",
       "      <th>FOREST CITY 8 W, NC</th>\n",
       "      <th>lower FOREST CITY 8 W, NC</th>\n",
       "      <th>upper FOREST CITY 8 W, NC</th>\n",
       "      <th>GASTONIA, NC</th>\n",
       "      <th>...</th>\n",
       "      <th>upper LAKE LURE 2, NC</th>\n",
       "      <th>MOUNT HOLLY 4 NE, NC</th>\n",
       "      <th>lower  MOUNT HOLLY 4 NE, NC</th>\n",
       "      <th>upper  MOUNT HOLLY 4 NE, NC</th>\n",
       "      <th>ELIZABETHTOWN, NC</th>\n",
       "      <th>lower ELIZABETHTOWN, NC</th>\n",
       "      <th>upper ELIZABETHTOWN, NC</th>\n",
       "      <th>GRANDFATHER MTN, NC</th>\n",
       "      <th>lower GRANDFATHER MTN, NC</th>\n",
       "      <th>upper GRANDFATHER MTN, NC</th>\n",
       "    </tr>\n",
       "  </thead>\n",
       "  <tbody>\n",
       "    <tr>\n",
       "      <th>2019-05-01</th>\n",
       "      <td>5.753516</td>\n",
       "      <td>4.268563</td>\n",
       "      <td>7.238470</td>\n",
       "      <td>3.591515</td>\n",
       "      <td>2.521395</td>\n",
       "      <td>4.661635</td>\n",
       "      <td>3.899437</td>\n",
       "      <td>2.865787</td>\n",
       "      <td>4.933087</td>\n",
       "      <td>4.178921</td>\n",
       "      <td>...</td>\n",
       "      <td>8.308546</td>\n",
       "      <td>3.718346</td>\n",
       "      <td>2.804238</td>\n",
       "      <td>4.632454</td>\n",
       "      <td>4.539367</td>\n",
       "      <td>3.042719</td>\n",
       "      <td>6.036016</td>\n",
       "      <td>7.329324</td>\n",
       "      <td>5.403461</td>\n",
       "      <td>9.255187</td>\n",
       "    </tr>\n",
       "    <tr>\n",
       "      <th>2019-06-01</th>\n",
       "      <td>3.724518</td>\n",
       "      <td>2.227311</td>\n",
       "      <td>5.221724</td>\n",
       "      <td>4.899144</td>\n",
       "      <td>3.793062</td>\n",
       "      <td>6.005226</td>\n",
       "      <td>4.043647</td>\n",
       "      <td>2.995293</td>\n",
       "      <td>5.092002</td>\n",
       "      <td>3.854757</td>\n",
       "      <td>...</td>\n",
       "      <td>6.631163</td>\n",
       "      <td>3.893037</td>\n",
       "      <td>2.974888</td>\n",
       "      <td>4.811186</td>\n",
       "      <td>4.742576</td>\n",
       "      <td>3.212933</td>\n",
       "      <td>6.272219</td>\n",
       "      <td>6.904584</td>\n",
       "      <td>4.970852</td>\n",
       "      <td>8.838316</td>\n",
       "    </tr>\n",
       "    <tr>\n",
       "      <th>2019-07-01</th>\n",
       "      <td>5.557662</td>\n",
       "      <td>4.057042</td>\n",
       "      <td>7.058282</td>\n",
       "      <td>4.932119</td>\n",
       "      <td>3.824471</td>\n",
       "      <td>6.039766</td>\n",
       "      <td>4.229915</td>\n",
       "      <td>3.177496</td>\n",
       "      <td>5.282334</td>\n",
       "      <td>3.854248</td>\n",
       "      <td>...</td>\n",
       "      <td>6.500716</td>\n",
       "      <td>3.564906</td>\n",
       "      <td>2.645156</td>\n",
       "      <td>4.484657</td>\n",
       "      <td>5.759743</td>\n",
       "      <td>4.228032</td>\n",
       "      <td>7.291454</td>\n",
       "      <td>7.503359</td>\n",
       "      <td>5.569007</td>\n",
       "      <td>9.437710</td>\n",
       "    </tr>\n",
       "    <tr>\n",
       "      <th>2019-08-01</th>\n",
       "      <td>6.962032</td>\n",
       "      <td>5.457507</td>\n",
       "      <td>8.466557</td>\n",
       "      <td>4.510153</td>\n",
       "      <td>3.402346</td>\n",
       "      <td>5.617961</td>\n",
       "      <td>4.273738</td>\n",
       "      <td>3.220887</td>\n",
       "      <td>5.326590</td>\n",
       "      <td>3.864488</td>\n",
       "      <td>...</td>\n",
       "      <td>7.107185</td>\n",
       "      <td>3.462391</td>\n",
       "      <td>2.535286</td>\n",
       "      <td>4.389496</td>\n",
       "      <td>6.681779</td>\n",
       "      <td>5.150062</td>\n",
       "      <td>8.213496</td>\n",
       "      <td>6.570490</td>\n",
       "      <td>4.636118</td>\n",
       "      <td>8.504862</td>\n",
       "    </tr>\n",
       "    <tr>\n",
       "      <th>2019-09-01</th>\n",
       "      <td>5.759614</td>\n",
       "      <td>4.254405</td>\n",
       "      <td>7.264822</td>\n",
       "      <td>4.223978</td>\n",
       "      <td>3.115213</td>\n",
       "      <td>5.332743</td>\n",
       "      <td>4.151798</td>\n",
       "      <td>3.098847</td>\n",
       "      <td>5.204750</td>\n",
       "      <td>3.730619</td>\n",
       "      <td>...</td>\n",
       "      <td>7.046454</td>\n",
       "      <td>3.215256</td>\n",
       "      <td>2.288001</td>\n",
       "      <td>4.142510</td>\n",
       "      <td>7.964787</td>\n",
       "      <td>6.432967</td>\n",
       "      <td>9.496607</td>\n",
       "      <td>5.825237</td>\n",
       "      <td>3.890625</td>\n",
       "      <td>7.759848</td>\n",
       "    </tr>\n",
       "    <tr>\n",
       "      <th>2019-10-01</th>\n",
       "      <td>3.492725</td>\n",
       "      <td>1.984399</td>\n",
       "      <td>5.001051</td>\n",
       "      <td>3.624053</td>\n",
       "      <td>2.515007</td>\n",
       "      <td>4.733099</td>\n",
       "      <td>3.761492</td>\n",
       "      <td>2.708524</td>\n",
       "      <td>4.814459</td>\n",
       "      <td>3.630010</td>\n",
       "      <td>...</td>\n",
       "      <td>6.591657</td>\n",
       "      <td>3.428503</td>\n",
       "      <td>2.501080</td>\n",
       "      <td>4.355927</td>\n",
       "      <td>5.165368</td>\n",
       "      <td>3.633510</td>\n",
       "      <td>6.697226</td>\n",
       "      <td>5.788173</td>\n",
       "      <td>3.853509</td>\n",
       "      <td>7.722838</td>\n",
       "    </tr>\n",
       "    <tr>\n",
       "      <th>2019-11-01</th>\n",
       "      <td>3.845209</td>\n",
       "      <td>2.334046</td>\n",
       "      <td>5.356373</td>\n",
       "      <td>4.545980</td>\n",
       "      <td>3.436555</td>\n",
       "      <td>5.655404</td>\n",
       "      <td>4.187163</td>\n",
       "      <td>3.134137</td>\n",
       "      <td>5.240188</td>\n",
       "      <td>3.811119</td>\n",
       "      <td>...</td>\n",
       "      <td>6.136522</td>\n",
       "      <td>3.288401</td>\n",
       "      <td>2.356889</td>\n",
       "      <td>4.219913</td>\n",
       "      <td>4.493145</td>\n",
       "      <td>2.961288</td>\n",
       "      <td>6.025003</td>\n",
       "      <td>5.711345</td>\n",
       "      <td>3.776455</td>\n",
       "      <td>7.646235</td>\n",
       "    </tr>\n",
       "    <tr>\n",
       "      <th>2019-12-01</th>\n",
       "      <td>3.647705</td>\n",
       "      <td>2.136544</td>\n",
       "      <td>5.158867</td>\n",
       "      <td>4.362686</td>\n",
       "      <td>3.252763</td>\n",
       "      <td>5.472608</td>\n",
       "      <td>3.789722</td>\n",
       "      <td>2.736700</td>\n",
       "      <td>4.842743</td>\n",
       "      <td>3.485347</td>\n",
       "      <td>...</td>\n",
       "      <td>6.744548</td>\n",
       "      <td>3.782379</td>\n",
       "      <td>2.850735</td>\n",
       "      <td>4.714022</td>\n",
       "      <td>4.593129</td>\n",
       "      <td>3.061223</td>\n",
       "      <td>6.125036</td>\n",
       "      <td>6.099219</td>\n",
       "      <td>4.164232</td>\n",
       "      <td>8.034206</td>\n",
       "    </tr>\n",
       "    <tr>\n",
       "      <th>2020-01-01</th>\n",
       "      <td>2.551145</td>\n",
       "      <td>1.037041</td>\n",
       "      <td>4.065250</td>\n",
       "      <td>4.507149</td>\n",
       "      <td>3.396863</td>\n",
       "      <td>5.617435</td>\n",
       "      <td>4.227263</td>\n",
       "      <td>3.174245</td>\n",
       "      <td>5.280282</td>\n",
       "      <td>3.782411</td>\n",
       "      <td>...</td>\n",
       "      <td>6.266513</td>\n",
       "      <td>3.369102</td>\n",
       "      <td>2.437460</td>\n",
       "      <td>4.300745</td>\n",
       "      <td>4.532317</td>\n",
       "      <td>3.000391</td>\n",
       "      <td>6.064244</td>\n",
       "      <td>5.944489</td>\n",
       "      <td>4.009276</td>\n",
       "      <td>7.879702</td>\n",
       "    </tr>\n",
       "    <tr>\n",
       "      <th>2020-02-01</th>\n",
       "      <td>4.253857</td>\n",
       "      <td>2.738272</td>\n",
       "      <td>5.769442</td>\n",
       "      <td>4.019727</td>\n",
       "      <td>2.909019</td>\n",
       "      <td>5.130436</td>\n",
       "      <td>3.890641</td>\n",
       "      <td>2.837610</td>\n",
       "      <td>4.943671</td>\n",
       "      <td>3.878353</td>\n",
       "      <td>...</td>\n",
       "      <td>6.474912</td>\n",
       "      <td>3.404534</td>\n",
       "      <td>2.470614</td>\n",
       "      <td>4.338455</td>\n",
       "      <td>5.310876</td>\n",
       "      <td>3.778936</td>\n",
       "      <td>6.842817</td>\n",
       "      <td>6.137058</td>\n",
       "      <td>4.201706</td>\n",
       "      <td>8.072410</td>\n",
       "    </tr>\n",
       "  </tbody>\n",
       "</table>\n",
       "<p>10 rows × 24 columns</p>\n",
       "</div>"
      ],
      "text/plain": [
       "            WHITEVILLE 7 NW, NC  lower WHITEVILLE 7 NW, NC  \\\n",
       "2019-05-01             5.753516                   4.268563   \n",
       "2019-06-01             3.724518                   2.227311   \n",
       "2019-07-01             5.557662                   4.057042   \n",
       "2019-08-01             6.962032                   5.457507   \n",
       "2019-09-01             5.759614                   4.254405   \n",
       "2019-10-01             3.492725                   1.984399   \n",
       "2019-11-01             3.845209                   2.334046   \n",
       "2019-12-01             3.647705                   2.136544   \n",
       "2020-01-01             2.551145                   1.037041   \n",
       "2020-02-01             4.253857                   2.738272   \n",
       "\n",
       "            upper WHITEVILLE 7 NW, NC  CASAR, NC  lower CASAR, NC  \\\n",
       "2019-05-01                   7.238470   3.591515         2.521395   \n",
       "2019-06-01                   5.221724   4.899144         3.793062   \n",
       "2019-07-01                   7.058282   4.932119         3.824471   \n",
       "2019-08-01                   8.466557   4.510153         3.402346   \n",
       "2019-09-01                   7.264822   4.223978         3.115213   \n",
       "2019-10-01                   5.001051   3.624053         2.515007   \n",
       "2019-11-01                   5.356373   4.545980         3.436555   \n",
       "2019-12-01                   5.158867   4.362686         3.252763   \n",
       "2020-01-01                   4.065250   4.507149         3.396863   \n",
       "2020-02-01                   5.769442   4.019727         2.909019   \n",
       "\n",
       "            upper CASAR, NC  FOREST CITY 8 W, NC  lower FOREST CITY 8 W, NC  \\\n",
       "2019-05-01         4.661635             3.899437                   2.865787   \n",
       "2019-06-01         6.005226             4.043647                   2.995293   \n",
       "2019-07-01         6.039766             4.229915                   3.177496   \n",
       "2019-08-01         5.617961             4.273738                   3.220887   \n",
       "2019-09-01         5.332743             4.151798                   3.098847   \n",
       "2019-10-01         4.733099             3.761492                   2.708524   \n",
       "2019-11-01         5.655404             4.187163                   3.134137   \n",
       "2019-12-01         5.472608             3.789722                   2.736700   \n",
       "2020-01-01         5.617435             4.227263                   3.174245   \n",
       "2020-02-01         5.130436             3.890641                   2.837610   \n",
       "\n",
       "            upper FOREST CITY 8 W, NC  GASTONIA, NC  ...  \\\n",
       "2019-05-01                   4.933087      4.178921  ...   \n",
       "2019-06-01                   5.092002      3.854757  ...   \n",
       "2019-07-01                   5.282334      3.854248  ...   \n",
       "2019-08-01                   5.326590      3.864488  ...   \n",
       "2019-09-01                   5.204750      3.730619  ...   \n",
       "2019-10-01                   4.814459      3.630010  ...   \n",
       "2019-11-01                   5.240188      3.811119  ...   \n",
       "2019-12-01                   4.842743      3.485347  ...   \n",
       "2020-01-01                   5.280282      3.782411  ...   \n",
       "2020-02-01                   4.943671      3.878353  ...   \n",
       "\n",
       "            upper LAKE LURE 2, NC   MOUNT HOLLY 4 NE, NC  \\\n",
       "2019-05-01               8.308546               3.718346   \n",
       "2019-06-01               6.631163               3.893037   \n",
       "2019-07-01               6.500716               3.564906   \n",
       "2019-08-01               7.107185               3.462391   \n",
       "2019-09-01               7.046454               3.215256   \n",
       "2019-10-01               6.591657               3.428503   \n",
       "2019-11-01               6.136522               3.288401   \n",
       "2019-12-01               6.744548               3.782379   \n",
       "2020-01-01               6.266513               3.369102   \n",
       "2020-02-01               6.474912               3.404534   \n",
       "\n",
       "            lower  MOUNT HOLLY 4 NE, NC  upper  MOUNT HOLLY 4 NE, NC  \\\n",
       "2019-05-01                     2.804238                     4.632454   \n",
       "2019-06-01                     2.974888                     4.811186   \n",
       "2019-07-01                     2.645156                     4.484657   \n",
       "2019-08-01                     2.535286                     4.389496   \n",
       "2019-09-01                     2.288001                     4.142510   \n",
       "2019-10-01                     2.501080                     4.355927   \n",
       "2019-11-01                     2.356889                     4.219913   \n",
       "2019-12-01                     2.850735                     4.714022   \n",
       "2020-01-01                     2.437460                     4.300745   \n",
       "2020-02-01                     2.470614                     4.338455   \n",
       "\n",
       "            ELIZABETHTOWN, NC  lower ELIZABETHTOWN, NC  \\\n",
       "2019-05-01           4.539367                 3.042719   \n",
       "2019-06-01           4.742576                 3.212933   \n",
       "2019-07-01           5.759743                 4.228032   \n",
       "2019-08-01           6.681779                 5.150062   \n",
       "2019-09-01           7.964787                 6.432967   \n",
       "2019-10-01           5.165368                 3.633510   \n",
       "2019-11-01           4.493145                 2.961288   \n",
       "2019-12-01           4.593129                 3.061223   \n",
       "2020-01-01           4.532317                 3.000391   \n",
       "2020-02-01           5.310876                 3.778936   \n",
       "\n",
       "            upper ELIZABETHTOWN, NC  GRANDFATHER MTN, NC  \\\n",
       "2019-05-01                 6.036016             7.329324   \n",
       "2019-06-01                 6.272219             6.904584   \n",
       "2019-07-01                 7.291454             7.503359   \n",
       "2019-08-01                 8.213496             6.570490   \n",
       "2019-09-01                 9.496607             5.825237   \n",
       "2019-10-01                 6.697226             5.788173   \n",
       "2019-11-01                 6.025003             5.711345   \n",
       "2019-12-01                 6.125036             6.099219   \n",
       "2020-01-01                 6.064244             5.944489   \n",
       "2020-02-01                 6.842817             6.137058   \n",
       "\n",
       "            lower GRANDFATHER MTN, NC  upper GRANDFATHER MTN, NC  \n",
       "2019-05-01                   5.403461                   9.255187  \n",
       "2019-06-01                   4.970852                   8.838316  \n",
       "2019-07-01                   5.569007                   9.437710  \n",
       "2019-08-01                   4.636118                   8.504862  \n",
       "2019-09-01                   3.890625                   7.759848  \n",
       "2019-10-01                   3.853509                   7.722838  \n",
       "2019-11-01                   3.776455                   7.646235  \n",
       "2019-12-01                   4.164232                   8.034206  \n",
       "2020-01-01                   4.009276                   7.879702  \n",
       "2020-02-01                   4.201706                   8.072410  \n",
       "\n",
       "[10 rows x 24 columns]"
      ]
     },
     "execution_count": 8,
     "metadata": {},
     "output_type": "execute_result"
    }
   ],
   "source": [
    "e_ci_df.head(10)"
   ]
  },
  {
   "cell_type": "code",
   "execution_count": 12,
   "metadata": {
    "ExecuteTime": {
     "end_time": "2019-09-01T18:54:39.759602Z",
     "start_time": "2019-09-01T18:54:39.650231Z"
    }
   },
   "outputs": [],
   "source": [
    "merged_ci_vals = pd.merge(pre_df, e_ci_df, left_index=True, right_index=True)"
   ]
  },
  {
   "cell_type": "code",
   "execution_count": 13,
   "metadata": {
    "ExecuteTime": {
     "end_time": "2019-09-01T18:54:42.853522Z",
     "start_time": "2019-09-01T18:54:40.228292Z"
    }
   },
   "outputs": [],
   "source": [
    "merged_ci_vals.to_csv('../data/manipulated_data/predictions.csv')"
   ]
  },
  {
   "cell_type": "code",
   "execution_count": 14,
   "metadata": {
    "ExecuteTime": {
     "end_time": "2019-09-01T18:54:43.385144Z",
     "start_time": "2019-09-01T18:54:43.291379Z"
    }
   },
   "outputs": [
    {
     "data": {
      "text/html": [
       "<div>\n",
       "<style scoped>\n",
       "    .dataframe tbody tr th:only-of-type {\n",
       "        vertical-align: middle;\n",
       "    }\n",
       "\n",
       "    .dataframe tbody tr th {\n",
       "        vertical-align: top;\n",
       "    }\n",
       "\n",
       "    .dataframe thead th {\n",
       "        text-align: right;\n",
       "    }\n",
       "</style>\n",
       "<table border=\"1\" class=\"dataframe\">\n",
       "  <thead>\n",
       "    <tr style=\"text-align: right;\">\n",
       "      <th></th>\n",
       "      <th>Raleigh, NC</th>\n",
       "      <th>lower Raleigh, NC</th>\n",
       "      <th>upper Raleigh, NC</th>\n",
       "      <th>Fayetteville, NC</th>\n",
       "      <th>lower Fayetteville, NC</th>\n",
       "      <th>upper Fayetteville, NC</th>\n",
       "      <th>Albemarle, NC</th>\n",
       "      <th>lower Albemarle, NC</th>\n",
       "      <th>upper Albemarle, NC</th>\n",
       "      <th>Arcola, NC</th>\n",
       "      <th>...</th>\n",
       "      <th>upper LAKE LURE 2, NC</th>\n",
       "      <th>MOUNT HOLLY 4 NE, NC</th>\n",
       "      <th>lower  MOUNT HOLLY 4 NE, NC</th>\n",
       "      <th>upper  MOUNT HOLLY 4 NE, NC</th>\n",
       "      <th>ELIZABETHTOWN, NC</th>\n",
       "      <th>lower ELIZABETHTOWN, NC</th>\n",
       "      <th>upper ELIZABETHTOWN, NC</th>\n",
       "      <th>GRANDFATHER MTN, NC</th>\n",
       "      <th>lower GRANDFATHER MTN, NC</th>\n",
       "      <th>upper GRANDFATHER MTN, NC</th>\n",
       "    </tr>\n",
       "  </thead>\n",
       "  <tbody>\n",
       "    <tr>\n",
       "      <th>2019-05-01</th>\n",
       "      <td>3.366287</td>\n",
       "      <td>1.881736</td>\n",
       "      <td>4.850837</td>\n",
       "      <td>3.111657</td>\n",
       "      <td>1.523134</td>\n",
       "      <td>4.700181</td>\n",
       "      <td>3.461614</td>\n",
       "      <td>1.960157</td>\n",
       "      <td>4.963072</td>\n",
       "      <td>4.101742</td>\n",
       "      <td>...</td>\n",
       "      <td>8.308546</td>\n",
       "      <td>3.718346</td>\n",
       "      <td>2.804238</td>\n",
       "      <td>4.632454</td>\n",
       "      <td>4.539367</td>\n",
       "      <td>3.042719</td>\n",
       "      <td>6.036016</td>\n",
       "      <td>7.329324</td>\n",
       "      <td>5.403461</td>\n",
       "      <td>9.255187</td>\n",
       "    </tr>\n",
       "    <tr>\n",
       "      <th>2019-06-01</th>\n",
       "      <td>4.311068</td>\n",
       "      <td>2.826038</td>\n",
       "      <td>5.796097</td>\n",
       "      <td>4.639369</td>\n",
       "      <td>3.038618</td>\n",
       "      <td>6.240120</td>\n",
       "      <td>4.748512</td>\n",
       "      <td>3.229404</td>\n",
       "      <td>6.267621</td>\n",
       "      <td>4.453031</td>\n",
       "      <td>...</td>\n",
       "      <td>6.631163</td>\n",
       "      <td>3.893037</td>\n",
       "      <td>2.974888</td>\n",
       "      <td>4.811186</td>\n",
       "      <td>4.742576</td>\n",
       "      <td>3.212933</td>\n",
       "      <td>6.272219</td>\n",
       "      <td>6.904584</td>\n",
       "      <td>4.970852</td>\n",
       "      <td>8.838316</td>\n",
       "    </tr>\n",
       "    <tr>\n",
       "      <th>2019-07-01</th>\n",
       "      <td>6.314961</td>\n",
       "      <td>4.828354</td>\n",
       "      <td>7.801568</td>\n",
       "      <td>4.736273</td>\n",
       "      <td>3.135275</td>\n",
       "      <td>6.337270</td>\n",
       "      <td>5.211461</td>\n",
       "      <td>3.682058</td>\n",
       "      <td>6.740863</td>\n",
       "      <td>4.030026</td>\n",
       "      <td>...</td>\n",
       "      <td>6.500716</td>\n",
       "      <td>3.564906</td>\n",
       "      <td>2.645156</td>\n",
       "      <td>4.484657</td>\n",
       "      <td>5.759743</td>\n",
       "      <td>4.228032</td>\n",
       "      <td>7.291454</td>\n",
       "      <td>7.503359</td>\n",
       "      <td>5.569007</td>\n",
       "      <td>9.437710</td>\n",
       "    </tr>\n",
       "    <tr>\n",
       "      <th>2019-08-01</th>\n",
       "      <td>4.145673</td>\n",
       "      <td>2.653229</td>\n",
       "      <td>5.638117</td>\n",
       "      <td>5.171562</td>\n",
       "      <td>3.569744</td>\n",
       "      <td>6.773380</td>\n",
       "      <td>4.538334</td>\n",
       "      <td>3.002113</td>\n",
       "      <td>6.074555</td>\n",
       "      <td>3.948713</td>\n",
       "      <td>...</td>\n",
       "      <td>7.107185</td>\n",
       "      <td>3.462391</td>\n",
       "      <td>2.535286</td>\n",
       "      <td>4.389496</td>\n",
       "      <td>6.681779</td>\n",
       "      <td>5.150062</td>\n",
       "      <td>8.213496</td>\n",
       "      <td>6.570490</td>\n",
       "      <td>4.636118</td>\n",
       "      <td>8.504862</td>\n",
       "    </tr>\n",
       "    <tr>\n",
       "      <th>2019-09-01</th>\n",
       "      <td>4.875324</td>\n",
       "      <td>3.382859</td>\n",
       "      <td>6.367790</td>\n",
       "      <td>4.613723</td>\n",
       "      <td>3.009782</td>\n",
       "      <td>6.217664</td>\n",
       "      <td>3.479564</td>\n",
       "      <td>1.943112</td>\n",
       "      <td>5.016015</td>\n",
       "      <td>4.547796</td>\n",
       "      <td>...</td>\n",
       "      <td>7.046454</td>\n",
       "      <td>3.215256</td>\n",
       "      <td>2.288001</td>\n",
       "      <td>4.142510</td>\n",
       "      <td>7.964787</td>\n",
       "      <td>6.432967</td>\n",
       "      <td>9.496607</td>\n",
       "      <td>5.825237</td>\n",
       "      <td>3.890625</td>\n",
       "      <td>7.759848</td>\n",
       "    </tr>\n",
       "    <tr>\n",
       "      <th>2019-10-01</th>\n",
       "      <td>4.620644</td>\n",
       "      <td>3.125386</td>\n",
       "      <td>6.115903</td>\n",
       "      <td>3.449842</td>\n",
       "      <td>1.845660</td>\n",
       "      <td>5.054025</td>\n",
       "      <td>3.654706</td>\n",
       "      <td>2.117471</td>\n",
       "      <td>5.191941</td>\n",
       "      <td>4.270212</td>\n",
       "      <td>...</td>\n",
       "      <td>6.591657</td>\n",
       "      <td>3.428503</td>\n",
       "      <td>2.501080</td>\n",
       "      <td>4.355927</td>\n",
       "      <td>5.165368</td>\n",
       "      <td>3.633510</td>\n",
       "      <td>6.697226</td>\n",
       "      <td>5.788173</td>\n",
       "      <td>3.853509</td>\n",
       "      <td>7.722838</td>\n",
       "    </tr>\n",
       "    <tr>\n",
       "      <th>2019-11-01</th>\n",
       "      <td>2.836573</td>\n",
       "      <td>1.338815</td>\n",
       "      <td>4.334331</td>\n",
       "      <td>2.833024</td>\n",
       "      <td>1.228440</td>\n",
       "      <td>4.437609</td>\n",
       "      <td>3.578847</td>\n",
       "      <td>2.041373</td>\n",
       "      <td>5.116321</td>\n",
       "      <td>4.145416</td>\n",
       "      <td>...</td>\n",
       "      <td>6.136522</td>\n",
       "      <td>3.288401</td>\n",
       "      <td>2.356889</td>\n",
       "      <td>4.219913</td>\n",
       "      <td>4.493145</td>\n",
       "      <td>2.961288</td>\n",
       "      <td>6.025003</td>\n",
       "      <td>5.711345</td>\n",
       "      <td>3.776455</td>\n",
       "      <td>7.646235</td>\n",
       "    </tr>\n",
       "    <tr>\n",
       "      <th>2019-12-01</th>\n",
       "      <td>3.028145</td>\n",
       "      <td>1.529850</td>\n",
       "      <td>4.526440</td>\n",
       "      <td>3.043657</td>\n",
       "      <td>1.438876</td>\n",
       "      <td>4.648439</td>\n",
       "      <td>3.945386</td>\n",
       "      <td>2.407895</td>\n",
       "      <td>5.482877</td>\n",
       "      <td>4.089217</td>\n",
       "      <td>...</td>\n",
       "      <td>6.744548</td>\n",
       "      <td>3.782379</td>\n",
       "      <td>2.850735</td>\n",
       "      <td>4.714022</td>\n",
       "      <td>4.593129</td>\n",
       "      <td>3.061223</td>\n",
       "      <td>6.125036</td>\n",
       "      <td>6.099219</td>\n",
       "      <td>4.164232</td>\n",
       "      <td>8.034206</td>\n",
       "    </tr>\n",
       "    <tr>\n",
       "      <th>2020-01-01</th>\n",
       "      <td>3.996280</td>\n",
       "      <td>2.495186</td>\n",
       "      <td>5.497373</td>\n",
       "      <td>2.907440</td>\n",
       "      <td>1.302569</td>\n",
       "      <td>4.512311</td>\n",
       "      <td>3.020206</td>\n",
       "      <td>1.482598</td>\n",
       "      <td>4.557815</td>\n",
       "      <td>3.895951</td>\n",
       "      <td>...</td>\n",
       "      <td>6.266513</td>\n",
       "      <td>3.369102</td>\n",
       "      <td>2.437460</td>\n",
       "      <td>4.300745</td>\n",
       "      <td>4.532317</td>\n",
       "      <td>3.000391</td>\n",
       "      <td>6.064244</td>\n",
       "      <td>5.944489</td>\n",
       "      <td>4.009276</td>\n",
       "      <td>7.879702</td>\n",
       "    </tr>\n",
       "    <tr>\n",
       "      <th>2020-02-01</th>\n",
       "      <td>2.822907</td>\n",
       "      <td>1.321267</td>\n",
       "      <td>4.324546</td>\n",
       "      <td>2.760683</td>\n",
       "      <td>1.155748</td>\n",
       "      <td>4.365618</td>\n",
       "      <td>3.227472</td>\n",
       "      <td>1.689957</td>\n",
       "      <td>4.764987</td>\n",
       "      <td>3.833445</td>\n",
       "      <td>...</td>\n",
       "      <td>6.474912</td>\n",
       "      <td>3.404534</td>\n",
       "      <td>2.470614</td>\n",
       "      <td>4.338455</td>\n",
       "      <td>5.310876</td>\n",
       "      <td>3.778936</td>\n",
       "      <td>6.842817</td>\n",
       "      <td>6.137058</td>\n",
       "      <td>4.201706</td>\n",
       "      <td>8.072410</td>\n",
       "    </tr>\n",
       "  </tbody>\n",
       "</table>\n",
       "<p>10 rows × 336 columns</p>\n",
       "</div>"
      ],
      "text/plain": [
       "            Raleigh, NC  lower Raleigh, NC  upper Raleigh, NC  \\\n",
       "2019-05-01     3.366287           1.881736           4.850837   \n",
       "2019-06-01     4.311068           2.826038           5.796097   \n",
       "2019-07-01     6.314961           4.828354           7.801568   \n",
       "2019-08-01     4.145673           2.653229           5.638117   \n",
       "2019-09-01     4.875324           3.382859           6.367790   \n",
       "2019-10-01     4.620644           3.125386           6.115903   \n",
       "2019-11-01     2.836573           1.338815           4.334331   \n",
       "2019-12-01     3.028145           1.529850           4.526440   \n",
       "2020-01-01     3.996280           2.495186           5.497373   \n",
       "2020-02-01     2.822907           1.321267           4.324546   \n",
       "\n",
       "            Fayetteville, NC  lower Fayetteville, NC  upper Fayetteville, NC  \\\n",
       "2019-05-01          3.111657                1.523134                4.700181   \n",
       "2019-06-01          4.639369                3.038618                6.240120   \n",
       "2019-07-01          4.736273                3.135275                6.337270   \n",
       "2019-08-01          5.171562                3.569744                6.773380   \n",
       "2019-09-01          4.613723                3.009782                6.217664   \n",
       "2019-10-01          3.449842                1.845660                5.054025   \n",
       "2019-11-01          2.833024                1.228440                4.437609   \n",
       "2019-12-01          3.043657                1.438876                4.648439   \n",
       "2020-01-01          2.907440                1.302569                4.512311   \n",
       "2020-02-01          2.760683                1.155748                4.365618   \n",
       "\n",
       "            Albemarle, NC  lower Albemarle, NC  upper Albemarle, NC  \\\n",
       "2019-05-01       3.461614             1.960157             4.963072   \n",
       "2019-06-01       4.748512             3.229404             6.267621   \n",
       "2019-07-01       5.211461             3.682058             6.740863   \n",
       "2019-08-01       4.538334             3.002113             6.074555   \n",
       "2019-09-01       3.479564             1.943112             5.016015   \n",
       "2019-10-01       3.654706             2.117471             5.191941   \n",
       "2019-11-01       3.578847             2.041373             5.116321   \n",
       "2019-12-01       3.945386             2.407895             5.482877   \n",
       "2020-01-01       3.020206             1.482598             4.557815   \n",
       "2020-02-01       3.227472             1.689957             4.764987   \n",
       "\n",
       "            Arcola, NC  ...  upper LAKE LURE 2, NC   MOUNT HOLLY 4 NE, NC  \\\n",
       "2019-05-01    4.101742  ...               8.308546               3.718346   \n",
       "2019-06-01    4.453031  ...               6.631163               3.893037   \n",
       "2019-07-01    4.030026  ...               6.500716               3.564906   \n",
       "2019-08-01    3.948713  ...               7.107185               3.462391   \n",
       "2019-09-01    4.547796  ...               7.046454               3.215256   \n",
       "2019-10-01    4.270212  ...               6.591657               3.428503   \n",
       "2019-11-01    4.145416  ...               6.136522               3.288401   \n",
       "2019-12-01    4.089217  ...               6.744548               3.782379   \n",
       "2020-01-01    3.895951  ...               6.266513               3.369102   \n",
       "2020-02-01    3.833445  ...               6.474912               3.404534   \n",
       "\n",
       "            lower  MOUNT HOLLY 4 NE, NC  upper  MOUNT HOLLY 4 NE, NC  \\\n",
       "2019-05-01                     2.804238                     4.632454   \n",
       "2019-06-01                     2.974888                     4.811186   \n",
       "2019-07-01                     2.645156                     4.484657   \n",
       "2019-08-01                     2.535286                     4.389496   \n",
       "2019-09-01                     2.288001                     4.142510   \n",
       "2019-10-01                     2.501080                     4.355927   \n",
       "2019-11-01                     2.356889                     4.219913   \n",
       "2019-12-01                     2.850735                     4.714022   \n",
       "2020-01-01                     2.437460                     4.300745   \n",
       "2020-02-01                     2.470614                     4.338455   \n",
       "\n",
       "            ELIZABETHTOWN, NC  lower ELIZABETHTOWN, NC  \\\n",
       "2019-05-01           4.539367                 3.042719   \n",
       "2019-06-01           4.742576                 3.212933   \n",
       "2019-07-01           5.759743                 4.228032   \n",
       "2019-08-01           6.681779                 5.150062   \n",
       "2019-09-01           7.964787                 6.432967   \n",
       "2019-10-01           5.165368                 3.633510   \n",
       "2019-11-01           4.493145                 2.961288   \n",
       "2019-12-01           4.593129                 3.061223   \n",
       "2020-01-01           4.532317                 3.000391   \n",
       "2020-02-01           5.310876                 3.778936   \n",
       "\n",
       "            upper ELIZABETHTOWN, NC  GRANDFATHER MTN, NC  \\\n",
       "2019-05-01                 6.036016             7.329324   \n",
       "2019-06-01                 6.272219             6.904584   \n",
       "2019-07-01                 7.291454             7.503359   \n",
       "2019-08-01                 8.213496             6.570490   \n",
       "2019-09-01                 9.496607             5.825237   \n",
       "2019-10-01                 6.697226             5.788173   \n",
       "2019-11-01                 6.025003             5.711345   \n",
       "2019-12-01                 6.125036             6.099219   \n",
       "2020-01-01                 6.064244             5.944489   \n",
       "2020-02-01                 6.842817             6.137058   \n",
       "\n",
       "            lower GRANDFATHER MTN, NC  upper GRANDFATHER MTN, NC  \n",
       "2019-05-01                   5.403461                   9.255187  \n",
       "2019-06-01                   4.970852                   8.838316  \n",
       "2019-07-01                   5.569007                   9.437710  \n",
       "2019-08-01                   4.636118                   8.504862  \n",
       "2019-09-01                   3.890625                   7.759848  \n",
       "2019-10-01                   3.853509                   7.722838  \n",
       "2019-11-01                   3.776455                   7.646235  \n",
       "2019-12-01                   4.164232                   8.034206  \n",
       "2020-01-01                   4.009276                   7.879702  \n",
       "2020-02-01                   4.201706                   8.072410  \n",
       "\n",
       "[10 rows x 336 columns]"
      ]
     },
     "execution_count": 14,
     "metadata": {},
     "output_type": "execute_result"
    }
   ],
   "source": [
    "merged_ci_vals.head(10)"
   ]
  },
  {
   "cell_type": "code",
   "execution_count": null,
   "metadata": {},
   "outputs": [],
   "source": []
  }
 ],
 "metadata": {
  "kernelspec": {
   "display_name": "Python 3",
   "language": "python",
   "name": "python3"
  },
  "language_info": {
   "codemirror_mode": {
    "name": "ipython",
    "version": 3
   },
   "file_extension": ".py",
   "mimetype": "text/x-python",
   "name": "python",
   "nbconvert_exporter": "python",
   "pygments_lexer": "ipython3",
   "version": "3.7.3"
  },
  "varInspector": {
   "cols": {
    "lenName": 16,
    "lenType": 16,
    "lenVar": 40
   },
   "kernels_config": {
    "python": {
     "delete_cmd_postfix": "",
     "delete_cmd_prefix": "del ",
     "library": "var_list.py",
     "varRefreshCmd": "print(var_dic_list())"
    },
    "r": {
     "delete_cmd_postfix": ") ",
     "delete_cmd_prefix": "rm(",
     "library": "var_list.r",
     "varRefreshCmd": "cat(var_dic_list()) "
    }
   },
   "types_to_exclude": [
    "module",
    "function",
    "builtin_function_or_method",
    "instance",
    "_Feature"
   ],
   "window_display": false
  }
 },
 "nbformat": 4,
 "nbformat_minor": 2
}
