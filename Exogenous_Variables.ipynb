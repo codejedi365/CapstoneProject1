{
 "cells": [
  {
   "cell_type": "code",
   "execution_count": 4,
   "metadata": {
    "ExecuteTime": {
     "end_time": "2019-09-01T13:02:20.060933Z",
     "start_time": "2019-09-01T13:02:19.904687Z"
    }
   },
   "outputs": [],
   "source": [
    "import pandas as pd\n",
    "import numpy as np\n",
    "import csv\n",
    "import statsmodels.api as sm\n",
    "import warnings\n",
    "from tqdm import tqdm_notebook as tqdm\n",
    "from sklearn.model_selection import train_test_split\n",
    "from itertools import combinations\n",
    "from scipy import stats\n",
    "from datetime import datetime\n",
    "from sklearn.metrics import mean_absolute_error\n",
    "from datetime import datetime\n",
    "from dateutil.relativedelta import relativedelta\n",
    "warnings.filterwarnings(\"ignore\")\n",
    "\n",
    "file = 'data/manipulated_data/rainfalldata.csv'\n",
    "rd = pd.read_csv(file)\n",
    "file2 = 'data/manipulated_data/ncrainfalldata.csv'\n",
    "ncrd = pd.read_csv(file2)\n",
    "rd.Date = pd.to_datetime(rd.Date)\n",
    "rd = rd.set_index('Date')\n",
    "ncrd.Date = pd.to_datetime(ncrd.Date)\n",
    "ncrd = ncrd.set_index('Date')"
   ]
  },
  {
   "cell_type": "code",
   "execution_count": 8,
   "metadata": {
    "ExecuteTime": {
     "end_time": "2019-08-20T10:30:04.299825Z",
     "start_time": "2019-08-20T10:30:04.206119Z"
    }
   },
   "outputs": [],
   "source": [
    "# this cell takes the stored exogen dictionary that is stored in the Data_Wrangling_CAP1 jupyter notebook\n",
    "# that was imported above.\n",
    "%store -r exogen\n"
   ]
  },
  {
   "cell_type": "code",
   "execution_count": 5,
   "metadata": {
    "ExecuteTime": {
     "end_time": "2019-09-01T13:02:29.823567Z",
     "start_time": "2019-09-01T13:02:29.807941Z"
    }
   },
   "outputs": [],
   "source": [
    "def sarima_model_creation(data, p, d, q, P, D, Q, m, exog=None):\n",
    "    my_order = [p,d,q]\n",
    "    my_sorder = [P,D,Q,m]\n",
    "    sarimamod = sm.tsa.statespace.SARIMAX(data, exog, order=my_order, seasonal_order=my_sorder, \n",
    "                                          enforce_stationarity=False, enforce_invertibility=False,\n",
    "                                          initialization='approximate_diffuse')\n",
    "    model_fit = sarimamod.fit()# start_params=[0, 0, 0, 0, 1])\n",
    "    return(model_fit)"
   ]
  },
  {
   "cell_type": "code",
   "execution_count": 6,
   "metadata": {
    "ExecuteTime": {
     "end_time": "2019-09-01T13:02:33.081089Z",
     "start_time": "2019-09-01T13:02:33.034217Z"
    }
   },
   "outputs": [],
   "source": [
    "def hyperparameter_find(training_data, comb, testing_data, search = False, exogtr = None, exogtest = None):\n",
    "    leastmae = 1000\n",
    "    for com in tqdm(comb):\n",
    "        li_one_step = []\n",
    "        for i in tqdm(range(len(testing_data))):\n",
    "            if i == 0:\n",
    "                copytraining = training_data.copy()\n",
    "                if exogtr is not None:\n",
    "                    excopy = exogtr.copy()\n",
    "                    mod_1 = sarima_model_creation(copytraining, com[0], 0, com[1], com[2], 0, \n",
    "                                                  com[3], 12, exog=excopy)\n",
    "                    one_step_pred = mod_1.forecast(exog=excopy.iloc[[-1]]) #uses the data from the year before\n",
    "                    excopy = pd.concat([excopy, exogtest.iloc[[i]]])\n",
    "                else:\n",
    "                    mod_1 = sarima_model_creation(copytraining, com[0], 0, com[1], com[2], 0, com[3], 12)\n",
    "                    one_step_pred = mod_1.forecast()\n",
    "                li_one_step.append(one_step_pred[0])\n",
    "                copytraining = pd.concat([copytraining, testing_data[[i]]])\n",
    "            else:\n",
    "                if exogtr is not None:\n",
    "                    mod_1 = sarima_model_creation(copytraining, com[0], 0, com[1], com[2], 0, \n",
    "                                                  com[3], 12, exog=excopy)\n",
    "                    one_step_pred2 = mod_1.forecast(exog=excopy.iloc[[-1]])\n",
    "                    excopy = pd.concat([excopy, exogtest.iloc[[i]]])\n",
    "                else:\n",
    "                    mod_1 = sarima_model_creation(copytraining, com[0], 0, com[1], com[2], 0, com[3], 12)\n",
    "                    one_step_pred2 = mod_1.forecast()\n",
    "                li_one_step.append(one_step_pred2[0])\n",
    "                copytraining = pd.concat([copytraining, testing_data[[i]]])\n",
    "        mae = mean_absolute_error(testing_data, li_one_step)\n",
    "        if search is True:\n",
    "            if mae < leastmae:\n",
    "                leastmae = mae\n",
    "                H_AR = com[0]\n",
    "                H_MA = com[1]\n",
    "                H_SAR = com[2]\n",
    "                H_SMA = com[3]\n",
    "            print(com,mae)            \n",
    "    if search is True:\n",
    "        return('AR: '+ str(H_AR), 'MA: ' +str(H_MA), 'SAR: '+str(H_SAR), 'SMA: '+str(H_SMA))\n",
    "    else:\n",
    "        return(mae)"
   ]
  },
  {
   "cell_type": "code",
   "execution_count": 6,
   "metadata": {
    "ExecuteTime": {
     "end_time": "2019-07-31T20:23:59.034914Z",
     "start_time": "2019-07-31T20:23:59.003666Z"
    }
   },
   "outputs": [],
   "source": [
    "def exog_combinations(df, exoe):\n",
    "    lo_dfs = []\n",
    "    if len(exoe) == 1:\n",
    "        lo_dfs.append(df.loc[:,exoe])\n",
    "    if len(exoe) > 1:\n",
    "        lo_dfs.append(df.loc[:,exoe])\n",
    "        for ex in exoe:\n",
    "            lo_dfs.append(df.loc[:,[ex]])\n",
    "        if len(exoe) >2:\n",
    "            for i in range(2, len(exoe)):\n",
    "                combolist = list(combinations(exoe,i))\n",
    "                for c in combolist:\n",
    "                    lo_dfs.append(df.loc[:,c])\n",
    "    return(lo_dfs)\n"
   ]
  },
  {
   "cell_type": "code",
   "execution_count": 7,
   "metadata": {},
   "outputs": [],
   "source": [
    "todokeys = ('TAPOCO, NC', 'TRYON, NC', 'WAYNESVILLE 1 E, NC', 'Boone 1 SE, NC', 'DANBURY, NC', 'EDEN, NC', ' MOUNT AIRY 2 W, NC', 'REIDSVILLE 2 NW, NC', 'HAYESVILLE 1 NE, NC', 'MURPHY 4ESE, NC', ' KING, NC')\n",
    "sub_exogen = {k: exogen[k] for k in todokeys}"
   ]
  },
  {
   "cell_type": "code",
   "execution_count": 8,
   "metadata": {
    "ExecuteTime": {
     "end_time": "2019-07-31T20:24:01.912170Z",
     "start_time": "2019-07-31T20:24:01.380989Z"
    }
   },
   "outputs": [
    {
     "data": {
      "application/vnd.jupyter.widget-view+json": {
       "model_id": "6184a883e0f0447abbd74d3dca8d8f56",
       "version_major": 2,
       "version_minor": 0
      },
      "text/plain": [
       "HBox(children=(IntProgress(value=0, max=11), HTML(value='')))"
      ]
     },
     "metadata": {},
     "output_type": "display_data"
    },
    {
     "name": "stdout",
     "output_type": "stream",
     "text": [
      "\n"
     ]
    }
   ],
   "source": [
    "from collections import defaultdict\n",
    "l_o_dfs = defaultdict(list)\n",
    "for key,value in tqdm(sub_exogen.items()):\n",
    "    lo_dfs2 = exog_combinations(rd, value)\n",
    "    l_o_dfs[key] = lo_dfs2\n",
    "# l_o_dfs['ROBBINSVILLE AG 5 NE, NC']"
   ]
  },
  {
   "cell_type": "code",
   "execution_count": 9,
   "metadata": {
    "ExecuteTime": {
     "end_time": "2019-07-31T20:24:07.727065Z",
     "start_time": "2019-07-31T20:24:07.695861Z"
    }
   },
   "outputs": [],
   "source": [
    "def exogenous_var(data, ncloc, l_exoloc, best_comb):\n",
    "    dat = data[ncloc]\n",
    "    tr, test = train_test_split(dat, test_size = 0.2, shuffle=False)\n",
    "    keymae = hyperparameter_find(tr, best_comb, test)\n",
    "    print('keymae of: '+ key +' = '+str(keymae))\n",
    "    bettermae = {}\n",
    "    for exog in tqdm(l_exoloc):\n",
    "        extr, extest = train_test_split(exog, test_size = 0.2, shuffle=False)\n",
    "        exmae = hyperparameter_find(tr, best_comb, test, exogtr=extr, exogtest = extest)\n",
    "        co = tuple(exog.columns)\n",
    "        print('exmae = {}'.format(co) + ' '+ str(exmae))\n",
    "        if exmae < keymae:\n",
    "            bettermae[co] = exmae\n",
    "            bettermae2 = {key: bettermae}\n",
    "    return(co)"
   ]
  },
  {
   "cell_type": "code",
   "execution_count": 10,
   "metadata": {
    "ExecuteTime": {
     "start_time": "2019-07-31T20:25:52.191Z"
    }
   },
   "outputs": [
    {
     "data": {
      "application/vnd.jupyter.widget-view+json": {
       "model_id": "76dd734e786c4598a9f02ac777521bf4",
       "version_major": 2,
       "version_minor": 0
      },
      "text/plain": [
       "HBox(children=(IntProgress(value=0, max=11), HTML(value='')))"
      ]
     },
     "metadata": {},
     "output_type": "display_data"
    },
    {
     "data": {
      "application/vnd.jupyter.widget-view+json": {
       "model_id": "0bd8711a79e74db291cb87824ebe5752",
       "version_major": 2,
       "version_minor": 0
      },
      "text/plain": [
       "HBox(children=(IntProgress(value=0, max=1), HTML(value='')))"
      ]
     },
     "metadata": {},
     "output_type": "display_data"
    },
    {
     "data": {
      "application/vnd.jupyter.widget-view+json": {
       "model_id": "c30ce86a957b4d76b3b7b3a58005ba97",
       "version_major": 2,
       "version_minor": 0
      },
      "text/plain": [
       "HBox(children=(IntProgress(value=0, max=95), HTML(value='')))"
      ]
     },
     "metadata": {},
     "output_type": "display_data"
    },
    {
     "name": "stdout",
     "output_type": "stream",
     "text": [
      "keymae of: TAPOCO, NC = 0.9800673566131274\n"
     ]
    },
    {
     "data": {
      "application/vnd.jupyter.widget-view+json": {
       "model_id": "3e6270e0080b40049eacfb36bbc688ae",
       "version_major": 2,
       "version_minor": 0
      },
      "text/plain": [
       "HBox(children=(IntProgress(value=0, max=7), HTML(value='')))"
      ]
     },
     "metadata": {},
     "output_type": "display_data"
    },
    {
     "data": {
      "application/vnd.jupyter.widget-view+json": {
       "model_id": "6e64e35c8cd349fb934a9b09f1e7b942",
       "version_major": 2,
       "version_minor": 0
      },
      "text/plain": [
       "HBox(children=(IntProgress(value=0, max=1), HTML(value='')))"
      ]
     },
     "metadata": {},
     "output_type": "display_data"
    },
    {
     "data": {
      "application/vnd.jupyter.widget-view+json": {
       "model_id": "884f89eaf64c49489fc4a18b0e31fbd4",
       "version_major": 2,
       "version_minor": 0
      },
      "text/plain": [
       "HBox(children=(IntProgress(value=0, max=95), HTML(value='')))"
      ]
     },
     "metadata": {},
     "output_type": "display_data"
    },
    {
     "name": "stdout",
     "output_type": "stream",
     "text": [
      "exmae = ('GATLINBURG 2 SW, TN', 'NEWFOUND GAP, TN', ' TOWNSEND 5S, TN') 1.5764560295913925\n"
     ]
    },
    {
     "data": {
      "application/vnd.jupyter.widget-view+json": {
       "model_id": "1f4c02412e1746ad87bbb8462ee9f442",
       "version_major": 2,
       "version_minor": 0
      },
      "text/plain": [
       "HBox(children=(IntProgress(value=0, max=1), HTML(value='')))"
      ]
     },
     "metadata": {},
     "output_type": "display_data"
    },
    {
     "data": {
      "application/vnd.jupyter.widget-view+json": {
       "model_id": "28df643a4a80446396db552711ef01c6",
       "version_major": 2,
       "version_minor": 0
      },
      "text/plain": [
       "HBox(children=(IntProgress(value=0, max=95), HTML(value='')))"
      ]
     },
     "metadata": {},
     "output_type": "display_data"
    },
    {
     "name": "stdout",
     "output_type": "stream",
     "text": [
      "exmae = ('GATLINBURG 2 SW, TN',) 1.4972163335360191\n"
     ]
    },
    {
     "data": {
      "application/vnd.jupyter.widget-view+json": {
       "model_id": "d6a56d79f5b54c428be886d01f4609db",
       "version_major": 2,
       "version_minor": 0
      },
      "text/plain": [
       "HBox(children=(IntProgress(value=0, max=1), HTML(value='')))"
      ]
     },
     "metadata": {},
     "output_type": "display_data"
    },
    {
     "data": {
      "application/vnd.jupyter.widget-view+json": {
       "model_id": "ae41bd3401784b78b3fcaf8aa8957817",
       "version_major": 2,
       "version_minor": 0
      },
      "text/plain": [
       "HBox(children=(IntProgress(value=0, max=95), HTML(value='')))"
      ]
     },
     "metadata": {},
     "output_type": "display_data"
    },
    {
     "name": "stdout",
     "output_type": "stream",
     "text": [
      "exmae = ('NEWFOUND GAP, TN',) 1.5501456737516661\n"
     ]
    },
    {
     "data": {
      "application/vnd.jupyter.widget-view+json": {
       "model_id": "b408327e967a4157b3522e5f41494a71",
       "version_major": 2,
       "version_minor": 0
      },
      "text/plain": [
       "HBox(children=(IntProgress(value=0, max=1), HTML(value='')))"
      ]
     },
     "metadata": {},
     "output_type": "display_data"
    },
    {
     "data": {
      "application/vnd.jupyter.widget-view+json": {
       "model_id": "598ebd61bb4c4e8ba483fa5ef2696d7c",
       "version_major": 2,
       "version_minor": 0
      },
      "text/plain": [
       "HBox(children=(IntProgress(value=0, max=95), HTML(value='')))"
      ]
     },
     "metadata": {},
     "output_type": "display_data"
    },
    {
     "name": "stdout",
     "output_type": "stream",
     "text": [
      "exmae = (' TOWNSEND 5S, TN',) 2.1402191932997416\n"
     ]
    },
    {
     "data": {
      "application/vnd.jupyter.widget-view+json": {
       "model_id": "899d2b692bb144e6ad3de8b182a8c682",
       "version_major": 2,
       "version_minor": 0
      },
      "text/plain": [
       "HBox(children=(IntProgress(value=0, max=1), HTML(value='')))"
      ]
     },
     "metadata": {},
     "output_type": "display_data"
    },
    {
     "data": {
      "application/vnd.jupyter.widget-view+json": {
       "model_id": "c5c7601737474d5885734734fd63c3e1",
       "version_major": 2,
       "version_minor": 0
      },
      "text/plain": [
       "HBox(children=(IntProgress(value=0, max=95), HTML(value='')))"
      ]
     },
     "metadata": {},
     "output_type": "display_data"
    },
    {
     "name": "stdout",
     "output_type": "stream",
     "text": [
      "exmae = ('GATLINBURG 2 SW, TN', 'NEWFOUND GAP, TN') 1.5489398080891763\n"
     ]
    },
    {
     "data": {
      "application/vnd.jupyter.widget-view+json": {
       "model_id": "897c439a18b843cb9c47eb25ef4d821b",
       "version_major": 2,
       "version_minor": 0
      },
      "text/plain": [
       "HBox(children=(IntProgress(value=0, max=1), HTML(value='')))"
      ]
     },
     "metadata": {},
     "output_type": "display_data"
    },
    {
     "data": {
      "application/vnd.jupyter.widget-view+json": {
       "model_id": "410828714c90450f91520d2916d4682a",
       "version_major": 2,
       "version_minor": 0
      },
      "text/plain": [
       "HBox(children=(IntProgress(value=0, max=95), HTML(value='')))"
      ]
     },
     "metadata": {},
     "output_type": "display_data"
    },
    {
     "name": "stdout",
     "output_type": "stream",
     "text": [
      "exmae = ('GATLINBURG 2 SW, TN', ' TOWNSEND 5S, TN') 1.616671690504988\n"
     ]
    },
    {
     "data": {
      "application/vnd.jupyter.widget-view+json": {
       "model_id": "3fdb285a51c84fc6a6b27e408af81931",
       "version_major": 2,
       "version_minor": 0
      },
      "text/plain": [
       "HBox(children=(IntProgress(value=0, max=1), HTML(value='')))"
      ]
     },
     "metadata": {},
     "output_type": "display_data"
    },
    {
     "data": {
      "application/vnd.jupyter.widget-view+json": {
       "model_id": "3e1956cb66694e2e9423470155d269c7",
       "version_major": 2,
       "version_minor": 0
      },
      "text/plain": [
       "HBox(children=(IntProgress(value=0, max=95), HTML(value='')))"
      ]
     },
     "metadata": {},
     "output_type": "display_data"
    },
    {
     "name": "stdout",
     "output_type": "stream",
     "text": [
      "exmae = ('NEWFOUND GAP, TN', ' TOWNSEND 5S, TN') 2.436971933451168\n"
     ]
    },
    {
     "data": {
      "application/vnd.jupyter.widget-view+json": {
       "model_id": "8a1eb2d5f842444ab01ca8717be669eb",
       "version_major": 2,
       "version_minor": 0
      },
      "text/plain": [
       "HBox(children=(IntProgress(value=0, max=1), HTML(value='')))"
      ]
     },
     "metadata": {},
     "output_type": "display_data"
    },
    {
     "data": {
      "application/vnd.jupyter.widget-view+json": {
       "model_id": "eae5ffb696704e5092abb5bda8b17e86",
       "version_major": 2,
       "version_minor": 0
      },
      "text/plain": [
       "HBox(children=(IntProgress(value=0, max=95), HTML(value='')))"
      ]
     },
     "metadata": {},
     "output_type": "display_data"
    },
    {
     "name": "stdout",
     "output_type": "stream",
     "text": [
      "keymae of: TRYON, NC = 2.6823507498407078\n"
     ]
    },
    {
     "data": {
      "application/vnd.jupyter.widget-view+json": {
       "model_id": "f26464157f194ec693603d43a55edde8",
       "version_major": 2,
       "version_minor": 0
      },
      "text/plain": [
       "HBox(children=(IntProgress(value=0, max=31), HTML(value='')))"
      ]
     },
     "metadata": {},
     "output_type": "display_data"
    },
    {
     "data": {
      "application/vnd.jupyter.widget-view+json": {
       "model_id": "02c01a5b203b43d78aed51a4b0c03cff",
       "version_major": 2,
       "version_minor": 0
      },
      "text/plain": [
       "HBox(children=(IntProgress(value=0, max=1), HTML(value='')))"
      ]
     },
     "metadata": {},
     "output_type": "display_data"
    },
    {
     "data": {
      "application/vnd.jupyter.widget-view+json": {
       "model_id": "43f836d173bd485c91b54136ff854d84",
       "version_major": 2,
       "version_minor": 0
      },
      "text/plain": [
       "HBox(children=(IntProgress(value=0, max=95), HTML(value='')))"
      ]
     },
     "metadata": {},
     "output_type": "display_data"
    },
    {
     "name": "stdout",
     "output_type": "stream",
     "text": [
      "exmae = ('Greenville-Spartanburg Area, SC', 'CAESARS HEAD, SC', 'CHESNEE 7 WSW, SC', 'CLEVELAND 3S, SC', 'SPARTANBURG 3 SSE, SC') 3.731134415701127\n"
     ]
    },
    {
     "data": {
      "application/vnd.jupyter.widget-view+json": {
       "model_id": "667b726488b140929409bb5fd313674a",
       "version_major": 2,
       "version_minor": 0
      },
      "text/plain": [
       "HBox(children=(IntProgress(value=0, max=1), HTML(value='')))"
      ]
     },
     "metadata": {},
     "output_type": "display_data"
    },
    {
     "data": {
      "application/vnd.jupyter.widget-view+json": {
       "model_id": "d5ef6496a1d5449b9bef339a1759ceba",
       "version_major": 2,
       "version_minor": 0
      },
      "text/plain": [
       "HBox(children=(IntProgress(value=0, max=95), HTML(value='')))"
      ]
     },
     "metadata": {},
     "output_type": "display_data"
    },
    {
     "name": "stdout",
     "output_type": "stream",
     "text": [
      "exmae = ('Greenville-Spartanburg Area, SC',) 2.986931810013167\n"
     ]
    },
    {
     "data": {
      "application/vnd.jupyter.widget-view+json": {
       "model_id": "18a69cff0bc14d0b98a7b8d08f324eb4",
       "version_major": 2,
       "version_minor": 0
      },
      "text/plain": [
       "HBox(children=(IntProgress(value=0, max=1), HTML(value='')))"
      ]
     },
     "metadata": {},
     "output_type": "display_data"
    },
    {
     "data": {
      "application/vnd.jupyter.widget-view+json": {
       "model_id": "a7d8a04db59c4fedac3f3074d26ece59",
       "version_major": 2,
       "version_minor": 0
      },
      "text/plain": [
       "HBox(children=(IntProgress(value=0, max=95), HTML(value='')))"
      ]
     },
     "metadata": {},
     "output_type": "display_data"
    },
    {
     "name": "stdout",
     "output_type": "stream",
     "text": [
      "exmae = ('CAESARS HEAD, SC',) 3.1072872524201767\n"
     ]
    },
    {
     "data": {
      "application/vnd.jupyter.widget-view+json": {
       "model_id": "de20ae3b52ec4d5e99389beadaa03835",
       "version_major": 2,
       "version_minor": 0
      },
      "text/plain": [
       "HBox(children=(IntProgress(value=0, max=1), HTML(value='')))"
      ]
     },
     "metadata": {},
     "output_type": "display_data"
    },
    {
     "data": {
      "application/vnd.jupyter.widget-view+json": {
       "model_id": "7da1a96af2574cbaba8e33666131229b",
       "version_major": 2,
       "version_minor": 0
      },
      "text/plain": [
       "HBox(children=(IntProgress(value=0, max=95), HTML(value='')))"
      ]
     },
     "metadata": {},
     "output_type": "display_data"
    },
    {
     "name": "stdout",
     "output_type": "stream",
     "text": [
      "exmae = ('CHESNEE 7 WSW, SC',) 2.815911182694172\n"
     ]
    },
    {
     "data": {
      "application/vnd.jupyter.widget-view+json": {
       "model_id": "209b2bb5155f4a438ca6215454d26fc8",
       "version_major": 2,
       "version_minor": 0
      },
      "text/plain": [
       "HBox(children=(IntProgress(value=0, max=1), HTML(value='')))"
      ]
     },
     "metadata": {},
     "output_type": "display_data"
    },
    {
     "data": {
      "application/vnd.jupyter.widget-view+json": {
       "model_id": "e43ce2dcb94247c99ed40590022aaf64",
       "version_major": 2,
       "version_minor": 0
      },
      "text/plain": [
       "HBox(children=(IntProgress(value=0, max=95), HTML(value='')))"
      ]
     },
     "metadata": {},
     "output_type": "display_data"
    },
    {
     "name": "stdout",
     "output_type": "stream",
     "text": [
      "exmae = ('CLEVELAND 3S, SC',) 3.077446176795452\n"
     ]
    },
    {
     "data": {
      "application/vnd.jupyter.widget-view+json": {
       "model_id": "f89be20137cc47f1bb0bfa23f053dbc4",
       "version_major": 2,
       "version_minor": 0
      },
      "text/plain": [
       "HBox(children=(IntProgress(value=0, max=1), HTML(value='')))"
      ]
     },
     "metadata": {},
     "output_type": "display_data"
    },
    {
     "data": {
      "application/vnd.jupyter.widget-view+json": {
       "model_id": "397d5302c60240878ad66cb3ffcd6706",
       "version_major": 2,
       "version_minor": 0
      },
      "text/plain": [
       "HBox(children=(IntProgress(value=0, max=95), HTML(value='')))"
      ]
     },
     "metadata": {},
     "output_type": "display_data"
    },
    {
     "name": "stdout",
     "output_type": "stream",
     "text": [
      "exmae = ('SPARTANBURG 3 SSE, SC',) 2.812649001967126\n"
     ]
    },
    {
     "data": {
      "application/vnd.jupyter.widget-view+json": {
       "model_id": "090720760cba4872bc29dc74e78d8e90",
       "version_major": 2,
       "version_minor": 0
      },
      "text/plain": [
       "HBox(children=(IntProgress(value=0, max=1), HTML(value='')))"
      ]
     },
     "metadata": {},
     "output_type": "display_data"
    },
    {
     "data": {
      "application/vnd.jupyter.widget-view+json": {
       "model_id": "327245610c094901ae0d02c3882b46ca",
       "version_major": 2,
       "version_minor": 0
      },
      "text/plain": [
       "HBox(children=(IntProgress(value=0, max=95), HTML(value='')))"
      ]
     },
     "metadata": {},
     "output_type": "display_data"
    },
    {
     "name": "stdout",
     "output_type": "stream",
     "text": [
      "exmae = ('Greenville-Spartanburg Area, SC', 'CAESARS HEAD, SC') 2.942549753368086\n"
     ]
    },
    {
     "data": {
      "application/vnd.jupyter.widget-view+json": {
       "model_id": "36b61ba55ae240908225a1ee3de8f498",
       "version_major": 2,
       "version_minor": 0
      },
      "text/plain": [
       "HBox(children=(IntProgress(value=0, max=1), HTML(value='')))"
      ]
     },
     "metadata": {},
     "output_type": "display_data"
    },
    {
     "data": {
      "application/vnd.jupyter.widget-view+json": {
       "model_id": "be84f296d72f4f729fc32cc85ce330ae",
       "version_major": 2,
       "version_minor": 0
      },
      "text/plain": [
       "HBox(children=(IntProgress(value=0, max=95), HTML(value='')))"
      ]
     },
     "metadata": {},
     "output_type": "display_data"
    },
    {
     "name": "stdout",
     "output_type": "stream",
     "text": [
      "exmae = ('Greenville-Spartanburg Area, SC', 'CHESNEE 7 WSW, SC') 2.8608751566191\n"
     ]
    },
    {
     "data": {
      "application/vnd.jupyter.widget-view+json": {
       "model_id": "e0cccd834b6943b0ad5c16e3a9d0b54b",
       "version_major": 2,
       "version_minor": 0
      },
      "text/plain": [
       "HBox(children=(IntProgress(value=0, max=1), HTML(value='')))"
      ]
     },
     "metadata": {},
     "output_type": "display_data"
    },
    {
     "data": {
      "application/vnd.jupyter.widget-view+json": {
       "model_id": "8f6836e1a51c4cadb27c3c928036d84b",
       "version_major": 2,
       "version_minor": 0
      },
      "text/plain": [
       "HBox(children=(IntProgress(value=0, max=95), HTML(value='')))"
      ]
     },
     "metadata": {},
     "output_type": "display_data"
    },
    {
     "name": "stdout",
     "output_type": "stream",
     "text": [
      "exmae = ('Greenville-Spartanburg Area, SC', 'CLEVELAND 3S, SC') 3.049632259088924\n"
     ]
    },
    {
     "data": {
      "application/vnd.jupyter.widget-view+json": {
       "model_id": "d47f286cb8554df0a710f70f4c8f038f",
       "version_major": 2,
       "version_minor": 0
      },
      "text/plain": [
       "HBox(children=(IntProgress(value=0, max=1), HTML(value='')))"
      ]
     },
     "metadata": {},
     "output_type": "display_data"
    },
    {
     "data": {
      "application/vnd.jupyter.widget-view+json": {
       "model_id": "af6f1eab605d409f8c8a26d3af068b1d",
       "version_major": 2,
       "version_minor": 0
      },
      "text/plain": [
       "HBox(children=(IntProgress(value=0, max=95), HTML(value='')))"
      ]
     },
     "metadata": {},
     "output_type": "display_data"
    },
    {
     "name": "stdout",
     "output_type": "stream",
     "text": [
      "exmae = ('Greenville-Spartanburg Area, SC', 'SPARTANBURG 3 SSE, SC') 2.9144776099202763\n"
     ]
    },
    {
     "data": {
      "application/vnd.jupyter.widget-view+json": {
       "model_id": "c505360aae764f059fb1261f3569800a",
       "version_major": 2,
       "version_minor": 0
      },
      "text/plain": [
       "HBox(children=(IntProgress(value=0, max=1), HTML(value='')))"
      ]
     },
     "metadata": {},
     "output_type": "display_data"
    },
    {
     "data": {
      "application/vnd.jupyter.widget-view+json": {
       "model_id": "2731093d86b84f1288ff60d79e7d9854",
       "version_major": 2,
       "version_minor": 0
      },
      "text/plain": [
       "HBox(children=(IntProgress(value=0, max=95), HTML(value='')))"
      ]
     },
     "metadata": {},
     "output_type": "display_data"
    },
    {
     "name": "stdout",
     "output_type": "stream",
     "text": [
      "exmae = ('CAESARS HEAD, SC', 'CHESNEE 7 WSW, SC') 2.9762863578022682\n"
     ]
    },
    {
     "data": {
      "application/vnd.jupyter.widget-view+json": {
       "model_id": "33f5cca073b047d88eb34d4fbc682273",
       "version_major": 2,
       "version_minor": 0
      },
      "text/plain": [
       "HBox(children=(IntProgress(value=0, max=1), HTML(value='')))"
      ]
     },
     "metadata": {},
     "output_type": "display_data"
    },
    {
     "data": {
      "application/vnd.jupyter.widget-view+json": {
       "model_id": "1d4e4349f4254655adf790c27e61ee71",
       "version_major": 2,
       "version_minor": 0
      },
      "text/plain": [
       "HBox(children=(IntProgress(value=0, max=95), HTML(value='')))"
      ]
     },
     "metadata": {},
     "output_type": "display_data"
    },
    {
     "name": "stdout",
     "output_type": "stream",
     "text": [
      "exmae = ('CAESARS HEAD, SC', 'CLEVELAND 3S, SC') 3.20189310778487\n"
     ]
    },
    {
     "data": {
      "application/vnd.jupyter.widget-view+json": {
       "model_id": "f55bd4da911640a28f2e3c1f7790211c",
       "version_major": 2,
       "version_minor": 0
      },
      "text/plain": [
       "HBox(children=(IntProgress(value=0, max=1), HTML(value='')))"
      ]
     },
     "metadata": {},
     "output_type": "display_data"
    },
    {
     "data": {
      "application/vnd.jupyter.widget-view+json": {
       "model_id": "a06e87d8df5c46b38584b08beca9713a",
       "version_major": 2,
       "version_minor": 0
      },
      "text/plain": [
       "HBox(children=(IntProgress(value=0, max=95), HTML(value='')))"
      ]
     },
     "metadata": {},
     "output_type": "display_data"
    },
    {
     "name": "stdout",
     "output_type": "stream",
     "text": [
      "exmae = ('CAESARS HEAD, SC', 'SPARTANBURG 3 SSE, SC') 3.096819228892839\n"
     ]
    },
    {
     "data": {
      "application/vnd.jupyter.widget-view+json": {
       "model_id": "a721f96c917a492cbe80754f98a5e7c2",
       "version_major": 2,
       "version_minor": 0
      },
      "text/plain": [
       "HBox(children=(IntProgress(value=0, max=1), HTML(value='')))"
      ]
     },
     "metadata": {},
     "output_type": "display_data"
    },
    {
     "data": {
      "application/vnd.jupyter.widget-view+json": {
       "model_id": "33c0832bc95b4424904b6107775f2931",
       "version_major": 2,
       "version_minor": 0
      },
      "text/plain": [
       "HBox(children=(IntProgress(value=0, max=95), HTML(value='')))"
      ]
     },
     "metadata": {},
     "output_type": "display_data"
    },
    {
     "name": "stdout",
     "output_type": "stream",
     "text": [
      "exmae = ('CHESNEE 7 WSW, SC', 'CLEVELAND 3S, SC') 2.9903458656920554\n"
     ]
    },
    {
     "data": {
      "application/vnd.jupyter.widget-view+json": {
       "model_id": "44b50da3c34143f7aeaf4dd30d780566",
       "version_major": 2,
       "version_minor": 0
      },
      "text/plain": [
       "HBox(children=(IntProgress(value=0, max=1), HTML(value='')))"
      ]
     },
     "metadata": {},
     "output_type": "display_data"
    },
    {
     "data": {
      "application/vnd.jupyter.widget-view+json": {
       "model_id": "d23efadd09a740609818fd89a158d911",
       "version_major": 2,
       "version_minor": 0
      },
      "text/plain": [
       "HBox(children=(IntProgress(value=0, max=95), HTML(value='')))"
      ]
     },
     "metadata": {},
     "output_type": "display_data"
    },
    {
     "name": "stdout",
     "output_type": "stream",
     "text": [
      "exmae = ('CHESNEE 7 WSW, SC', 'SPARTANBURG 3 SSE, SC') 2.890486851482266\n"
     ]
    },
    {
     "data": {
      "application/vnd.jupyter.widget-view+json": {
       "model_id": "2333823de14643cc889fb19d6115cb53",
       "version_major": 2,
       "version_minor": 0
      },
      "text/plain": [
       "HBox(children=(IntProgress(value=0, max=1), HTML(value='')))"
      ]
     },
     "metadata": {},
     "output_type": "display_data"
    },
    {
     "data": {
      "application/vnd.jupyter.widget-view+json": {
       "model_id": "4158414d3f094e9b9954dd8571e6c911",
       "version_major": 2,
       "version_minor": 0
      },
      "text/plain": [
       "HBox(children=(IntProgress(value=0, max=95), HTML(value='')))"
      ]
     },
     "metadata": {},
     "output_type": "display_data"
    },
    {
     "name": "stdout",
     "output_type": "stream",
     "text": [
      "exmae = ('CLEVELAND 3S, SC', 'SPARTANBURG 3 SSE, SC') 3.0436085745720485\n"
     ]
    },
    {
     "data": {
      "application/vnd.jupyter.widget-view+json": {
       "model_id": "14d73b39633047f9a7b3b0136ad9b634",
       "version_major": 2,
       "version_minor": 0
      },
      "text/plain": [
       "HBox(children=(IntProgress(value=0, max=1), HTML(value='')))"
      ]
     },
     "metadata": {},
     "output_type": "display_data"
    },
    {
     "data": {
      "application/vnd.jupyter.widget-view+json": {
       "model_id": "dadc780a13d44cebae365729d430e741",
       "version_major": 2,
       "version_minor": 0
      },
      "text/plain": [
       "HBox(children=(IntProgress(value=0, max=95), HTML(value='')))"
      ]
     },
     "metadata": {},
     "output_type": "display_data"
    },
    {
     "name": "stdout",
     "output_type": "stream",
     "text": [
      "exmae = ('Greenville-Spartanburg Area, SC', 'CAESARS HEAD, SC', 'CHESNEE 7 WSW, SC') 2.9033859279655085\n"
     ]
    },
    {
     "data": {
      "application/vnd.jupyter.widget-view+json": {
       "model_id": "e35bd3925560459ba967b0bd19ef0fa6",
       "version_major": 2,
       "version_minor": 0
      },
      "text/plain": [
       "HBox(children=(IntProgress(value=0, max=1), HTML(value='')))"
      ]
     },
     "metadata": {},
     "output_type": "display_data"
    },
    {
     "data": {
      "application/vnd.jupyter.widget-view+json": {
       "model_id": "5abddcddb3304f2d907c498c028480c9",
       "version_major": 2,
       "version_minor": 0
      },
      "text/plain": [
       "HBox(children=(IntProgress(value=0, max=95), HTML(value='')))"
      ]
     },
     "metadata": {},
     "output_type": "display_data"
    },
    {
     "name": "stdout",
     "output_type": "stream",
     "text": [
      "exmae = ('Greenville-Spartanburg Area, SC', 'CAESARS HEAD, SC', 'CLEVELAND 3S, SC') 3.154525441526979\n"
     ]
    },
    {
     "data": {
      "application/vnd.jupyter.widget-view+json": {
       "model_id": "dbb1ba77f4624fd8bbe9b61280d04cb8",
       "version_major": 2,
       "version_minor": 0
      },
      "text/plain": [
       "HBox(children=(IntProgress(value=0, max=1), HTML(value='')))"
      ]
     },
     "metadata": {},
     "output_type": "display_data"
    },
    {
     "data": {
      "application/vnd.jupyter.widget-view+json": {
       "model_id": "5e89a755c03f4fb997d6fbfd8435a046",
       "version_major": 2,
       "version_minor": 0
      },
      "text/plain": [
       "HBox(children=(IntProgress(value=0, max=95), HTML(value='')))"
      ]
     },
     "metadata": {},
     "output_type": "display_data"
    },
    {
     "name": "stdout",
     "output_type": "stream",
     "text": [
      "exmae = ('Greenville-Spartanburg Area, SC', 'CAESARS HEAD, SC', 'SPARTANBURG 3 SSE, SC') 2.9314747667962813\n"
     ]
    },
    {
     "data": {
      "application/vnd.jupyter.widget-view+json": {
       "model_id": "e23aee9253b94485b026aae5e949cdc9",
       "version_major": 2,
       "version_minor": 0
      },
      "text/plain": [
       "HBox(children=(IntProgress(value=0, max=1), HTML(value='')))"
      ]
     },
     "metadata": {},
     "output_type": "display_data"
    },
    {
     "data": {
      "application/vnd.jupyter.widget-view+json": {
       "model_id": "5112d06f9adf4b3ab818f4fc42c378a9",
       "version_major": 2,
       "version_minor": 0
      },
      "text/plain": [
       "HBox(children=(IntProgress(value=0, max=95), HTML(value='')))"
      ]
     },
     "metadata": {},
     "output_type": "display_data"
    },
    {
     "name": "stdout",
     "output_type": "stream",
     "text": [
      "exmae = ('Greenville-Spartanburg Area, SC', 'CHESNEE 7 WSW, SC', 'CLEVELAND 3S, SC') 2.9713486547381884\n"
     ]
    },
    {
     "data": {
      "application/vnd.jupyter.widget-view+json": {
       "model_id": "1c50b7f127554fde864d1b0ad581b059",
       "version_major": 2,
       "version_minor": 0
      },
      "text/plain": [
       "HBox(children=(IntProgress(value=0, max=1), HTML(value='')))"
      ]
     },
     "metadata": {},
     "output_type": "display_data"
    },
    {
     "data": {
      "application/vnd.jupyter.widget-view+json": {
       "model_id": "06930ef2b63949ed85faf6852951b0c1",
       "version_major": 2,
       "version_minor": 0
      },
      "text/plain": [
       "HBox(children=(IntProgress(value=0, max=95), HTML(value='')))"
      ]
     },
     "metadata": {},
     "output_type": "display_data"
    },
    {
     "name": "stdout",
     "output_type": "stream",
     "text": [
      "exmae = ('Greenville-Spartanburg Area, SC', 'CHESNEE 7 WSW, SC', 'SPARTANBURG 3 SSE, SC') 2.86854756656046\n"
     ]
    },
    {
     "data": {
      "application/vnd.jupyter.widget-view+json": {
       "model_id": "c77dfe5ee5fb495ab9493544756d96d7",
       "version_major": 2,
       "version_minor": 0
      },
      "text/plain": [
       "HBox(children=(IntProgress(value=0, max=1), HTML(value='')))"
      ]
     },
     "metadata": {},
     "output_type": "display_data"
    },
    {
     "data": {
      "application/vnd.jupyter.widget-view+json": {
       "model_id": "0f5b38249dec4bc38e4edbdde844aca1",
       "version_major": 2,
       "version_minor": 0
      },
      "text/plain": [
       "HBox(children=(IntProgress(value=0, max=95), HTML(value='')))"
      ]
     },
     "metadata": {},
     "output_type": "display_data"
    },
    {
     "name": "stdout",
     "output_type": "stream",
     "text": [
      "exmae = ('Greenville-Spartanburg Area, SC', 'CLEVELAND 3S, SC', 'SPARTANBURG 3 SSE, SC') 3.0161890393875477\n"
     ]
    },
    {
     "data": {
      "application/vnd.jupyter.widget-view+json": {
       "model_id": "78826c8917a04526ad171b3e3bced6b5",
       "version_major": 2,
       "version_minor": 0
      },
      "text/plain": [
       "HBox(children=(IntProgress(value=0, max=1), HTML(value='')))"
      ]
     },
     "metadata": {},
     "output_type": "display_data"
    },
    {
     "data": {
      "application/vnd.jupyter.widget-view+json": {
       "model_id": "22b9a1acfbd74a049a806999d642154c",
       "version_major": 2,
       "version_minor": 0
      },
      "text/plain": [
       "HBox(children=(IntProgress(value=0, max=95), HTML(value='')))"
      ]
     },
     "metadata": {},
     "output_type": "display_data"
    },
    {
     "name": "stdout",
     "output_type": "stream",
     "text": [
      "exmae = ('CAESARS HEAD, SC', 'CHESNEE 7 WSW, SC', 'CLEVELAND 3S, SC') 2.99567340879987\n"
     ]
    },
    {
     "data": {
      "application/vnd.jupyter.widget-view+json": {
       "model_id": "4da1357198c14d81aa4b424c4cfac0bb",
       "version_major": 2,
       "version_minor": 0
      },
      "text/plain": [
       "HBox(children=(IntProgress(value=0, max=1), HTML(value='')))"
      ]
     },
     "metadata": {},
     "output_type": "display_data"
    },
    {
     "data": {
      "application/vnd.jupyter.widget-view+json": {
       "model_id": "1e0e81357b724fe484802b24b7f93ecf",
       "version_major": 2,
       "version_minor": 0
      },
      "text/plain": [
       "HBox(children=(IntProgress(value=0, max=95), HTML(value='')))"
      ]
     },
     "metadata": {},
     "output_type": "display_data"
    },
    {
     "name": "stdout",
     "output_type": "stream",
     "text": [
      "exmae = ('CAESARS HEAD, SC', 'CHESNEE 7 WSW, SC', 'SPARTANBURG 3 SSE, SC') 2.9370572008592566\n"
     ]
    },
    {
     "data": {
      "application/vnd.jupyter.widget-view+json": {
       "model_id": "e336baa3443841ac9b8395a01e2a9cf3",
       "version_major": 2,
       "version_minor": 0
      },
      "text/plain": [
       "HBox(children=(IntProgress(value=0, max=1), HTML(value='')))"
      ]
     },
     "metadata": {},
     "output_type": "display_data"
    },
    {
     "data": {
      "application/vnd.jupyter.widget-view+json": {
       "model_id": "5a0a5764e3fc40bda90a691c3cc53ca8",
       "version_major": 2,
       "version_minor": 0
      },
      "text/plain": [
       "HBox(children=(IntProgress(value=0, max=95), HTML(value='')))"
      ]
     },
     "metadata": {},
     "output_type": "display_data"
    },
    {
     "name": "stdout",
     "output_type": "stream",
     "text": [
      "exmae = ('CAESARS HEAD, SC', 'CLEVELAND 3S, SC', 'SPARTANBURG 3 SSE, SC') 3.277737214007516\n"
     ]
    },
    {
     "data": {
      "application/vnd.jupyter.widget-view+json": {
       "model_id": "805cf8ffcd9d4624b743c98f8c2ac4a2",
       "version_major": 2,
       "version_minor": 0
      },
      "text/plain": [
       "HBox(children=(IntProgress(value=0, max=1), HTML(value='')))"
      ]
     },
     "metadata": {},
     "output_type": "display_data"
    },
    {
     "data": {
      "application/vnd.jupyter.widget-view+json": {
       "model_id": "4f51a5cc03444a2aaaaf59caa322bb4f",
       "version_major": 2,
       "version_minor": 0
      },
      "text/plain": [
       "HBox(children=(IntProgress(value=0, max=95), HTML(value='')))"
      ]
     },
     "metadata": {},
     "output_type": "display_data"
    },
    {
     "name": "stdout",
     "output_type": "stream",
     "text": [
      "exmae = ('CHESNEE 7 WSW, SC', 'CLEVELAND 3S, SC', 'SPARTANBURG 3 SSE, SC') 2.9667226323555127\n"
     ]
    },
    {
     "data": {
      "application/vnd.jupyter.widget-view+json": {
       "model_id": "9f87da1b67554a2d924d7c0559fa0f2a",
       "version_major": 2,
       "version_minor": 0
      },
      "text/plain": [
       "HBox(children=(IntProgress(value=0, max=1), HTML(value='')))"
      ]
     },
     "metadata": {},
     "output_type": "display_data"
    },
    {
     "data": {
      "application/vnd.jupyter.widget-view+json": {
       "model_id": "d9b6af89cedb4613accafaaa8d3994fb",
       "version_major": 2,
       "version_minor": 0
      },
      "text/plain": [
       "HBox(children=(IntProgress(value=0, max=95), HTML(value='')))"
      ]
     },
     "metadata": {},
     "output_type": "display_data"
    },
    {
     "name": "stdout",
     "output_type": "stream",
     "text": [
      "exmae = ('Greenville-Spartanburg Area, SC', 'CAESARS HEAD, SC', 'CHESNEE 7 WSW, SC', 'CLEVELAND 3S, SC') 3.190416268016882\n"
     ]
    },
    {
     "data": {
      "application/vnd.jupyter.widget-view+json": {
       "model_id": "9d48d63054824586af2863a08033ec5c",
       "version_major": 2,
       "version_minor": 0
      },
      "text/plain": [
       "HBox(children=(IntProgress(value=0, max=1), HTML(value='')))"
      ]
     },
     "metadata": {},
     "output_type": "display_data"
    },
    {
     "data": {
      "application/vnd.jupyter.widget-view+json": {
       "model_id": "db896f2ae2f94742ab043a81c8faec46",
       "version_major": 2,
       "version_minor": 0
      },
      "text/plain": [
       "HBox(children=(IntProgress(value=0, max=95), HTML(value='')))"
      ]
     },
     "metadata": {},
     "output_type": "display_data"
    },
    {
     "name": "stdout",
     "output_type": "stream",
     "text": [
      "exmae = ('Greenville-Spartanburg Area, SC', 'CAESARS HEAD, SC', 'CHESNEE 7 WSW, SC', 'SPARTANBURG 3 SSE, SC') 2.8771958771274124\n"
     ]
    },
    {
     "data": {
      "application/vnd.jupyter.widget-view+json": {
       "model_id": "f864284d7c60468aaa6a8332eb8e74bf",
       "version_major": 2,
       "version_minor": 0
      },
      "text/plain": [
       "HBox(children=(IntProgress(value=0, max=1), HTML(value='')))"
      ]
     },
     "metadata": {},
     "output_type": "display_data"
    },
    {
     "data": {
      "application/vnd.jupyter.widget-view+json": {
       "model_id": "6f77ce64ef4d428fbcdfb8c3924dfb57",
       "version_major": 2,
       "version_minor": 0
      },
      "text/plain": [
       "HBox(children=(IntProgress(value=0, max=95), HTML(value='')))"
      ]
     },
     "metadata": {},
     "output_type": "display_data"
    },
    {
     "name": "stdout",
     "output_type": "stream",
     "text": [
      "exmae = ('Greenville-Spartanburg Area, SC', 'CAESARS HEAD, SC', 'CLEVELAND 3S, SC', 'SPARTANBURG 3 SSE, SC') 3.0292999192163945\n"
     ]
    },
    {
     "data": {
      "application/vnd.jupyter.widget-view+json": {
       "model_id": "f3ea1c0602ea4d459cae21d52255f52a",
       "version_major": 2,
       "version_minor": 0
      },
      "text/plain": [
       "HBox(children=(IntProgress(value=0, max=1), HTML(value='')))"
      ]
     },
     "metadata": {},
     "output_type": "display_data"
    },
    {
     "data": {
      "application/vnd.jupyter.widget-view+json": {
       "model_id": "a901b12e2713450785abe7dba02c73f8",
       "version_major": 2,
       "version_minor": 0
      },
      "text/plain": [
       "HBox(children=(IntProgress(value=0, max=95), HTML(value='')))"
      ]
     },
     "metadata": {},
     "output_type": "display_data"
    },
    {
     "name": "stdout",
     "output_type": "stream",
     "text": [
      "exmae = ('Greenville-Spartanburg Area, SC', 'CHESNEE 7 WSW, SC', 'CLEVELAND 3S, SC', 'SPARTANBURG 3 SSE, SC') 2.975167876273045\n"
     ]
    },
    {
     "data": {
      "application/vnd.jupyter.widget-view+json": {
       "model_id": "6e7c4235230f423bbc72fc062dc5e683",
       "version_major": 2,
       "version_minor": 0
      },
      "text/plain": [
       "HBox(children=(IntProgress(value=0, max=1), HTML(value='')))"
      ]
     },
     "metadata": {},
     "output_type": "display_data"
    },
    {
     "data": {
      "application/vnd.jupyter.widget-view+json": {
       "model_id": "dabff3600f374a76b696d2cbfeaa01a0",
       "version_major": 2,
       "version_minor": 0
      },
      "text/plain": [
       "HBox(children=(IntProgress(value=0, max=95), HTML(value='')))"
      ]
     },
     "metadata": {},
     "output_type": "display_data"
    },
    {
     "name": "stdout",
     "output_type": "stream",
     "text": [
      "exmae = ('CAESARS HEAD, SC', 'CHESNEE 7 WSW, SC', 'CLEVELAND 3S, SC', 'SPARTANBURG 3 SSE, SC') 3.258738835983667\n"
     ]
    },
    {
     "data": {
      "application/vnd.jupyter.widget-view+json": {
       "model_id": "4b7fff2c79844c88af9b9570fbcaea53",
       "version_major": 2,
       "version_minor": 0
      },
      "text/plain": [
       "HBox(children=(IntProgress(value=0, max=1), HTML(value='')))"
      ]
     },
     "metadata": {},
     "output_type": "display_data"
    },
    {
     "data": {
      "application/vnd.jupyter.widget-view+json": {
       "model_id": "eceb6e1f7c004a7cb9bdd0521ac88f0f",
       "version_major": 2,
       "version_minor": 0
      },
      "text/plain": [
       "HBox(children=(IntProgress(value=0, max=95), HTML(value='')))"
      ]
     },
     "metadata": {},
     "output_type": "display_data"
    },
    {
     "name": "stdout",
     "output_type": "stream",
     "text": [
      "keymae of: WAYNESVILLE 1 E, NC = 1.747482139423062\n"
     ]
    },
    {
     "data": {
      "application/vnd.jupyter.widget-view+json": {
       "model_id": "91a68b435cd64122ac9b289d85b02a54",
       "version_major": 2,
       "version_minor": 0
      },
      "text/plain": [
       "HBox(children=(IntProgress(value=0, max=3), HTML(value='')))"
      ]
     },
     "metadata": {},
     "output_type": "display_data"
    },
    {
     "data": {
      "application/vnd.jupyter.widget-view+json": {
       "model_id": "ab7448b200b040e497a8067e9f37c6a0",
       "version_major": 2,
       "version_minor": 0
      },
      "text/plain": [
       "HBox(children=(IntProgress(value=0, max=1), HTML(value='')))"
      ]
     },
     "metadata": {},
     "output_type": "display_data"
    },
    {
     "data": {
      "application/vnd.jupyter.widget-view+json": {
       "model_id": "e8bdd7951fd04b4e95b80b91cd323607",
       "version_major": 2,
       "version_minor": 0
      },
      "text/plain": [
       "HBox(children=(IntProgress(value=0, max=95), HTML(value='')))"
      ]
     },
     "metadata": {},
     "output_type": "display_data"
    },
    {
     "name": "stdout",
     "output_type": "stream",
     "text": [
      "exmae = ('MT LECONTE, TN', 'NEWFOUND GAP, TN') 2.2339993455520246\n"
     ]
    },
    {
     "data": {
      "application/vnd.jupyter.widget-view+json": {
       "model_id": "57333bc9e8234726905688137b6cf53a",
       "version_major": 2,
       "version_minor": 0
      },
      "text/plain": [
       "HBox(children=(IntProgress(value=0, max=1), HTML(value='')))"
      ]
     },
     "metadata": {},
     "output_type": "display_data"
    },
    {
     "data": {
      "application/vnd.jupyter.widget-view+json": {
       "model_id": "f29e28eb5506424ca5f23e62c0e9d789",
       "version_major": 2,
       "version_minor": 0
      },
      "text/plain": [
       "HBox(children=(IntProgress(value=0, max=95), HTML(value='')))"
      ]
     },
     "metadata": {},
     "output_type": "display_data"
    },
    {
     "name": "stdout",
     "output_type": "stream",
     "text": [
      "exmae = ('MT LECONTE, TN',) 2.067047382901454\n"
     ]
    },
    {
     "data": {
      "application/vnd.jupyter.widget-view+json": {
       "model_id": "1da56223321643b4a4694acc2d5970ea",
       "version_major": 2,
       "version_minor": 0
      },
      "text/plain": [
       "HBox(children=(IntProgress(value=0, max=1), HTML(value='')))"
      ]
     },
     "metadata": {},
     "output_type": "display_data"
    },
    {
     "data": {
      "application/vnd.jupyter.widget-view+json": {
       "model_id": "86a1a255746a423ea1e0aba40c4388ae",
       "version_major": 2,
       "version_minor": 0
      },
      "text/plain": [
       "HBox(children=(IntProgress(value=0, max=95), HTML(value='')))"
      ]
     },
     "metadata": {},
     "output_type": "display_data"
    },
    {
     "name": "stdout",
     "output_type": "stream",
     "text": [
      "exmae = ('NEWFOUND GAP, TN',) 2.262076438940648\n"
     ]
    },
    {
     "data": {
      "application/vnd.jupyter.widget-view+json": {
       "model_id": "3a400698bac6479d82a76868ef545c6c",
       "version_major": 2,
       "version_minor": 0
      },
      "text/plain": [
       "HBox(children=(IntProgress(value=0, max=1), HTML(value='')))"
      ]
     },
     "metadata": {},
     "output_type": "display_data"
    },
    {
     "data": {
      "application/vnd.jupyter.widget-view+json": {
       "model_id": "bbc8e9a91db448b2bd30a7512112730e",
       "version_major": 2,
       "version_minor": 0
      },
      "text/plain": [
       "HBox(children=(IntProgress(value=0, max=95), HTML(value='')))"
      ]
     },
     "metadata": {},
     "output_type": "display_data"
    },
    {
     "ename": "MemoryError",
     "evalue": "",
     "output_type": "error",
     "traceback": [
      "\u001b[1;31m---------------------------------------------------------------------------\u001b[0m",
      "\u001b[1;31mMemoryError\u001b[0m                               Traceback (most recent call last)",
      "\u001b[1;32m<ipython-input-10-37650317f322>\u001b[0m in \u001b[0;36m<module>\u001b[1;34m\u001b[0m\n\u001b[0;32m      2\u001b[0m \u001b[0mwarnings\u001b[0m\u001b[1;33m.\u001b[0m\u001b[0mfilterwarnings\u001b[0m\u001b[1;33m(\u001b[0m\u001b[1;34m\"ignore\"\u001b[0m\u001b[1;33m)\u001b[0m\u001b[1;33m\u001b[0m\u001b[1;33m\u001b[0m\u001b[0m\n\u001b[0;32m      3\u001b[0m \u001b[1;32mfor\u001b[0m \u001b[0mkey\u001b[0m\u001b[1;33m,\u001b[0m\u001b[0mvalue\u001b[0m \u001b[1;32min\u001b[0m \u001b[0mtqdm\u001b[0m\u001b[1;33m(\u001b[0m\u001b[0ml_o_dfs\u001b[0m\u001b[1;33m.\u001b[0m\u001b[0mitems\u001b[0m\u001b[1;33m(\u001b[0m\u001b[1;33m)\u001b[0m\u001b[1;33m)\u001b[0m\u001b[1;33m:\u001b[0m\u001b[1;33m\u001b[0m\u001b[1;33m\u001b[0m\u001b[0m\n\u001b[1;32m----> 4\u001b[1;33m     \u001b[0mexogenous_var\u001b[0m\u001b[1;33m(\u001b[0m\u001b[0mrd\u001b[0m\u001b[1;33m,\u001b[0m \u001b[0mkey\u001b[0m\u001b[1;33m,\u001b[0m \u001b[0mvalue\u001b[0m\u001b[1;33m,\u001b[0m \u001b[0mbest_comb\u001b[0m\u001b[1;33m)\u001b[0m\u001b[1;33m\u001b[0m\u001b[1;33m\u001b[0m\u001b[0m\n\u001b[0m",
      "\u001b[1;32m<ipython-input-9-1776fc404cd7>\u001b[0m in \u001b[0;36mexogenous_var\u001b[1;34m(data, ncloc, l_exoloc, best_comb)\u001b[0m\n\u001b[0;32m      4\u001b[0m \u001b[1;31m#         l_exog = exog_combinations(data, value)\u001b[0m\u001b[1;33m\u001b[0m\u001b[1;33m\u001b[0m\u001b[1;33m\u001b[0m\u001b[0m\n\u001b[0;32m      5\u001b[0m     \u001b[0mtr\u001b[0m\u001b[1;33m,\u001b[0m \u001b[0mtest\u001b[0m \u001b[1;33m=\u001b[0m \u001b[0mtrain_test_split\u001b[0m\u001b[1;33m(\u001b[0m\u001b[0mdat\u001b[0m\u001b[1;33m,\u001b[0m \u001b[0mtest_size\u001b[0m \u001b[1;33m=\u001b[0m \u001b[1;36m0.2\u001b[0m\u001b[1;33m,\u001b[0m \u001b[0mshuffle\u001b[0m\u001b[1;33m=\u001b[0m\u001b[1;32mFalse\u001b[0m\u001b[1;33m)\u001b[0m\u001b[1;33m\u001b[0m\u001b[1;33m\u001b[0m\u001b[0m\n\u001b[1;32m----> 6\u001b[1;33m     \u001b[0mkeymae\u001b[0m \u001b[1;33m=\u001b[0m \u001b[0mhyperparameter_find\u001b[0m\u001b[1;33m(\u001b[0m\u001b[0mtr\u001b[0m\u001b[1;33m,\u001b[0m \u001b[0mbest_comb\u001b[0m\u001b[1;33m,\u001b[0m \u001b[0mtest\u001b[0m\u001b[1;33m)\u001b[0m\u001b[1;33m\u001b[0m\u001b[1;33m\u001b[0m\u001b[0m\n\u001b[0m\u001b[0;32m      7\u001b[0m     \u001b[0mprint\u001b[0m\u001b[1;33m(\u001b[0m\u001b[1;34m'keymae of: '\u001b[0m\u001b[1;33m+\u001b[0m \u001b[0mkey\u001b[0m \u001b[1;33m+\u001b[0m\u001b[1;34m' = '\u001b[0m\u001b[1;33m+\u001b[0m\u001b[0mstr\u001b[0m\u001b[1;33m(\u001b[0m\u001b[0mkeymae\u001b[0m\u001b[1;33m)\u001b[0m\u001b[1;33m)\u001b[0m\u001b[1;33m\u001b[0m\u001b[1;33m\u001b[0m\u001b[0m\n\u001b[0;32m      8\u001b[0m     \u001b[0mbettermae\u001b[0m \u001b[1;33m=\u001b[0m \u001b[1;33m{\u001b[0m\u001b[1;33m}\u001b[0m\u001b[1;33m\u001b[0m\u001b[1;33m\u001b[0m\u001b[0m\n",
      "\u001b[1;32m<ipython-input-5-e77bf4e9a9de>\u001b[0m in \u001b[0;36mhyperparameter_find\u001b[1;34m(training_data, comb, testing_data, search, exogtr, exogtest)\u001b[0m\n\u001b[0;32m     24\u001b[0m                     \u001b[0mexcopy\u001b[0m \u001b[1;33m=\u001b[0m \u001b[0mpd\u001b[0m\u001b[1;33m.\u001b[0m\u001b[0mconcat\u001b[0m\u001b[1;33m(\u001b[0m\u001b[1;33m[\u001b[0m\u001b[0mexcopy\u001b[0m\u001b[1;33m,\u001b[0m \u001b[0mexogtest\u001b[0m\u001b[1;33m.\u001b[0m\u001b[0miloc\u001b[0m\u001b[1;33m[\u001b[0m\u001b[1;33m[\u001b[0m\u001b[0mi\u001b[0m\u001b[1;33m]\u001b[0m\u001b[1;33m]\u001b[0m\u001b[1;33m]\u001b[0m\u001b[1;33m)\u001b[0m\u001b[1;33m\u001b[0m\u001b[1;33m\u001b[0m\u001b[0m\n\u001b[0;32m     25\u001b[0m                 \u001b[1;32melse\u001b[0m\u001b[1;33m:\u001b[0m\u001b[1;33m\u001b[0m\u001b[1;33m\u001b[0m\u001b[0m\n\u001b[1;32m---> 26\u001b[1;33m                     \u001b[0mmod_1\u001b[0m \u001b[1;33m=\u001b[0m \u001b[0msarima_model_creation\u001b[0m\u001b[1;33m(\u001b[0m\u001b[0mcopytraining\u001b[0m\u001b[1;33m,\u001b[0m \u001b[0mcom\u001b[0m\u001b[1;33m[\u001b[0m\u001b[1;36m0\u001b[0m\u001b[1;33m]\u001b[0m\u001b[1;33m,\u001b[0m \u001b[1;36m0\u001b[0m\u001b[1;33m,\u001b[0m \u001b[0mcom\u001b[0m\u001b[1;33m[\u001b[0m\u001b[1;36m1\u001b[0m\u001b[1;33m]\u001b[0m\u001b[1;33m,\u001b[0m \u001b[0mcom\u001b[0m\u001b[1;33m[\u001b[0m\u001b[1;36m2\u001b[0m\u001b[1;33m]\u001b[0m\u001b[1;33m,\u001b[0m \u001b[1;36m0\u001b[0m\u001b[1;33m,\u001b[0m \u001b[0mcom\u001b[0m\u001b[1;33m[\u001b[0m\u001b[1;36m3\u001b[0m\u001b[1;33m]\u001b[0m\u001b[1;33m,\u001b[0m \u001b[1;36m12\u001b[0m\u001b[1;33m)\u001b[0m\u001b[1;33m\u001b[0m\u001b[1;33m\u001b[0m\u001b[0m\n\u001b[0m\u001b[0;32m     27\u001b[0m                     \u001b[0mone_step_pred2\u001b[0m \u001b[1;33m=\u001b[0m \u001b[0mmod_1\u001b[0m\u001b[1;33m.\u001b[0m\u001b[0mforecast\u001b[0m\u001b[1;33m(\u001b[0m\u001b[1;33m)\u001b[0m\u001b[1;33m\u001b[0m\u001b[1;33m\u001b[0m\u001b[0m\n\u001b[0;32m     28\u001b[0m                 \u001b[0mli_one_step\u001b[0m\u001b[1;33m.\u001b[0m\u001b[0mappend\u001b[0m\u001b[1;33m(\u001b[0m\u001b[0mone_step_pred2\u001b[0m\u001b[1;33m[\u001b[0m\u001b[1;36m0\u001b[0m\u001b[1;33m]\u001b[0m\u001b[1;33m)\u001b[0m\u001b[1;33m\u001b[0m\u001b[1;33m\u001b[0m\u001b[0m\n",
      "\u001b[1;32m<ipython-input-4-5fcefe079e19>\u001b[0m in \u001b[0;36msarima_model_creation\u001b[1;34m(data, p, d, q, P, D, Q, m, exog)\u001b[0m\n\u001b[0;32m      5\u001b[0m                                           \u001b[0menforce_stationarity\u001b[0m\u001b[1;33m=\u001b[0m\u001b[1;32mFalse\u001b[0m\u001b[1;33m,\u001b[0m \u001b[0menforce_invertibility\u001b[0m\u001b[1;33m=\u001b[0m\u001b[1;32mFalse\u001b[0m\u001b[1;33m,\u001b[0m\u001b[1;33m\u001b[0m\u001b[1;33m\u001b[0m\u001b[0m\n\u001b[0;32m      6\u001b[0m                                           initialization='approximate_diffuse')\n\u001b[1;32m----> 7\u001b[1;33m     \u001b[0mmodel_fit\u001b[0m \u001b[1;33m=\u001b[0m \u001b[0msarimamod\u001b[0m\u001b[1;33m.\u001b[0m\u001b[0mfit\u001b[0m\u001b[1;33m(\u001b[0m\u001b[1;33m)\u001b[0m\u001b[1;31m# start_params=[0, 0, 0, 0, 1])\u001b[0m\u001b[1;33m\u001b[0m\u001b[1;33m\u001b[0m\u001b[0m\n\u001b[0m\u001b[0;32m      8\u001b[0m     \u001b[1;32mreturn\u001b[0m\u001b[1;33m(\u001b[0m\u001b[0mmodel_fit\u001b[0m\u001b[1;33m)\u001b[0m\u001b[1;33m\u001b[0m\u001b[1;33m\u001b[0m\u001b[0m\n",
      "\u001b[1;32m~\\Anaconda3\\lib\\site-packages\\statsmodels\\tsa\\statespace\\mlemodel.py\u001b[0m in \u001b[0;36mfit\u001b[1;34m(self, start_params, transformed, cov_type, cov_kwds, method, maxiter, full_output, disp, callback, return_params, optim_score, optim_complex_step, optim_hessian, flags, **kwargs)\u001b[0m\n\u001b[0;32m    475\u001b[0m         \u001b[1;32melse\u001b[0m\u001b[1;33m:\u001b[0m\u001b[1;33m\u001b[0m\u001b[1;33m\u001b[0m\u001b[0m\n\u001b[0;32m    476\u001b[0m             res = self.smooth(mlefit.params, transformed=False,\n\u001b[1;32m--> 477\u001b[1;33m                               cov_type=cov_type, cov_kwds=cov_kwds)\n\u001b[0m\u001b[0;32m    478\u001b[0m \u001b[1;33m\u001b[0m\u001b[0m\n\u001b[0;32m    479\u001b[0m             \u001b[0mres\u001b[0m\u001b[1;33m.\u001b[0m\u001b[0mmlefit\u001b[0m \u001b[1;33m=\u001b[0m \u001b[0mmlefit\u001b[0m\u001b[1;33m\u001b[0m\u001b[1;33m\u001b[0m\u001b[0m\n",
      "\u001b[1;32m~\\Anaconda3\\lib\\site-packages\\statsmodels\\tsa\\statespace\\mlemodel.py\u001b[0m in \u001b[0;36msmooth\u001b[1;34m(self, params, transformed, complex_step, cov_type, cov_kwds, return_ssm, results_class, results_wrapper_class, **kwargs)\u001b[0m\n\u001b[0;32m    591\u001b[0m \u001b[1;33m\u001b[0m\u001b[0m\n\u001b[0;32m    592\u001b[0m         \u001b[1;31m# Get the state space output\u001b[0m\u001b[1;33m\u001b[0m\u001b[1;33m\u001b[0m\u001b[1;33m\u001b[0m\u001b[0m\n\u001b[1;32m--> 593\u001b[1;33m         \u001b[0mresult\u001b[0m \u001b[1;33m=\u001b[0m \u001b[0mself\u001b[0m\u001b[1;33m.\u001b[0m\u001b[0mssm\u001b[0m\u001b[1;33m.\u001b[0m\u001b[0msmooth\u001b[0m\u001b[1;33m(\u001b[0m\u001b[0mcomplex_step\u001b[0m\u001b[1;33m=\u001b[0m\u001b[0mcomplex_step\u001b[0m\u001b[1;33m,\u001b[0m \u001b[1;33m**\u001b[0m\u001b[0mkwargs\u001b[0m\u001b[1;33m)\u001b[0m\u001b[1;33m\u001b[0m\u001b[1;33m\u001b[0m\u001b[0m\n\u001b[0m\u001b[0;32m    594\u001b[0m \u001b[1;33m\u001b[0m\u001b[0m\n\u001b[0;32m    595\u001b[0m         \u001b[1;31m# Wrap in a results object\u001b[0m\u001b[1;33m\u001b[0m\u001b[1;33m\u001b[0m\u001b[1;33m\u001b[0m\u001b[0m\n",
      "\u001b[1;32m~\\Anaconda3\\lib\\site-packages\\statsmodels\\tsa\\statespace\\kalman_smoother.py\u001b[0m in \u001b[0;36msmooth\u001b[1;34m(self, smoother_output, smooth_method, results, run_filter, prefix, complex_step, **kwargs)\u001b[0m\n\u001b[0;32m    402\u001b[0m         \u001b[0mresults\u001b[0m \u001b[1;33m=\u001b[0m \u001b[0mself\u001b[0m\u001b[1;33m.\u001b[0m\u001b[0mresults_class\u001b[0m\u001b[1;33m(\u001b[0m\u001b[0mself\u001b[0m\u001b[1;33m)\u001b[0m\u001b[1;33m\u001b[0m\u001b[1;33m\u001b[0m\u001b[0m\n\u001b[0;32m    403\u001b[0m         \u001b[0mresults\u001b[0m\u001b[1;33m.\u001b[0m\u001b[0mupdate_representation\u001b[0m\u001b[1;33m(\u001b[0m\u001b[0mself\u001b[0m\u001b[1;33m)\u001b[0m\u001b[1;33m\u001b[0m\u001b[1;33m\u001b[0m\u001b[0m\n\u001b[1;32m--> 404\u001b[1;33m         \u001b[0mresults\u001b[0m\u001b[1;33m.\u001b[0m\u001b[0mupdate_filter\u001b[0m\u001b[1;33m(\u001b[0m\u001b[0mkfilter\u001b[0m\u001b[1;33m)\u001b[0m\u001b[1;33m\u001b[0m\u001b[1;33m\u001b[0m\u001b[0m\n\u001b[0m\u001b[0;32m    405\u001b[0m \u001b[1;33m\u001b[0m\u001b[0m\n\u001b[0;32m    406\u001b[0m         \u001b[1;31m# Run the smoother\u001b[0m\u001b[1;33m\u001b[0m\u001b[1;33m\u001b[0m\u001b[1;33m\u001b[0m\u001b[0m\n",
      "\u001b[1;32m~\\Anaconda3\\lib\\site-packages\\statsmodels\\tsa\\statespace\\kalman_filter.py\u001b[0m in \u001b[0;36mupdate_filter\u001b[1;34m(self, kalman_filter)\u001b[0m\n\u001b[0;32m   1385\u001b[0m         )\n\u001b[0;32m   1386\u001b[0m         self.predicted_state_cov = np.array(\n\u001b[1;32m-> 1387\u001b[1;33m             \u001b[0mkalman_filter\u001b[0m\u001b[1;33m.\u001b[0m\u001b[0mpredicted_state_cov\u001b[0m\u001b[1;33m,\u001b[0m \u001b[0mcopy\u001b[0m\u001b[1;33m=\u001b[0m\u001b[1;32mTrue\u001b[0m\u001b[1;33m\u001b[0m\u001b[1;33m\u001b[0m\u001b[0m\n\u001b[0m\u001b[0;32m   1388\u001b[0m         )\n\u001b[0;32m   1389\u001b[0m \u001b[1;33m\u001b[0m\u001b[0m\n",
      "\u001b[1;31mMemoryError\u001b[0m: "
     ]
    }
   ],
   "source": [
    "best_comb = [[4,3,3,4]]\n",
    "warnings.filterwarnings(\"ignore\")\n",
    "for key,value in tqdm(l_o_dfs.items()):\n",
    "    exogenous_var(rd, key, value, best_comb)"
   ]
  },
  {
   "cell_type": "code",
   "execution_count": 7,
   "metadata": {
    "ExecuteTime": {
     "end_time": "2019-09-01T13:02:41.779447Z",
     "start_time": "2019-09-01T13:02:41.679180Z"
    },
    "scrolled": true
   },
   "outputs": [],
   "source": [
    "with_exogs = ['WHITEVILLE 7 NW, NC', 'CASAR, NC', 'FOREST CITY 8 W, NC', 'GASTONIA, NC', 'LAKE LURE 2, NC', \n",
    "                       'ELIZABETHTOWN, NC', ' MOUNT HOLLY 4 NE, NC','GRANDFATHER MTN, NC']\n",
    "ncrd2 = ncrd.copy()\n",
    "ncrd_less = ncrd2.drop(with_exogs,axis=1)"
   ]
  },
  {
   "cell_type": "code",
   "execution_count": 8,
   "metadata": {
    "ExecuteTime": {
     "end_time": "2019-09-01T13:02:52.897006Z",
     "start_time": "2019-09-01T13:02:52.865756Z"
    }
   },
   "outputs": [],
   "source": [
    "def prediction_fx(data, begin, end):\n",
    "    base = datetime.strptime(begin,'%Y-%m-%d')\n",
    "    date_list = [base + relativedelta(months=x) for x in range(600)]\n",
    "    prediction1_df = pd.DataFrame(index=date_list)\n",
    "    for col in tqdm(data.columns):\n",
    "        loc = data[col]\n",
    "        mod_fit1 = sarima_model_creation(loc, 4,0,3,3,0,4,12)\n",
    "        point_predictions = pd.DataFrame(mod_fit1.predict(start=begin, end=end), columns=[col])\n",
    "        future_pred1 = mod_fit1.get_prediction(start=begin, end=end)\n",
    "        future_pred1_ci = future_pred1.conf_int(alpha=0.2)\n",
    "        point_predictions_df = pd.merge(point_predictions, future_pred1_ci, left_index=True, right_index=True)\n",
    "        prediction1_df = pd.merge(prediction1_df, point_predictions_df, left_index=True, right_index=True)\n",
    "    return(prediction1_df)"
   ]
  },
  {
   "cell_type": "code",
   "execution_count": 106,
   "metadata": {
    "ExecuteTime": {
     "end_time": "2019-08-23T02:21:13.739888Z",
     "start_time": "2019-08-23T00:06:30.110952Z"
    },
    "scrolled": true
   },
   "outputs": [
    {
     "data": {
      "application/vnd.jupyter.widget-view+json": {
       "model_id": "d25df9f454124005a5ddb75d808ef764",
       "version_major": 2,
       "version_minor": 0
      },
      "text/plain": [
       "HBox(children=(IntProgress(value=0, max=104), HTML(value='')))"
      ]
     },
     "metadata": {},
     "output_type": "display_data"
    },
    {
     "data": {
      "text/html": [
       "<div>\n",
       "<style scoped>\n",
       "    .dataframe tbody tr th:only-of-type {\n",
       "        vertical-align: middle;\n",
       "    }\n",
       "\n",
       "    .dataframe tbody tr th {\n",
       "        vertical-align: top;\n",
       "    }\n",
       "\n",
       "    .dataframe thead th {\n",
       "        text-align: right;\n",
       "    }\n",
       "</style>\n",
       "<table border=\"1\" class=\"dataframe\">\n",
       "  <thead>\n",
       "    <tr style=\"text-align: right;\">\n",
       "      <th></th>\n",
       "      <th>Raleigh, NC</th>\n",
       "      <th>lower Raleigh, NC</th>\n",
       "      <th>upper Raleigh, NC</th>\n",
       "      <th>Fayetteville, NC</th>\n",
       "      <th>lower Fayetteville, NC</th>\n",
       "      <th>upper Fayetteville, NC</th>\n",
       "      <th>Albemarle, NC</th>\n",
       "      <th>lower Albemarle, NC</th>\n",
       "      <th>upper Albemarle, NC</th>\n",
       "      <th>Arcola, NC</th>\n",
       "      <th>...</th>\n",
       "      <th>upper YADKINVILLE 6 E, NC</th>\n",
       "      <th>HAYESVILLE 1 NE, NC</th>\n",
       "      <th>lower HAYESVILLE 1 NE, NC</th>\n",
       "      <th>upper HAYESVILLE 1 NE, NC</th>\n",
       "      <th>MURPHY 4ESE, NC</th>\n",
       "      <th>lower MURPHY 4ESE, NC</th>\n",
       "      <th>upper MURPHY 4ESE, NC</th>\n",
       "      <th>KING, NC</th>\n",
       "      <th>lower  KING, NC</th>\n",
       "      <th>upper  KING, NC</th>\n",
       "    </tr>\n",
       "  </thead>\n",
       "  <tbody>\n",
       "    <tr>\n",
       "      <th>2019-05-01</th>\n",
       "      <td>3.366287</td>\n",
       "      <td>-0.947590</td>\n",
       "      <td>7.680163</td>\n",
       "      <td>3.111657</td>\n",
       "      <td>-1.504349</td>\n",
       "      <td>7.727664</td>\n",
       "      <td>3.461614</td>\n",
       "      <td>-0.901392</td>\n",
       "      <td>7.824621</td>\n",
       "      <td>4.101742</td>\n",
       "      <td>...</td>\n",
       "      <td>8.403074</td>\n",
       "      <td>6.052865</td>\n",
       "      <td>2.067085</td>\n",
       "      <td>10.038645</td>\n",
       "      <td>6.054696</td>\n",
       "      <td>1.844234</td>\n",
       "      <td>10.265159</td>\n",
       "      <td>4.555015</td>\n",
       "      <td>0.729303</td>\n",
       "      <td>8.380726</td>\n",
       "    </tr>\n",
       "    <tr>\n",
       "      <th>2019-06-01</th>\n",
       "      <td>4.311068</td>\n",
       "      <td>-0.004202</td>\n",
       "      <td>8.626337</td>\n",
       "      <td>4.639369</td>\n",
       "      <td>-0.012169</td>\n",
       "      <td>9.290906</td>\n",
       "      <td>4.748512</td>\n",
       "      <td>0.334216</td>\n",
       "      <td>9.162809</td>\n",
       "      <td>4.453031</td>\n",
       "      <td>...</td>\n",
       "      <td>8.033802</td>\n",
       "      <td>5.717889</td>\n",
       "      <td>1.691579</td>\n",
       "      <td>9.744200</td>\n",
       "      <td>6.150096</td>\n",
       "      <td>1.908906</td>\n",
       "      <td>10.391286</td>\n",
       "      <td>3.477236</td>\n",
       "      <td>-0.366788</td>\n",
       "      <td>7.321260</td>\n",
       "    </tr>\n",
       "    <tr>\n",
       "      <th>2019-07-01</th>\n",
       "      <td>6.314961</td>\n",
       "      <td>1.995109</td>\n",
       "      <td>10.634814</td>\n",
       "      <td>4.736273</td>\n",
       "      <td>0.084019</td>\n",
       "      <td>9.388527</td>\n",
       "      <td>5.211461</td>\n",
       "      <td>0.767251</td>\n",
       "      <td>9.655671</td>\n",
       "      <td>4.030026</td>\n",
       "      <td>...</td>\n",
       "      <td>8.752115</td>\n",
       "      <td>6.071343</td>\n",
       "      <td>2.008941</td>\n",
       "      <td>10.133745</td>\n",
       "      <td>5.999118</td>\n",
       "      <td>1.743897</td>\n",
       "      <td>10.254340</td>\n",
       "      <td>4.060046</td>\n",
       "      <td>0.207505</td>\n",
       "      <td>7.912587</td>\n",
       "    </tr>\n",
       "    <tr>\n",
       "      <th>2019-08-01</th>\n",
       "      <td>4.145673</td>\n",
       "      <td>-0.191141</td>\n",
       "      <td>8.482487</td>\n",
       "      <td>5.171562</td>\n",
       "      <td>0.516924</td>\n",
       "      <td>9.826201</td>\n",
       "      <td>4.538334</td>\n",
       "      <td>0.074311</td>\n",
       "      <td>9.002357</td>\n",
       "      <td>3.948713</td>\n",
       "      <td>...</td>\n",
       "      <td>8.744874</td>\n",
       "      <td>5.126533</td>\n",
       "      <td>1.018007</td>\n",
       "      <td>9.235059</td>\n",
       "      <td>4.852656</td>\n",
       "      <td>0.570876</td>\n",
       "      <td>9.134435</td>\n",
       "      <td>4.301428</td>\n",
       "      <td>0.444422</td>\n",
       "      <td>8.158433</td>\n",
       "    </tr>\n",
       "    <tr>\n",
       "      <th>2019-09-01</th>\n",
       "      <td>4.875324</td>\n",
       "      <td>0.538447</td>\n",
       "      <td>9.212201</td>\n",
       "      <td>4.613723</td>\n",
       "      <td>-0.047083</td>\n",
       "      <td>9.274530</td>\n",
       "      <td>3.479564</td>\n",
       "      <td>-0.985128</td>\n",
       "      <td>7.944255</td>\n",
       "      <td>4.547796</td>\n",
       "      <td>...</td>\n",
       "      <td>8.041144</td>\n",
       "      <td>5.063930</td>\n",
       "      <td>0.946878</td>\n",
       "      <td>9.180982</td>\n",
       "      <td>4.718284</td>\n",
       "      <td>0.405907</td>\n",
       "      <td>9.030662</td>\n",
       "      <td>4.442798</td>\n",
       "      <td>0.584406</td>\n",
       "      <td>8.301189</td>\n",
       "    </tr>\n",
       "    <tr>\n",
       "      <th>2019-10-01</th>\n",
       "      <td>4.620644</td>\n",
       "      <td>0.275651</td>\n",
       "      <td>8.965637</td>\n",
       "      <td>3.449842</td>\n",
       "      <td>-1.211666</td>\n",
       "      <td>8.111351</td>\n",
       "      <td>3.654706</td>\n",
       "      <td>-0.812263</td>\n",
       "      <td>8.121676</td>\n",
       "      <td>4.270212</td>\n",
       "      <td>...</td>\n",
       "      <td>7.435480</td>\n",
       "      <td>4.244699</td>\n",
       "      <td>0.118656</td>\n",
       "      <td>8.370741</td>\n",
       "      <td>3.892131</td>\n",
       "      <td>-0.433895</td>\n",
       "      <td>8.218157</td>\n",
       "      <td>4.220072</td>\n",
       "      <td>0.360803</td>\n",
       "      <td>8.079341</td>\n",
       "    </tr>\n",
       "    <tr>\n",
       "      <th>2019-11-01</th>\n",
       "      <td>2.836573</td>\n",
       "      <td>-1.515683</td>\n",
       "      <td>7.188829</td>\n",
       "      <td>2.833024</td>\n",
       "      <td>-1.829652</td>\n",
       "      <td>7.495700</td>\n",
       "      <td>3.578847</td>\n",
       "      <td>-0.888818</td>\n",
       "      <td>8.046511</td>\n",
       "      <td>4.145416</td>\n",
       "      <td>...</td>\n",
       "      <td>7.125765</td>\n",
       "      <td>5.128604</td>\n",
       "      <td>1.001646</td>\n",
       "      <td>9.255561</td>\n",
       "      <td>4.462930</td>\n",
       "      <td>0.130424</td>\n",
       "      <td>8.795437</td>\n",
       "      <td>4.280093</td>\n",
       "      <td>0.420679</td>\n",
       "      <td>8.139506</td>\n",
       "    </tr>\n",
       "    <tr>\n",
       "      <th>2019-12-01</th>\n",
       "      <td>3.028145</td>\n",
       "      <td>-1.325670</td>\n",
       "      <td>7.381960</td>\n",
       "      <td>3.043657</td>\n",
       "      <td>-1.619592</td>\n",
       "      <td>7.706907</td>\n",
       "      <td>3.945386</td>\n",
       "      <td>-0.522327</td>\n",
       "      <td>8.413099</td>\n",
       "      <td>4.089217</td>\n",
       "      <td>...</td>\n",
       "      <td>7.805577</td>\n",
       "      <td>5.843728</td>\n",
       "      <td>1.715459</td>\n",
       "      <td>9.971997</td>\n",
       "      <td>5.297449</td>\n",
       "      <td>0.963550</td>\n",
       "      <td>9.631349</td>\n",
       "      <td>4.521210</td>\n",
       "      <td>0.661633</td>\n",
       "      <td>8.380788</td>\n",
       "    </tr>\n",
       "    <tr>\n",
       "      <th>2020-01-01</th>\n",
       "      <td>3.996280</td>\n",
       "      <td>-0.365668</td>\n",
       "      <td>8.358228</td>\n",
       "      <td>2.907440</td>\n",
       "      <td>-1.756070</td>\n",
       "      <td>7.570950</td>\n",
       "      <td>3.020206</td>\n",
       "      <td>-1.447848</td>\n",
       "      <td>7.488261</td>\n",
       "      <td>3.895951</td>\n",
       "      <td>...</td>\n",
       "      <td>7.420529</td>\n",
       "      <td>5.472307</td>\n",
       "      <td>1.343995</td>\n",
       "      <td>9.600618</td>\n",
       "      <td>4.975608</td>\n",
       "      <td>0.641069</td>\n",
       "      <td>9.310147</td>\n",
       "      <td>4.132021</td>\n",
       "      <td>0.272453</td>\n",
       "      <td>7.991588</td>\n",
       "    </tr>\n",
       "    <tr>\n",
       "      <th>2020-02-01</th>\n",
       "      <td>2.822907</td>\n",
       "      <td>-1.540627</td>\n",
       "      <td>7.186440</td>\n",
       "      <td>2.760683</td>\n",
       "      <td>-1.903013</td>\n",
       "      <td>7.424379</td>\n",
       "      <td>3.227472</td>\n",
       "      <td>-1.240312</td>\n",
       "      <td>7.695256</td>\n",
       "      <td>3.833445</td>\n",
       "      <td>...</td>\n",
       "      <td>6.962277</td>\n",
       "      <td>5.590564</td>\n",
       "      <td>1.462130</td>\n",
       "      <td>9.718997</td>\n",
       "      <td>5.443202</td>\n",
       "      <td>1.108752</td>\n",
       "      <td>9.777651</td>\n",
       "      <td>4.021765</td>\n",
       "      <td>0.162172</td>\n",
       "      <td>7.881357</td>\n",
       "    </tr>\n",
       "  </tbody>\n",
       "</table>\n",
       "<p>10 rows × 312 columns</p>\n",
       "</div>"
      ],
      "text/plain": [
       "            Raleigh, NC  lower Raleigh, NC  upper Raleigh, NC  \\\n",
       "2019-05-01     3.366287          -0.947590           7.680163   \n",
       "2019-06-01     4.311068          -0.004202           8.626337   \n",
       "2019-07-01     6.314961           1.995109          10.634814   \n",
       "2019-08-01     4.145673          -0.191141           8.482487   \n",
       "2019-09-01     4.875324           0.538447           9.212201   \n",
       "2019-10-01     4.620644           0.275651           8.965637   \n",
       "2019-11-01     2.836573          -1.515683           7.188829   \n",
       "2019-12-01     3.028145          -1.325670           7.381960   \n",
       "2020-01-01     3.996280          -0.365668           8.358228   \n",
       "2020-02-01     2.822907          -1.540627           7.186440   \n",
       "\n",
       "            Fayetteville, NC  lower Fayetteville, NC  upper Fayetteville, NC  \\\n",
       "2019-05-01          3.111657               -1.504349                7.727664   \n",
       "2019-06-01          4.639369               -0.012169                9.290906   \n",
       "2019-07-01          4.736273                0.084019                9.388527   \n",
       "2019-08-01          5.171562                0.516924                9.826201   \n",
       "2019-09-01          4.613723               -0.047083                9.274530   \n",
       "2019-10-01          3.449842               -1.211666                8.111351   \n",
       "2019-11-01          2.833024               -1.829652                7.495700   \n",
       "2019-12-01          3.043657               -1.619592                7.706907   \n",
       "2020-01-01          2.907440               -1.756070                7.570950   \n",
       "2020-02-01          2.760683               -1.903013                7.424379   \n",
       "\n",
       "            Albemarle, NC  lower Albemarle, NC  upper Albemarle, NC  \\\n",
       "2019-05-01       3.461614            -0.901392             7.824621   \n",
       "2019-06-01       4.748512             0.334216             9.162809   \n",
       "2019-07-01       5.211461             0.767251             9.655671   \n",
       "2019-08-01       4.538334             0.074311             9.002357   \n",
       "2019-09-01       3.479564            -0.985128             7.944255   \n",
       "2019-10-01       3.654706            -0.812263             8.121676   \n",
       "2019-11-01       3.578847            -0.888818             8.046511   \n",
       "2019-12-01       3.945386            -0.522327             8.413099   \n",
       "2020-01-01       3.020206            -1.447848             7.488261   \n",
       "2020-02-01       3.227472            -1.240312             7.695256   \n",
       "\n",
       "            Arcola, NC  ...  upper YADKINVILLE 6 E, NC  HAYESVILLE 1 NE, NC  \\\n",
       "2019-05-01    4.101742  ...                   8.403074             6.052865   \n",
       "2019-06-01    4.453031  ...                   8.033802             5.717889   \n",
       "2019-07-01    4.030026  ...                   8.752115             6.071343   \n",
       "2019-08-01    3.948713  ...                   8.744874             5.126533   \n",
       "2019-09-01    4.547796  ...                   8.041144             5.063930   \n",
       "2019-10-01    4.270212  ...                   7.435480             4.244699   \n",
       "2019-11-01    4.145416  ...                   7.125765             5.128604   \n",
       "2019-12-01    4.089217  ...                   7.805577             5.843728   \n",
       "2020-01-01    3.895951  ...                   7.420529             5.472307   \n",
       "2020-02-01    3.833445  ...                   6.962277             5.590564   \n",
       "\n",
       "            lower HAYESVILLE 1 NE, NC  upper HAYESVILLE 1 NE, NC  \\\n",
       "2019-05-01                   2.067085                  10.038645   \n",
       "2019-06-01                   1.691579                   9.744200   \n",
       "2019-07-01                   2.008941                  10.133745   \n",
       "2019-08-01                   1.018007                   9.235059   \n",
       "2019-09-01                   0.946878                   9.180982   \n",
       "2019-10-01                   0.118656                   8.370741   \n",
       "2019-11-01                   1.001646                   9.255561   \n",
       "2019-12-01                   1.715459                   9.971997   \n",
       "2020-01-01                   1.343995                   9.600618   \n",
       "2020-02-01                   1.462130                   9.718997   \n",
       "\n",
       "            MURPHY 4ESE, NC  lower MURPHY 4ESE, NC  upper MURPHY 4ESE, NC  \\\n",
       "2019-05-01         6.054696               1.844234              10.265159   \n",
       "2019-06-01         6.150096               1.908906              10.391286   \n",
       "2019-07-01         5.999118               1.743897              10.254340   \n",
       "2019-08-01         4.852656               0.570876               9.134435   \n",
       "2019-09-01         4.718284               0.405907               9.030662   \n",
       "2019-10-01         3.892131              -0.433895               8.218157   \n",
       "2019-11-01         4.462930               0.130424               8.795437   \n",
       "2019-12-01         5.297449               0.963550               9.631349   \n",
       "2020-01-01         4.975608               0.641069               9.310147   \n",
       "2020-02-01         5.443202               1.108752               9.777651   \n",
       "\n",
       "             KING, NC  lower  KING, NC  upper  KING, NC  \n",
       "2019-05-01   4.555015         0.729303         8.380726  \n",
       "2019-06-01   3.477236        -0.366788         7.321260  \n",
       "2019-07-01   4.060046         0.207505         7.912587  \n",
       "2019-08-01   4.301428         0.444422         8.158433  \n",
       "2019-09-01   4.442798         0.584406         8.301189  \n",
       "2019-10-01   4.220072         0.360803         8.079341  \n",
       "2019-11-01   4.280093         0.420679         8.139506  \n",
       "2019-12-01   4.521210         0.661633         8.380788  \n",
       "2020-01-01   4.132021         0.272453         7.991588  \n",
       "2020-02-01   4.021765         0.162172         7.881357  \n",
       "\n",
       "[10 rows x 312 columns]"
      ]
     },
     "execution_count": 106,
     "metadata": {},
     "output_type": "execute_result"
    }
   ],
   "source": [
    "pre_df = prediction_fx(ncrd_less, '2019-05-01', '2069-05-01')\n",
    "pre_df.head(10)"
   ]
  },
  {
   "cell_type": "code",
   "execution_count": 9,
   "metadata": {
    "ExecuteTime": {
     "end_time": "2019-09-01T13:03:00.763115Z",
     "start_time": "2019-09-01T13:03:00.716293Z"
    }
   },
   "outputs": [],
   "source": [
    "exo_var_dict2 = {\n",
    "    'WHITEVILLE 7 NW, NC': rd[[' LORIS 2 S, SC']],\n",
    "    'CASAR, NC': rd[['GAFFNEY 6 E, SC']],\n",
    "    'FOREST CITY 8 W, NC': rd[['GAFFNEY 6 E, SC']],\n",
    "    'GASTONIA, NC': rd[['FORT MILL 4 NW, SC','GAFFNEY 6 E, SC']],\n",
    "    'LAKE LURE 2, NC': rd[['CHESNEE 7 WSW, SC']],\n",
    "    ' MOUNT HOLLY 4 NE, NC': rd[['CHESNEE 7 WSW, SC','GAFFNEY 6 E, SC']],\n",
    "    'ELIZABETHTOWN, NC': rd[[' LORIS 2 S, SC']],\n",
    "    'GRANDFATHER MTN, NC': rd[['ELIZABETHTON, TN']]\n",
    "    \n",
    "}"
   ]
  },
  {
   "cell_type": "code",
   "execution_count": 10,
   "metadata": {
    "ExecuteTime": {
     "end_time": "2019-09-01T13:03:05.159597Z",
     "start_time": "2019-09-01T13:03:05.112750Z"
    }
   },
   "outputs": [],
   "source": [
    "def prediction_exog_fx2(data, exog_dict, begin, end):\n",
    "    base = datetime.strptime(begin,'%Y-%m-%d')\n",
    "    date_list = [base + relativedelta(months=x) for x in range(600)]\n",
    "    prediction_df = pd.DataFrame(index = date_list)\n",
    "    pred_val_df = pd.DataFrame(index = date_list)\n",
    "    exog_predictions_df = pd.DataFrame(index = date_list)\n",
    "    for key,value in tqdm(exog_dict.items()):\n",
    "        loc = data[key]\n",
    "        mod_fit1 = sarima_model_creation(loc, 4,0,3,3,0,4, 12,exog=value)\n",
    "        if value.shape[1] > 1:\n",
    "            shap = value.shape[1]\n",
    "            for i in range(shap):\n",
    "                exog_mod_fit = sarima_model_creation(value.iloc[:,i],4,0,3,3,0,4,12)\n",
    "                e_preds2 = pd.DataFrame(exog_mod_fit.predict(start=begin, end=end))\n",
    "                if i is 0:\n",
    "                    exog_predictions_df = e_preds2\n",
    "                else:\n",
    "                    exog_predictions_df = pd.merge(exog_predictions_df, e_preds2, left_index=True, \n",
    "                                                   right_index=True)\n",
    "        else:\n",
    "            exog_mod_fit = sarima_model_creation(value, 4,0,3,3,0,4,12)\n",
    "            exog_predictions_df = pd.DataFrame(exog_mod_fit.predict(start=begin, end=end))\n",
    "        future_pred = mod_fit1.get_prediction(exog=exog_predictions_df,start=begin, end=end)\n",
    "        future_pred_ci = future_pred.conf_int(alpha=0.2)\n",
    "        future_pred_val= pd.DataFrame(mod_fit1.predict(exog=exog_predictions_df, start=begin, end=end), \n",
    "                                      columns = [key])\n",
    "        future_pred_full = pd.merge(future_pred_val, future_pred_ci, left_index=True, right_index=True)\n",
    "        prediction_df = pd.merge(prediction_df, future_pred_full, left_index=True, right_index=True)\n",
    "    return(prediction_df)"
   ]
  },
  {
   "cell_type": "code",
   "execution_count": 11,
   "metadata": {
    "ExecuteTime": {
     "end_time": "2019-09-01T13:22:40.597817Z",
     "start_time": "2019-09-01T13:03:06.756933Z"
    },
    "scrolled": true
   },
   "outputs": [
    {
     "data": {
      "application/vnd.jupyter.widget-view+json": {
       "model_id": "590b9f8059b548b197d2d5fe95f319f3",
       "version_major": 2,
       "version_minor": 0
      },
      "text/plain": [
       "HBox(children=(IntProgress(value=0, max=8), HTML(value='')))"
      ]
     },
     "metadata": {},
     "output_type": "display_data"
    },
    {
     "name": "stdout",
     "output_type": "stream",
     "text": [
      "\n"
     ]
    }
   ],
   "source": [
    "e_ci_df = prediction_exog_fx2(rd, exo_var_dict2, '2019-05-01', '2069-05-01')"
   ]
  },
  {
   "cell_type": "code",
   "execution_count": 12,
   "metadata": {
    "ExecuteTime": {
     "end_time": "2019-09-01T13:22:41.071193Z",
     "start_time": "2019-09-01T13:22:40.925187Z"
    }
   },
   "outputs": [
    {
     "data": {
      "text/html": [
       "<div>\n",
       "<style scoped>\n",
       "    .dataframe tbody tr th:only-of-type {\n",
       "        vertical-align: middle;\n",
       "    }\n",
       "\n",
       "    .dataframe tbody tr th {\n",
       "        vertical-align: top;\n",
       "    }\n",
       "\n",
       "    .dataframe thead th {\n",
       "        text-align: right;\n",
       "    }\n",
       "</style>\n",
       "<table border=\"1\" class=\"dataframe\">\n",
       "  <thead>\n",
       "    <tr style=\"text-align: right;\">\n",
       "      <th></th>\n",
       "      <th>WHITEVILLE 7 NW, NC</th>\n",
       "      <th>lower WHITEVILLE 7 NW, NC</th>\n",
       "      <th>upper WHITEVILLE 7 NW, NC</th>\n",
       "      <th>CASAR, NC</th>\n",
       "      <th>lower CASAR, NC</th>\n",
       "      <th>upper CASAR, NC</th>\n",
       "      <th>FOREST CITY 8 W, NC</th>\n",
       "      <th>lower FOREST CITY 8 W, NC</th>\n",
       "      <th>upper FOREST CITY 8 W, NC</th>\n",
       "      <th>GASTONIA, NC</th>\n",
       "      <th>...</th>\n",
       "      <th>upper LAKE LURE 2, NC</th>\n",
       "      <th>MOUNT HOLLY 4 NE, NC</th>\n",
       "      <th>lower  MOUNT HOLLY 4 NE, NC</th>\n",
       "      <th>upper  MOUNT HOLLY 4 NE, NC</th>\n",
       "      <th>ELIZABETHTOWN, NC</th>\n",
       "      <th>lower ELIZABETHTOWN, NC</th>\n",
       "      <th>upper ELIZABETHTOWN, NC</th>\n",
       "      <th>GRANDFATHER MTN, NC</th>\n",
       "      <th>lower GRANDFATHER MTN, NC</th>\n",
       "      <th>upper GRANDFATHER MTN, NC</th>\n",
       "    </tr>\n",
       "  </thead>\n",
       "  <tbody>\n",
       "    <tr>\n",
       "      <th>2019-05-01</th>\n",
       "      <td>5.753516</td>\n",
       "      <td>2.932058</td>\n",
       "      <td>8.574975</td>\n",
       "      <td>3.591515</td>\n",
       "      <td>1.558254</td>\n",
       "      <td>5.624777</td>\n",
       "      <td>3.899437</td>\n",
       "      <td>1.935470</td>\n",
       "      <td>5.863404</td>\n",
       "      <td>4.178921</td>\n",
       "      <td>...</td>\n",
       "      <td>9.529583</td>\n",
       "      <td>3.718346</td>\n",
       "      <td>1.981513</td>\n",
       "      <td>5.455180</td>\n",
       "      <td>4.539367</td>\n",
       "      <td>1.695688</td>\n",
       "      <td>7.383046</td>\n",
       "      <td>7.329324</td>\n",
       "      <td>3.670124</td>\n",
       "      <td>10.988524</td>\n",
       "    </tr>\n",
       "    <tr>\n",
       "      <th>2019-06-01</th>\n",
       "      <td>3.724518</td>\n",
       "      <td>0.879779</td>\n",
       "      <td>6.569256</td>\n",
       "      <td>4.899144</td>\n",
       "      <td>2.797554</td>\n",
       "      <td>7.000734</td>\n",
       "      <td>4.043647</td>\n",
       "      <td>2.051741</td>\n",
       "      <td>6.035554</td>\n",
       "      <td>3.854757</td>\n",
       "      <td>...</td>\n",
       "      <td>7.859595</td>\n",
       "      <td>3.893037</td>\n",
       "      <td>2.148525</td>\n",
       "      <td>5.637549</td>\n",
       "      <td>4.742576</td>\n",
       "      <td>1.836207</td>\n",
       "      <td>7.648946</td>\n",
       "      <td>6.904584</td>\n",
       "      <td>3.230433</td>\n",
       "      <td>10.578735</td>\n",
       "    </tr>\n",
       "    <tr>\n",
       "      <th>2019-07-01</th>\n",
       "      <td>5.557662</td>\n",
       "      <td>2.706438</td>\n",
       "      <td>8.408886</td>\n",
       "      <td>4.932119</td>\n",
       "      <td>2.827554</td>\n",
       "      <td>7.036683</td>\n",
       "      <td>4.229915</td>\n",
       "      <td>2.230285</td>\n",
       "      <td>6.229544</td>\n",
       "      <td>3.854248</td>\n",
       "      <td>...</td>\n",
       "      <td>7.729423</td>\n",
       "      <td>3.564906</td>\n",
       "      <td>1.817351</td>\n",
       "      <td>5.312461</td>\n",
       "      <td>5.759743</td>\n",
       "      <td>2.849444</td>\n",
       "      <td>8.670042</td>\n",
       "      <td>7.503359</td>\n",
       "      <td>3.828030</td>\n",
       "      <td>11.178687</td>\n",
       "    </tr>\n",
       "    <tr>\n",
       "      <th>2019-08-01</th>\n",
       "      <td>6.962032</td>\n",
       "      <td>4.103387</td>\n",
       "      <td>9.820676</td>\n",
       "      <td>4.510153</td>\n",
       "      <td>2.405284</td>\n",
       "      <td>6.615022</td>\n",
       "      <td>4.273738</td>\n",
       "      <td>2.273288</td>\n",
       "      <td>6.274189</td>\n",
       "      <td>3.864488</td>\n",
       "      <td>...</td>\n",
       "      <td>8.337127</td>\n",
       "      <td>3.462391</td>\n",
       "      <td>1.700863</td>\n",
       "      <td>5.223920</td>\n",
       "      <td>6.681779</td>\n",
       "      <td>3.771469</td>\n",
       "      <td>9.592089</td>\n",
       "      <td>6.570490</td>\n",
       "      <td>2.895123</td>\n",
       "      <td>10.245857</td>\n",
       "    </tr>\n",
       "    <tr>\n",
       "      <th>2019-09-01</th>\n",
       "      <td>5.759614</td>\n",
       "      <td>2.899671</td>\n",
       "      <td>8.619557</td>\n",
       "      <td>4.223978</td>\n",
       "      <td>2.117290</td>\n",
       "      <td>6.330666</td>\n",
       "      <td>4.151798</td>\n",
       "      <td>2.151158</td>\n",
       "      <td>6.152439</td>\n",
       "      <td>3.730619</td>\n",
       "      <td>...</td>\n",
       "      <td>8.277638</td>\n",
       "      <td>3.215256</td>\n",
       "      <td>1.453443</td>\n",
       "      <td>4.977068</td>\n",
       "      <td>7.964787</td>\n",
       "      <td>5.054281</td>\n",
       "      <td>10.875293</td>\n",
       "      <td>5.825237</td>\n",
       "      <td>2.149414</td>\n",
       "      <td>9.501059</td>\n",
       "    </tr>\n",
       "    <tr>\n",
       "      <th>2019-10-01</th>\n",
       "      <td>3.492725</td>\n",
       "      <td>0.626859</td>\n",
       "      <td>6.358591</td>\n",
       "      <td>3.624053</td>\n",
       "      <td>1.516832</td>\n",
       "      <td>5.731275</td>\n",
       "      <td>3.761492</td>\n",
       "      <td>1.760821</td>\n",
       "      <td>5.762163</td>\n",
       "      <td>3.630010</td>\n",
       "      <td>...</td>\n",
       "      <td>7.823008</td>\n",
       "      <td>3.428503</td>\n",
       "      <td>1.666370</td>\n",
       "      <td>5.190637</td>\n",
       "      <td>5.165368</td>\n",
       "      <td>2.254790</td>\n",
       "      <td>8.075946</td>\n",
       "      <td>5.788173</td>\n",
       "      <td>2.112250</td>\n",
       "      <td>9.464097</td>\n",
       "    </tr>\n",
       "    <tr>\n",
       "      <th>2019-11-01</th>\n",
       "      <td>3.845209</td>\n",
       "      <td>0.973952</td>\n",
       "      <td>6.716466</td>\n",
       "      <td>4.545980</td>\n",
       "      <td>2.438038</td>\n",
       "      <td>6.653921</td>\n",
       "      <td>4.187163</td>\n",
       "      <td>2.186382</td>\n",
       "      <td>6.187944</td>\n",
       "      <td>3.811119</td>\n",
       "      <td>...</td>\n",
       "      <td>7.367885</td>\n",
       "      <td>3.288401</td>\n",
       "      <td>1.518499</td>\n",
       "      <td>5.058303</td>\n",
       "      <td>4.493145</td>\n",
       "      <td>1.582568</td>\n",
       "      <td>7.403722</td>\n",
       "      <td>5.711345</td>\n",
       "      <td>2.034994</td>\n",
       "      <td>9.387696</td>\n",
       "    </tr>\n",
       "    <tr>\n",
       "      <th>2019-12-01</th>\n",
       "      <td>3.647705</td>\n",
       "      <td>0.776451</td>\n",
       "      <td>6.518959</td>\n",
       "      <td>4.362686</td>\n",
       "      <td>2.253797</td>\n",
       "      <td>6.471574</td>\n",
       "      <td>3.789722</td>\n",
       "      <td>1.788948</td>\n",
       "      <td>5.790495</td>\n",
       "      <td>3.485347</td>\n",
       "      <td>...</td>\n",
       "      <td>7.975982</td>\n",
       "      <td>3.782379</td>\n",
       "      <td>2.012226</td>\n",
       "      <td>5.552531</td>\n",
       "      <td>4.593129</td>\n",
       "      <td>1.682459</td>\n",
       "      <td>7.503799</td>\n",
       "      <td>6.099219</td>\n",
       "      <td>2.422684</td>\n",
       "      <td>9.775755</td>\n",
       "    </tr>\n",
       "    <tr>\n",
       "      <th>2020-01-01</th>\n",
       "      <td>2.551145</td>\n",
       "      <td>-0.325700</td>\n",
       "      <td>5.427991</td>\n",
       "      <td>4.507149</td>\n",
       "      <td>2.397572</td>\n",
       "      <td>6.616726</td>\n",
       "      <td>4.227263</td>\n",
       "      <td>2.226496</td>\n",
       "      <td>6.228031</td>\n",
       "      <td>3.782411</td>\n",
       "      <td>...</td>\n",
       "      <td>7.497958</td>\n",
       "      <td>3.369102</td>\n",
       "      <td>1.598952</td>\n",
       "      <td>5.139252</td>\n",
       "      <td>4.532317</td>\n",
       "      <td>1.621610</td>\n",
       "      <td>7.443025</td>\n",
       "      <td>5.944489</td>\n",
       "      <td>2.267524</td>\n",
       "      <td>9.621454</td>\n",
       "    </tr>\n",
       "    <tr>\n",
       "      <th>2020-02-01</th>\n",
       "      <td>4.253857</td>\n",
       "      <td>1.374198</td>\n",
       "      <td>7.133516</td>\n",
       "      <td>4.019727</td>\n",
       "      <td>1.909347</td>\n",
       "      <td>6.130108</td>\n",
       "      <td>3.890641</td>\n",
       "      <td>1.889850</td>\n",
       "      <td>5.891431</td>\n",
       "      <td>3.878353</td>\n",
       "      <td>...</td>\n",
       "      <td>7.706397</td>\n",
       "      <td>3.404534</td>\n",
       "      <td>1.630056</td>\n",
       "      <td>5.179013</td>\n",
       "      <td>5.310876</td>\n",
       "      <td>2.400142</td>\n",
       "      <td>8.221610</td>\n",
       "      <td>6.137058</td>\n",
       "      <td>2.459829</td>\n",
       "      <td>9.814287</td>\n",
       "    </tr>\n",
       "  </tbody>\n",
       "</table>\n",
       "<p>10 rows × 24 columns</p>\n",
       "</div>"
      ],
      "text/plain": [
       "            WHITEVILLE 7 NW, NC  lower WHITEVILLE 7 NW, NC  \\\n",
       "2019-05-01             5.753516                   2.932058   \n",
       "2019-06-01             3.724518                   0.879779   \n",
       "2019-07-01             5.557662                   2.706438   \n",
       "2019-08-01             6.962032                   4.103387   \n",
       "2019-09-01             5.759614                   2.899671   \n",
       "2019-10-01             3.492725                   0.626859   \n",
       "2019-11-01             3.845209                   0.973952   \n",
       "2019-12-01             3.647705                   0.776451   \n",
       "2020-01-01             2.551145                  -0.325700   \n",
       "2020-02-01             4.253857                   1.374198   \n",
       "\n",
       "            upper WHITEVILLE 7 NW, NC  CASAR, NC  lower CASAR, NC  \\\n",
       "2019-05-01                   8.574975   3.591515         1.558254   \n",
       "2019-06-01                   6.569256   4.899144         2.797554   \n",
       "2019-07-01                   8.408886   4.932119         2.827554   \n",
       "2019-08-01                   9.820676   4.510153         2.405284   \n",
       "2019-09-01                   8.619557   4.223978         2.117290   \n",
       "2019-10-01                   6.358591   3.624053         1.516832   \n",
       "2019-11-01                   6.716466   4.545980         2.438038   \n",
       "2019-12-01                   6.518959   4.362686         2.253797   \n",
       "2020-01-01                   5.427991   4.507149         2.397572   \n",
       "2020-02-01                   7.133516   4.019727         1.909347   \n",
       "\n",
       "            upper CASAR, NC  FOREST CITY 8 W, NC  lower FOREST CITY 8 W, NC  \\\n",
       "2019-05-01         5.624777             3.899437                   1.935470   \n",
       "2019-06-01         7.000734             4.043647                   2.051741   \n",
       "2019-07-01         7.036683             4.229915                   2.230285   \n",
       "2019-08-01         6.615022             4.273738                   2.273288   \n",
       "2019-09-01         6.330666             4.151798                   2.151158   \n",
       "2019-10-01         5.731275             3.761492                   1.760821   \n",
       "2019-11-01         6.653921             4.187163                   2.186382   \n",
       "2019-12-01         6.471574             3.789722                   1.788948   \n",
       "2020-01-01         6.616726             4.227263                   2.226496   \n",
       "2020-02-01         6.130108             3.890641                   1.889850   \n",
       "\n",
       "            upper FOREST CITY 8 W, NC  GASTONIA, NC  ...  \\\n",
       "2019-05-01                   5.863404      4.178921  ...   \n",
       "2019-06-01                   6.035554      3.854757  ...   \n",
       "2019-07-01                   6.229544      3.854248  ...   \n",
       "2019-08-01                   6.274189      3.864488  ...   \n",
       "2019-09-01                   6.152439      3.730619  ...   \n",
       "2019-10-01                   5.762163      3.630010  ...   \n",
       "2019-11-01                   6.187944      3.811119  ...   \n",
       "2019-12-01                   5.790495      3.485347  ...   \n",
       "2020-01-01                   6.228031      3.782411  ...   \n",
       "2020-02-01                   5.891431      3.878353  ...   \n",
       "\n",
       "            upper LAKE LURE 2, NC   MOUNT HOLLY 4 NE, NC  \\\n",
       "2019-05-01               9.529583               3.718346   \n",
       "2019-06-01               7.859595               3.893037   \n",
       "2019-07-01               7.729423               3.564906   \n",
       "2019-08-01               8.337127               3.462391   \n",
       "2019-09-01               8.277638               3.215256   \n",
       "2019-10-01               7.823008               3.428503   \n",
       "2019-11-01               7.367885               3.288401   \n",
       "2019-12-01               7.975982               3.782379   \n",
       "2020-01-01               7.497958               3.369102   \n",
       "2020-02-01               7.706397               3.404534   \n",
       "\n",
       "            lower  MOUNT HOLLY 4 NE, NC  upper  MOUNT HOLLY 4 NE, NC  \\\n",
       "2019-05-01                     1.981513                     5.455180   \n",
       "2019-06-01                     2.148525                     5.637549   \n",
       "2019-07-01                     1.817351                     5.312461   \n",
       "2019-08-01                     1.700863                     5.223920   \n",
       "2019-09-01                     1.453443                     4.977068   \n",
       "2019-10-01                     1.666370                     5.190637   \n",
       "2019-11-01                     1.518499                     5.058303   \n",
       "2019-12-01                     2.012226                     5.552531   \n",
       "2020-01-01                     1.598952                     5.139252   \n",
       "2020-02-01                     1.630056                     5.179013   \n",
       "\n",
       "            ELIZABETHTOWN, NC  lower ELIZABETHTOWN, NC  \\\n",
       "2019-05-01           4.539367                 1.695688   \n",
       "2019-06-01           4.742576                 1.836207   \n",
       "2019-07-01           5.759743                 2.849444   \n",
       "2019-08-01           6.681779                 3.771469   \n",
       "2019-09-01           7.964787                 5.054281   \n",
       "2019-10-01           5.165368                 2.254790   \n",
       "2019-11-01           4.493145                 1.582568   \n",
       "2019-12-01           4.593129                 1.682459   \n",
       "2020-01-01           4.532317                 1.621610   \n",
       "2020-02-01           5.310876                 2.400142   \n",
       "\n",
       "            upper ELIZABETHTOWN, NC  GRANDFATHER MTN, NC  \\\n",
       "2019-05-01                 7.383046             7.329324   \n",
       "2019-06-01                 7.648946             6.904584   \n",
       "2019-07-01                 8.670042             7.503359   \n",
       "2019-08-01                 9.592089             6.570490   \n",
       "2019-09-01                10.875293             5.825237   \n",
       "2019-10-01                 8.075946             5.788173   \n",
       "2019-11-01                 7.403722             5.711345   \n",
       "2019-12-01                 7.503799             6.099219   \n",
       "2020-01-01                 7.443025             5.944489   \n",
       "2020-02-01                 8.221610             6.137058   \n",
       "\n",
       "            lower GRANDFATHER MTN, NC  upper GRANDFATHER MTN, NC  \n",
       "2019-05-01                   3.670124                  10.988524  \n",
       "2019-06-01                   3.230433                  10.578735  \n",
       "2019-07-01                   3.828030                  11.178687  \n",
       "2019-08-01                   2.895123                  10.245857  \n",
       "2019-09-01                   2.149414                   9.501059  \n",
       "2019-10-01                   2.112250                   9.464097  \n",
       "2019-11-01                   2.034994                   9.387696  \n",
       "2019-12-01                   2.422684                   9.775755  \n",
       "2020-01-01                   2.267524                   9.621454  \n",
       "2020-02-01                   2.459829                   9.814287  \n",
       "\n",
       "[10 rows x 24 columns]"
      ]
     },
     "execution_count": 12,
     "metadata": {},
     "output_type": "execute_result"
    }
   ],
   "source": [
    "e_ci_df.head(10)"
   ]
  },
  {
   "cell_type": "code",
   "execution_count": 120,
   "metadata": {
    "ExecuteTime": {
     "end_time": "2019-08-24T13:53:37.309718Z",
     "start_time": "2019-08-24T13:53:31.847025Z"
    }
   },
   "outputs": [],
   "source": [
    "merged_ci_vals = pd.merge(pre_df, e_ci_df, left_index=True, right_index=True)"
   ]
  },
  {
   "cell_type": "code",
   "execution_count": 121,
   "metadata": {
    "ExecuteTime": {
     "end_time": "2019-08-24T13:53:43.321522Z",
     "start_time": "2019-08-24T13:53:40.611189Z"
    }
   },
   "outputs": [],
   "source": [
    "merged_ci_vals.to_csv('predictions.csv')"
   ]
  },
  {
   "cell_type": "code",
   "execution_count": 122,
   "metadata": {
    "ExecuteTime": {
     "end_time": "2019-08-24T13:53:46.367923Z",
     "start_time": "2019-08-24T13:53:46.119358Z"
    }
   },
   "outputs": [
    {
     "data": {
      "text/html": [
       "<div>\n",
       "<style scoped>\n",
       "    .dataframe tbody tr th:only-of-type {\n",
       "        vertical-align: middle;\n",
       "    }\n",
       "\n",
       "    .dataframe tbody tr th {\n",
       "        vertical-align: top;\n",
       "    }\n",
       "\n",
       "    .dataframe thead th {\n",
       "        text-align: right;\n",
       "    }\n",
       "</style>\n",
       "<table border=\"1\" class=\"dataframe\">\n",
       "  <thead>\n",
       "    <tr style=\"text-align: right;\">\n",
       "      <th></th>\n",
       "      <th>Raleigh, NC</th>\n",
       "      <th>lower Raleigh, NC</th>\n",
       "      <th>upper Raleigh, NC</th>\n",
       "      <th>Fayetteville, NC</th>\n",
       "      <th>lower Fayetteville, NC</th>\n",
       "      <th>upper Fayetteville, NC</th>\n",
       "      <th>Albemarle, NC</th>\n",
       "      <th>lower Albemarle, NC</th>\n",
       "      <th>upper Albemarle, NC</th>\n",
       "      <th>Arcola, NC</th>\n",
       "      <th>...</th>\n",
       "      <th>upper LAKE LURE 2, NC</th>\n",
       "      <th>MOUNT HOLLY 4 NE, NC</th>\n",
       "      <th>lower  MOUNT HOLLY 4 NE, NC</th>\n",
       "      <th>upper  MOUNT HOLLY 4 NE, NC</th>\n",
       "      <th>ELIZABETHTOWN, NC</th>\n",
       "      <th>lower ELIZABETHTOWN, NC</th>\n",
       "      <th>upper ELIZABETHTOWN, NC</th>\n",
       "      <th>GRANDFATHER MTN, NC</th>\n",
       "      <th>lower GRANDFATHER MTN, NC</th>\n",
       "      <th>upper GRANDFATHER MTN, NC</th>\n",
       "    </tr>\n",
       "  </thead>\n",
       "  <tbody>\n",
       "    <tr>\n",
       "      <th>2019-05-01</th>\n",
       "      <td>3.366287</td>\n",
       "      <td>-0.947590</td>\n",
       "      <td>7.680163</td>\n",
       "      <td>3.111657</td>\n",
       "      <td>-1.504349</td>\n",
       "      <td>7.727664</td>\n",
       "      <td>3.461614</td>\n",
       "      <td>-0.901392</td>\n",
       "      <td>7.824621</td>\n",
       "      <td>4.101742</td>\n",
       "      <td>...</td>\n",
       "      <td>10.894134</td>\n",
       "      <td>3.718346</td>\n",
       "      <td>1.062089</td>\n",
       "      <td>6.374604</td>\n",
       "      <td>4.539367</td>\n",
       "      <td>0.190336</td>\n",
       "      <td>8.888398</td>\n",
       "      <td>7.329324</td>\n",
       "      <td>1.733060</td>\n",
       "      <td>12.925588</td>\n",
       "    </tr>\n",
       "    <tr>\n",
       "      <th>2019-06-01</th>\n",
       "      <td>4.311068</td>\n",
       "      <td>-0.004202</td>\n",
       "      <td>8.626337</td>\n",
       "      <td>4.639369</td>\n",
       "      <td>-0.012169</td>\n",
       "      <td>9.290906</td>\n",
       "      <td>4.748512</td>\n",
       "      <td>0.334216</td>\n",
       "      <td>9.162809</td>\n",
       "      <td>4.453031</td>\n",
       "      <td>...</td>\n",
       "      <td>9.232410</td>\n",
       "      <td>3.893037</td>\n",
       "      <td>1.225036</td>\n",
       "      <td>6.561039</td>\n",
       "      <td>4.742576</td>\n",
       "      <td>0.297668</td>\n",
       "      <td>9.187485</td>\n",
       "      <td>6.904584</td>\n",
       "      <td>1.285455</td>\n",
       "      <td>12.523713</td>\n",
       "    </tr>\n",
       "    <tr>\n",
       "      <th>2019-07-01</th>\n",
       "      <td>6.314961</td>\n",
       "      <td>1.995109</td>\n",
       "      <td>10.634814</td>\n",
       "      <td>4.736273</td>\n",
       "      <td>0.084019</td>\n",
       "      <td>9.388527</td>\n",
       "      <td>5.211461</td>\n",
       "      <td>0.767251</td>\n",
       "      <td>9.655671</td>\n",
       "      <td>4.030026</td>\n",
       "      <td>...</td>\n",
       "      <td>9.102545</td>\n",
       "      <td>3.564906</td>\n",
       "      <td>0.892252</td>\n",
       "      <td>6.237560</td>\n",
       "      <td>5.759743</td>\n",
       "      <td>1.308825</td>\n",
       "      <td>10.210661</td>\n",
       "      <td>7.503359</td>\n",
       "      <td>1.882429</td>\n",
       "      <td>13.124288</td>\n",
       "    </tr>\n",
       "    <tr>\n",
       "      <th>2019-08-01</th>\n",
       "      <td>4.145673</td>\n",
       "      <td>-0.191141</td>\n",
       "      <td>8.482487</td>\n",
       "      <td>5.171562</td>\n",
       "      <td>0.516924</td>\n",
       "      <td>9.826201</td>\n",
       "      <td>4.538334</td>\n",
       "      <td>0.074311</td>\n",
       "      <td>9.002357</td>\n",
       "      <td>3.948713</td>\n",
       "      <td>...</td>\n",
       "      <td>9.711629</td>\n",
       "      <td>3.462391</td>\n",
       "      <td>0.768366</td>\n",
       "      <td>6.156417</td>\n",
       "      <td>6.681779</td>\n",
       "      <td>2.230843</td>\n",
       "      <td>11.132715</td>\n",
       "      <td>6.570490</td>\n",
       "      <td>0.949501</td>\n",
       "      <td>12.191479</td>\n",
       "    </tr>\n",
       "    <tr>\n",
       "      <th>2019-09-01</th>\n",
       "      <td>4.875324</td>\n",
       "      <td>0.538447</td>\n",
       "      <td>9.212201</td>\n",
       "      <td>4.613723</td>\n",
       "      <td>-0.047083</td>\n",
       "      <td>9.274530</td>\n",
       "      <td>3.479564</td>\n",
       "      <td>-0.985128</td>\n",
       "      <td>7.944255</td>\n",
       "      <td>4.547796</td>\n",
       "      <td>...</td>\n",
       "      <td>9.653529</td>\n",
       "      <td>3.215256</td>\n",
       "      <td>0.520796</td>\n",
       "      <td>5.909716</td>\n",
       "      <td>7.964787</td>\n",
       "      <td>3.513552</td>\n",
       "      <td>12.416022</td>\n",
       "      <td>5.825237</td>\n",
       "      <td>0.203551</td>\n",
       "      <td>11.446923</td>\n",
       "    </tr>\n",
       "    <tr>\n",
       "      <th>2019-10-01</th>\n",
       "      <td>4.620644</td>\n",
       "      <td>0.275651</td>\n",
       "      <td>8.965637</td>\n",
       "      <td>3.449842</td>\n",
       "      <td>-1.211666</td>\n",
       "      <td>8.111351</td>\n",
       "      <td>3.654706</td>\n",
       "      <td>-0.812263</td>\n",
       "      <td>8.121676</td>\n",
       "      <td>4.270212</td>\n",
       "      <td>...</td>\n",
       "      <td>9.199086</td>\n",
       "      <td>3.428503</td>\n",
       "      <td>0.733553</td>\n",
       "      <td>6.123454</td>\n",
       "      <td>5.165368</td>\n",
       "      <td>0.714024</td>\n",
       "      <td>9.616713</td>\n",
       "      <td>5.788173</td>\n",
       "      <td>0.166334</td>\n",
       "      <td>11.410013</td>\n",
       "    </tr>\n",
       "    <tr>\n",
       "      <th>2019-11-01</th>\n",
       "      <td>2.836573</td>\n",
       "      <td>-1.515683</td>\n",
       "      <td>7.188829</td>\n",
       "      <td>2.833024</td>\n",
       "      <td>-1.829652</td>\n",
       "      <td>7.495700</td>\n",
       "      <td>3.578847</td>\n",
       "      <td>-0.888818</td>\n",
       "      <td>8.046511</td>\n",
       "      <td>4.145416</td>\n",
       "      <td>...</td>\n",
       "      <td>8.743976</td>\n",
       "      <td>3.288401</td>\n",
       "      <td>0.581569</td>\n",
       "      <td>5.995233</td>\n",
       "      <td>4.493145</td>\n",
       "      <td>0.041802</td>\n",
       "      <td>8.944489</td>\n",
       "      <td>5.711345</td>\n",
       "      <td>0.088851</td>\n",
       "      <td>11.333839</td>\n",
       "    </tr>\n",
       "    <tr>\n",
       "      <th>2019-12-01</th>\n",
       "      <td>3.028145</td>\n",
       "      <td>-1.325670</td>\n",
       "      <td>7.381960</td>\n",
       "      <td>3.043657</td>\n",
       "      <td>-1.619592</td>\n",
       "      <td>7.706907</td>\n",
       "      <td>3.945386</td>\n",
       "      <td>-0.522327</td>\n",
       "      <td>8.413099</td>\n",
       "      <td>4.089217</td>\n",
       "      <td>...</td>\n",
       "      <td>9.352152</td>\n",
       "      <td>3.782379</td>\n",
       "      <td>1.075164</td>\n",
       "      <td>6.489593</td>\n",
       "      <td>4.593129</td>\n",
       "      <td>0.141644</td>\n",
       "      <td>9.044615</td>\n",
       "      <td>6.099219</td>\n",
       "      <td>0.476443</td>\n",
       "      <td>11.721995</td>\n",
       "    </tr>\n",
       "    <tr>\n",
       "      <th>2020-01-01</th>\n",
       "      <td>3.996280</td>\n",
       "      <td>-0.365668</td>\n",
       "      <td>8.358228</td>\n",
       "      <td>2.907440</td>\n",
       "      <td>-1.756070</td>\n",
       "      <td>7.570950</td>\n",
       "      <td>3.020206</td>\n",
       "      <td>-1.447848</td>\n",
       "      <td>7.488261</td>\n",
       "      <td>3.895951</td>\n",
       "      <td>...</td>\n",
       "      <td>8.874139</td>\n",
       "      <td>3.369102</td>\n",
       "      <td>0.661891</td>\n",
       "      <td>6.076313</td>\n",
       "      <td>4.532317</td>\n",
       "      <td>0.080774</td>\n",
       "      <td>8.983861</td>\n",
       "      <td>5.944489</td>\n",
       "      <td>0.321057</td>\n",
       "      <td>11.567922</td>\n",
       "    </tr>\n",
       "    <tr>\n",
       "      <th>2020-02-01</th>\n",
       "      <td>2.822907</td>\n",
       "      <td>-1.540627</td>\n",
       "      <td>7.186440</td>\n",
       "      <td>2.760683</td>\n",
       "      <td>-1.903013</td>\n",
       "      <td>7.424379</td>\n",
       "      <td>3.227472</td>\n",
       "      <td>-1.240312</td>\n",
       "      <td>7.695256</td>\n",
       "      <td>3.833445</td>\n",
       "      <td>...</td>\n",
       "      <td>9.082625</td>\n",
       "      <td>3.404534</td>\n",
       "      <td>0.690703</td>\n",
       "      <td>6.118366</td>\n",
       "      <td>5.310876</td>\n",
       "      <td>0.859292</td>\n",
       "      <td>9.762460</td>\n",
       "      <td>6.137058</td>\n",
       "      <td>0.513221</td>\n",
       "      <td>11.760895</td>\n",
       "    </tr>\n",
       "  </tbody>\n",
       "</table>\n",
       "<p>10 rows × 336 columns</p>\n",
       "</div>"
      ],
      "text/plain": [
       "            Raleigh, NC  lower Raleigh, NC  upper Raleigh, NC  \\\n",
       "2019-05-01     3.366287          -0.947590           7.680163   \n",
       "2019-06-01     4.311068          -0.004202           8.626337   \n",
       "2019-07-01     6.314961           1.995109          10.634814   \n",
       "2019-08-01     4.145673          -0.191141           8.482487   \n",
       "2019-09-01     4.875324           0.538447           9.212201   \n",
       "2019-10-01     4.620644           0.275651           8.965637   \n",
       "2019-11-01     2.836573          -1.515683           7.188829   \n",
       "2019-12-01     3.028145          -1.325670           7.381960   \n",
       "2020-01-01     3.996280          -0.365668           8.358228   \n",
       "2020-02-01     2.822907          -1.540627           7.186440   \n",
       "\n",
       "            Fayetteville, NC  lower Fayetteville, NC  upper Fayetteville, NC  \\\n",
       "2019-05-01          3.111657               -1.504349                7.727664   \n",
       "2019-06-01          4.639369               -0.012169                9.290906   \n",
       "2019-07-01          4.736273                0.084019                9.388527   \n",
       "2019-08-01          5.171562                0.516924                9.826201   \n",
       "2019-09-01          4.613723               -0.047083                9.274530   \n",
       "2019-10-01          3.449842               -1.211666                8.111351   \n",
       "2019-11-01          2.833024               -1.829652                7.495700   \n",
       "2019-12-01          3.043657               -1.619592                7.706907   \n",
       "2020-01-01          2.907440               -1.756070                7.570950   \n",
       "2020-02-01          2.760683               -1.903013                7.424379   \n",
       "\n",
       "            Albemarle, NC  lower Albemarle, NC  upper Albemarle, NC  \\\n",
       "2019-05-01       3.461614            -0.901392             7.824621   \n",
       "2019-06-01       4.748512             0.334216             9.162809   \n",
       "2019-07-01       5.211461             0.767251             9.655671   \n",
       "2019-08-01       4.538334             0.074311             9.002357   \n",
       "2019-09-01       3.479564            -0.985128             7.944255   \n",
       "2019-10-01       3.654706            -0.812263             8.121676   \n",
       "2019-11-01       3.578847            -0.888818             8.046511   \n",
       "2019-12-01       3.945386            -0.522327             8.413099   \n",
       "2020-01-01       3.020206            -1.447848             7.488261   \n",
       "2020-02-01       3.227472            -1.240312             7.695256   \n",
       "\n",
       "            Arcola, NC  ...  upper LAKE LURE 2, NC   MOUNT HOLLY 4 NE, NC  \\\n",
       "2019-05-01    4.101742  ...              10.894134               3.718346   \n",
       "2019-06-01    4.453031  ...               9.232410               3.893037   \n",
       "2019-07-01    4.030026  ...               9.102545               3.564906   \n",
       "2019-08-01    3.948713  ...               9.711629               3.462391   \n",
       "2019-09-01    4.547796  ...               9.653529               3.215256   \n",
       "2019-10-01    4.270212  ...               9.199086               3.428503   \n",
       "2019-11-01    4.145416  ...               8.743976               3.288401   \n",
       "2019-12-01    4.089217  ...               9.352152               3.782379   \n",
       "2020-01-01    3.895951  ...               8.874139               3.369102   \n",
       "2020-02-01    3.833445  ...               9.082625               3.404534   \n",
       "\n",
       "            lower  MOUNT HOLLY 4 NE, NC  upper  MOUNT HOLLY 4 NE, NC  \\\n",
       "2019-05-01                     1.062089                     6.374604   \n",
       "2019-06-01                     1.225036                     6.561039   \n",
       "2019-07-01                     0.892252                     6.237560   \n",
       "2019-08-01                     0.768366                     6.156417   \n",
       "2019-09-01                     0.520796                     5.909716   \n",
       "2019-10-01                     0.733553                     6.123454   \n",
       "2019-11-01                     0.581569                     5.995233   \n",
       "2019-12-01                     1.075164                     6.489593   \n",
       "2020-01-01                     0.661891                     6.076313   \n",
       "2020-02-01                     0.690703                     6.118366   \n",
       "\n",
       "            ELIZABETHTOWN, NC  lower ELIZABETHTOWN, NC  \\\n",
       "2019-05-01           4.539367                 0.190336   \n",
       "2019-06-01           4.742576                 0.297668   \n",
       "2019-07-01           5.759743                 1.308825   \n",
       "2019-08-01           6.681779                 2.230843   \n",
       "2019-09-01           7.964787                 3.513552   \n",
       "2019-10-01           5.165368                 0.714024   \n",
       "2019-11-01           4.493145                 0.041802   \n",
       "2019-12-01           4.593129                 0.141644   \n",
       "2020-01-01           4.532317                 0.080774   \n",
       "2020-02-01           5.310876                 0.859292   \n",
       "\n",
       "            upper ELIZABETHTOWN, NC  GRANDFATHER MTN, NC  \\\n",
       "2019-05-01                 8.888398             7.329324   \n",
       "2019-06-01                 9.187485             6.904584   \n",
       "2019-07-01                10.210661             7.503359   \n",
       "2019-08-01                11.132715             6.570490   \n",
       "2019-09-01                12.416022             5.825237   \n",
       "2019-10-01                 9.616713             5.788173   \n",
       "2019-11-01                 8.944489             5.711345   \n",
       "2019-12-01                 9.044615             6.099219   \n",
       "2020-01-01                 8.983861             5.944489   \n",
       "2020-02-01                 9.762460             6.137058   \n",
       "\n",
       "            lower GRANDFATHER MTN, NC  upper GRANDFATHER MTN, NC  \n",
       "2019-05-01                   1.733060                  12.925588  \n",
       "2019-06-01                   1.285455                  12.523713  \n",
       "2019-07-01                   1.882429                  13.124288  \n",
       "2019-08-01                   0.949501                  12.191479  \n",
       "2019-09-01                   0.203551                  11.446923  \n",
       "2019-10-01                   0.166334                  11.410013  \n",
       "2019-11-01                   0.088851                  11.333839  \n",
       "2019-12-01                   0.476443                  11.721995  \n",
       "2020-01-01                   0.321057                  11.567922  \n",
       "2020-02-01                   0.513221                  11.760895  \n",
       "\n",
       "[10 rows x 336 columns]"
      ]
     },
     "execution_count": 122,
     "metadata": {},
     "output_type": "execute_result"
    }
   ],
   "source": [
    "merged_ci_vals.head(10)"
   ]
  },
  {
   "cell_type": "code",
   "execution_count": null,
   "metadata": {},
   "outputs": [],
   "source": []
  }
 ],
 "metadata": {
  "kernelspec": {
   "display_name": "Python 3",
   "language": "python",
   "name": "python3"
  },
  "language_info": {
   "codemirror_mode": {
    "name": "ipython",
    "version": 3
   },
   "file_extension": ".py",
   "mimetype": "text/x-python",
   "name": "python",
   "nbconvert_exporter": "python",
   "pygments_lexer": "ipython3",
   "version": "3.7.3"
  },
  "varInspector": {
   "cols": {
    "lenName": 16,
    "lenType": 16,
    "lenVar": 40
   },
   "kernels_config": {
    "python": {
     "delete_cmd_postfix": "",
     "delete_cmd_prefix": "del ",
     "library": "var_list.py",
     "varRefreshCmd": "print(var_dic_list())"
    },
    "r": {
     "delete_cmd_postfix": ") ",
     "delete_cmd_prefix": "rm(",
     "library": "var_list.r",
     "varRefreshCmd": "cat(var_dic_list()) "
    }
   },
   "types_to_exclude": [
    "module",
    "function",
    "builtin_function_or_method",
    "instance",
    "_Feature"
   ],
   "window_display": false
  }
 },
 "nbformat": 4,
 "nbformat_minor": 2
}
