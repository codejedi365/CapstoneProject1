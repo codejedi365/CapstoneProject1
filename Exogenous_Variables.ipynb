{
 "cells": [
  {
   "cell_type": "code",
   "execution_count": 112,
   "metadata": {
    "ExecuteTime": {
     "end_time": "2019-07-31T20:23:48.612231Z",
     "start_time": "2019-07-31T20:23:48.455983Z"
    }
   },
   "outputs": [],
   "source": [
    "import pandas as pd\n",
    "import numpy as np\n",
    "import csv\n",
    "import statsmodels.api as sm\n",
    "import warnings\n",
    "from tqdm import tqdm_notebook as tqdm\n",
    "from sklearn.model_selection import train_test_split\n",
    "from itertools import combinations\n",
    "from scipy import stats\n",
    "from datetime import datetime\n",
    "from sklearn.metrics import mean_absolute_error\n",
    "\n",
    "\n",
    "file = 'rainfalldata.csv'\n",
    "rd = pd.read_csv(file)\n",
    "file2 = 'ncrainfalldata.csv'\n",
    "ncrd = pd.read_csv(file2)\n",
    "rd.Date = pd.to_datetime(rd.Date)\n",
    "rd = rd.set_index('Date')\n",
    "ncrd.Date = pd.to_datetime(ncrd.Date)\n",
    "ncrd = ncrd.set_index('Date')"
   ]
  },
  {
   "cell_type": "code",
   "execution_count": 2,
   "metadata": {
    "ExecuteTime": {
     "end_time": "2019-07-31T20:23:49.518691Z",
     "start_time": "2019-07-31T20:23:49.503066Z"
    }
   },
   "outputs": [],
   "source": [
    "# this cell takes the stored exogen dictionary that is stored in the Data_Wrangling_CAP1 jupyter notebook\n",
    "# that was imported above.\n",
    "%store -r exogen\n"
   ]
  },
  {
   "cell_type": "code",
   "execution_count": 3,
   "metadata": {
    "ExecuteTime": {
     "end_time": "2019-07-31T20:23:50.675146Z",
     "start_time": "2019-07-31T20:23:50.643924Z"
    },
    "scrolled": true
   },
   "outputs": [
    {
     "data": {
      "text/plain": [
       "dict_keys(['Arcola, NC', 'Henderson 2 NNW, NC', 'Laurinburg, NC', 'Roanoke Rapids, NC', 'Murfreesboro, NC', 'Lumberton Area, NC', 'LONGWOOD, NC', 'WHITEVILLE 7 NW, NC', 'Charlotte Area, NC', 'Mount Mitchell Area, NC', 'ASHEVILLE AIRPORT, NC', 'BANNER ELK, NC', 'BEECH MOUNTAIN, NC', 'BRYSON CITY 4, NC', 'BREVARD, NC', 'CASAR, NC', 'COWEETA EXP STATION, NC', 'CULLOWHEE, NC', 'FOREST CITY 8 W, NC', 'FRANKLIN, NC', 'GASTONIA, NC', 'GRANDFATHER MTN, NC', ' HENDERSONVILLE 1 NE, NC', ' HIGHLANDS, NC', 'HOT SPRINGS, NC', 'LAKE LURE 2, NC', 'LAKE TOXAWAY 2 SW, NC', 'MARSHALL, NC', 'MONROE 2 SE, NC', ' MOUNT HOLLY 4 NE, NC', ' OCONALUFTEE, NC', 'PISGAH FOREST 3 NE, NC', 'ROBBINSVILLE AG 5 NE, NC', 'ROSMAN, NC', 'SHELBY 2 NW, NC', 'TAPOCO, NC', 'TRYON, NC', 'WAYNESVILLE 1 E, NC', 'Boone 1 SE, NC', 'DANBURY, NC', 'EDEN, NC', ' MOUNT AIRY 2 W, NC', 'REIDSVILLE 2 NW, NC', 'HAYESVILLE 1 NE, NC', 'MURPHY 4ESE, NC', ' KING, NC'])"
      ]
     },
     "execution_count": 3,
     "metadata": {},
     "output_type": "execute_result"
    }
   ],
   "source": [
    "exogen.keys()"
   ]
  },
  {
   "cell_type": "code",
   "execution_count": 4,
   "metadata": {
    "ExecuteTime": {
     "end_time": "2019-07-31T20:23:55.560328Z",
     "start_time": "2019-07-31T20:23:55.529076Z"
    }
   },
   "outputs": [],
   "source": [
    "def sarima_model_creation(data, p, d, q, P, D, Q, m, exog=None):\n",
    "    my_order = [p,d,q]\n",
    "    my_sorder = [P,D,Q,m]\n",
    "    sarimamod = sm.tsa.statespace.SARIMAX(data, exog, order=my_order, seasonal_order=my_sorder, \n",
    "                                          enforce_stationarity=False, enforce_invertibility=False,\n",
    "                                          initialization='approximate_diffuse')\n",
    "    model_fit = sarimamod.fit()# start_params=[0, 0, 0, 0, 1])\n",
    "    return(model_fit)"
   ]
  },
  {
   "cell_type": "code",
   "execution_count": 5,
   "metadata": {
    "ExecuteTime": {
     "end_time": "2019-07-31T20:23:53.339117Z",
     "start_time": "2019-07-31T20:23:53.292292Z"
    }
   },
   "outputs": [],
   "source": [
    "def hyperparameter_find(training_data, comb, testing_data, search = False, exogtr = None, exogtest = None):\n",
    "    leastmae = 1000\n",
    "    for com in tqdm(comb):\n",
    "        li_one_step = []\n",
    "        for i in tqdm(range(len(testing_data))):\n",
    "            if i == 0:\n",
    "                copytraining = training_data.copy()\n",
    "                if exogtr is not None:\n",
    "                    excopy = exogtr.copy()\n",
    "                    mod_1 = sarima_model_creation(copytraining, com[0], 0, com[1], com[2], 0, \n",
    "                                                  com[3], 12, exog=excopy)\n",
    "                    one_step_pred = mod_1.forecast(exog=excopy.iloc[[-1]]) #uses the data from the year before\n",
    "                    excopy = pd.concat([excopy, exogtest.iloc[[i]]])\n",
    "                else:\n",
    "                    mod_1 = sarima_model_creation(copytraining, com[0], 0, com[1], com[2], 0, com[3], 12)\n",
    "                    one_step_pred = mod_1.forecast()\n",
    "                li_one_step.append(one_step_pred[0])\n",
    "                copytraining = pd.concat([copytraining, testing_data[[i]]])\n",
    "            else:\n",
    "                if exogtr is not None:\n",
    "                    mod_1 = sarima_model_creation(copytraining, com[0], 0, com[1], com[2], 0, \n",
    "                                                  com[3], 12, exog=excopy)\n",
    "                    one_step_pred2 = mod_1.forecast(exog=excopy.iloc[[-1]])\n",
    "                    excopy = pd.concat([excopy, exogtest.iloc[[i]]])\n",
    "                else:\n",
    "                    mod_1 = sarima_model_creation(copytraining, com[0], 0, com[1], com[2], 0, com[3], 12)\n",
    "                    one_step_pred2 = mod_1.forecast()\n",
    "                li_one_step.append(one_step_pred2[0])\n",
    "                copytraining = pd.concat([copytraining, testing_data[[i]]])\n",
    "        mae = mean_absolute_error(testing_data, li_one_step)\n",
    "        if search is True:\n",
    "            if mae < leastmae:\n",
    "                leastmae = mae\n",
    "                H_AR = com[0]\n",
    "                H_MA = com[1]\n",
    "                H_SAR = com[2]\n",
    "                H_SMA = com[3]\n",
    "            print(com,mae)            \n",
    "    if search is True:\n",
    "        return('AR: '+ str(H_AR), 'MA: ' +str(H_MA), 'SAR: '+str(H_SAR), 'SMA: '+str(H_SMA))\n",
    "    else:\n",
    "        return(mae)"
   ]
  },
  {
   "cell_type": "code",
   "execution_count": 6,
   "metadata": {
    "ExecuteTime": {
     "end_time": "2019-07-31T20:23:59.034914Z",
     "start_time": "2019-07-31T20:23:59.003666Z"
    }
   },
   "outputs": [],
   "source": [
    "def exog_combinations(df, exoe):\n",
    "    lo_dfs = []\n",
    "    if len(exoe) == 1:\n",
    "        lo_dfs.append(df.loc[:,exoe])\n",
    "    if len(exoe) > 1:\n",
    "        lo_dfs.append(df.loc[:,exoe])\n",
    "        for ex in exoe:\n",
    "            lo_dfs.append(df.loc[:,[ex]])\n",
    "        if len(exoe) >2:\n",
    "            for i in range(2, len(exoe)):\n",
    "                combolist = list(combinations(exoe,i))\n",
    "                for c in combolist:\n",
    "                    lo_dfs.append(df.loc[:,c])\n",
    "    return(lo_dfs)\n"
   ]
  },
  {
   "cell_type": "code",
   "execution_count": 7,
   "metadata": {},
   "outputs": [],
   "source": [
    "todokeys = ('TAPOCO, NC', 'TRYON, NC', 'WAYNESVILLE 1 E, NC', 'Boone 1 SE, NC', 'DANBURY, NC', 'EDEN, NC', ' MOUNT AIRY 2 W, NC', 'REIDSVILLE 2 NW, NC', 'HAYESVILLE 1 NE, NC', 'MURPHY 4ESE, NC', ' KING, NC')\n",
    "sub_exogen = {k: exogen[k] for k in todokeys}"
   ]
  },
  {
   "cell_type": "code",
   "execution_count": 8,
   "metadata": {
    "ExecuteTime": {
     "end_time": "2019-07-31T20:24:01.912170Z",
     "start_time": "2019-07-31T20:24:01.380989Z"
    }
   },
   "outputs": [
    {
     "data": {
      "application/vnd.jupyter.widget-view+json": {
       "model_id": "6184a883e0f0447abbd74d3dca8d8f56",
       "version_major": 2,
       "version_minor": 0
      },
      "text/plain": [
       "HBox(children=(IntProgress(value=0, max=11), HTML(value='')))"
      ]
     },
     "metadata": {},
     "output_type": "display_data"
    },
    {
     "name": "stdout",
     "output_type": "stream",
     "text": [
      "\n"
     ]
    }
   ],
   "source": [
    "from collections import defaultdict\n",
    "l_o_dfs = defaultdict(list)\n",
    "for key,value in tqdm(sub_exogen.items()):\n",
    "    lo_dfs2 = exog_combinations(rd, value)\n",
    "    l_o_dfs[key] = lo_dfs2\n",
    "# l_o_dfs['ROBBINSVILLE AG 5 NE, NC']"
   ]
  },
  {
   "cell_type": "code",
   "execution_count": 9,
   "metadata": {
    "ExecuteTime": {
     "end_time": "2019-07-31T20:24:07.727065Z",
     "start_time": "2019-07-31T20:24:07.695861Z"
    }
   },
   "outputs": [],
   "source": [
    "def exogenous_var(data, ncloc, l_exoloc, best_comb):\n",
    "#     for key, value in tqdm(exo_dict.items()):\n",
    "    dat = data[ncloc]\n",
    "#         l_exog = exog_combinations(data, value)\n",
    "    tr, test = train_test_split(dat, test_size = 0.2, shuffle=False)\n",
    "    keymae = hyperparameter_find(tr, best_comb, test)\n",
    "    print('keymae of: '+ key +' = '+str(keymae))\n",
    "    bettermae = {}\n",
    "    for exog in tqdm(l_exoloc):\n",
    "        extr, extest = train_test_split(exog, test_size = 0.2, shuffle=False)\n",
    "        exmae = hyperparameter_find(tr, best_comb, test, exogtr=extr, exogtest = extest)\n",
    "        co = tuple(exog.columns)\n",
    "        print('exmae = {}'.format(co) + ' '+ str(exmae))\n",
    "        if exmae < keymae:\n",
    "            bettermae[co] = exmae\n",
    "            bettermae2 = {key: bettermae}\n",
    "    return(co)"
   ]
  },
  {
   "cell_type": "code",
   "execution_count": 10,
   "metadata": {
    "ExecuteTime": {
     "start_time": "2019-07-31T20:25:52.191Z"
    }
   },
   "outputs": [
    {
     "data": {
      "application/vnd.jupyter.widget-view+json": {
       "model_id": "76dd734e786c4598a9f02ac777521bf4",
       "version_major": 2,
       "version_minor": 0
      },
      "text/plain": [
       "HBox(children=(IntProgress(value=0, max=11), HTML(value='')))"
      ]
     },
     "metadata": {},
     "output_type": "display_data"
    },
    {
     "data": {
      "application/vnd.jupyter.widget-view+json": {
       "model_id": "0bd8711a79e74db291cb87824ebe5752",
       "version_major": 2,
       "version_minor": 0
      },
      "text/plain": [
       "HBox(children=(IntProgress(value=0, max=1), HTML(value='')))"
      ]
     },
     "metadata": {},
     "output_type": "display_data"
    },
    {
     "data": {
      "application/vnd.jupyter.widget-view+json": {
       "model_id": "c30ce86a957b4d76b3b7b3a58005ba97",
       "version_major": 2,
       "version_minor": 0
      },
      "text/plain": [
       "HBox(children=(IntProgress(value=0, max=95), HTML(value='')))"
      ]
     },
     "metadata": {},
     "output_type": "display_data"
    },
    {
     "name": "stdout",
     "output_type": "stream",
     "text": [
      "keymae of: TAPOCO, NC = 0.9800673566131274\n"
     ]
    },
    {
     "data": {
      "application/vnd.jupyter.widget-view+json": {
       "model_id": "3e6270e0080b40049eacfb36bbc688ae",
       "version_major": 2,
       "version_minor": 0
      },
      "text/plain": [
       "HBox(children=(IntProgress(value=0, max=7), HTML(value='')))"
      ]
     },
     "metadata": {},
     "output_type": "display_data"
    },
    {
     "data": {
      "application/vnd.jupyter.widget-view+json": {
       "model_id": "6e64e35c8cd349fb934a9b09f1e7b942",
       "version_major": 2,
       "version_minor": 0
      },
      "text/plain": [
       "HBox(children=(IntProgress(value=0, max=1), HTML(value='')))"
      ]
     },
     "metadata": {},
     "output_type": "display_data"
    },
    {
     "data": {
      "application/vnd.jupyter.widget-view+json": {
       "model_id": "884f89eaf64c49489fc4a18b0e31fbd4",
       "version_major": 2,
       "version_minor": 0
      },
      "text/plain": [
       "HBox(children=(IntProgress(value=0, max=95), HTML(value='')))"
      ]
     },
     "metadata": {},
     "output_type": "display_data"
    },
    {
     "name": "stdout",
     "output_type": "stream",
     "text": [
      "exmae = ('GATLINBURG 2 SW, TN', 'NEWFOUND GAP, TN', ' TOWNSEND 5S, TN') 1.5764560295913925\n"
     ]
    },
    {
     "data": {
      "application/vnd.jupyter.widget-view+json": {
       "model_id": "1f4c02412e1746ad87bbb8462ee9f442",
       "version_major": 2,
       "version_minor": 0
      },
      "text/plain": [
       "HBox(children=(IntProgress(value=0, max=1), HTML(value='')))"
      ]
     },
     "metadata": {},
     "output_type": "display_data"
    },
    {
     "data": {
      "application/vnd.jupyter.widget-view+json": {
       "model_id": "28df643a4a80446396db552711ef01c6",
       "version_major": 2,
       "version_minor": 0
      },
      "text/plain": [
       "HBox(children=(IntProgress(value=0, max=95), HTML(value='')))"
      ]
     },
     "metadata": {},
     "output_type": "display_data"
    },
    {
     "name": "stdout",
     "output_type": "stream",
     "text": [
      "exmae = ('GATLINBURG 2 SW, TN',) 1.4972163335360191\n"
     ]
    },
    {
     "data": {
      "application/vnd.jupyter.widget-view+json": {
       "model_id": "d6a56d79f5b54c428be886d01f4609db",
       "version_major": 2,
       "version_minor": 0
      },
      "text/plain": [
       "HBox(children=(IntProgress(value=0, max=1), HTML(value='')))"
      ]
     },
     "metadata": {},
     "output_type": "display_data"
    },
    {
     "data": {
      "application/vnd.jupyter.widget-view+json": {
       "model_id": "ae41bd3401784b78b3fcaf8aa8957817",
       "version_major": 2,
       "version_minor": 0
      },
      "text/plain": [
       "HBox(children=(IntProgress(value=0, max=95), HTML(value='')))"
      ]
     },
     "metadata": {},
     "output_type": "display_data"
    },
    {
     "name": "stdout",
     "output_type": "stream",
     "text": [
      "exmae = ('NEWFOUND GAP, TN',) 1.5501456737516661\n"
     ]
    },
    {
     "data": {
      "application/vnd.jupyter.widget-view+json": {
       "model_id": "b408327e967a4157b3522e5f41494a71",
       "version_major": 2,
       "version_minor": 0
      },
      "text/plain": [
       "HBox(children=(IntProgress(value=0, max=1), HTML(value='')))"
      ]
     },
     "metadata": {},
     "output_type": "display_data"
    },
    {
     "data": {
      "application/vnd.jupyter.widget-view+json": {
       "model_id": "598ebd61bb4c4e8ba483fa5ef2696d7c",
       "version_major": 2,
       "version_minor": 0
      },
      "text/plain": [
       "HBox(children=(IntProgress(value=0, max=95), HTML(value='')))"
      ]
     },
     "metadata": {},
     "output_type": "display_data"
    },
    {
     "name": "stdout",
     "output_type": "stream",
     "text": [
      "exmae = (' TOWNSEND 5S, TN',) 2.1402191932997416\n"
     ]
    },
    {
     "data": {
      "application/vnd.jupyter.widget-view+json": {
       "model_id": "899d2b692bb144e6ad3de8b182a8c682",
       "version_major": 2,
       "version_minor": 0
      },
      "text/plain": [
       "HBox(children=(IntProgress(value=0, max=1), HTML(value='')))"
      ]
     },
     "metadata": {},
     "output_type": "display_data"
    },
    {
     "data": {
      "application/vnd.jupyter.widget-view+json": {
       "model_id": "c5c7601737474d5885734734fd63c3e1",
       "version_major": 2,
       "version_minor": 0
      },
      "text/plain": [
       "HBox(children=(IntProgress(value=0, max=95), HTML(value='')))"
      ]
     },
     "metadata": {},
     "output_type": "display_data"
    },
    {
     "name": "stdout",
     "output_type": "stream",
     "text": [
      "exmae = ('GATLINBURG 2 SW, TN', 'NEWFOUND GAP, TN') 1.5489398080891763\n"
     ]
    },
    {
     "data": {
      "application/vnd.jupyter.widget-view+json": {
       "model_id": "897c439a18b843cb9c47eb25ef4d821b",
       "version_major": 2,
       "version_minor": 0
      },
      "text/plain": [
       "HBox(children=(IntProgress(value=0, max=1), HTML(value='')))"
      ]
     },
     "metadata": {},
     "output_type": "display_data"
    },
    {
     "data": {
      "application/vnd.jupyter.widget-view+json": {
       "model_id": "410828714c90450f91520d2916d4682a",
       "version_major": 2,
       "version_minor": 0
      },
      "text/plain": [
       "HBox(children=(IntProgress(value=0, max=95), HTML(value='')))"
      ]
     },
     "metadata": {},
     "output_type": "display_data"
    },
    {
     "name": "stdout",
     "output_type": "stream",
     "text": [
      "exmae = ('GATLINBURG 2 SW, TN', ' TOWNSEND 5S, TN') 1.616671690504988\n"
     ]
    },
    {
     "data": {
      "application/vnd.jupyter.widget-view+json": {
       "model_id": "3fdb285a51c84fc6a6b27e408af81931",
       "version_major": 2,
       "version_minor": 0
      },
      "text/plain": [
       "HBox(children=(IntProgress(value=0, max=1), HTML(value='')))"
      ]
     },
     "metadata": {},
     "output_type": "display_data"
    },
    {
     "data": {
      "application/vnd.jupyter.widget-view+json": {
       "model_id": "3e1956cb66694e2e9423470155d269c7",
       "version_major": 2,
       "version_minor": 0
      },
      "text/plain": [
       "HBox(children=(IntProgress(value=0, max=95), HTML(value='')))"
      ]
     },
     "metadata": {},
     "output_type": "display_data"
    },
    {
     "name": "stdout",
     "output_type": "stream",
     "text": [
      "exmae = ('NEWFOUND GAP, TN', ' TOWNSEND 5S, TN') 2.436971933451168\n"
     ]
    },
    {
     "data": {
      "application/vnd.jupyter.widget-view+json": {
       "model_id": "8a1eb2d5f842444ab01ca8717be669eb",
       "version_major": 2,
       "version_minor": 0
      },
      "text/plain": [
       "HBox(children=(IntProgress(value=0, max=1), HTML(value='')))"
      ]
     },
     "metadata": {},
     "output_type": "display_data"
    },
    {
     "data": {
      "application/vnd.jupyter.widget-view+json": {
       "model_id": "eae5ffb696704e5092abb5bda8b17e86",
       "version_major": 2,
       "version_minor": 0
      },
      "text/plain": [
       "HBox(children=(IntProgress(value=0, max=95), HTML(value='')))"
      ]
     },
     "metadata": {},
     "output_type": "display_data"
    },
    {
     "name": "stdout",
     "output_type": "stream",
     "text": [
      "keymae of: TRYON, NC = 2.6823507498407078\n"
     ]
    },
    {
     "data": {
      "application/vnd.jupyter.widget-view+json": {
       "model_id": "f26464157f194ec693603d43a55edde8",
       "version_major": 2,
       "version_minor": 0
      },
      "text/plain": [
       "HBox(children=(IntProgress(value=0, max=31), HTML(value='')))"
      ]
     },
     "metadata": {},
     "output_type": "display_data"
    },
    {
     "data": {
      "application/vnd.jupyter.widget-view+json": {
       "model_id": "02c01a5b203b43d78aed51a4b0c03cff",
       "version_major": 2,
       "version_minor": 0
      },
      "text/plain": [
       "HBox(children=(IntProgress(value=0, max=1), HTML(value='')))"
      ]
     },
     "metadata": {},
     "output_type": "display_data"
    },
    {
     "data": {
      "application/vnd.jupyter.widget-view+json": {
       "model_id": "43f836d173bd485c91b54136ff854d84",
       "version_major": 2,
       "version_minor": 0
      },
      "text/plain": [
       "HBox(children=(IntProgress(value=0, max=95), HTML(value='')))"
      ]
     },
     "metadata": {},
     "output_type": "display_data"
    },
    {
     "name": "stdout",
     "output_type": "stream",
     "text": [
      "exmae = ('Greenville-Spartanburg Area, SC', 'CAESARS HEAD, SC', 'CHESNEE 7 WSW, SC', 'CLEVELAND 3S, SC', 'SPARTANBURG 3 SSE, SC') 3.731134415701127\n"
     ]
    },
    {
     "data": {
      "application/vnd.jupyter.widget-view+json": {
       "model_id": "667b726488b140929409bb5fd313674a",
       "version_major": 2,
       "version_minor": 0
      },
      "text/plain": [
       "HBox(children=(IntProgress(value=0, max=1), HTML(value='')))"
      ]
     },
     "metadata": {},
     "output_type": "display_data"
    },
    {
     "data": {
      "application/vnd.jupyter.widget-view+json": {
       "model_id": "d5ef6496a1d5449b9bef339a1759ceba",
       "version_major": 2,
       "version_minor": 0
      },
      "text/plain": [
       "HBox(children=(IntProgress(value=0, max=95), HTML(value='')))"
      ]
     },
     "metadata": {},
     "output_type": "display_data"
    },
    {
     "name": "stdout",
     "output_type": "stream",
     "text": [
      "exmae = ('Greenville-Spartanburg Area, SC',) 2.986931810013167\n"
     ]
    },
    {
     "data": {
      "application/vnd.jupyter.widget-view+json": {
       "model_id": "18a69cff0bc14d0b98a7b8d08f324eb4",
       "version_major": 2,
       "version_minor": 0
      },
      "text/plain": [
       "HBox(children=(IntProgress(value=0, max=1), HTML(value='')))"
      ]
     },
     "metadata": {},
     "output_type": "display_data"
    },
    {
     "data": {
      "application/vnd.jupyter.widget-view+json": {
       "model_id": "a7d8a04db59c4fedac3f3074d26ece59",
       "version_major": 2,
       "version_minor": 0
      },
      "text/plain": [
       "HBox(children=(IntProgress(value=0, max=95), HTML(value='')))"
      ]
     },
     "metadata": {},
     "output_type": "display_data"
    },
    {
     "name": "stdout",
     "output_type": "stream",
     "text": [
      "exmae = ('CAESARS HEAD, SC',) 3.1072872524201767\n"
     ]
    },
    {
     "data": {
      "application/vnd.jupyter.widget-view+json": {
       "model_id": "de20ae3b52ec4d5e99389beadaa03835",
       "version_major": 2,
       "version_minor": 0
      },
      "text/plain": [
       "HBox(children=(IntProgress(value=0, max=1), HTML(value='')))"
      ]
     },
     "metadata": {},
     "output_type": "display_data"
    },
    {
     "data": {
      "application/vnd.jupyter.widget-view+json": {
       "model_id": "7da1a96af2574cbaba8e33666131229b",
       "version_major": 2,
       "version_minor": 0
      },
      "text/plain": [
       "HBox(children=(IntProgress(value=0, max=95), HTML(value='')))"
      ]
     },
     "metadata": {},
     "output_type": "display_data"
    },
    {
     "name": "stdout",
     "output_type": "stream",
     "text": [
      "exmae = ('CHESNEE 7 WSW, SC',) 2.815911182694172\n"
     ]
    },
    {
     "data": {
      "application/vnd.jupyter.widget-view+json": {
       "model_id": "209b2bb5155f4a438ca6215454d26fc8",
       "version_major": 2,
       "version_minor": 0
      },
      "text/plain": [
       "HBox(children=(IntProgress(value=0, max=1), HTML(value='')))"
      ]
     },
     "metadata": {},
     "output_type": "display_data"
    },
    {
     "data": {
      "application/vnd.jupyter.widget-view+json": {
       "model_id": "e43ce2dcb94247c99ed40590022aaf64",
       "version_major": 2,
       "version_minor": 0
      },
      "text/plain": [
       "HBox(children=(IntProgress(value=0, max=95), HTML(value='')))"
      ]
     },
     "metadata": {},
     "output_type": "display_data"
    },
    {
     "name": "stdout",
     "output_type": "stream",
     "text": [
      "exmae = ('CLEVELAND 3S, SC',) 3.077446176795452\n"
     ]
    },
    {
     "data": {
      "application/vnd.jupyter.widget-view+json": {
       "model_id": "f89be20137cc47f1bb0bfa23f053dbc4",
       "version_major": 2,
       "version_minor": 0
      },
      "text/plain": [
       "HBox(children=(IntProgress(value=0, max=1), HTML(value='')))"
      ]
     },
     "metadata": {},
     "output_type": "display_data"
    },
    {
     "data": {
      "application/vnd.jupyter.widget-view+json": {
       "model_id": "397d5302c60240878ad66cb3ffcd6706",
       "version_major": 2,
       "version_minor": 0
      },
      "text/plain": [
       "HBox(children=(IntProgress(value=0, max=95), HTML(value='')))"
      ]
     },
     "metadata": {},
     "output_type": "display_data"
    },
    {
     "name": "stdout",
     "output_type": "stream",
     "text": [
      "exmae = ('SPARTANBURG 3 SSE, SC',) 2.812649001967126\n"
     ]
    },
    {
     "data": {
      "application/vnd.jupyter.widget-view+json": {
       "model_id": "090720760cba4872bc29dc74e78d8e90",
       "version_major": 2,
       "version_minor": 0
      },
      "text/plain": [
       "HBox(children=(IntProgress(value=0, max=1), HTML(value='')))"
      ]
     },
     "metadata": {},
     "output_type": "display_data"
    },
    {
     "data": {
      "application/vnd.jupyter.widget-view+json": {
       "model_id": "327245610c094901ae0d02c3882b46ca",
       "version_major": 2,
       "version_minor": 0
      },
      "text/plain": [
       "HBox(children=(IntProgress(value=0, max=95), HTML(value='')))"
      ]
     },
     "metadata": {},
     "output_type": "display_data"
    },
    {
     "name": "stdout",
     "output_type": "stream",
     "text": [
      "exmae = ('Greenville-Spartanburg Area, SC', 'CAESARS HEAD, SC') 2.942549753368086\n"
     ]
    },
    {
     "data": {
      "application/vnd.jupyter.widget-view+json": {
       "model_id": "36b61ba55ae240908225a1ee3de8f498",
       "version_major": 2,
       "version_minor": 0
      },
      "text/plain": [
       "HBox(children=(IntProgress(value=0, max=1), HTML(value='')))"
      ]
     },
     "metadata": {},
     "output_type": "display_data"
    },
    {
     "data": {
      "application/vnd.jupyter.widget-view+json": {
       "model_id": "be84f296d72f4f729fc32cc85ce330ae",
       "version_major": 2,
       "version_minor": 0
      },
      "text/plain": [
       "HBox(children=(IntProgress(value=0, max=95), HTML(value='')))"
      ]
     },
     "metadata": {},
     "output_type": "display_data"
    },
    {
     "name": "stdout",
     "output_type": "stream",
     "text": [
      "exmae = ('Greenville-Spartanburg Area, SC', 'CHESNEE 7 WSW, SC') 2.8608751566191\n"
     ]
    },
    {
     "data": {
      "application/vnd.jupyter.widget-view+json": {
       "model_id": "e0cccd834b6943b0ad5c16e3a9d0b54b",
       "version_major": 2,
       "version_minor": 0
      },
      "text/plain": [
       "HBox(children=(IntProgress(value=0, max=1), HTML(value='')))"
      ]
     },
     "metadata": {},
     "output_type": "display_data"
    },
    {
     "data": {
      "application/vnd.jupyter.widget-view+json": {
       "model_id": "8f6836e1a51c4cadb27c3c928036d84b",
       "version_major": 2,
       "version_minor": 0
      },
      "text/plain": [
       "HBox(children=(IntProgress(value=0, max=95), HTML(value='')))"
      ]
     },
     "metadata": {},
     "output_type": "display_data"
    },
    {
     "name": "stdout",
     "output_type": "stream",
     "text": [
      "exmae = ('Greenville-Spartanburg Area, SC', 'CLEVELAND 3S, SC') 3.049632259088924\n"
     ]
    },
    {
     "data": {
      "application/vnd.jupyter.widget-view+json": {
       "model_id": "d47f286cb8554df0a710f70f4c8f038f",
       "version_major": 2,
       "version_minor": 0
      },
      "text/plain": [
       "HBox(children=(IntProgress(value=0, max=1), HTML(value='')))"
      ]
     },
     "metadata": {},
     "output_type": "display_data"
    },
    {
     "data": {
      "application/vnd.jupyter.widget-view+json": {
       "model_id": "af6f1eab605d409f8c8a26d3af068b1d",
       "version_major": 2,
       "version_minor": 0
      },
      "text/plain": [
       "HBox(children=(IntProgress(value=0, max=95), HTML(value='')))"
      ]
     },
     "metadata": {},
     "output_type": "display_data"
    },
    {
     "name": "stdout",
     "output_type": "stream",
     "text": [
      "exmae = ('Greenville-Spartanburg Area, SC', 'SPARTANBURG 3 SSE, SC') 2.9144776099202763\n"
     ]
    },
    {
     "data": {
      "application/vnd.jupyter.widget-view+json": {
       "model_id": "c505360aae764f059fb1261f3569800a",
       "version_major": 2,
       "version_minor": 0
      },
      "text/plain": [
       "HBox(children=(IntProgress(value=0, max=1), HTML(value='')))"
      ]
     },
     "metadata": {},
     "output_type": "display_data"
    },
    {
     "data": {
      "application/vnd.jupyter.widget-view+json": {
       "model_id": "2731093d86b84f1288ff60d79e7d9854",
       "version_major": 2,
       "version_minor": 0
      },
      "text/plain": [
       "HBox(children=(IntProgress(value=0, max=95), HTML(value='')))"
      ]
     },
     "metadata": {},
     "output_type": "display_data"
    },
    {
     "name": "stdout",
     "output_type": "stream",
     "text": [
      "exmae = ('CAESARS HEAD, SC', 'CHESNEE 7 WSW, SC') 2.9762863578022682\n"
     ]
    },
    {
     "data": {
      "application/vnd.jupyter.widget-view+json": {
       "model_id": "33f5cca073b047d88eb34d4fbc682273",
       "version_major": 2,
       "version_minor": 0
      },
      "text/plain": [
       "HBox(children=(IntProgress(value=0, max=1), HTML(value='')))"
      ]
     },
     "metadata": {},
     "output_type": "display_data"
    },
    {
     "data": {
      "application/vnd.jupyter.widget-view+json": {
       "model_id": "1d4e4349f4254655adf790c27e61ee71",
       "version_major": 2,
       "version_minor": 0
      },
      "text/plain": [
       "HBox(children=(IntProgress(value=0, max=95), HTML(value='')))"
      ]
     },
     "metadata": {},
     "output_type": "display_data"
    },
    {
     "name": "stdout",
     "output_type": "stream",
     "text": [
      "exmae = ('CAESARS HEAD, SC', 'CLEVELAND 3S, SC') 3.20189310778487\n"
     ]
    },
    {
     "data": {
      "application/vnd.jupyter.widget-view+json": {
       "model_id": "f55bd4da911640a28f2e3c1f7790211c",
       "version_major": 2,
       "version_minor": 0
      },
      "text/plain": [
       "HBox(children=(IntProgress(value=0, max=1), HTML(value='')))"
      ]
     },
     "metadata": {},
     "output_type": "display_data"
    },
    {
     "data": {
      "application/vnd.jupyter.widget-view+json": {
       "model_id": "a06e87d8df5c46b38584b08beca9713a",
       "version_major": 2,
       "version_minor": 0
      },
      "text/plain": [
       "HBox(children=(IntProgress(value=0, max=95), HTML(value='')))"
      ]
     },
     "metadata": {},
     "output_type": "display_data"
    },
    {
     "name": "stdout",
     "output_type": "stream",
     "text": [
      "exmae = ('CAESARS HEAD, SC', 'SPARTANBURG 3 SSE, SC') 3.096819228892839\n"
     ]
    },
    {
     "data": {
      "application/vnd.jupyter.widget-view+json": {
       "model_id": "a721f96c917a492cbe80754f98a5e7c2",
       "version_major": 2,
       "version_minor": 0
      },
      "text/plain": [
       "HBox(children=(IntProgress(value=0, max=1), HTML(value='')))"
      ]
     },
     "metadata": {},
     "output_type": "display_data"
    },
    {
     "data": {
      "application/vnd.jupyter.widget-view+json": {
       "model_id": "33c0832bc95b4424904b6107775f2931",
       "version_major": 2,
       "version_minor": 0
      },
      "text/plain": [
       "HBox(children=(IntProgress(value=0, max=95), HTML(value='')))"
      ]
     },
     "metadata": {},
     "output_type": "display_data"
    },
    {
     "name": "stdout",
     "output_type": "stream",
     "text": [
      "exmae = ('CHESNEE 7 WSW, SC', 'CLEVELAND 3S, SC') 2.9903458656920554\n"
     ]
    },
    {
     "data": {
      "application/vnd.jupyter.widget-view+json": {
       "model_id": "44b50da3c34143f7aeaf4dd30d780566",
       "version_major": 2,
       "version_minor": 0
      },
      "text/plain": [
       "HBox(children=(IntProgress(value=0, max=1), HTML(value='')))"
      ]
     },
     "metadata": {},
     "output_type": "display_data"
    },
    {
     "data": {
      "application/vnd.jupyter.widget-view+json": {
       "model_id": "d23efadd09a740609818fd89a158d911",
       "version_major": 2,
       "version_minor": 0
      },
      "text/plain": [
       "HBox(children=(IntProgress(value=0, max=95), HTML(value='')))"
      ]
     },
     "metadata": {},
     "output_type": "display_data"
    },
    {
     "name": "stdout",
     "output_type": "stream",
     "text": [
      "exmae = ('CHESNEE 7 WSW, SC', 'SPARTANBURG 3 SSE, SC') 2.890486851482266\n"
     ]
    },
    {
     "data": {
      "application/vnd.jupyter.widget-view+json": {
       "model_id": "2333823de14643cc889fb19d6115cb53",
       "version_major": 2,
       "version_minor": 0
      },
      "text/plain": [
       "HBox(children=(IntProgress(value=0, max=1), HTML(value='')))"
      ]
     },
     "metadata": {},
     "output_type": "display_data"
    },
    {
     "data": {
      "application/vnd.jupyter.widget-view+json": {
       "model_id": "4158414d3f094e9b9954dd8571e6c911",
       "version_major": 2,
       "version_minor": 0
      },
      "text/plain": [
       "HBox(children=(IntProgress(value=0, max=95), HTML(value='')))"
      ]
     },
     "metadata": {},
     "output_type": "display_data"
    },
    {
     "name": "stdout",
     "output_type": "stream",
     "text": [
      "exmae = ('CLEVELAND 3S, SC', 'SPARTANBURG 3 SSE, SC') 3.0436085745720485\n"
     ]
    },
    {
     "data": {
      "application/vnd.jupyter.widget-view+json": {
       "model_id": "14d73b39633047f9a7b3b0136ad9b634",
       "version_major": 2,
       "version_minor": 0
      },
      "text/plain": [
       "HBox(children=(IntProgress(value=0, max=1), HTML(value='')))"
      ]
     },
     "metadata": {},
     "output_type": "display_data"
    },
    {
     "data": {
      "application/vnd.jupyter.widget-view+json": {
       "model_id": "dadc780a13d44cebae365729d430e741",
       "version_major": 2,
       "version_minor": 0
      },
      "text/plain": [
       "HBox(children=(IntProgress(value=0, max=95), HTML(value='')))"
      ]
     },
     "metadata": {},
     "output_type": "display_data"
    },
    {
     "name": "stdout",
     "output_type": "stream",
     "text": [
      "exmae = ('Greenville-Spartanburg Area, SC', 'CAESARS HEAD, SC', 'CHESNEE 7 WSW, SC') 2.9033859279655085\n"
     ]
    },
    {
     "data": {
      "application/vnd.jupyter.widget-view+json": {
       "model_id": "e35bd3925560459ba967b0bd19ef0fa6",
       "version_major": 2,
       "version_minor": 0
      },
      "text/plain": [
       "HBox(children=(IntProgress(value=0, max=1), HTML(value='')))"
      ]
     },
     "metadata": {},
     "output_type": "display_data"
    },
    {
     "data": {
      "application/vnd.jupyter.widget-view+json": {
       "model_id": "5abddcddb3304f2d907c498c028480c9",
       "version_major": 2,
       "version_minor": 0
      },
      "text/plain": [
       "HBox(children=(IntProgress(value=0, max=95), HTML(value='')))"
      ]
     },
     "metadata": {},
     "output_type": "display_data"
    },
    {
     "name": "stdout",
     "output_type": "stream",
     "text": [
      "exmae = ('Greenville-Spartanburg Area, SC', 'CAESARS HEAD, SC', 'CLEVELAND 3S, SC') 3.154525441526979\n"
     ]
    },
    {
     "data": {
      "application/vnd.jupyter.widget-view+json": {
       "model_id": "dbb1ba77f4624fd8bbe9b61280d04cb8",
       "version_major": 2,
       "version_minor": 0
      },
      "text/plain": [
       "HBox(children=(IntProgress(value=0, max=1), HTML(value='')))"
      ]
     },
     "metadata": {},
     "output_type": "display_data"
    },
    {
     "data": {
      "application/vnd.jupyter.widget-view+json": {
       "model_id": "5e89a755c03f4fb997d6fbfd8435a046",
       "version_major": 2,
       "version_minor": 0
      },
      "text/plain": [
       "HBox(children=(IntProgress(value=0, max=95), HTML(value='')))"
      ]
     },
     "metadata": {},
     "output_type": "display_data"
    },
    {
     "name": "stdout",
     "output_type": "stream",
     "text": [
      "exmae = ('Greenville-Spartanburg Area, SC', 'CAESARS HEAD, SC', 'SPARTANBURG 3 SSE, SC') 2.9314747667962813\n"
     ]
    },
    {
     "data": {
      "application/vnd.jupyter.widget-view+json": {
       "model_id": "e23aee9253b94485b026aae5e949cdc9",
       "version_major": 2,
       "version_minor": 0
      },
      "text/plain": [
       "HBox(children=(IntProgress(value=0, max=1), HTML(value='')))"
      ]
     },
     "metadata": {},
     "output_type": "display_data"
    },
    {
     "data": {
      "application/vnd.jupyter.widget-view+json": {
       "model_id": "5112d06f9adf4b3ab818f4fc42c378a9",
       "version_major": 2,
       "version_minor": 0
      },
      "text/plain": [
       "HBox(children=(IntProgress(value=0, max=95), HTML(value='')))"
      ]
     },
     "metadata": {},
     "output_type": "display_data"
    },
    {
     "name": "stdout",
     "output_type": "stream",
     "text": [
      "exmae = ('Greenville-Spartanburg Area, SC', 'CHESNEE 7 WSW, SC', 'CLEVELAND 3S, SC') 2.9713486547381884\n"
     ]
    },
    {
     "data": {
      "application/vnd.jupyter.widget-view+json": {
       "model_id": "1c50b7f127554fde864d1b0ad581b059",
       "version_major": 2,
       "version_minor": 0
      },
      "text/plain": [
       "HBox(children=(IntProgress(value=0, max=1), HTML(value='')))"
      ]
     },
     "metadata": {},
     "output_type": "display_data"
    },
    {
     "data": {
      "application/vnd.jupyter.widget-view+json": {
       "model_id": "06930ef2b63949ed85faf6852951b0c1",
       "version_major": 2,
       "version_minor": 0
      },
      "text/plain": [
       "HBox(children=(IntProgress(value=0, max=95), HTML(value='')))"
      ]
     },
     "metadata": {},
     "output_type": "display_data"
    },
    {
     "name": "stdout",
     "output_type": "stream",
     "text": [
      "exmae = ('Greenville-Spartanburg Area, SC', 'CHESNEE 7 WSW, SC', 'SPARTANBURG 3 SSE, SC') 2.86854756656046\n"
     ]
    },
    {
     "data": {
      "application/vnd.jupyter.widget-view+json": {
       "model_id": "c77dfe5ee5fb495ab9493544756d96d7",
       "version_major": 2,
       "version_minor": 0
      },
      "text/plain": [
       "HBox(children=(IntProgress(value=0, max=1), HTML(value='')))"
      ]
     },
     "metadata": {},
     "output_type": "display_data"
    },
    {
     "data": {
      "application/vnd.jupyter.widget-view+json": {
       "model_id": "0f5b38249dec4bc38e4edbdde844aca1",
       "version_major": 2,
       "version_minor": 0
      },
      "text/plain": [
       "HBox(children=(IntProgress(value=0, max=95), HTML(value='')))"
      ]
     },
     "metadata": {},
     "output_type": "display_data"
    },
    {
     "name": "stdout",
     "output_type": "stream",
     "text": [
      "exmae = ('Greenville-Spartanburg Area, SC', 'CLEVELAND 3S, SC', 'SPARTANBURG 3 SSE, SC') 3.0161890393875477\n"
     ]
    },
    {
     "data": {
      "application/vnd.jupyter.widget-view+json": {
       "model_id": "78826c8917a04526ad171b3e3bced6b5",
       "version_major": 2,
       "version_minor": 0
      },
      "text/plain": [
       "HBox(children=(IntProgress(value=0, max=1), HTML(value='')))"
      ]
     },
     "metadata": {},
     "output_type": "display_data"
    },
    {
     "data": {
      "application/vnd.jupyter.widget-view+json": {
       "model_id": "22b9a1acfbd74a049a806999d642154c",
       "version_major": 2,
       "version_minor": 0
      },
      "text/plain": [
       "HBox(children=(IntProgress(value=0, max=95), HTML(value='')))"
      ]
     },
     "metadata": {},
     "output_type": "display_data"
    },
    {
     "name": "stdout",
     "output_type": "stream",
     "text": [
      "exmae = ('CAESARS HEAD, SC', 'CHESNEE 7 WSW, SC', 'CLEVELAND 3S, SC') 2.99567340879987\n"
     ]
    },
    {
     "data": {
      "application/vnd.jupyter.widget-view+json": {
       "model_id": "4da1357198c14d81aa4b424c4cfac0bb",
       "version_major": 2,
       "version_minor": 0
      },
      "text/plain": [
       "HBox(children=(IntProgress(value=0, max=1), HTML(value='')))"
      ]
     },
     "metadata": {},
     "output_type": "display_data"
    },
    {
     "data": {
      "application/vnd.jupyter.widget-view+json": {
       "model_id": "1e0e81357b724fe484802b24b7f93ecf",
       "version_major": 2,
       "version_minor": 0
      },
      "text/plain": [
       "HBox(children=(IntProgress(value=0, max=95), HTML(value='')))"
      ]
     },
     "metadata": {},
     "output_type": "display_data"
    },
    {
     "name": "stdout",
     "output_type": "stream",
     "text": [
      "exmae = ('CAESARS HEAD, SC', 'CHESNEE 7 WSW, SC', 'SPARTANBURG 3 SSE, SC') 2.9370572008592566\n"
     ]
    },
    {
     "data": {
      "application/vnd.jupyter.widget-view+json": {
       "model_id": "e336baa3443841ac9b8395a01e2a9cf3",
       "version_major": 2,
       "version_minor": 0
      },
      "text/plain": [
       "HBox(children=(IntProgress(value=0, max=1), HTML(value='')))"
      ]
     },
     "metadata": {},
     "output_type": "display_data"
    },
    {
     "data": {
      "application/vnd.jupyter.widget-view+json": {
       "model_id": "5a0a5764e3fc40bda90a691c3cc53ca8",
       "version_major": 2,
       "version_minor": 0
      },
      "text/plain": [
       "HBox(children=(IntProgress(value=0, max=95), HTML(value='')))"
      ]
     },
     "metadata": {},
     "output_type": "display_data"
    },
    {
     "name": "stdout",
     "output_type": "stream",
     "text": [
      "exmae = ('CAESARS HEAD, SC', 'CLEVELAND 3S, SC', 'SPARTANBURG 3 SSE, SC') 3.277737214007516\n"
     ]
    },
    {
     "data": {
      "application/vnd.jupyter.widget-view+json": {
       "model_id": "805cf8ffcd9d4624b743c98f8c2ac4a2",
       "version_major": 2,
       "version_minor": 0
      },
      "text/plain": [
       "HBox(children=(IntProgress(value=0, max=1), HTML(value='')))"
      ]
     },
     "metadata": {},
     "output_type": "display_data"
    },
    {
     "data": {
      "application/vnd.jupyter.widget-view+json": {
       "model_id": "4f51a5cc03444a2aaaaf59caa322bb4f",
       "version_major": 2,
       "version_minor": 0
      },
      "text/plain": [
       "HBox(children=(IntProgress(value=0, max=95), HTML(value='')))"
      ]
     },
     "metadata": {},
     "output_type": "display_data"
    },
    {
     "name": "stdout",
     "output_type": "stream",
     "text": [
      "exmae = ('CHESNEE 7 WSW, SC', 'CLEVELAND 3S, SC', 'SPARTANBURG 3 SSE, SC') 2.9667226323555127\n"
     ]
    },
    {
     "data": {
      "application/vnd.jupyter.widget-view+json": {
       "model_id": "9f87da1b67554a2d924d7c0559fa0f2a",
       "version_major": 2,
       "version_minor": 0
      },
      "text/plain": [
       "HBox(children=(IntProgress(value=0, max=1), HTML(value='')))"
      ]
     },
     "metadata": {},
     "output_type": "display_data"
    },
    {
     "data": {
      "application/vnd.jupyter.widget-view+json": {
       "model_id": "d9b6af89cedb4613accafaaa8d3994fb",
       "version_major": 2,
       "version_minor": 0
      },
      "text/plain": [
       "HBox(children=(IntProgress(value=0, max=95), HTML(value='')))"
      ]
     },
     "metadata": {},
     "output_type": "display_data"
    },
    {
     "name": "stdout",
     "output_type": "stream",
     "text": [
      "exmae = ('Greenville-Spartanburg Area, SC', 'CAESARS HEAD, SC', 'CHESNEE 7 WSW, SC', 'CLEVELAND 3S, SC') 3.190416268016882\n"
     ]
    },
    {
     "data": {
      "application/vnd.jupyter.widget-view+json": {
       "model_id": "9d48d63054824586af2863a08033ec5c",
       "version_major": 2,
       "version_minor": 0
      },
      "text/plain": [
       "HBox(children=(IntProgress(value=0, max=1), HTML(value='')))"
      ]
     },
     "metadata": {},
     "output_type": "display_data"
    },
    {
     "data": {
      "application/vnd.jupyter.widget-view+json": {
       "model_id": "db896f2ae2f94742ab043a81c8faec46",
       "version_major": 2,
       "version_minor": 0
      },
      "text/plain": [
       "HBox(children=(IntProgress(value=0, max=95), HTML(value='')))"
      ]
     },
     "metadata": {},
     "output_type": "display_data"
    },
    {
     "name": "stdout",
     "output_type": "stream",
     "text": [
      "exmae = ('Greenville-Spartanburg Area, SC', 'CAESARS HEAD, SC', 'CHESNEE 7 WSW, SC', 'SPARTANBURG 3 SSE, SC') 2.8771958771274124\n"
     ]
    },
    {
     "data": {
      "application/vnd.jupyter.widget-view+json": {
       "model_id": "f864284d7c60468aaa6a8332eb8e74bf",
       "version_major": 2,
       "version_minor": 0
      },
      "text/plain": [
       "HBox(children=(IntProgress(value=0, max=1), HTML(value='')))"
      ]
     },
     "metadata": {},
     "output_type": "display_data"
    },
    {
     "data": {
      "application/vnd.jupyter.widget-view+json": {
       "model_id": "6f77ce64ef4d428fbcdfb8c3924dfb57",
       "version_major": 2,
       "version_minor": 0
      },
      "text/plain": [
       "HBox(children=(IntProgress(value=0, max=95), HTML(value='')))"
      ]
     },
     "metadata": {},
     "output_type": "display_data"
    },
    {
     "name": "stdout",
     "output_type": "stream",
     "text": [
      "exmae = ('Greenville-Spartanburg Area, SC', 'CAESARS HEAD, SC', 'CLEVELAND 3S, SC', 'SPARTANBURG 3 SSE, SC') 3.0292999192163945\n"
     ]
    },
    {
     "data": {
      "application/vnd.jupyter.widget-view+json": {
       "model_id": "f3ea1c0602ea4d459cae21d52255f52a",
       "version_major": 2,
       "version_minor": 0
      },
      "text/plain": [
       "HBox(children=(IntProgress(value=0, max=1), HTML(value='')))"
      ]
     },
     "metadata": {},
     "output_type": "display_data"
    },
    {
     "data": {
      "application/vnd.jupyter.widget-view+json": {
       "model_id": "a901b12e2713450785abe7dba02c73f8",
       "version_major": 2,
       "version_minor": 0
      },
      "text/plain": [
       "HBox(children=(IntProgress(value=0, max=95), HTML(value='')))"
      ]
     },
     "metadata": {},
     "output_type": "display_data"
    },
    {
     "name": "stdout",
     "output_type": "stream",
     "text": [
      "exmae = ('Greenville-Spartanburg Area, SC', 'CHESNEE 7 WSW, SC', 'CLEVELAND 3S, SC', 'SPARTANBURG 3 SSE, SC') 2.975167876273045\n"
     ]
    },
    {
     "data": {
      "application/vnd.jupyter.widget-view+json": {
       "model_id": "6e7c4235230f423bbc72fc062dc5e683",
       "version_major": 2,
       "version_minor": 0
      },
      "text/plain": [
       "HBox(children=(IntProgress(value=0, max=1), HTML(value='')))"
      ]
     },
     "metadata": {},
     "output_type": "display_data"
    },
    {
     "data": {
      "application/vnd.jupyter.widget-view+json": {
       "model_id": "dabff3600f374a76b696d2cbfeaa01a0",
       "version_major": 2,
       "version_minor": 0
      },
      "text/plain": [
       "HBox(children=(IntProgress(value=0, max=95), HTML(value='')))"
      ]
     },
     "metadata": {},
     "output_type": "display_data"
    },
    {
     "name": "stdout",
     "output_type": "stream",
     "text": [
      "exmae = ('CAESARS HEAD, SC', 'CHESNEE 7 WSW, SC', 'CLEVELAND 3S, SC', 'SPARTANBURG 3 SSE, SC') 3.258738835983667\n"
     ]
    },
    {
     "data": {
      "application/vnd.jupyter.widget-view+json": {
       "model_id": "4b7fff2c79844c88af9b9570fbcaea53",
       "version_major": 2,
       "version_minor": 0
      },
      "text/plain": [
       "HBox(children=(IntProgress(value=0, max=1), HTML(value='')))"
      ]
     },
     "metadata": {},
     "output_type": "display_data"
    },
    {
     "data": {
      "application/vnd.jupyter.widget-view+json": {
       "model_id": "eceb6e1f7c004a7cb9bdd0521ac88f0f",
       "version_major": 2,
       "version_minor": 0
      },
      "text/plain": [
       "HBox(children=(IntProgress(value=0, max=95), HTML(value='')))"
      ]
     },
     "metadata": {},
     "output_type": "display_data"
    },
    {
     "name": "stdout",
     "output_type": "stream",
     "text": [
      "keymae of: WAYNESVILLE 1 E, NC = 1.747482139423062\n"
     ]
    },
    {
     "data": {
      "application/vnd.jupyter.widget-view+json": {
       "model_id": "91a68b435cd64122ac9b289d85b02a54",
       "version_major": 2,
       "version_minor": 0
      },
      "text/plain": [
       "HBox(children=(IntProgress(value=0, max=3), HTML(value='')))"
      ]
     },
     "metadata": {},
     "output_type": "display_data"
    },
    {
     "data": {
      "application/vnd.jupyter.widget-view+json": {
       "model_id": "ab7448b200b040e497a8067e9f37c6a0",
       "version_major": 2,
       "version_minor": 0
      },
      "text/plain": [
       "HBox(children=(IntProgress(value=0, max=1), HTML(value='')))"
      ]
     },
     "metadata": {},
     "output_type": "display_data"
    },
    {
     "data": {
      "application/vnd.jupyter.widget-view+json": {
       "model_id": "e8bdd7951fd04b4e95b80b91cd323607",
       "version_major": 2,
       "version_minor": 0
      },
      "text/plain": [
       "HBox(children=(IntProgress(value=0, max=95), HTML(value='')))"
      ]
     },
     "metadata": {},
     "output_type": "display_data"
    },
    {
     "name": "stdout",
     "output_type": "stream",
     "text": [
      "exmae = ('MT LECONTE, TN', 'NEWFOUND GAP, TN') 2.2339993455520246\n"
     ]
    },
    {
     "data": {
      "application/vnd.jupyter.widget-view+json": {
       "model_id": "57333bc9e8234726905688137b6cf53a",
       "version_major": 2,
       "version_minor": 0
      },
      "text/plain": [
       "HBox(children=(IntProgress(value=0, max=1), HTML(value='')))"
      ]
     },
     "metadata": {},
     "output_type": "display_data"
    },
    {
     "data": {
      "application/vnd.jupyter.widget-view+json": {
       "model_id": "f29e28eb5506424ca5f23e62c0e9d789",
       "version_major": 2,
       "version_minor": 0
      },
      "text/plain": [
       "HBox(children=(IntProgress(value=0, max=95), HTML(value='')))"
      ]
     },
     "metadata": {},
     "output_type": "display_data"
    },
    {
     "name": "stdout",
     "output_type": "stream",
     "text": [
      "exmae = ('MT LECONTE, TN',) 2.067047382901454\n"
     ]
    },
    {
     "data": {
      "application/vnd.jupyter.widget-view+json": {
       "model_id": "1da56223321643b4a4694acc2d5970ea",
       "version_major": 2,
       "version_minor": 0
      },
      "text/plain": [
       "HBox(children=(IntProgress(value=0, max=1), HTML(value='')))"
      ]
     },
     "metadata": {},
     "output_type": "display_data"
    },
    {
     "data": {
      "application/vnd.jupyter.widget-view+json": {
       "model_id": "86a1a255746a423ea1e0aba40c4388ae",
       "version_major": 2,
       "version_minor": 0
      },
      "text/plain": [
       "HBox(children=(IntProgress(value=0, max=95), HTML(value='')))"
      ]
     },
     "metadata": {},
     "output_type": "display_data"
    },
    {
     "name": "stdout",
     "output_type": "stream",
     "text": [
      "exmae = ('NEWFOUND GAP, TN',) 2.262076438940648\n"
     ]
    },
    {
     "data": {
      "application/vnd.jupyter.widget-view+json": {
       "model_id": "3a400698bac6479d82a76868ef545c6c",
       "version_major": 2,
       "version_minor": 0
      },
      "text/plain": [
       "HBox(children=(IntProgress(value=0, max=1), HTML(value='')))"
      ]
     },
     "metadata": {},
     "output_type": "display_data"
    },
    {
     "data": {
      "application/vnd.jupyter.widget-view+json": {
       "model_id": "bbc8e9a91db448b2bd30a7512112730e",
       "version_major": 2,
       "version_minor": 0
      },
      "text/plain": [
       "HBox(children=(IntProgress(value=0, max=95), HTML(value='')))"
      ]
     },
     "metadata": {},
     "output_type": "display_data"
    },
    {
     "ename": "MemoryError",
     "evalue": "",
     "output_type": "error",
     "traceback": [
      "\u001b[1;31m---------------------------------------------------------------------------\u001b[0m",
      "\u001b[1;31mMemoryError\u001b[0m                               Traceback (most recent call last)",
      "\u001b[1;32m<ipython-input-10-37650317f322>\u001b[0m in \u001b[0;36m<module>\u001b[1;34m\u001b[0m\n\u001b[0;32m      2\u001b[0m \u001b[0mwarnings\u001b[0m\u001b[1;33m.\u001b[0m\u001b[0mfilterwarnings\u001b[0m\u001b[1;33m(\u001b[0m\u001b[1;34m\"ignore\"\u001b[0m\u001b[1;33m)\u001b[0m\u001b[1;33m\u001b[0m\u001b[1;33m\u001b[0m\u001b[0m\n\u001b[0;32m      3\u001b[0m \u001b[1;32mfor\u001b[0m \u001b[0mkey\u001b[0m\u001b[1;33m,\u001b[0m\u001b[0mvalue\u001b[0m \u001b[1;32min\u001b[0m \u001b[0mtqdm\u001b[0m\u001b[1;33m(\u001b[0m\u001b[0ml_o_dfs\u001b[0m\u001b[1;33m.\u001b[0m\u001b[0mitems\u001b[0m\u001b[1;33m(\u001b[0m\u001b[1;33m)\u001b[0m\u001b[1;33m)\u001b[0m\u001b[1;33m:\u001b[0m\u001b[1;33m\u001b[0m\u001b[1;33m\u001b[0m\u001b[0m\n\u001b[1;32m----> 4\u001b[1;33m     \u001b[0mexogenous_var\u001b[0m\u001b[1;33m(\u001b[0m\u001b[0mrd\u001b[0m\u001b[1;33m,\u001b[0m \u001b[0mkey\u001b[0m\u001b[1;33m,\u001b[0m \u001b[0mvalue\u001b[0m\u001b[1;33m,\u001b[0m \u001b[0mbest_comb\u001b[0m\u001b[1;33m)\u001b[0m\u001b[1;33m\u001b[0m\u001b[1;33m\u001b[0m\u001b[0m\n\u001b[0m",
      "\u001b[1;32m<ipython-input-9-1776fc404cd7>\u001b[0m in \u001b[0;36mexogenous_var\u001b[1;34m(data, ncloc, l_exoloc, best_comb)\u001b[0m\n\u001b[0;32m      4\u001b[0m \u001b[1;31m#         l_exog = exog_combinations(data, value)\u001b[0m\u001b[1;33m\u001b[0m\u001b[1;33m\u001b[0m\u001b[1;33m\u001b[0m\u001b[0m\n\u001b[0;32m      5\u001b[0m     \u001b[0mtr\u001b[0m\u001b[1;33m,\u001b[0m \u001b[0mtest\u001b[0m \u001b[1;33m=\u001b[0m \u001b[0mtrain_test_split\u001b[0m\u001b[1;33m(\u001b[0m\u001b[0mdat\u001b[0m\u001b[1;33m,\u001b[0m \u001b[0mtest_size\u001b[0m \u001b[1;33m=\u001b[0m \u001b[1;36m0.2\u001b[0m\u001b[1;33m,\u001b[0m \u001b[0mshuffle\u001b[0m\u001b[1;33m=\u001b[0m\u001b[1;32mFalse\u001b[0m\u001b[1;33m)\u001b[0m\u001b[1;33m\u001b[0m\u001b[1;33m\u001b[0m\u001b[0m\n\u001b[1;32m----> 6\u001b[1;33m     \u001b[0mkeymae\u001b[0m \u001b[1;33m=\u001b[0m \u001b[0mhyperparameter_find\u001b[0m\u001b[1;33m(\u001b[0m\u001b[0mtr\u001b[0m\u001b[1;33m,\u001b[0m \u001b[0mbest_comb\u001b[0m\u001b[1;33m,\u001b[0m \u001b[0mtest\u001b[0m\u001b[1;33m)\u001b[0m\u001b[1;33m\u001b[0m\u001b[1;33m\u001b[0m\u001b[0m\n\u001b[0m\u001b[0;32m      7\u001b[0m     \u001b[0mprint\u001b[0m\u001b[1;33m(\u001b[0m\u001b[1;34m'keymae of: '\u001b[0m\u001b[1;33m+\u001b[0m \u001b[0mkey\u001b[0m \u001b[1;33m+\u001b[0m\u001b[1;34m' = '\u001b[0m\u001b[1;33m+\u001b[0m\u001b[0mstr\u001b[0m\u001b[1;33m(\u001b[0m\u001b[0mkeymae\u001b[0m\u001b[1;33m)\u001b[0m\u001b[1;33m)\u001b[0m\u001b[1;33m\u001b[0m\u001b[1;33m\u001b[0m\u001b[0m\n\u001b[0;32m      8\u001b[0m     \u001b[0mbettermae\u001b[0m \u001b[1;33m=\u001b[0m \u001b[1;33m{\u001b[0m\u001b[1;33m}\u001b[0m\u001b[1;33m\u001b[0m\u001b[1;33m\u001b[0m\u001b[0m\n",
      "\u001b[1;32m<ipython-input-5-e77bf4e9a9de>\u001b[0m in \u001b[0;36mhyperparameter_find\u001b[1;34m(training_data, comb, testing_data, search, exogtr, exogtest)\u001b[0m\n\u001b[0;32m     24\u001b[0m                     \u001b[0mexcopy\u001b[0m \u001b[1;33m=\u001b[0m \u001b[0mpd\u001b[0m\u001b[1;33m.\u001b[0m\u001b[0mconcat\u001b[0m\u001b[1;33m(\u001b[0m\u001b[1;33m[\u001b[0m\u001b[0mexcopy\u001b[0m\u001b[1;33m,\u001b[0m \u001b[0mexogtest\u001b[0m\u001b[1;33m.\u001b[0m\u001b[0miloc\u001b[0m\u001b[1;33m[\u001b[0m\u001b[1;33m[\u001b[0m\u001b[0mi\u001b[0m\u001b[1;33m]\u001b[0m\u001b[1;33m]\u001b[0m\u001b[1;33m]\u001b[0m\u001b[1;33m)\u001b[0m\u001b[1;33m\u001b[0m\u001b[1;33m\u001b[0m\u001b[0m\n\u001b[0;32m     25\u001b[0m                 \u001b[1;32melse\u001b[0m\u001b[1;33m:\u001b[0m\u001b[1;33m\u001b[0m\u001b[1;33m\u001b[0m\u001b[0m\n\u001b[1;32m---> 26\u001b[1;33m                     \u001b[0mmod_1\u001b[0m \u001b[1;33m=\u001b[0m \u001b[0msarima_model_creation\u001b[0m\u001b[1;33m(\u001b[0m\u001b[0mcopytraining\u001b[0m\u001b[1;33m,\u001b[0m \u001b[0mcom\u001b[0m\u001b[1;33m[\u001b[0m\u001b[1;36m0\u001b[0m\u001b[1;33m]\u001b[0m\u001b[1;33m,\u001b[0m \u001b[1;36m0\u001b[0m\u001b[1;33m,\u001b[0m \u001b[0mcom\u001b[0m\u001b[1;33m[\u001b[0m\u001b[1;36m1\u001b[0m\u001b[1;33m]\u001b[0m\u001b[1;33m,\u001b[0m \u001b[0mcom\u001b[0m\u001b[1;33m[\u001b[0m\u001b[1;36m2\u001b[0m\u001b[1;33m]\u001b[0m\u001b[1;33m,\u001b[0m \u001b[1;36m0\u001b[0m\u001b[1;33m,\u001b[0m \u001b[0mcom\u001b[0m\u001b[1;33m[\u001b[0m\u001b[1;36m3\u001b[0m\u001b[1;33m]\u001b[0m\u001b[1;33m,\u001b[0m \u001b[1;36m12\u001b[0m\u001b[1;33m)\u001b[0m\u001b[1;33m\u001b[0m\u001b[1;33m\u001b[0m\u001b[0m\n\u001b[0m\u001b[0;32m     27\u001b[0m                     \u001b[0mone_step_pred2\u001b[0m \u001b[1;33m=\u001b[0m \u001b[0mmod_1\u001b[0m\u001b[1;33m.\u001b[0m\u001b[0mforecast\u001b[0m\u001b[1;33m(\u001b[0m\u001b[1;33m)\u001b[0m\u001b[1;33m\u001b[0m\u001b[1;33m\u001b[0m\u001b[0m\n\u001b[0;32m     28\u001b[0m                 \u001b[0mli_one_step\u001b[0m\u001b[1;33m.\u001b[0m\u001b[0mappend\u001b[0m\u001b[1;33m(\u001b[0m\u001b[0mone_step_pred2\u001b[0m\u001b[1;33m[\u001b[0m\u001b[1;36m0\u001b[0m\u001b[1;33m]\u001b[0m\u001b[1;33m)\u001b[0m\u001b[1;33m\u001b[0m\u001b[1;33m\u001b[0m\u001b[0m\n",
      "\u001b[1;32m<ipython-input-4-5fcefe079e19>\u001b[0m in \u001b[0;36msarima_model_creation\u001b[1;34m(data, p, d, q, P, D, Q, m, exog)\u001b[0m\n\u001b[0;32m      5\u001b[0m                                           \u001b[0menforce_stationarity\u001b[0m\u001b[1;33m=\u001b[0m\u001b[1;32mFalse\u001b[0m\u001b[1;33m,\u001b[0m \u001b[0menforce_invertibility\u001b[0m\u001b[1;33m=\u001b[0m\u001b[1;32mFalse\u001b[0m\u001b[1;33m,\u001b[0m\u001b[1;33m\u001b[0m\u001b[1;33m\u001b[0m\u001b[0m\n\u001b[0;32m      6\u001b[0m                                           initialization='approximate_diffuse')\n\u001b[1;32m----> 7\u001b[1;33m     \u001b[0mmodel_fit\u001b[0m \u001b[1;33m=\u001b[0m \u001b[0msarimamod\u001b[0m\u001b[1;33m.\u001b[0m\u001b[0mfit\u001b[0m\u001b[1;33m(\u001b[0m\u001b[1;33m)\u001b[0m\u001b[1;31m# start_params=[0, 0, 0, 0, 1])\u001b[0m\u001b[1;33m\u001b[0m\u001b[1;33m\u001b[0m\u001b[0m\n\u001b[0m\u001b[0;32m      8\u001b[0m     \u001b[1;32mreturn\u001b[0m\u001b[1;33m(\u001b[0m\u001b[0mmodel_fit\u001b[0m\u001b[1;33m)\u001b[0m\u001b[1;33m\u001b[0m\u001b[1;33m\u001b[0m\u001b[0m\n",
      "\u001b[1;32m~\\Anaconda3\\lib\\site-packages\\statsmodels\\tsa\\statespace\\mlemodel.py\u001b[0m in \u001b[0;36mfit\u001b[1;34m(self, start_params, transformed, cov_type, cov_kwds, method, maxiter, full_output, disp, callback, return_params, optim_score, optim_complex_step, optim_hessian, flags, **kwargs)\u001b[0m\n\u001b[0;32m    475\u001b[0m         \u001b[1;32melse\u001b[0m\u001b[1;33m:\u001b[0m\u001b[1;33m\u001b[0m\u001b[1;33m\u001b[0m\u001b[0m\n\u001b[0;32m    476\u001b[0m             res = self.smooth(mlefit.params, transformed=False,\n\u001b[1;32m--> 477\u001b[1;33m                               cov_type=cov_type, cov_kwds=cov_kwds)\n\u001b[0m\u001b[0;32m    478\u001b[0m \u001b[1;33m\u001b[0m\u001b[0m\n\u001b[0;32m    479\u001b[0m             \u001b[0mres\u001b[0m\u001b[1;33m.\u001b[0m\u001b[0mmlefit\u001b[0m \u001b[1;33m=\u001b[0m \u001b[0mmlefit\u001b[0m\u001b[1;33m\u001b[0m\u001b[1;33m\u001b[0m\u001b[0m\n",
      "\u001b[1;32m~\\Anaconda3\\lib\\site-packages\\statsmodels\\tsa\\statespace\\mlemodel.py\u001b[0m in \u001b[0;36msmooth\u001b[1;34m(self, params, transformed, complex_step, cov_type, cov_kwds, return_ssm, results_class, results_wrapper_class, **kwargs)\u001b[0m\n\u001b[0;32m    591\u001b[0m \u001b[1;33m\u001b[0m\u001b[0m\n\u001b[0;32m    592\u001b[0m         \u001b[1;31m# Get the state space output\u001b[0m\u001b[1;33m\u001b[0m\u001b[1;33m\u001b[0m\u001b[1;33m\u001b[0m\u001b[0m\n\u001b[1;32m--> 593\u001b[1;33m         \u001b[0mresult\u001b[0m \u001b[1;33m=\u001b[0m \u001b[0mself\u001b[0m\u001b[1;33m.\u001b[0m\u001b[0mssm\u001b[0m\u001b[1;33m.\u001b[0m\u001b[0msmooth\u001b[0m\u001b[1;33m(\u001b[0m\u001b[0mcomplex_step\u001b[0m\u001b[1;33m=\u001b[0m\u001b[0mcomplex_step\u001b[0m\u001b[1;33m,\u001b[0m \u001b[1;33m**\u001b[0m\u001b[0mkwargs\u001b[0m\u001b[1;33m)\u001b[0m\u001b[1;33m\u001b[0m\u001b[1;33m\u001b[0m\u001b[0m\n\u001b[0m\u001b[0;32m    594\u001b[0m \u001b[1;33m\u001b[0m\u001b[0m\n\u001b[0;32m    595\u001b[0m         \u001b[1;31m# Wrap in a results object\u001b[0m\u001b[1;33m\u001b[0m\u001b[1;33m\u001b[0m\u001b[1;33m\u001b[0m\u001b[0m\n",
      "\u001b[1;32m~\\Anaconda3\\lib\\site-packages\\statsmodels\\tsa\\statespace\\kalman_smoother.py\u001b[0m in \u001b[0;36msmooth\u001b[1;34m(self, smoother_output, smooth_method, results, run_filter, prefix, complex_step, **kwargs)\u001b[0m\n\u001b[0;32m    402\u001b[0m         \u001b[0mresults\u001b[0m \u001b[1;33m=\u001b[0m \u001b[0mself\u001b[0m\u001b[1;33m.\u001b[0m\u001b[0mresults_class\u001b[0m\u001b[1;33m(\u001b[0m\u001b[0mself\u001b[0m\u001b[1;33m)\u001b[0m\u001b[1;33m\u001b[0m\u001b[1;33m\u001b[0m\u001b[0m\n\u001b[0;32m    403\u001b[0m         \u001b[0mresults\u001b[0m\u001b[1;33m.\u001b[0m\u001b[0mupdate_representation\u001b[0m\u001b[1;33m(\u001b[0m\u001b[0mself\u001b[0m\u001b[1;33m)\u001b[0m\u001b[1;33m\u001b[0m\u001b[1;33m\u001b[0m\u001b[0m\n\u001b[1;32m--> 404\u001b[1;33m         \u001b[0mresults\u001b[0m\u001b[1;33m.\u001b[0m\u001b[0mupdate_filter\u001b[0m\u001b[1;33m(\u001b[0m\u001b[0mkfilter\u001b[0m\u001b[1;33m)\u001b[0m\u001b[1;33m\u001b[0m\u001b[1;33m\u001b[0m\u001b[0m\n\u001b[0m\u001b[0;32m    405\u001b[0m \u001b[1;33m\u001b[0m\u001b[0m\n\u001b[0;32m    406\u001b[0m         \u001b[1;31m# Run the smoother\u001b[0m\u001b[1;33m\u001b[0m\u001b[1;33m\u001b[0m\u001b[1;33m\u001b[0m\u001b[0m\n",
      "\u001b[1;32m~\\Anaconda3\\lib\\site-packages\\statsmodels\\tsa\\statespace\\kalman_filter.py\u001b[0m in \u001b[0;36mupdate_filter\u001b[1;34m(self, kalman_filter)\u001b[0m\n\u001b[0;32m   1385\u001b[0m         )\n\u001b[0;32m   1386\u001b[0m         self.predicted_state_cov = np.array(\n\u001b[1;32m-> 1387\u001b[1;33m             \u001b[0mkalman_filter\u001b[0m\u001b[1;33m.\u001b[0m\u001b[0mpredicted_state_cov\u001b[0m\u001b[1;33m,\u001b[0m \u001b[0mcopy\u001b[0m\u001b[1;33m=\u001b[0m\u001b[1;32mTrue\u001b[0m\u001b[1;33m\u001b[0m\u001b[1;33m\u001b[0m\u001b[0m\n\u001b[0m\u001b[0;32m   1388\u001b[0m         )\n\u001b[0;32m   1389\u001b[0m \u001b[1;33m\u001b[0m\u001b[0m\n",
      "\u001b[1;31mMemoryError\u001b[0m: "
     ]
    }
   ],
   "source": [
    "best_comb = [[4,3,3,4]]\n",
    "warnings.filterwarnings(\"ignore\")\n",
    "for key,value in tqdm(l_o_dfs.items()):\n",
    "    exogenous_var(rd, key, value, best_comb)"
   ]
  },
  {
   "cell_type": "code",
   "execution_count": 16,
   "metadata": {},
   "outputs": [
    {
     "data": {
      "text/plain": [
       "<statsmodels.tsa.statespace.mlemodel.PredictionResultsWrapper at 0x17500015e80>"
      ]
     },
     "execution_count": 16,
     "metadata": {},
     "output_type": "execute_result"
    }
   ],
   "source": [
    "warnings.filterwarnings(\"ignore\")\n",
    "new_model = sarima_model_creation(rd['Raleigh, NC'], 4,0,3,3,0,4,12)\n",
    "pred = new_model.get_prediction(start='2019-05-01',end='2019-05-01')\n",
    "pred"
   ]
  },
  {
   "cell_type": "code",
   "execution_count": 10,
   "metadata": {},
   "outputs": [
    {
     "data": {
      "text/plain": [
       "<statsmodels.tsa.statespace.mlemodel.PredictionResultsWrapper at 0x1b25ee44400>"
      ]
     },
     "execution_count": 10,
     "metadata": {},
     "output_type": "execute_result"
    }
   ],
   "source": [
    "warnings.filterwarnings(\"ignore\")\n",
    "new_model1 = sarima_model_creation(ncrd['Raleigh, NC'], 4,0,3,3,0,4,12)\n",
    "pred1 = new_model1.get_prediction(start='2019-05-01', end='2020-05-01')\n",
    "pred1_ci = pred1.conf_int()\n"
   ]
  },
  {
   "cell_type": "code",
   "execution_count": 18,
   "metadata": {},
   "outputs": [
    {
     "data": {
      "text/html": [
       "<div>\n",
       "<style scoped>\n",
       "    .dataframe tbody tr th:only-of-type {\n",
       "        vertical-align: middle;\n",
       "    }\n",
       "\n",
       "    .dataframe tbody tr th {\n",
       "        vertical-align: top;\n",
       "    }\n",
       "\n",
       "    .dataframe thead th {\n",
       "        text-align: right;\n",
       "    }\n",
       "</style>\n",
       "<table border=\"1\" class=\"dataframe\">\n",
       "  <thead>\n",
       "    <tr style=\"text-align: right;\">\n",
       "      <th></th>\n",
       "      <th>lower Raleigh, NC</th>\n",
       "      <th>upper Raleigh, NC</th>\n",
       "    </tr>\n",
       "  </thead>\n",
       "  <tbody>\n",
       "    <tr>\n",
       "      <th>2019-05-01</th>\n",
       "      <td>-0.947526</td>\n",
       "      <td>7.680326</td>\n",
       "    </tr>\n",
       "    <tr>\n",
       "      <th>2019-06-01</th>\n",
       "      <td>-0.004114</td>\n",
       "      <td>8.626520</td>\n",
       "    </tr>\n",
       "    <tr>\n",
       "      <th>2019-07-01</th>\n",
       "      <td>1.995099</td>\n",
       "      <td>10.634899</td>\n",
       "    </tr>\n",
       "    <tr>\n",
       "      <th>2019-08-01</th>\n",
       "      <td>-0.191174</td>\n",
       "      <td>8.482544</td>\n",
       "    </tr>\n",
       "    <tr>\n",
       "      <th>2019-09-01</th>\n",
       "      <td>0.538479</td>\n",
       "      <td>9.212324</td>\n",
       "    </tr>\n",
       "    <tr>\n",
       "      <th>2019-10-01</th>\n",
       "      <td>0.275670</td>\n",
       "      <td>8.965745</td>\n",
       "    </tr>\n",
       "    <tr>\n",
       "      <th>2019-11-01</th>\n",
       "      <td>-1.515818</td>\n",
       "      <td>7.188782</td>\n",
       "    </tr>\n",
       "    <tr>\n",
       "      <th>2019-12-01</th>\n",
       "      <td>-1.325686</td>\n",
       "      <td>7.382033</td>\n",
       "    </tr>\n",
       "    <tr>\n",
       "      <th>2020-01-01</th>\n",
       "      <td>-0.365717</td>\n",
       "      <td>8.358265</td>\n",
       "    </tr>\n",
       "    <tr>\n",
       "      <th>2020-02-01</th>\n",
       "      <td>-1.540801</td>\n",
       "      <td>7.186353</td>\n",
       "    </tr>\n",
       "    <tr>\n",
       "      <th>2020-03-01</th>\n",
       "      <td>-0.619284</td>\n",
       "      <td>8.114632</td>\n",
       "    </tr>\n",
       "    <tr>\n",
       "      <th>2020-04-01</th>\n",
       "      <td>0.500946</td>\n",
       "      <td>9.246397</td>\n",
       "    </tr>\n",
       "    <tr>\n",
       "      <th>2020-05-01</th>\n",
       "      <td>-0.204689</td>\n",
       "      <td>8.544901</td>\n",
       "    </tr>\n",
       "  </tbody>\n",
       "</table>\n",
       "</div>"
      ],
      "text/plain": [
       "            lower Raleigh, NC  upper Raleigh, NC\n",
       "2019-05-01          -0.947526           7.680326\n",
       "2019-06-01          -0.004114           8.626520\n",
       "2019-07-01           1.995099          10.634899\n",
       "2019-08-01          -0.191174           8.482544\n",
       "2019-09-01           0.538479           9.212324\n",
       "2019-10-01           0.275670           8.965745\n",
       "2019-11-01          -1.515818           7.188782\n",
       "2019-12-01          -1.325686           7.382033\n",
       "2020-01-01          -0.365717           8.358265\n",
       "2020-02-01          -1.540801           7.186353\n",
       "2020-03-01          -0.619284           8.114632\n",
       "2020-04-01           0.500946           9.246397\n",
       "2020-05-01          -0.204689           8.544901"
      ]
     },
     "execution_count": 18,
     "metadata": {},
     "output_type": "execute_result"
    }
   ],
   "source": [
    "pred_df = pd.DataFrame(pred1_ci)\n",
    "pred_df"
   ]
  },
  {
   "cell_type": "code",
   "execution_count": 48,
   "metadata": {
    "scrolled": true
   },
   "outputs": [
    {
     "data": {
      "text/html": [
       "<div>\n",
       "<style scoped>\n",
       "    .dataframe tbody tr th:only-of-type {\n",
       "        vertical-align: middle;\n",
       "    }\n",
       "\n",
       "    .dataframe tbody tr th {\n",
       "        vertical-align: top;\n",
       "    }\n",
       "\n",
       "    .dataframe thead th {\n",
       "        text-align: right;\n",
       "    }\n",
       "</style>\n",
       "<table border=\"1\" class=\"dataframe\">\n",
       "  <thead>\n",
       "    <tr style=\"text-align: right;\">\n",
       "      <th></th>\n",
       "      <th>lower Raleigh, NC</th>\n",
       "      <th>upper Raleigh, NC</th>\n",
       "      <th>lower TAPOCO, NC</th>\n",
       "      <th>upper TAPOCO, NC</th>\n",
       "    </tr>\n",
       "  </thead>\n",
       "  <tbody>\n",
       "    <tr>\n",
       "      <th>2020-06-01</th>\n",
       "      <td>-0.251282</td>\n",
       "      <td>8.506845</td>\n",
       "      <td>0.913693</td>\n",
       "      <td>9.725917</td>\n",
       "    </tr>\n",
       "    <tr>\n",
       "      <th>2020-07-01</th>\n",
       "      <td>0.670969</td>\n",
       "      <td>9.435524</td>\n",
       "      <td>0.791939</td>\n",
       "      <td>9.617042</td>\n",
       "    </tr>\n",
       "    <tr>\n",
       "      <th>2020-08-01</th>\n",
       "      <td>0.871720</td>\n",
       "      <td>9.636611</td>\n",
       "      <td>0.544225</td>\n",
       "      <td>9.383828</td>\n",
       "    </tr>\n",
       "    <tr>\n",
       "      <th>2020-09-01</th>\n",
       "      <td>-0.052724</td>\n",
       "      <td>8.720575</td>\n",
       "      <td>0.534971</td>\n",
       "      <td>9.383312</td>\n",
       "    </tr>\n",
       "    <tr>\n",
       "      <th>2020-10-01</th>\n",
       "      <td>-0.778232</td>\n",
       "      <td>7.997310</td>\n",
       "      <td>0.370574</td>\n",
       "      <td>9.229937</td>\n",
       "    </tr>\n",
       "    <tr>\n",
       "      <th>2020-11-01</th>\n",
       "      <td>-0.982787</td>\n",
       "      <td>7.794767</td>\n",
       "      <td>0.211632</td>\n",
       "      <td>9.079761</td>\n",
       "    </tr>\n",
       "    <tr>\n",
       "      <th>2020-12-01</th>\n",
       "      <td>-1.214331</td>\n",
       "      <td>7.569436</td>\n",
       "      <td>0.300469</td>\n",
       "      <td>9.178035</td>\n",
       "    </tr>\n",
       "    <tr>\n",
       "      <th>2021-01-01</th>\n",
       "      <td>-0.939077</td>\n",
       "      <td>7.844943</td>\n",
       "      <td>0.648175</td>\n",
       "      <td>9.534577</td>\n",
       "    </tr>\n",
       "    <tr>\n",
       "      <th>2021-02-01</th>\n",
       "      <td>-1.154239</td>\n",
       "      <td>7.632554</td>\n",
       "      <td>0.602742</td>\n",
       "      <td>9.498070</td>\n",
       "    </tr>\n",
       "    <tr>\n",
       "      <th>2021-03-01</th>\n",
       "      <td>-0.018387</td>\n",
       "      <td>8.771740</td>\n",
       "      <td>0.835467</td>\n",
       "      <td>9.739591</td>\n",
       "    </tr>\n",
       "    <tr>\n",
       "      <th>2021-04-01</th>\n",
       "      <td>-0.582846</td>\n",
       "      <td>8.207287</td>\n",
       "      <td>0.953345</td>\n",
       "      <td>9.866244</td>\n",
       "    </tr>\n",
       "    <tr>\n",
       "      <th>2021-05-01</th>\n",
       "      <td>-0.163363</td>\n",
       "      <td>8.630347</td>\n",
       "      <td>0.885814</td>\n",
       "      <td>9.863134</td>\n",
       "    </tr>\n",
       "    <tr>\n",
       "      <th>2021-06-01</th>\n",
       "      <td>-0.550183</td>\n",
       "      <td>8.244813</td>\n",
       "      <td>0.860349</td>\n",
       "      <td>9.850421</td>\n",
       "    </tr>\n",
       "  </tbody>\n",
       "</table>\n",
       "</div>"
      ],
      "text/plain": [
       "            lower Raleigh, NC  upper Raleigh, NC  lower TAPOCO, NC  \\\n",
       "2020-06-01          -0.251282           8.506845          0.913693   \n",
       "2020-07-01           0.670969           9.435524          0.791939   \n",
       "2020-08-01           0.871720           9.636611          0.544225   \n",
       "2020-09-01          -0.052724           8.720575          0.534971   \n",
       "2020-10-01          -0.778232           7.997310          0.370574   \n",
       "2020-11-01          -0.982787           7.794767          0.211632   \n",
       "2020-12-01          -1.214331           7.569436          0.300469   \n",
       "2021-01-01          -0.939077           7.844943          0.648175   \n",
       "2021-02-01          -1.154239           7.632554          0.602742   \n",
       "2021-03-01          -0.018387           8.771740          0.835467   \n",
       "2021-04-01          -0.582846           8.207287          0.953345   \n",
       "2021-05-01          -0.163363           8.630347          0.885814   \n",
       "2021-06-01          -0.550183           8.244813          0.860349   \n",
       "\n",
       "            upper TAPOCO, NC  \n",
       "2020-06-01          9.725917  \n",
       "2020-07-01          9.617042  \n",
       "2020-08-01          9.383828  \n",
       "2020-09-01          9.383312  \n",
       "2020-10-01          9.229937  \n",
       "2020-11-01          9.079761  \n",
       "2020-12-01          9.178035  \n",
       "2021-01-01          9.534577  \n",
       "2021-02-01          9.498070  \n",
       "2021-03-01          9.739591  \n",
       "2021-04-01          9.866244  \n",
       "2021-05-01          9.863134  \n",
       "2021-06-01          9.850421  "
      ]
     },
     "execution_count": 48,
     "metadata": {},
     "output_type": "execute_result"
    }
   ],
   "source": [
    "new_model2 = sarima_model_creation(rd['TAPOCO, NC'], 4,0,3,3,0,4,12)\n",
    "pred2 = new_model1.get_prediction(start='2020-06-01', end='2021-06-01')\n",
    "pred3 = new_model2.get_prediction(start='2020-06-01', end='2021-06-01')\n",
    "pred2_ci = pred2.conf_int()\n",
    "pred3_ci = pred3.conf_int()\n",
    "#pred_df[['upper'+ 'TAPOCO, NC'],['lower','TAPOCO, NC']] = pred3_ci[0]\n",
    "pred2_ci = pd.merge(pred2_ci,pred3_ci, left_index=True, right_index=True)\n",
    "pred2_ci"
   ]
  },
  {
   "cell_type": "code",
   "execution_count": 110,
   "metadata": {
    "scrolled": true
   },
   "outputs": [],
   "source": [
    "with_exogs = ['WHITEVILLE 7 NW, NC', 'CASAR, NC', 'FOREST CITY 8 W, NC', 'GASTONIA, NC', 'LAKE LURE 2, NC', \n",
    "                       'ELIZABETHTOWN, NC', ' MOUNT HOLLY 4 NE, NC','GRANDFATHER MTN, NC']\n",
    "ncrd2 = ncrd.copy()\n",
    "ncrd_less = ncrd2.drop(with_exogs,axis=1)"
   ]
  },
  {
   "cell_type": "code",
   "execution_count": 64,
   "metadata": {},
   "outputs": [
    {
     "data": {
      "text/plain": [
       "104"
      ]
     },
     "execution_count": 64,
     "metadata": {},
     "output_type": "execute_result"
    }
   ],
   "source": [
    "len(ncrd_less.columns)"
   ]
  },
  {
   "cell_type": "code",
   "execution_count": 72,
   "metadata": {},
   "outputs": [],
   "source": [
    "def prediction_fx(data, begin, end):\n",
    "    prediction1_df = pd.DataFrame()\n",
    "    one_step_pred1_df = pd.DataFrame()\n",
    "    for idx, col in enumerate(data.columns):\n",
    "        loc = data[col]\n",
    "        mod_fit1 = sarima_model_creation(loc, 4,0,3,3,0,4,12)\n",
    "        point_predictions = pd.DataFrame(mod_fit1.predict(start=begin, end=end))\n",
    "        future_pred1 = mod_fit1.get_prediction(start=begin, end=end)\n",
    "        future_pred1_ci = future_pred1.conf_int()\n",
    "        point_predictions_df = pd.merge(point_predictions, future_pred1_ci, left_index=True, right_index=True)\n",
    "        if idx is not 0:\n",
    "            prediction1_df = pd.merge(prediction1_df, point_predictions_df, left_index=True, right_index=True)\n",
    "        else:\n",
    "            prediction1_df = prediction1_df.append(point_predictions_df)\n",
    "    return(prediction1_df)"
   ]
  },
  {
   "cell_type": "code",
   "execution_count": 65,
   "metadata": {
    "scrolled": true
   },
   "outputs": [
    {
     "data": {
      "application/vnd.jupyter.widget-view+json": {
       "model_id": "fd42a973fd62486c9bb4178b58d405b2",
       "version_major": 2,
       "version_minor": 0
      },
      "text/plain": [
       "HBox(children=(IntProgress(value=1, bar_style='info', max=1), HTML(value='')))"
      ]
     },
     "metadata": {},
     "output_type": "display_data"
    },
    {
     "name": "stdout",
     "output_type": "stream",
     "text": [
      "            Raleigh, NC  Fayetteville, NC  Albemarle, NC  Arcola, NC  \\\n",
      "2019-05-01       3.3664          3.099435       3.468173    4.087902   \n",
      "\n",
      "            Asheboro, NC  Burlington, NC  Carthage, NC  Chapel Hill, NC  \\\n",
      "2019-05-01      3.503088        4.297819      2.953311         3.713626   \n",
      "\n",
      "            Clayton, NC  Dunn, NC  ...  JEFFERSON 2 E, NC  \\\n",
      "2019-05-01     5.155408  4.249227  ...           4.932211   \n",
      "\n",
      "             MOUNT AIRY 2 W, NC  NORTH WILKESBORO, NC  REIDSVILLE 2 NW, NC  \\\n",
      "2019-05-01             4.837811              4.686574             4.200847   \n",
      "\n",
      "            TRANSOU, NC  W. KERR SCOTT RESV., NC  YADKINVILLE 6 E, NC  \\\n",
      "2019-05-01     6.836631                 4.764029             4.519221   \n",
      "\n",
      "            HAYESVILLE 1 NE, NC  MURPHY 4ESE, NC   KING, NC  \n",
      "2019-05-01              6.08703         6.056021   4.547799  \n",
      "\n",
      "[1 rows x 104 columns]\n"
     ]
    },
    {
     "data": {
      "text/html": [
       "<div>\n",
       "<style scoped>\n",
       "    .dataframe tbody tr th:only-of-type {\n",
       "        vertical-align: middle;\n",
       "    }\n",
       "\n",
       "    .dataframe tbody tr th {\n",
       "        vertical-align: top;\n",
       "    }\n",
       "\n",
       "    .dataframe thead th {\n",
       "        text-align: right;\n",
       "    }\n",
       "</style>\n",
       "<table border=\"1\" class=\"dataframe\">\n",
       "  <thead>\n",
       "    <tr style=\"text-align: right;\">\n",
       "      <th></th>\n",
       "      <th>lower Raleigh, NC</th>\n",
       "      <th>upper Raleigh, NC</th>\n",
       "      <th>lower Fayetteville, NC</th>\n",
       "      <th>upper Fayetteville, NC</th>\n",
       "      <th>lower Albemarle, NC</th>\n",
       "      <th>upper Albemarle, NC</th>\n",
       "      <th>lower Arcola, NC</th>\n",
       "      <th>upper Arcola, NC</th>\n",
       "      <th>lower Asheboro, NC</th>\n",
       "      <th>upper Asheboro, NC</th>\n",
       "      <th>...</th>\n",
       "      <th>lower W. KERR SCOTT RESV., NC</th>\n",
       "      <th>upper W. KERR SCOTT RESV., NC</th>\n",
       "      <th>lower YADKINVILLE 6 E, NC</th>\n",
       "      <th>upper YADKINVILLE 6 E, NC</th>\n",
       "      <th>lower HAYESVILLE 1 NE, NC</th>\n",
       "      <th>upper HAYESVILLE 1 NE, NC</th>\n",
       "      <th>lower MURPHY 4ESE, NC</th>\n",
       "      <th>upper MURPHY 4ESE, NC</th>\n",
       "      <th>lower  KING, NC</th>\n",
       "      <th>upper  KING, NC</th>\n",
       "    </tr>\n",
       "  </thead>\n",
       "  <tbody>\n",
       "    <tr>\n",
       "      <th>2019-06-01</th>\n",
       "      <td>-0.004114</td>\n",
       "      <td>8.626520</td>\n",
       "      <td>-0.012104</td>\n",
       "      <td>9.297327</td>\n",
       "      <td>0.306195</td>\n",
       "      <td>9.139067</td>\n",
       "      <td>-0.178581</td>\n",
       "      <td>9.001982</td>\n",
       "      <td>-0.504364</td>\n",
       "      <td>8.306271</td>\n",
       "      <td>...</td>\n",
       "      <td>0.500192</td>\n",
       "      <td>9.450273</td>\n",
       "      <td>0.270625</td>\n",
       "      <td>8.011189</td>\n",
       "      <td>1.696870</td>\n",
       "      <td>9.732161</td>\n",
       "      <td>1.931865</td>\n",
       "      <td>10.420410</td>\n",
       "      <td>-0.348204</td>\n",
       "      <td>7.328047</td>\n",
       "    </tr>\n",
       "    <tr>\n",
       "      <th>2019-07-01</th>\n",
       "      <td>1.995099</td>\n",
       "      <td>10.634899</td>\n",
       "      <td>0.065915</td>\n",
       "      <td>9.376691</td>\n",
       "      <td>0.731770</td>\n",
       "      <td>9.626414</td>\n",
       "      <td>-0.545996</td>\n",
       "      <td>8.653015</td>\n",
       "      <td>0.784409</td>\n",
       "      <td>9.628806</td>\n",
       "      <td>...</td>\n",
       "      <td>0.300851</td>\n",
       "      <td>9.252151</td>\n",
       "      <td>1.010835</td>\n",
       "      <td>8.758913</td>\n",
       "      <td>2.033271</td>\n",
       "      <td>10.143700</td>\n",
       "      <td>1.746337</td>\n",
       "      <td>10.262593</td>\n",
       "      <td>0.208583</td>\n",
       "      <td>7.900919</td>\n",
       "    </tr>\n",
       "    <tr>\n",
       "      <th>2019-08-01</th>\n",
       "      <td>-0.191174</td>\n",
       "      <td>8.482544</td>\n",
       "      <td>0.522620</td>\n",
       "      <td>9.838840</td>\n",
       "      <td>0.044665</td>\n",
       "      <td>8.979854</td>\n",
       "      <td>-0.684326</td>\n",
       "      <td>8.514667</td>\n",
       "      <td>-0.928622</td>\n",
       "      <td>7.920682</td>\n",
       "      <td>...</td>\n",
       "      <td>0.410740</td>\n",
       "      <td>9.362254</td>\n",
       "      <td>0.969339</td>\n",
       "      <td>8.727245</td>\n",
       "      <td>1.018564</td>\n",
       "      <td>9.225303</td>\n",
       "      <td>0.566264</td>\n",
       "      <td>9.135823</td>\n",
       "      <td>0.454483</td>\n",
       "      <td>8.155193</td>\n",
       "    </tr>\n",
       "    <tr>\n",
       "      <th>2019-09-01</th>\n",
       "      <td>0.538479</td>\n",
       "      <td>9.212324</td>\n",
       "      <td>-0.045745</td>\n",
       "      <td>9.280859</td>\n",
       "      <td>-0.974847</td>\n",
       "      <td>7.961666</td>\n",
       "      <td>-0.034247</td>\n",
       "      <td>9.164743</td>\n",
       "      <td>0.066303</td>\n",
       "      <td>8.915642</td>\n",
       "      <td>...</td>\n",
       "      <td>0.840538</td>\n",
       "      <td>9.796385</td>\n",
       "      <td>0.236135</td>\n",
       "      <td>8.001192</td>\n",
       "      <td>0.961616</td>\n",
       "      <td>9.184278</td>\n",
       "      <td>0.405384</td>\n",
       "      <td>9.038031</td>\n",
       "      <td>0.581206</td>\n",
       "      <td>8.284420</td>\n",
       "    </tr>\n",
       "    <tr>\n",
       "      <th>2019-10-01</th>\n",
       "      <td>0.275670</td>\n",
       "      <td>8.965745</td>\n",
       "      <td>-1.202405</td>\n",
       "      <td>8.125620</td>\n",
       "      <td>-0.816096</td>\n",
       "      <td>8.124497</td>\n",
       "      <td>-0.363997</td>\n",
       "      <td>8.836460</td>\n",
       "      <td>-0.350810</td>\n",
       "      <td>8.517768</td>\n",
       "      <td>...</td>\n",
       "      <td>0.700389</td>\n",
       "      <td>9.657202</td>\n",
       "      <td>-0.327983</td>\n",
       "      <td>7.437745</td>\n",
       "      <td>0.139229</td>\n",
       "      <td>8.380348</td>\n",
       "      <td>-0.436586</td>\n",
       "      <td>8.223269</td>\n",
       "      <td>0.366808</td>\n",
       "      <td>8.071606</td>\n",
       "    </tr>\n",
       "    <tr>\n",
       "      <th>2019-11-01</th>\n",
       "      <td>-1.515818</td>\n",
       "      <td>7.188782</td>\n",
       "      <td>-1.830448</td>\n",
       "      <td>7.499798</td>\n",
       "      <td>-0.899592</td>\n",
       "      <td>8.042397</td>\n",
       "      <td>-0.473276</td>\n",
       "      <td>8.727931</td>\n",
       "      <td>-0.955412</td>\n",
       "      <td>7.915909</td>\n",
       "      <td>...</td>\n",
       "      <td>0.498071</td>\n",
       "      <td>9.455014</td>\n",
       "      <td>-0.649488</td>\n",
       "      <td>7.123658</td>\n",
       "      <td>1.006606</td>\n",
       "      <td>9.249372</td>\n",
       "      <td>0.115217</td>\n",
       "      <td>8.788236</td>\n",
       "      <td>0.416606</td>\n",
       "      <td>8.121630</td>\n",
       "    </tr>\n",
       "    <tr>\n",
       "      <th>2019-12-01</th>\n",
       "      <td>-1.325686</td>\n",
       "      <td>7.382033</td>\n",
       "      <td>-1.610475</td>\n",
       "      <td>7.720929</td>\n",
       "      <td>-0.531752</td>\n",
       "      <td>8.410329</td>\n",
       "      <td>-0.497145</td>\n",
       "      <td>8.704579</td>\n",
       "      <td>-0.944056</td>\n",
       "      <td>7.929537</td>\n",
       "      <td>...</td>\n",
       "      <td>0.836760</td>\n",
       "      <td>9.797460</td>\n",
       "      <td>0.020429</td>\n",
       "      <td>7.793604</td>\n",
       "      <td>1.722682</td>\n",
       "      <td>9.968097</td>\n",
       "      <td>0.952758</td>\n",
       "      <td>9.628444</td>\n",
       "      <td>0.663487</td>\n",
       "      <td>8.368785</td>\n",
       "    </tr>\n",
       "    <tr>\n",
       "      <th>2020-01-01</th>\n",
       "      <td>-0.365717</td>\n",
       "      <td>8.358265</td>\n",
       "      <td>-1.772823</td>\n",
       "      <td>7.559157</td>\n",
       "      <td>-1.471286</td>\n",
       "      <td>7.471375</td>\n",
       "      <td>-0.734122</td>\n",
       "      <td>8.467893</td>\n",
       "      <td>-0.722442</td>\n",
       "      <td>8.163052</td>\n",
       "      <td>...</td>\n",
       "      <td>0.316653</td>\n",
       "      <td>9.278740</td>\n",
       "      <td>-0.341158</td>\n",
       "      <td>7.435730</td>\n",
       "      <td>1.347452</td>\n",
       "      <td>9.592935</td>\n",
       "      <td>0.652386</td>\n",
       "      <td>9.329392</td>\n",
       "      <td>0.275711</td>\n",
       "      <td>7.980985</td>\n",
       "    </tr>\n",
       "    <tr>\n",
       "      <th>2020-02-01</th>\n",
       "      <td>-1.540801</td>\n",
       "      <td>7.186353</td>\n",
       "      <td>-1.901456</td>\n",
       "      <td>7.430935</td>\n",
       "      <td>-1.263183</td>\n",
       "      <td>7.678979</td>\n",
       "      <td>-0.769094</td>\n",
       "      <td>8.433354</td>\n",
       "      <td>-1.162874</td>\n",
       "      <td>7.722934</td>\n",
       "      <td>...</td>\n",
       "      <td>0.233612</td>\n",
       "      <td>9.195809</td>\n",
       "      <td>-0.828491</td>\n",
       "      <td>6.948020</td>\n",
       "      <td>1.499970</td>\n",
       "      <td>9.745691</td>\n",
       "      <td>1.104871</td>\n",
       "      <td>9.781685</td>\n",
       "      <td>0.167650</td>\n",
       "      <td>7.872956</td>\n",
       "    </tr>\n",
       "    <tr>\n",
       "      <th>2020-03-01</th>\n",
       "      <td>-0.619284</td>\n",
       "      <td>8.114632</td>\n",
       "      <td>-1.438091</td>\n",
       "      <td>7.894476</td>\n",
       "      <td>-0.279225</td>\n",
       "      <td>8.662980</td>\n",
       "      <td>-0.784691</td>\n",
       "      <td>8.418835</td>\n",
       "      <td>-1.062280</td>\n",
       "      <td>7.828564</td>\n",
       "      <td>...</td>\n",
       "      <td>0.143123</td>\n",
       "      <td>9.108491</td>\n",
       "      <td>-0.279739</td>\n",
       "      <td>7.496804</td>\n",
       "      <td>1.718835</td>\n",
       "      <td>9.964274</td>\n",
       "      <td>0.722183</td>\n",
       "      <td>9.398986</td>\n",
       "      <td>-0.217540</td>\n",
       "      <td>7.487770</td>\n",
       "    </tr>\n",
       "    <tr>\n",
       "      <th>2020-04-01</th>\n",
       "      <td>0.500946</td>\n",
       "      <td>9.246397</td>\n",
       "      <td>-1.597454</td>\n",
       "      <td>7.734961</td>\n",
       "      <td>-1.517029</td>\n",
       "      <td>7.424934</td>\n",
       "      <td>-0.169299</td>\n",
       "      <td>9.034183</td>\n",
       "      <td>-0.488126</td>\n",
       "      <td>8.408909</td>\n",
       "      <td>...</td>\n",
       "      <td>0.334753</td>\n",
       "      <td>9.301927</td>\n",
       "      <td>0.128971</td>\n",
       "      <td>7.906712</td>\n",
       "      <td>1.060357</td>\n",
       "      <td>9.305828</td>\n",
       "      <td>0.230497</td>\n",
       "      <td>8.907173</td>\n",
       "      <td>0.234289</td>\n",
       "      <td>7.939589</td>\n",
       "    </tr>\n",
       "    <tr>\n",
       "      <th>2020-05-01</th>\n",
       "      <td>-0.204689</td>\n",
       "      <td>8.544901</td>\n",
       "      <td>-1.465009</td>\n",
       "      <td>7.869644</td>\n",
       "      <td>-0.899279</td>\n",
       "      <td>8.046938</td>\n",
       "      <td>-0.498574</td>\n",
       "      <td>8.758187</td>\n",
       "      <td>-0.054784</td>\n",
       "      <td>8.844625</td>\n",
       "      <td>...</td>\n",
       "      <td>0.463723</td>\n",
       "      <td>9.435124</td>\n",
       "      <td>0.616142</td>\n",
       "      <td>8.409781</td>\n",
       "      <td>1.014223</td>\n",
       "      <td>9.281012</td>\n",
       "      <td>0.716516</td>\n",
       "      <td>9.397531</td>\n",
       "      <td>0.134542</td>\n",
       "      <td>7.867514</td>\n",
       "    </tr>\n",
       "    <tr>\n",
       "      <th>2020-06-01</th>\n",
       "      <td>-0.251282</td>\n",
       "      <td>8.506845</td>\n",
       "      <td>-0.325504</td>\n",
       "      <td>9.009360</td>\n",
       "      <td>-0.142151</td>\n",
       "      <td>8.804212</td>\n",
       "      <td>-0.198759</td>\n",
       "      <td>9.063906</td>\n",
       "      <td>-0.520621</td>\n",
       "      <td>8.383931</td>\n",
       "      <td>...</td>\n",
       "      <td>0.218958</td>\n",
       "      <td>9.193582</td>\n",
       "      <td>0.165303</td>\n",
       "      <td>7.963077</td>\n",
       "      <td>1.215676</td>\n",
       "      <td>9.482988</td>\n",
       "      <td>0.783389</td>\n",
       "      <td>9.464253</td>\n",
       "      <td>0.095480</td>\n",
       "      <td>7.828743</td>\n",
       "    </tr>\n",
       "  </tbody>\n",
       "</table>\n",
       "<p>13 rows × 208 columns</p>\n",
       "</div>"
      ],
      "text/plain": [
       "            lower Raleigh, NC  upper Raleigh, NC  lower Fayetteville, NC  \\\n",
       "2019-06-01          -0.004114           8.626520               -0.012104   \n",
       "2019-07-01           1.995099          10.634899                0.065915   \n",
       "2019-08-01          -0.191174           8.482544                0.522620   \n",
       "2019-09-01           0.538479           9.212324               -0.045745   \n",
       "2019-10-01           0.275670           8.965745               -1.202405   \n",
       "2019-11-01          -1.515818           7.188782               -1.830448   \n",
       "2019-12-01          -1.325686           7.382033               -1.610475   \n",
       "2020-01-01          -0.365717           8.358265               -1.772823   \n",
       "2020-02-01          -1.540801           7.186353               -1.901456   \n",
       "2020-03-01          -0.619284           8.114632               -1.438091   \n",
       "2020-04-01           0.500946           9.246397               -1.597454   \n",
       "2020-05-01          -0.204689           8.544901               -1.465009   \n",
       "2020-06-01          -0.251282           8.506845               -0.325504   \n",
       "\n",
       "            upper Fayetteville, NC  lower Albemarle, NC  upper Albemarle, NC  \\\n",
       "2019-06-01                9.297327             0.306195             9.139067   \n",
       "2019-07-01                9.376691             0.731770             9.626414   \n",
       "2019-08-01                9.838840             0.044665             8.979854   \n",
       "2019-09-01                9.280859            -0.974847             7.961666   \n",
       "2019-10-01                8.125620            -0.816096             8.124497   \n",
       "2019-11-01                7.499798            -0.899592             8.042397   \n",
       "2019-12-01                7.720929            -0.531752             8.410329   \n",
       "2020-01-01                7.559157            -1.471286             7.471375   \n",
       "2020-02-01                7.430935            -1.263183             7.678979   \n",
       "2020-03-01                7.894476            -0.279225             8.662980   \n",
       "2020-04-01                7.734961            -1.517029             7.424934   \n",
       "2020-05-01                7.869644            -0.899279             8.046938   \n",
       "2020-06-01                9.009360            -0.142151             8.804212   \n",
       "\n",
       "            lower Arcola, NC  upper Arcola, NC  lower Asheboro, NC  \\\n",
       "2019-06-01         -0.178581          9.001982           -0.504364   \n",
       "2019-07-01         -0.545996          8.653015            0.784409   \n",
       "2019-08-01         -0.684326          8.514667           -0.928622   \n",
       "2019-09-01         -0.034247          9.164743            0.066303   \n",
       "2019-10-01         -0.363997          8.836460           -0.350810   \n",
       "2019-11-01         -0.473276          8.727931           -0.955412   \n",
       "2019-12-01         -0.497145          8.704579           -0.944056   \n",
       "2020-01-01         -0.734122          8.467893           -0.722442   \n",
       "2020-02-01         -0.769094          8.433354           -1.162874   \n",
       "2020-03-01         -0.784691          8.418835           -1.062280   \n",
       "2020-04-01         -0.169299          9.034183           -0.488126   \n",
       "2020-05-01         -0.498574          8.758187           -0.054784   \n",
       "2020-06-01         -0.198759          9.063906           -0.520621   \n",
       "\n",
       "            upper Asheboro, NC  ...  lower W. KERR SCOTT RESV., NC  \\\n",
       "2019-06-01            8.306271  ...                       0.500192   \n",
       "2019-07-01            9.628806  ...                       0.300851   \n",
       "2019-08-01            7.920682  ...                       0.410740   \n",
       "2019-09-01            8.915642  ...                       0.840538   \n",
       "2019-10-01            8.517768  ...                       0.700389   \n",
       "2019-11-01            7.915909  ...                       0.498071   \n",
       "2019-12-01            7.929537  ...                       0.836760   \n",
       "2020-01-01            8.163052  ...                       0.316653   \n",
       "2020-02-01            7.722934  ...                       0.233612   \n",
       "2020-03-01            7.828564  ...                       0.143123   \n",
       "2020-04-01            8.408909  ...                       0.334753   \n",
       "2020-05-01            8.844625  ...                       0.463723   \n",
       "2020-06-01            8.383931  ...                       0.218958   \n",
       "\n",
       "            upper W. KERR SCOTT RESV., NC  lower YADKINVILLE 6 E, NC  \\\n",
       "2019-06-01                       9.450273                   0.270625   \n",
       "2019-07-01                       9.252151                   1.010835   \n",
       "2019-08-01                       9.362254                   0.969339   \n",
       "2019-09-01                       9.796385                   0.236135   \n",
       "2019-10-01                       9.657202                  -0.327983   \n",
       "2019-11-01                       9.455014                  -0.649488   \n",
       "2019-12-01                       9.797460                   0.020429   \n",
       "2020-01-01                       9.278740                  -0.341158   \n",
       "2020-02-01                       9.195809                  -0.828491   \n",
       "2020-03-01                       9.108491                  -0.279739   \n",
       "2020-04-01                       9.301927                   0.128971   \n",
       "2020-05-01                       9.435124                   0.616142   \n",
       "2020-06-01                       9.193582                   0.165303   \n",
       "\n",
       "            upper YADKINVILLE 6 E, NC  lower HAYESVILLE 1 NE, NC  \\\n",
       "2019-06-01                   8.011189                   1.696870   \n",
       "2019-07-01                   8.758913                   2.033271   \n",
       "2019-08-01                   8.727245                   1.018564   \n",
       "2019-09-01                   8.001192                   0.961616   \n",
       "2019-10-01                   7.437745                   0.139229   \n",
       "2019-11-01                   7.123658                   1.006606   \n",
       "2019-12-01                   7.793604                   1.722682   \n",
       "2020-01-01                   7.435730                   1.347452   \n",
       "2020-02-01                   6.948020                   1.499970   \n",
       "2020-03-01                   7.496804                   1.718835   \n",
       "2020-04-01                   7.906712                   1.060357   \n",
       "2020-05-01                   8.409781                   1.014223   \n",
       "2020-06-01                   7.963077                   1.215676   \n",
       "\n",
       "            upper HAYESVILLE 1 NE, NC  lower MURPHY 4ESE, NC  \\\n",
       "2019-06-01                   9.732161               1.931865   \n",
       "2019-07-01                  10.143700               1.746337   \n",
       "2019-08-01                   9.225303               0.566264   \n",
       "2019-09-01                   9.184278               0.405384   \n",
       "2019-10-01                   8.380348              -0.436586   \n",
       "2019-11-01                   9.249372               0.115217   \n",
       "2019-12-01                   9.968097               0.952758   \n",
       "2020-01-01                   9.592935               0.652386   \n",
       "2020-02-01                   9.745691               1.104871   \n",
       "2020-03-01                   9.964274               0.722183   \n",
       "2020-04-01                   9.305828               0.230497   \n",
       "2020-05-01                   9.281012               0.716516   \n",
       "2020-06-01                   9.482988               0.783389   \n",
       "\n",
       "            upper MURPHY 4ESE, NC  lower  KING, NC  upper  KING, NC  \n",
       "2019-06-01              10.420410        -0.348204         7.328047  \n",
       "2019-07-01              10.262593         0.208583         7.900919  \n",
       "2019-08-01               9.135823         0.454483         8.155193  \n",
       "2019-09-01               9.038031         0.581206         8.284420  \n",
       "2019-10-01               8.223269         0.366808         8.071606  \n",
       "2019-11-01               8.788236         0.416606         8.121630  \n",
       "2019-12-01               9.628444         0.663487         8.368785  \n",
       "2020-01-01               9.329392         0.275711         7.980985  \n",
       "2020-02-01               9.781685         0.167650         7.872956  \n",
       "2020-03-01               9.398986        -0.217540         7.487770  \n",
       "2020-04-01               8.907173         0.234289         7.939589  \n",
       "2020-05-01               9.397531         0.134542         7.867514  \n",
       "2020-06-01               9.464253         0.095480         7.828743  \n",
       "\n",
       "[13 rows x 208 columns]"
      ]
     },
     "execution_count": 65,
     "metadata": {},
     "output_type": "execute_result"
    }
   ],
   "source": [
    "pre_df = prediction_fx(ncrd_less, '2019-05-01', '2069-05-01')\n",
    "pre_df.head()"
   ]
  },
  {
   "cell_type": "code",
   "execution_count": 66,
   "metadata": {},
   "outputs": [
    {
     "data": {
      "application/vnd.jupyter.widget-view+json": {
       "model_id": "39aea10b21b64d709665dc4c4825deb2",
       "version_major": 2,
       "version_minor": 0
      },
      "text/plain": [
       "HBox(children=(IntProgress(value=1, bar_style='info', max=1), HTML(value='')))"
      ]
     },
     "metadata": {},
     "output_type": "display_data"
    },
    {
     "data": {
      "text/html": [
       "<div>\n",
       "<style scoped>\n",
       "    .dataframe tbody tr th:only-of-type {\n",
       "        vertical-align: middle;\n",
       "    }\n",
       "\n",
       "    .dataframe tbody tr th {\n",
       "        vertical-align: top;\n",
       "    }\n",
       "\n",
       "    .dataframe thead th {\n",
       "        text-align: right;\n",
       "    }\n",
       "</style>\n",
       "<table border=\"1\" class=\"dataframe\">\n",
       "  <thead>\n",
       "    <tr style=\"text-align: right;\">\n",
       "      <th></th>\n",
       "      <th>lower Raleigh, NC</th>\n",
       "      <th>upper Raleigh, NC</th>\n",
       "      <th>lower Fayetteville, NC</th>\n",
       "      <th>upper Fayetteville, NC</th>\n",
       "      <th>lower Albemarle, NC</th>\n",
       "      <th>upper Albemarle, NC</th>\n",
       "      <th>lower Arcola, NC</th>\n",
       "      <th>upper Arcola, NC</th>\n",
       "      <th>lower Asheboro, NC</th>\n",
       "      <th>upper Asheboro, NC</th>\n",
       "      <th>...</th>\n",
       "      <th>lower W. KERR SCOTT RESV., NC</th>\n",
       "      <th>upper W. KERR SCOTT RESV., NC</th>\n",
       "      <th>lower YADKINVILLE 6 E, NC</th>\n",
       "      <th>upper YADKINVILLE 6 E, NC</th>\n",
       "      <th>lower HAYESVILLE 1 NE, NC</th>\n",
       "      <th>upper HAYESVILLE 1 NE, NC</th>\n",
       "      <th>lower MURPHY 4ESE, NC</th>\n",
       "      <th>upper MURPHY 4ESE, NC</th>\n",
       "      <th>lower  KING, NC</th>\n",
       "      <th>upper  KING, NC</th>\n",
       "    </tr>\n",
       "  </thead>\n",
       "  <tbody>\n",
       "    <tr>\n",
       "      <th>2020-07-01</th>\n",
       "      <td>0.670969</td>\n",
       "      <td>9.435524</td>\n",
       "      <td>0.192565</td>\n",
       "      <td>9.527415</td>\n",
       "      <td>0.610259</td>\n",
       "      <td>9.556711</td>\n",
       "      <td>-0.371057</td>\n",
       "      <td>8.891575</td>\n",
       "      <td>-0.465321</td>\n",
       "      <td>8.441845</td>\n",
       "      <td>...</td>\n",
       "      <td>0.489473</td>\n",
       "      <td>9.466364</td>\n",
       "      <td>0.552304</td>\n",
       "      <td>8.350530</td>\n",
       "      <td>1.571594</td>\n",
       "      <td>9.838697</td>\n",
       "      <td>1.293592</td>\n",
       "      <td>9.973861</td>\n",
       "      <td>0.133756</td>\n",
       "      <td>7.866995</td>\n",
       "    </tr>\n",
       "    <tr>\n",
       "      <th>2020-08-01</th>\n",
       "      <td>0.871720</td>\n",
       "      <td>9.636611</td>\n",
       "      <td>0.467233</td>\n",
       "      <td>9.802085</td>\n",
       "      <td>-0.278216</td>\n",
       "      <td>8.668085</td>\n",
       "      <td>-0.492041</td>\n",
       "      <td>8.770584</td>\n",
       "      <td>-0.490761</td>\n",
       "      <td>8.417526</td>\n",
       "      <td>...</td>\n",
       "      <td>0.394381</td>\n",
       "      <td>9.371428</td>\n",
       "      <td>0.710478</td>\n",
       "      <td>8.509929</td>\n",
       "      <td>0.855963</td>\n",
       "      <td>9.123688</td>\n",
       "      <td>0.957393</td>\n",
       "      <td>9.637697</td>\n",
       "      <td>-0.049704</td>\n",
       "      <td>7.683603</td>\n",
       "    </tr>\n",
       "    <tr>\n",
       "      <th>2020-09-01</th>\n",
       "      <td>-0.052724</td>\n",
       "      <td>8.720575</td>\n",
       "      <td>-0.202586</td>\n",
       "      <td>9.132296</td>\n",
       "      <td>-0.328980</td>\n",
       "      <td>8.617230</td>\n",
       "      <td>-0.113186</td>\n",
       "      <td>9.149957</td>\n",
       "      <td>0.302270</td>\n",
       "      <td>9.215080</td>\n",
       "      <td>...</td>\n",
       "      <td>0.324734</td>\n",
       "      <td>9.304054</td>\n",
       "      <td>0.128112</td>\n",
       "      <td>7.927566</td>\n",
       "      <td>0.938361</td>\n",
       "      <td>9.206049</td>\n",
       "      <td>0.314288</td>\n",
       "      <td>8.994569</td>\n",
       "      <td>-0.181033</td>\n",
       "      <td>7.552261</td>\n",
       "    </tr>\n",
       "    <tr>\n",
       "      <th>2020-10-01</th>\n",
       "      <td>-0.778232</td>\n",
       "      <td>7.997310</td>\n",
       "      <td>-1.406804</td>\n",
       "      <td>7.928082</td>\n",
       "      <td>-2.193792</td>\n",
       "      <td>6.752422</td>\n",
       "      <td>-0.065320</td>\n",
       "      <td>9.197850</td>\n",
       "      <td>-1.233541</td>\n",
       "      <td>7.679749</td>\n",
       "      <td>...</td>\n",
       "      <td>0.306447</td>\n",
       "      <td>9.288335</td>\n",
       "      <td>-0.544713</td>\n",
       "      <td>7.254731</td>\n",
       "      <td>0.373805</td>\n",
       "      <td>8.641618</td>\n",
       "      <td>-0.736728</td>\n",
       "      <td>7.943565</td>\n",
       "      <td>-0.293157</td>\n",
       "      <td>7.440144</td>\n",
       "    </tr>\n",
       "    <tr>\n",
       "      <th>2020-11-01</th>\n",
       "      <td>-0.982787</td>\n",
       "      <td>7.794767</td>\n",
       "      <td>-1.966309</td>\n",
       "      <td>7.368583</td>\n",
       "      <td>-1.930717</td>\n",
       "      <td>7.015469</td>\n",
       "      <td>-0.847857</td>\n",
       "      <td>8.415487</td>\n",
       "      <td>-0.880312</td>\n",
       "      <td>8.035099</td>\n",
       "      <td>...</td>\n",
       "      <td>0.097302</td>\n",
       "      <td>9.079405</td>\n",
       "      <td>-0.892698</td>\n",
       "      <td>6.907973</td>\n",
       "      <td>1.180722</td>\n",
       "      <td>9.448522</td>\n",
       "      <td>1.123648</td>\n",
       "      <td>9.803935</td>\n",
       "      <td>-0.367039</td>\n",
       "      <td>7.366273</td>\n",
       "    </tr>\n",
       "    <tr>\n",
       "      <th>2020-12-01</th>\n",
       "      <td>-1.214331</td>\n",
       "      <td>7.569436</td>\n",
       "      <td>-1.712054</td>\n",
       "      <td>7.622842</td>\n",
       "      <td>-1.891985</td>\n",
       "      <td>7.054164</td>\n",
       "      <td>-0.805516</td>\n",
       "      <td>8.457975</td>\n",
       "      <td>-1.034422</td>\n",
       "      <td>7.883755</td>\n",
       "      <td>...</td>\n",
       "      <td>0.342468</td>\n",
       "      <td>9.326395</td>\n",
       "      <td>-0.296213</td>\n",
       "      <td>7.505504</td>\n",
       "      <td>1.977777</td>\n",
       "      <td>10.245595</td>\n",
       "      <td>2.192002</td>\n",
       "      <td>10.872280</td>\n",
       "      <td>-0.286830</td>\n",
       "      <td>7.446474</td>\n",
       "    </tr>\n",
       "    <tr>\n",
       "      <th>2021-01-01</th>\n",
       "      <td>-0.939077</td>\n",
       "      <td>7.844943</td>\n",
       "      <td>-1.725463</td>\n",
       "      <td>7.609434</td>\n",
       "      <td>-0.744751</td>\n",
       "      <td>8.201391</td>\n",
       "      <td>-0.631253</td>\n",
       "      <td>8.632226</td>\n",
       "      <td>-1.160133</td>\n",
       "      <td>7.758048</td>\n",
       "      <td>...</td>\n",
       "      <td>0.412278</td>\n",
       "      <td>9.399008</td>\n",
       "      <td>-0.590684</td>\n",
       "      <td>7.212674</td>\n",
       "      <td>1.409783</td>\n",
       "      <td>9.677598</td>\n",
       "      <td>0.998965</td>\n",
       "      <td>9.679235</td>\n",
       "      <td>-0.041375</td>\n",
       "      <td>7.691951</td>\n",
       "    </tr>\n",
       "    <tr>\n",
       "      <th>2021-02-01</th>\n",
       "      <td>-1.154239</td>\n",
       "      <td>7.632554</td>\n",
       "      <td>-1.979531</td>\n",
       "      <td>7.355358</td>\n",
       "      <td>-1.634477</td>\n",
       "      <td>7.311132</td>\n",
       "      <td>-1.099394</td>\n",
       "      <td>8.164443</td>\n",
       "      <td>-1.204407</td>\n",
       "      <td>7.716159</td>\n",
       "      <td>...</td>\n",
       "      <td>0.093409</td>\n",
       "      <td>9.080446</td>\n",
       "      <td>-0.826369</td>\n",
       "      <td>6.977284</td>\n",
       "      <td>1.588700</td>\n",
       "      <td>9.856402</td>\n",
       "      <td>1.478628</td>\n",
       "      <td>10.158584</td>\n",
       "      <td>-0.259062</td>\n",
       "      <td>7.474252</td>\n",
       "    </tr>\n",
       "    <tr>\n",
       "      <th>2021-03-01</th>\n",
       "      <td>-0.018387</td>\n",
       "      <td>8.771740</td>\n",
       "      <td>-1.419184</td>\n",
       "      <td>7.915657</td>\n",
       "      <td>-0.424991</td>\n",
       "      <td>8.520595</td>\n",
       "      <td>-0.832476</td>\n",
       "      <td>8.431335</td>\n",
       "      <td>-0.536403</td>\n",
       "      <td>8.385311</td>\n",
       "      <td>...</td>\n",
       "      <td>0.253159</td>\n",
       "      <td>9.241653</td>\n",
       "      <td>-0.264914</td>\n",
       "      <td>7.538793</td>\n",
       "      <td>1.483123</td>\n",
       "      <td>9.750512</td>\n",
       "      <td>0.666117</td>\n",
       "      <td>9.345897</td>\n",
       "      <td>0.088634</td>\n",
       "      <td>7.821972</td>\n",
       "    </tr>\n",
       "    <tr>\n",
       "      <th>2021-04-01</th>\n",
       "      <td>-0.582846</td>\n",
       "      <td>8.207287</td>\n",
       "      <td>-1.672177</td>\n",
       "      <td>7.662386</td>\n",
       "      <td>-1.270338</td>\n",
       "      <td>7.674950</td>\n",
       "      <td>-0.113607</td>\n",
       "      <td>9.150151</td>\n",
       "      <td>-0.693151</td>\n",
       "      <td>8.228903</td>\n",
       "      <td>...</td>\n",
       "      <td>0.691826</td>\n",
       "      <td>9.683254</td>\n",
       "      <td>0.088766</td>\n",
       "      <td>7.892505</td>\n",
       "      <td>0.867866</td>\n",
       "      <td>9.135238</td>\n",
       "      <td>0.263887</td>\n",
       "      <td>8.943536</td>\n",
       "      <td>0.572620</td>\n",
       "      <td>8.305947</td>\n",
       "    </tr>\n",
       "    <tr>\n",
       "      <th>2021-05-01</th>\n",
       "      <td>-0.163363</td>\n",
       "      <td>8.630347</td>\n",
       "      <td>-1.533367</td>\n",
       "      <td>7.801558</td>\n",
       "      <td>-1.143941</td>\n",
       "      <td>7.800316</td>\n",
       "      <td>-0.676317</td>\n",
       "      <td>8.593904</td>\n",
       "      <td>-0.091853</td>\n",
       "      <td>8.837716</td>\n",
       "      <td>...</td>\n",
       "      <td>0.512712</td>\n",
       "      <td>9.509555</td>\n",
       "      <td>0.486867</td>\n",
       "      <td>8.292209</td>\n",
       "      <td>0.870292</td>\n",
       "      <td>9.146299</td>\n",
       "      <td>0.580551</td>\n",
       "      <td>9.316395</td>\n",
       "      <td>0.540586</td>\n",
       "      <td>8.284287</td>\n",
       "    </tr>\n",
       "    <tr>\n",
       "      <th>2021-06-01</th>\n",
       "      <td>-0.550183</td>\n",
       "      <td>8.244813</td>\n",
       "      <td>-0.274429</td>\n",
       "      <td>9.060508</td>\n",
       "      <td>-0.429005</td>\n",
       "      <td>8.515215</td>\n",
       "      <td>-0.146562</td>\n",
       "      <td>9.123725</td>\n",
       "      <td>-0.191784</td>\n",
       "      <td>8.737919</td>\n",
       "      <td>...</td>\n",
       "      <td>0.257174</td>\n",
       "      <td>9.255593</td>\n",
       "      <td>0.063354</td>\n",
       "      <td>7.870219</td>\n",
       "      <td>1.187147</td>\n",
       "      <td>9.463266</td>\n",
       "      <td>0.780573</td>\n",
       "      <td>9.516929</td>\n",
       "      <td>0.095596</td>\n",
       "      <td>7.839310</td>\n",
       "    </tr>\n",
       "    <tr>\n",
       "      <th>2021-07-01</th>\n",
       "      <td>0.732725</td>\n",
       "      <td>9.528487</td>\n",
       "      <td>0.220528</td>\n",
       "      <td>9.555435</td>\n",
       "      <td>-0.007248</td>\n",
       "      <td>8.936969</td>\n",
       "      <td>-0.671410</td>\n",
       "      <td>8.598948</td>\n",
       "      <td>-0.759985</td>\n",
       "      <td>8.170330</td>\n",
       "      <td>...</td>\n",
       "      <td>0.341108</td>\n",
       "      <td>9.342589</td>\n",
       "      <td>0.610062</td>\n",
       "      <td>8.417891</td>\n",
       "      <td>1.497804</td>\n",
       "      <td>9.773480</td>\n",
       "      <td>0.986184</td>\n",
       "      <td>9.722157</td>\n",
       "      <td>-0.092870</td>\n",
       "      <td>7.651014</td>\n",
       "    </tr>\n",
       "    <tr>\n",
       "      <th>2021-08-01</th>\n",
       "      <td>1.075353</td>\n",
       "      <td>9.873969</td>\n",
       "      <td>0.518632</td>\n",
       "      <td>9.853505</td>\n",
       "      <td>-0.275725</td>\n",
       "      <td>8.668333</td>\n",
       "      <td>-0.367713</td>\n",
       "      <td>8.902845</td>\n",
       "      <td>-0.379180</td>\n",
       "      <td>8.552308</td>\n",
       "      <td>...</td>\n",
       "      <td>0.420569</td>\n",
       "      <td>9.422663</td>\n",
       "      <td>0.874988</td>\n",
       "      <td>8.683932</td>\n",
       "      <td>0.948009</td>\n",
       "      <td>9.223926</td>\n",
       "      <td>0.251341</td>\n",
       "      <td>8.988017</td>\n",
       "      <td>0.196284</td>\n",
       "      <td>7.940142</td>\n",
       "    </tr>\n",
       "    <tr>\n",
       "      <th>2021-09-01</th>\n",
       "      <td>1.333985</td>\n",
       "      <td>10.132806</td>\n",
       "      <td>0.183714</td>\n",
       "      <td>9.518582</td>\n",
       "      <td>-1.342247</td>\n",
       "      <td>7.601724</td>\n",
       "      <td>-0.407509</td>\n",
       "      <td>8.862995</td>\n",
       "      <td>1.142019</td>\n",
       "      <td>10.073505</td>\n",
       "      <td>...</td>\n",
       "      <td>0.440001</td>\n",
       "      <td>9.443157</td>\n",
       "      <td>0.345970</td>\n",
       "      <td>8.155159</td>\n",
       "      <td>0.834560</td>\n",
       "      <td>9.110393</td>\n",
       "      <td>0.065459</td>\n",
       "      <td>8.802876</td>\n",
       "      <td>0.144040</td>\n",
       "      <td>7.887962</td>\n",
       "    </tr>\n",
       "    <tr>\n",
       "      <th>2021-10-01</th>\n",
       "      <td>-0.825383</td>\n",
       "      <td>7.974871</td>\n",
       "      <td>-1.538810</td>\n",
       "      <td>7.796050</td>\n",
       "      <td>-1.401942</td>\n",
       "      <td>7.542026</td>\n",
       "      <td>-0.327207</td>\n",
       "      <td>8.943438</td>\n",
       "      <td>-1.028318</td>\n",
       "      <td>7.903997</td>\n",
       "      <td>...</td>\n",
       "      <td>0.598010</td>\n",
       "      <td>9.604159</td>\n",
       "      <td>-0.273030</td>\n",
       "      <td>7.536141</td>\n",
       "      <td>0.032874</td>\n",
       "      <td>8.308758</td>\n",
       "      <td>-1.210840</td>\n",
       "      <td>7.526933</td>\n",
       "      <td>0.155665</td>\n",
       "      <td>7.899568</td>\n",
       "    </tr>\n",
       "    <tr>\n",
       "      <th>2021-11-01</th>\n",
       "      <td>-0.078014</td>\n",
       "      <td>8.723944</td>\n",
       "      <td>-1.770748</td>\n",
       "      <td>7.564108</td>\n",
       "      <td>-1.689615</td>\n",
       "      <td>7.254328</td>\n",
       "      <td>-0.617177</td>\n",
       "      <td>8.653507</td>\n",
       "      <td>-0.592773</td>\n",
       "      <td>8.340069</td>\n",
       "      <td>...</td>\n",
       "      <td>0.177427</td>\n",
       "      <td>9.184379</td>\n",
       "      <td>-0.578675</td>\n",
       "      <td>7.230710</td>\n",
       "      <td>1.204967</td>\n",
       "      <td>9.480834</td>\n",
       "      <td>0.538858</td>\n",
       "      <td>9.276782</td>\n",
       "      <td>-0.033049</td>\n",
       "      <td>7.710883</td>\n",
       "    </tr>\n",
       "    <tr>\n",
       "      <th>2021-12-01</th>\n",
       "      <td>-0.149533</td>\n",
       "      <td>8.652435</td>\n",
       "      <td>-1.536694</td>\n",
       "      <td>7.798161</td>\n",
       "      <td>-1.453230</td>\n",
       "      <td>7.490678</td>\n",
       "      <td>-0.639657</td>\n",
       "      <td>8.630971</td>\n",
       "      <td>-0.261493</td>\n",
       "      <td>8.671443</td>\n",
       "      <td>...</td>\n",
       "      <td>0.173667</td>\n",
       "      <td>9.181514</td>\n",
       "      <td>0.091952</td>\n",
       "      <td>7.901913</td>\n",
       "      <td>1.994130</td>\n",
       "      <td>10.270004</td>\n",
       "      <td>1.404127</td>\n",
       "      <td>10.142075</td>\n",
       "      <td>-0.004222</td>\n",
       "      <td>7.739700</td>\n",
       "    </tr>\n",
       "    <tr>\n",
       "      <th>2022-01-01</th>\n",
       "      <td>-1.146098</td>\n",
       "      <td>7.657489</td>\n",
       "      <td>-1.755534</td>\n",
       "      <td>7.579318</td>\n",
       "      <td>-1.329846</td>\n",
       "      <td>7.614054</td>\n",
       "      <td>-0.513999</td>\n",
       "      <td>8.756824</td>\n",
       "      <td>-1.132539</td>\n",
       "      <td>7.801145</td>\n",
       "      <td>...</td>\n",
       "      <td>0.397952</td>\n",
       "      <td>9.408680</td>\n",
       "      <td>-0.522406</td>\n",
       "      <td>7.288641</td>\n",
       "      <td>1.521367</td>\n",
       "      <td>9.797238</td>\n",
       "      <td>0.987771</td>\n",
       "      <td>9.725723</td>\n",
       "      <td>-0.040440</td>\n",
       "      <td>7.703496</td>\n",
       "    </tr>\n",
       "    <tr>\n",
       "      <th>2022-02-01</th>\n",
       "      <td>-0.937512</td>\n",
       "      <td>7.866346</td>\n",
       "      <td>-1.939459</td>\n",
       "      <td>7.395384</td>\n",
       "      <td>-1.282887</td>\n",
       "      <td>7.660532</td>\n",
       "      <td>-0.828722</td>\n",
       "      <td>8.442070</td>\n",
       "      <td>-1.175078</td>\n",
       "      <td>7.758703</td>\n",
       "      <td>...</td>\n",
       "      <td>0.448447</td>\n",
       "      <td>9.460186</td>\n",
       "      <td>-0.601265</td>\n",
       "      <td>7.210445</td>\n",
       "      <td>1.284188</td>\n",
       "      <td>9.559938</td>\n",
       "      <td>0.700615</td>\n",
       "      <td>9.438198</td>\n",
       "      <td>0.179228</td>\n",
       "      <td>7.923160</td>\n",
       "    </tr>\n",
       "    <tr>\n",
       "      <th>2022-03-01</th>\n",
       "      <td>-0.051783</td>\n",
       "      <td>8.752249</td>\n",
       "      <td>-1.472022</td>\n",
       "      <td>7.862774</td>\n",
       "      <td>-0.449712</td>\n",
       "      <td>8.493685</td>\n",
       "      <td>-0.829049</td>\n",
       "      <td>8.441714</td>\n",
       "      <td>-0.411800</td>\n",
       "      <td>8.522213</td>\n",
       "      <td>...</td>\n",
       "      <td>0.298901</td>\n",
       "      <td>9.311424</td>\n",
       "      <td>-0.458615</td>\n",
       "      <td>7.353505</td>\n",
       "      <td>1.565268</td>\n",
       "      <td>9.840692</td>\n",
       "      <td>0.716339</td>\n",
       "      <td>9.453715</td>\n",
       "      <td>-0.019477</td>\n",
       "      <td>7.724464</td>\n",
       "    </tr>\n",
       "    <tr>\n",
       "      <th>2022-04-01</th>\n",
       "      <td>-0.330814</td>\n",
       "      <td>8.474493</td>\n",
       "      <td>-1.599334</td>\n",
       "      <td>7.735202</td>\n",
       "      <td>-1.242236</td>\n",
       "      <td>7.700892</td>\n",
       "      <td>-0.380705</td>\n",
       "      <td>8.890219</td>\n",
       "      <td>-0.560131</td>\n",
       "      <td>8.374373</td>\n",
       "      <td>...</td>\n",
       "      <td>0.535871</td>\n",
       "      <td>9.551106</td>\n",
       "      <td>-0.034822</td>\n",
       "      <td>7.777374</td>\n",
       "      <td>0.926293</td>\n",
       "      <td>9.201698</td>\n",
       "      <td>0.272515</td>\n",
       "      <td>9.009737</td>\n",
       "      <td>0.161232</td>\n",
       "      <td>7.905173</td>\n",
       "    </tr>\n",
       "    <tr>\n",
       "      <th>2022-05-01</th>\n",
       "      <td>-0.672977</td>\n",
       "      <td>8.274652</td>\n",
       "      <td>-1.546495</td>\n",
       "      <td>7.803375</td>\n",
       "      <td>-1.103037</td>\n",
       "      <td>7.847441</td>\n",
       "      <td>-0.598021</td>\n",
       "      <td>8.680504</td>\n",
       "      <td>-0.356229</td>\n",
       "      <td>8.614282</td>\n",
       "      <td>...</td>\n",
       "      <td>0.465003</td>\n",
       "      <td>9.480731</td>\n",
       "      <td>0.458207</td>\n",
       "      <td>8.303428</td>\n",
       "      <td>0.871076</td>\n",
       "      <td>9.152970</td>\n",
       "      <td>0.530919</td>\n",
       "      <td>9.267994</td>\n",
       "      <td>0.523909</td>\n",
       "      <td>8.274143</td>\n",
       "    </tr>\n",
       "    <tr>\n",
       "      <th>2022-06-01</th>\n",
       "      <td>0.045688</td>\n",
       "      <td>8.994385</td>\n",
       "      <td>-0.292848</td>\n",
       "      <td>9.057262</td>\n",
       "      <td>-0.186930</td>\n",
       "      <td>8.763739</td>\n",
       "      <td>-0.269264</td>\n",
       "      <td>9.009841</td>\n",
       "      <td>-0.345251</td>\n",
       "      <td>8.626709</td>\n",
       "      <td>...</td>\n",
       "      <td>0.211350</td>\n",
       "      <td>9.227724</td>\n",
       "      <td>0.062989</td>\n",
       "      <td>7.909810</td>\n",
       "      <td>1.124051</td>\n",
       "      <td>9.406005</td>\n",
       "      <td>0.780361</td>\n",
       "      <td>9.517219</td>\n",
       "      <td>-0.039553</td>\n",
       "      <td>7.710805</td>\n",
       "    </tr>\n",
       "    <tr>\n",
       "      <th>2022-07-01</th>\n",
       "      <td>1.041080</td>\n",
       "      <td>9.989915</td>\n",
       "      <td>0.165217</td>\n",
       "      <td>9.515301</td>\n",
       "      <td>0.582179</td>\n",
       "      <td>9.532965</td>\n",
       "      <td>-0.560761</td>\n",
       "      <td>8.718584</td>\n",
       "      <td>-0.378395</td>\n",
       "      <td>8.593564</td>\n",
       "      <td>...</td>\n",
       "      <td>0.495419</td>\n",
       "      <td>9.514279</td>\n",
       "      <td>0.753508</td>\n",
       "      <td>8.600655</td>\n",
       "      <td>1.493725</td>\n",
       "      <td>9.775172</td>\n",
       "      <td>1.005058</td>\n",
       "      <td>9.741146</td>\n",
       "      <td>-0.024978</td>\n",
       "      <td>7.725353</td>\n",
       "    </tr>\n",
       "    <tr>\n",
       "      <th>2022-08-01</th>\n",
       "      <td>0.276079</td>\n",
       "      <td>9.225947</td>\n",
       "      <td>0.473522</td>\n",
       "      <td>9.823589</td>\n",
       "      <td>-0.114340</td>\n",
       "      <td>8.836395</td>\n",
       "      <td>-0.483188</td>\n",
       "      <td>8.796102</td>\n",
       "      <td>-0.533136</td>\n",
       "      <td>8.438955</td>\n",
       "      <td>...</td>\n",
       "      <td>0.611749</td>\n",
       "      <td>9.632049</td>\n",
       "      <td>0.690471</td>\n",
       "      <td>8.539116</td>\n",
       "      <td>0.866110</td>\n",
       "      <td>9.147744</td>\n",
       "      <td>-0.019114</td>\n",
       "      <td>8.716979</td>\n",
       "      <td>0.326695</td>\n",
       "      <td>8.077075</td>\n",
       "    </tr>\n",
       "    <tr>\n",
       "      <th>2022-09-01</th>\n",
       "      <td>0.783517</td>\n",
       "      <td>9.733928</td>\n",
       "      <td>0.150943</td>\n",
       "      <td>9.501038</td>\n",
       "      <td>0.384958</td>\n",
       "      <td>9.335622</td>\n",
       "      <td>-0.437942</td>\n",
       "      <td>8.841436</td>\n",
       "      <td>1.265609</td>\n",
       "      <td>10.238041</td>\n",
       "      <td>...</td>\n",
       "      <td>0.393513</td>\n",
       "      <td>9.414480</td>\n",
       "      <td>0.200589</td>\n",
       "      <td>8.049508</td>\n",
       "      <td>0.784188</td>\n",
       "      <td>9.065725</td>\n",
       "      <td>0.129630</td>\n",
       "      <td>8.865593</td>\n",
       "      <td>0.352465</td>\n",
       "      <td>8.102830</td>\n",
       "    </tr>\n",
       "    <tr>\n",
       "      <th>2022-10-01</th>\n",
       "      <td>-0.591221</td>\n",
       "      <td>8.359200</td>\n",
       "      <td>-1.398136</td>\n",
       "      <td>7.951956</td>\n",
       "      <td>-1.210328</td>\n",
       "      <td>7.740342</td>\n",
       "      <td>-0.357861</td>\n",
       "      <td>8.921558</td>\n",
       "      <td>-0.873622</td>\n",
       "      <td>8.098825</td>\n",
       "      <td>...</td>\n",
       "      <td>0.649092</td>\n",
       "      <td>9.672327</td>\n",
       "      <td>-0.529021</td>\n",
       "      <td>7.320171</td>\n",
       "      <td>0.046982</td>\n",
       "      <td>8.328559</td>\n",
       "      <td>-0.828820</td>\n",
       "      <td>7.907141</td>\n",
       "      <td>0.349163</td>\n",
       "      <td>8.099547</td>\n",
       "    </tr>\n",
       "    <tr>\n",
       "      <th>2022-11-01</th>\n",
       "      <td>-1.186611</td>\n",
       "      <td>7.764751</td>\n",
       "      <td>-1.821038</td>\n",
       "      <td>7.529057</td>\n",
       "      <td>-0.976183</td>\n",
       "      <td>7.974468</td>\n",
       "      <td>-0.592516</td>\n",
       "      <td>8.686852</td>\n",
       "      <td>-0.810009</td>\n",
       "      <td>8.162651</td>\n",
       "      <td>...</td>\n",
       "      <td>0.523448</td>\n",
       "      <td>9.548324</td>\n",
       "      <td>-0.765748</td>\n",
       "      <td>7.083482</td>\n",
       "      <td>0.892862</td>\n",
       "      <td>9.174421</td>\n",
       "      <td>0.365181</td>\n",
       "      <td>9.101108</td>\n",
       "      <td>0.240118</td>\n",
       "      <td>7.990497</td>\n",
       "    </tr>\n",
       "    <tr>\n",
       "      <th>2022-12-01</th>\n",
       "      <td>-0.827720</td>\n",
       "      <td>8.123845</td>\n",
       "      <td>-1.595340</td>\n",
       "      <td>7.754756</td>\n",
       "      <td>-0.811483</td>\n",
       "      <td>8.139140</td>\n",
       "      <td>-0.624310</td>\n",
       "      <td>8.655184</td>\n",
       "      <td>-0.487922</td>\n",
       "      <td>8.484851</td>\n",
       "      <td>...</td>\n",
       "      <td>0.655442</td>\n",
       "      <td>9.680988</td>\n",
       "      <td>-0.133800</td>\n",
       "      <td>7.715554</td>\n",
       "      <td>1.620335</td>\n",
       "      <td>9.901900</td>\n",
       "      <td>1.138179</td>\n",
       "      <td>9.874097</td>\n",
       "      <td>0.340089</td>\n",
       "      <td>8.090477</td>\n",
       "    </tr>\n",
       "    <tr>\n",
       "      <th>...</th>\n",
       "      <td>...</td>\n",
       "      <td>...</td>\n",
       "      <td>...</td>\n",
       "      <td>...</td>\n",
       "      <td>...</td>\n",
       "      <td>...</td>\n",
       "      <td>...</td>\n",
       "      <td>...</td>\n",
       "      <td>...</td>\n",
       "      <td>...</td>\n",
       "      <td>...</td>\n",
       "      <td>...</td>\n",
       "      <td>...</td>\n",
       "      <td>...</td>\n",
       "      <td>...</td>\n",
       "      <td>...</td>\n",
       "      <td>...</td>\n",
       "      <td>...</td>\n",
       "      <td>...</td>\n",
       "      <td>...</td>\n",
       "      <td>...</td>\n",
       "    </tr>\n",
       "    <tr>\n",
       "      <th>2066-12-01</th>\n",
       "      <td>-0.358820</td>\n",
       "      <td>9.288376</td>\n",
       "      <td>-1.993530</td>\n",
       "      <td>7.703445</td>\n",
       "      <td>-1.885598</td>\n",
       "      <td>7.133505</td>\n",
       "      <td>-0.272198</td>\n",
       "      <td>9.106436</td>\n",
       "      <td>-1.258171</td>\n",
       "      <td>8.808592</td>\n",
       "      <td>...</td>\n",
       "      <td>0.745458</td>\n",
       "      <td>10.741940</td>\n",
       "      <td>-0.613830</td>\n",
       "      <td>7.949711</td>\n",
       "      <td>1.842910</td>\n",
       "      <td>10.125983</td>\n",
       "      <td>1.516814</td>\n",
       "      <td>10.275265</td>\n",
       "      <td>0.160157</td>\n",
       "      <td>7.938945</td>\n",
       "    </tr>\n",
       "    <tr>\n",
       "      <th>2067-01-01</th>\n",
       "      <td>-0.607867</td>\n",
       "      <td>9.039373</td>\n",
       "      <td>-2.139082</td>\n",
       "      <td>7.557892</td>\n",
       "      <td>-1.721714</td>\n",
       "      <td>7.297384</td>\n",
       "      <td>-0.271527</td>\n",
       "      <td>9.107126</td>\n",
       "      <td>-1.652643</td>\n",
       "      <td>8.414152</td>\n",
       "      <td>...</td>\n",
       "      <td>0.746202</td>\n",
       "      <td>10.744666</td>\n",
       "      <td>-0.969634</td>\n",
       "      <td>7.593959</td>\n",
       "      <td>1.449154</td>\n",
       "      <td>9.732223</td>\n",
       "      <td>0.954355</td>\n",
       "      <td>9.712791</td>\n",
       "      <td>0.160331</td>\n",
       "      <td>7.939123</td>\n",
       "    </tr>\n",
       "    <tr>\n",
       "      <th>2067-02-01</th>\n",
       "      <td>-1.004955</td>\n",
       "      <td>8.641550</td>\n",
       "      <td>-2.328866</td>\n",
       "      <td>7.368101</td>\n",
       "      <td>-2.026135</td>\n",
       "      <td>6.992653</td>\n",
       "      <td>-0.270858</td>\n",
       "      <td>9.107815</td>\n",
       "      <td>-1.892183</td>\n",
       "      <td>8.174581</td>\n",
       "      <td>...</td>\n",
       "      <td>0.746945</td>\n",
       "      <td>10.747393</td>\n",
       "      <td>-1.206199</td>\n",
       "      <td>7.357262</td>\n",
       "      <td>1.308510</td>\n",
       "      <td>9.591457</td>\n",
       "      <td>0.969000</td>\n",
       "      <td>9.727072</td>\n",
       "      <td>0.160505</td>\n",
       "      <td>7.939301</td>\n",
       "    </tr>\n",
       "    <tr>\n",
       "      <th>2067-03-01</th>\n",
       "      <td>0.427793</td>\n",
       "      <td>10.074136</td>\n",
       "      <td>-1.862754</td>\n",
       "      <td>7.834174</td>\n",
       "      <td>-1.223534</td>\n",
       "      <td>7.795239</td>\n",
       "      <td>-0.270187</td>\n",
       "      <td>9.108506</td>\n",
       "      <td>-1.261167</td>\n",
       "      <td>8.805604</td>\n",
       "      <td>...</td>\n",
       "      <td>0.747689</td>\n",
       "      <td>10.750120</td>\n",
       "      <td>-0.865315</td>\n",
       "      <td>7.698120</td>\n",
       "      <td>1.549740</td>\n",
       "      <td>9.832358</td>\n",
       "      <td>0.701222</td>\n",
       "      <td>9.459089</td>\n",
       "      <td>0.160678</td>\n",
       "      <td>7.939479</td>\n",
       "    </tr>\n",
       "    <tr>\n",
       "      <th>2067-04-01</th>\n",
       "      <td>0.134678</td>\n",
       "      <td>9.780965</td>\n",
       "      <td>-2.010853</td>\n",
       "      <td>7.685853</td>\n",
       "      <td>-1.819834</td>\n",
       "      <td>7.198766</td>\n",
       "      <td>-0.269513</td>\n",
       "      <td>9.109199</td>\n",
       "      <td>-1.164580</td>\n",
       "      <td>8.902191</td>\n",
       "      <td>...</td>\n",
       "      <td>0.748433</td>\n",
       "      <td>10.752849</td>\n",
       "      <td>-0.399847</td>\n",
       "      <td>8.163545</td>\n",
       "      <td>0.907379</td>\n",
       "      <td>9.189978</td>\n",
       "      <td>0.242826</td>\n",
       "      <td>9.000540</td>\n",
       "      <td>0.160852</td>\n",
       "      <td>7.939657</td>\n",
       "    </tr>\n",
       "    <tr>\n",
       "      <th>2067-05-01</th>\n",
       "      <td>-0.035840</td>\n",
       "      <td>9.629625</td>\n",
       "      <td>-1.931801</td>\n",
       "      <td>7.772271</td>\n",
       "      <td>-1.727555</td>\n",
       "      <td>7.291477</td>\n",
       "      <td>-0.268844</td>\n",
       "      <td>9.109888</td>\n",
       "      <td>-0.990505</td>\n",
       "      <td>9.098499</td>\n",
       "      <td>...</td>\n",
       "      <td>0.749177</td>\n",
       "      <td>10.755579</td>\n",
       "      <td>-0.061055</td>\n",
       "      <td>8.516835</td>\n",
       "      <td>0.884108</td>\n",
       "      <td>9.167912</td>\n",
       "      <td>0.617119</td>\n",
       "      <td>9.376934</td>\n",
       "      <td>0.161026</td>\n",
       "      <td>7.939835</td>\n",
       "    </tr>\n",
       "    <tr>\n",
       "      <th>2067-06-01</th>\n",
       "      <td>0.361037</td>\n",
       "      <td>10.026431</td>\n",
       "      <td>-0.788120</td>\n",
       "      <td>8.916073</td>\n",
       "      <td>-1.071093</td>\n",
       "      <td>7.947938</td>\n",
       "      <td>-0.268171</td>\n",
       "      <td>9.110580</td>\n",
       "      <td>-1.039301</td>\n",
       "      <td>9.049803</td>\n",
       "      <td>...</td>\n",
       "      <td>0.749922</td>\n",
       "      <td>10.758310</td>\n",
       "      <td>-0.358183</td>\n",
       "      <td>8.219976</td>\n",
       "      <td>1.168120</td>\n",
       "      <td>9.451868</td>\n",
       "      <td>0.811729</td>\n",
       "      <td>9.571358</td>\n",
       "      <td>0.161199</td>\n",
       "      <td>7.940013</td>\n",
       "    </tr>\n",
       "    <tr>\n",
       "      <th>2067-07-01</th>\n",
       "      <td>1.644087</td>\n",
       "      <td>11.309543</td>\n",
       "      <td>-0.341130</td>\n",
       "      <td>9.363040</td>\n",
       "      <td>-0.563438</td>\n",
       "      <td>8.455606</td>\n",
       "      <td>-0.267502</td>\n",
       "      <td>9.111269</td>\n",
       "      <td>-1.140431</td>\n",
       "      <td>8.948860</td>\n",
       "      <td>...</td>\n",
       "      <td>0.750666</td>\n",
       "      <td>10.761041</td>\n",
       "      <td>0.117933</td>\n",
       "      <td>8.696086</td>\n",
       "      <td>1.510275</td>\n",
       "      <td>9.793429</td>\n",
       "      <td>1.104710</td>\n",
       "      <td>9.863580</td>\n",
       "      <td>0.161373</td>\n",
       "      <td>7.940191</td>\n",
       "    </tr>\n",
       "    <tr>\n",
       "      <th>2067-08-01</th>\n",
       "      <td>1.249472</td>\n",
       "      <td>10.914962</td>\n",
       "      <td>-0.064741</td>\n",
       "      <td>9.639410</td>\n",
       "      <td>-1.016930</td>\n",
       "      <td>8.002019</td>\n",
       "      <td>-0.266830</td>\n",
       "      <td>9.111960</td>\n",
       "      <td>-1.220885</td>\n",
       "      <td>8.868405</td>\n",
       "      <td>...</td>\n",
       "      <td>0.751410</td>\n",
       "      <td>10.763774</td>\n",
       "      <td>0.257074</td>\n",
       "      <td>8.835355</td>\n",
       "      <td>0.900469</td>\n",
       "      <td>9.183676</td>\n",
       "      <td>0.316570</td>\n",
       "      <td>9.075476</td>\n",
       "      <td>0.161547</td>\n",
       "      <td>7.940369</td>\n",
       "    </tr>\n",
       "    <tr>\n",
       "      <th>2067-09-01</th>\n",
       "      <td>1.459190</td>\n",
       "      <td>11.124685</td>\n",
       "      <td>-0.433875</td>\n",
       "      <td>9.270287</td>\n",
       "      <td>-1.255259</td>\n",
       "      <td>7.763636</td>\n",
       "      <td>-0.266158</td>\n",
       "      <td>9.112652</td>\n",
       "      <td>0.224884</td>\n",
       "      <td>10.314183</td>\n",
       "      <td>...</td>\n",
       "      <td>0.752155</td>\n",
       "      <td>10.766507</td>\n",
       "      <td>-0.240293</td>\n",
       "      <td>8.337985</td>\n",
       "      <td>0.839667</td>\n",
       "      <td>9.122758</td>\n",
       "      <td>0.188748</td>\n",
       "      <td>8.947557</td>\n",
       "      <td>0.161720</td>\n",
       "      <td>7.940547</td>\n",
       "    </tr>\n",
       "    <tr>\n",
       "      <th>2067-10-01</th>\n",
       "      <td>-0.257134</td>\n",
       "      <td>9.408429</td>\n",
       "      <td>-1.858625</td>\n",
       "      <td>7.845532</td>\n",
       "      <td>-2.053017</td>\n",
       "      <td>6.965878</td>\n",
       "      <td>-0.265487</td>\n",
       "      <td>9.113343</td>\n",
       "      <td>-1.602993</td>\n",
       "      <td>8.486384</td>\n",
       "      <td>...</td>\n",
       "      <td>0.752900</td>\n",
       "      <td>10.769241</td>\n",
       "      <td>-0.956364</td>\n",
       "      <td>7.621936</td>\n",
       "      <td>0.119530</td>\n",
       "      <td>8.402636</td>\n",
       "      <td>-0.920302</td>\n",
       "      <td>7.838521</td>\n",
       "      <td>0.161894</td>\n",
       "      <td>7.940725</td>\n",
       "    </tr>\n",
       "    <tr>\n",
       "      <th>2067-11-01</th>\n",
       "      <td>-0.516611</td>\n",
       "      <td>9.148958</td>\n",
       "      <td>-2.219182</td>\n",
       "      <td>7.484975</td>\n",
       "      <td>-2.040200</td>\n",
       "      <td>6.978679</td>\n",
       "      <td>-0.264817</td>\n",
       "      <td>9.114033</td>\n",
       "      <td>-1.452157</td>\n",
       "      <td>8.637219</td>\n",
       "      <td>...</td>\n",
       "      <td>0.753645</td>\n",
       "      <td>10.771977</td>\n",
       "      <td>-1.143675</td>\n",
       "      <td>7.434643</td>\n",
       "      <td>1.074520</td>\n",
       "      <td>9.357605</td>\n",
       "      <td>0.640110</td>\n",
       "      <td>9.398906</td>\n",
       "      <td>0.162068</td>\n",
       "      <td>7.940903</td>\n",
       "    </tr>\n",
       "    <tr>\n",
       "      <th>2067-12-01</th>\n",
       "      <td>-0.349147</td>\n",
       "      <td>9.316457</td>\n",
       "      <td>-2.001769</td>\n",
       "      <td>7.702389</td>\n",
       "      <td>-1.896895</td>\n",
       "      <td>7.121962</td>\n",
       "      <td>-0.264145</td>\n",
       "      <td>9.114724</td>\n",
       "      <td>-1.272123</td>\n",
       "      <td>8.817283</td>\n",
       "      <td>...</td>\n",
       "      <td>0.754389</td>\n",
       "      <td>10.774713</td>\n",
       "      <td>-0.623523</td>\n",
       "      <td>7.954798</td>\n",
       "      <td>1.843230</td>\n",
       "      <td>10.126317</td>\n",
       "      <td>1.518536</td>\n",
       "      <td>10.277323</td>\n",
       "      <td>0.162241</td>\n",
       "      <td>7.941081</td>\n",
       "    </tr>\n",
       "    <tr>\n",
       "      <th>2068-01-01</th>\n",
       "      <td>-0.599248</td>\n",
       "      <td>9.066401</td>\n",
       "      <td>-2.147085</td>\n",
       "      <td>7.557073</td>\n",
       "      <td>-1.733724</td>\n",
       "      <td>7.285128</td>\n",
       "      <td>-0.263473</td>\n",
       "      <td>9.115416</td>\n",
       "      <td>-1.666320</td>\n",
       "      <td>8.423118</td>\n",
       "      <td>...</td>\n",
       "      <td>0.755135</td>\n",
       "      <td>10.777450</td>\n",
       "      <td>-0.979091</td>\n",
       "      <td>7.599282</td>\n",
       "      <td>1.449452</td>\n",
       "      <td>9.732536</td>\n",
       "      <td>0.955896</td>\n",
       "      <td>9.714669</td>\n",
       "      <td>0.162415</td>\n",
       "      <td>7.941260</td>\n",
       "    </tr>\n",
       "    <tr>\n",
       "      <th>2068-02-01</th>\n",
       "      <td>-0.998013</td>\n",
       "      <td>8.666895</td>\n",
       "      <td>-2.336559</td>\n",
       "      <td>7.367591</td>\n",
       "      <td>-2.036820</td>\n",
       "      <td>6.981723</td>\n",
       "      <td>-0.262803</td>\n",
       "      <td>9.116106</td>\n",
       "      <td>-1.905693</td>\n",
       "      <td>8.183713</td>\n",
       "      <td>...</td>\n",
       "      <td>0.755880</td>\n",
       "      <td>10.780188</td>\n",
       "      <td>-1.215524</td>\n",
       "      <td>7.362717</td>\n",
       "      <td>1.308800</td>\n",
       "      <td>9.591762</td>\n",
       "      <td>0.970546</td>\n",
       "      <td>9.728955</td>\n",
       "      <td>0.162589</td>\n",
       "      <td>7.941438</td>\n",
       "    </tr>\n",
       "    <tr>\n",
       "      <th>2068-03-01</th>\n",
       "      <td>0.440792</td>\n",
       "      <td>10.105538</td>\n",
       "      <td>-1.871207</td>\n",
       "      <td>7.832904</td>\n",
       "      <td>-1.237713</td>\n",
       "      <td>7.780817</td>\n",
       "      <td>-0.262131</td>\n",
       "      <td>9.116798</td>\n",
       "      <td>-1.275116</td>\n",
       "      <td>8.814297</td>\n",
       "      <td>...</td>\n",
       "      <td>0.756625</td>\n",
       "      <td>10.782927</td>\n",
       "      <td>-0.874839</td>\n",
       "      <td>7.703377</td>\n",
       "      <td>1.550044</td>\n",
       "      <td>9.832676</td>\n",
       "      <td>0.702683</td>\n",
       "      <td>9.460885</td>\n",
       "      <td>0.162763</td>\n",
       "      <td>7.941616</td>\n",
       "    </tr>\n",
       "    <tr>\n",
       "      <th>2068-04-01</th>\n",
       "      <td>0.146438</td>\n",
       "      <td>9.811128</td>\n",
       "      <td>-2.019065</td>\n",
       "      <td>7.684825</td>\n",
       "      <td>-1.831418</td>\n",
       "      <td>7.186939</td>\n",
       "      <td>-0.261456</td>\n",
       "      <td>9.117492</td>\n",
       "      <td>-1.178596</td>\n",
       "      <td>8.910817</td>\n",
       "      <td>...</td>\n",
       "      <td>0.757371</td>\n",
       "      <td>10.785667</td>\n",
       "      <td>-0.409672</td>\n",
       "      <td>8.168500</td>\n",
       "      <td>0.907647</td>\n",
       "      <td>9.190261</td>\n",
       "      <td>0.244139</td>\n",
       "      <td>9.002190</td>\n",
       "      <td>0.162936</td>\n",
       "      <td>7.941794</td>\n",
       "    </tr>\n",
       "    <tr>\n",
       "      <th>2068-05-01</th>\n",
       "      <td>-0.024823</td>\n",
       "      <td>9.659170</td>\n",
       "      <td>-1.940133</td>\n",
       "      <td>7.771094</td>\n",
       "      <td>-1.739540</td>\n",
       "      <td>7.279247</td>\n",
       "      <td>-0.260786</td>\n",
       "      <td>9.118182</td>\n",
       "      <td>-1.004611</td>\n",
       "      <td>9.106955</td>\n",
       "      <td>...</td>\n",
       "      <td>0.758116</td>\n",
       "      <td>10.788408</td>\n",
       "      <td>-0.071072</td>\n",
       "      <td>8.521554</td>\n",
       "      <td>0.884376</td>\n",
       "      <td>9.168194</td>\n",
       "      <td>0.618552</td>\n",
       "      <td>9.378704</td>\n",
       "      <td>0.163110</td>\n",
       "      <td>7.941972</td>\n",
       "    </tr>\n",
       "    <tr>\n",
       "      <th>2068-06-01</th>\n",
       "      <td>0.373732</td>\n",
       "      <td>10.057654</td>\n",
       "      <td>-0.798314</td>\n",
       "      <td>8.913034</td>\n",
       "      <td>-1.085935</td>\n",
       "      <td>7.932850</td>\n",
       "      <td>-0.260112</td>\n",
       "      <td>9.118875</td>\n",
       "      <td>-1.053372</td>\n",
       "      <td>9.058293</td>\n",
       "      <td>...</td>\n",
       "      <td>0.758862</td>\n",
       "      <td>10.791149</td>\n",
       "      <td>-0.368010</td>\n",
       "      <td>8.224885</td>\n",
       "      <td>1.168403</td>\n",
       "      <td>9.452166</td>\n",
       "      <td>0.813225</td>\n",
       "      <td>9.573191</td>\n",
       "      <td>0.163284</td>\n",
       "      <td>7.942150</td>\n",
       "    </tr>\n",
       "    <tr>\n",
       "      <th>2068-07-01</th>\n",
       "      <td>1.662207</td>\n",
       "      <td>11.346191</td>\n",
       "      <td>-0.352051</td>\n",
       "      <td>9.359273</td>\n",
       "      <td>-0.580490</td>\n",
       "      <td>8.438309</td>\n",
       "      <td>-0.259441</td>\n",
       "      <td>9.119566</td>\n",
       "      <td>-1.154431</td>\n",
       "      <td>8.957420</td>\n",
       "      <td>...</td>\n",
       "      <td>0.759608</td>\n",
       "      <td>10.793892</td>\n",
       "      <td>0.107798</td>\n",
       "      <td>8.700687</td>\n",
       "      <td>1.510577</td>\n",
       "      <td>9.793745</td>\n",
       "      <td>1.106299</td>\n",
       "      <td>9.865506</td>\n",
       "      <td>0.163458</td>\n",
       "      <td>7.942328</td>\n",
       "    </tr>\n",
       "    <tr>\n",
       "      <th>2068-08-01</th>\n",
       "      <td>1.265924</td>\n",
       "      <td>10.949941</td>\n",
       "      <td>-0.076112</td>\n",
       "      <td>9.635192</td>\n",
       "      <td>-1.032008</td>\n",
       "      <td>7.986696</td>\n",
       "      <td>-0.258768</td>\n",
       "      <td>9.120259</td>\n",
       "      <td>-1.234829</td>\n",
       "      <td>8.877021</td>\n",
       "      <td>...</td>\n",
       "      <td>0.760353</td>\n",
       "      <td>10.796636</td>\n",
       "      <td>0.246866</td>\n",
       "      <td>8.839882</td>\n",
       "      <td>0.900737</td>\n",
       "      <td>9.183959</td>\n",
       "      <td>0.317907</td>\n",
       "      <td>9.077149</td>\n",
       "      <td>0.163631</td>\n",
       "      <td>7.942506</td>\n",
       "    </tr>\n",
       "    <tr>\n",
       "      <th>2068-09-01</th>\n",
       "      <td>1.476528</td>\n",
       "      <td>11.160552</td>\n",
       "      <td>-0.444645</td>\n",
       "      <td>9.266671</td>\n",
       "      <td>-1.269300</td>\n",
       "      <td>7.749351</td>\n",
       "      <td>-0.258096</td>\n",
       "      <td>9.120951</td>\n",
       "      <td>0.209933</td>\n",
       "      <td>10.321791</td>\n",
       "      <td>...</td>\n",
       "      <td>0.761099</td>\n",
       "      <td>10.799380</td>\n",
       "      <td>-0.250204</td>\n",
       "      <td>8.342809</td>\n",
       "      <td>0.839932</td>\n",
       "      <td>9.123038</td>\n",
       "      <td>0.190044</td>\n",
       "      <td>8.949190</td>\n",
       "      <td>0.163805</td>\n",
       "      <td>7.942685</td>\n",
       "    </tr>\n",
       "    <tr>\n",
       "      <th>2068-10-01</th>\n",
       "      <td>-0.247052</td>\n",
       "      <td>9.437039</td>\n",
       "      <td>-1.867076</td>\n",
       "      <td>7.844236</td>\n",
       "      <td>-2.063585</td>\n",
       "      <td>6.955065</td>\n",
       "      <td>-0.257423</td>\n",
       "      <td>9.121644</td>\n",
       "      <td>-1.616671</td>\n",
       "      <td>8.495266</td>\n",
       "      <td>...</td>\n",
       "      <td>0.761846</td>\n",
       "      <td>10.802126</td>\n",
       "      <td>-0.965815</td>\n",
       "      <td>7.627220</td>\n",
       "      <td>0.119756</td>\n",
       "      <td>8.402876</td>\n",
       "      <td>-0.919361</td>\n",
       "      <td>7.839798</td>\n",
       "      <td>0.163979</td>\n",
       "      <td>7.942863</td>\n",
       "    </tr>\n",
       "    <tr>\n",
       "      <th>2068-11-01</th>\n",
       "      <td>-0.507627</td>\n",
       "      <td>9.176471</td>\n",
       "      <td>-2.227046</td>\n",
       "      <td>7.484266</td>\n",
       "      <td>-2.050824</td>\n",
       "      <td>6.967810</td>\n",
       "      <td>-0.256751</td>\n",
       "      <td>9.122335</td>\n",
       "      <td>-1.465941</td>\n",
       "      <td>8.645996</td>\n",
       "      <td>...</td>\n",
       "      <td>0.762592</td>\n",
       "      <td>10.804872</td>\n",
       "      <td>-1.153015</td>\n",
       "      <td>7.440039</td>\n",
       "      <td>1.074798</td>\n",
       "      <td>9.357898</td>\n",
       "      <td>0.641551</td>\n",
       "      <td>9.400683</td>\n",
       "      <td>0.164153</td>\n",
       "      <td>7.943041</td>\n",
       "    </tr>\n",
       "    <tr>\n",
       "      <th>2068-12-01</th>\n",
       "      <td>-0.339455</td>\n",
       "      <td>9.344679</td>\n",
       "      <td>-2.009986</td>\n",
       "      <td>7.701325</td>\n",
       "      <td>-1.908143</td>\n",
       "      <td>7.110469</td>\n",
       "      <td>-0.256079</td>\n",
       "      <td>9.123028</td>\n",
       "      <td>-1.286031</td>\n",
       "      <td>8.825934</td>\n",
       "      <td>...</td>\n",
       "      <td>0.763338</td>\n",
       "      <td>10.807620</td>\n",
       "      <td>-0.633189</td>\n",
       "      <td>7.959867</td>\n",
       "      <td>1.843550</td>\n",
       "      <td>10.126651</td>\n",
       "      <td>1.520258</td>\n",
       "      <td>10.279382</td>\n",
       "      <td>0.164326</td>\n",
       "      <td>7.943219</td>\n",
       "    </tr>\n",
       "    <tr>\n",
       "      <th>2069-01-01</th>\n",
       "      <td>-0.590613</td>\n",
       "      <td>9.093565</td>\n",
       "      <td>-2.155065</td>\n",
       "      <td>7.556246</td>\n",
       "      <td>-1.745683</td>\n",
       "      <td>7.272925</td>\n",
       "      <td>-0.255405</td>\n",
       "      <td>9.123721</td>\n",
       "      <td>-1.679954</td>\n",
       "      <td>8.432044</td>\n",
       "      <td>...</td>\n",
       "      <td>0.764085</td>\n",
       "      <td>10.810368</td>\n",
       "      <td>-0.988528</td>\n",
       "      <td>7.604580</td>\n",
       "      <td>1.449750</td>\n",
       "      <td>9.732848</td>\n",
       "      <td>0.957438</td>\n",
       "      <td>9.716548</td>\n",
       "      <td>0.164500</td>\n",
       "      <td>7.943397</td>\n",
       "    </tr>\n",
       "    <tr>\n",
       "      <th>2069-02-01</th>\n",
       "      <td>-0.991064</td>\n",
       "      <td>8.692370</td>\n",
       "      <td>-2.344232</td>\n",
       "      <td>7.367072</td>\n",
       "      <td>-2.047460</td>\n",
       "      <td>6.970841</td>\n",
       "      <td>-0.254733</td>\n",
       "      <td>9.124412</td>\n",
       "      <td>-1.919160</td>\n",
       "      <td>8.192806</td>\n",
       "      <td>...</td>\n",
       "      <td>0.764832</td>\n",
       "      <td>10.813117</td>\n",
       "      <td>-1.224823</td>\n",
       "      <td>7.368153</td>\n",
       "      <td>1.309091</td>\n",
       "      <td>9.592067</td>\n",
       "      <td>0.972093</td>\n",
       "      <td>9.730838</td>\n",
       "      <td>0.164674</td>\n",
       "      <td>7.943575</td>\n",
       "    </tr>\n",
       "    <tr>\n",
       "      <th>2069-03-01</th>\n",
       "      <td>0.453825</td>\n",
       "      <td>10.137095</td>\n",
       "      <td>-1.879637</td>\n",
       "      <td>7.831628</td>\n",
       "      <td>-1.251831</td>\n",
       "      <td>7.766457</td>\n",
       "      <td>-0.254060</td>\n",
       "      <td>9.125106</td>\n",
       "      <td>-1.289023</td>\n",
       "      <td>8.822950</td>\n",
       "      <td>...</td>\n",
       "      <td>0.765578</td>\n",
       "      <td>10.815867</td>\n",
       "      <td>-0.884339</td>\n",
       "      <td>7.708612</td>\n",
       "      <td>1.550348</td>\n",
       "      <td>9.832995</td>\n",
       "      <td>0.704143</td>\n",
       "      <td>9.462682</td>\n",
       "      <td>0.164848</td>\n",
       "      <td>7.943754</td>\n",
       "    </tr>\n",
       "    <tr>\n",
       "      <th>2069-04-01</th>\n",
       "      <td>0.158227</td>\n",
       "      <td>9.841439</td>\n",
       "      <td>-2.027255</td>\n",
       "      <td>7.683790</td>\n",
       "      <td>-1.842952</td>\n",
       "      <td>7.175165</td>\n",
       "      <td>-0.253385</td>\n",
       "      <td>9.125800</td>\n",
       "      <td>-1.192570</td>\n",
       "      <td>8.919403</td>\n",
       "      <td>...</td>\n",
       "      <td>0.766325</td>\n",
       "      <td>10.818618</td>\n",
       "      <td>-0.419475</td>\n",
       "      <td>8.173432</td>\n",
       "      <td>0.907916</td>\n",
       "      <td>9.190544</td>\n",
       "      <td>0.245453</td>\n",
       "      <td>9.003840</td>\n",
       "      <td>0.165022</td>\n",
       "      <td>7.943932</td>\n",
       "    </tr>\n",
       "    <tr>\n",
       "      <th>2069-05-01</th>\n",
       "      <td>-0.013780</td>\n",
       "      <td>9.688862</td>\n",
       "      <td>-1.948442</td>\n",
       "      <td>7.769910</td>\n",
       "      <td>-1.751473</td>\n",
       "      <td>7.267070</td>\n",
       "      <td>-0.252713</td>\n",
       "      <td>9.126492</td>\n",
       "      <td>-1.018673</td>\n",
       "      <td>9.115373</td>\n",
       "      <td>...</td>\n",
       "      <td>0.767072</td>\n",
       "      <td>10.821370</td>\n",
       "      <td>-0.081062</td>\n",
       "      <td>8.526256</td>\n",
       "      <td>0.884643</td>\n",
       "      <td>9.168476</td>\n",
       "      <td>0.619986</td>\n",
       "      <td>9.380475</td>\n",
       "      <td>0.165195</td>\n",
       "      <td>7.944110</td>\n",
       "    </tr>\n",
       "  </tbody>\n",
       "</table>\n",
       "<p>587 rows × 208 columns</p>\n",
       "</div>"
      ],
      "text/plain": [
       "            lower Raleigh, NC  upper Raleigh, NC  lower Fayetteville, NC  \\\n",
       "2020-07-01           0.670969           9.435524                0.192565   \n",
       "2020-08-01           0.871720           9.636611                0.467233   \n",
       "2020-09-01          -0.052724           8.720575               -0.202586   \n",
       "2020-10-01          -0.778232           7.997310               -1.406804   \n",
       "2020-11-01          -0.982787           7.794767               -1.966309   \n",
       "2020-12-01          -1.214331           7.569436               -1.712054   \n",
       "2021-01-01          -0.939077           7.844943               -1.725463   \n",
       "2021-02-01          -1.154239           7.632554               -1.979531   \n",
       "2021-03-01          -0.018387           8.771740               -1.419184   \n",
       "2021-04-01          -0.582846           8.207287               -1.672177   \n",
       "2021-05-01          -0.163363           8.630347               -1.533367   \n",
       "2021-06-01          -0.550183           8.244813               -0.274429   \n",
       "2021-07-01           0.732725           9.528487                0.220528   \n",
       "2021-08-01           1.075353           9.873969                0.518632   \n",
       "2021-09-01           1.333985          10.132806                0.183714   \n",
       "2021-10-01          -0.825383           7.974871               -1.538810   \n",
       "2021-11-01          -0.078014           8.723944               -1.770748   \n",
       "2021-12-01          -0.149533           8.652435               -1.536694   \n",
       "2022-01-01          -1.146098           7.657489               -1.755534   \n",
       "2022-02-01          -0.937512           7.866346               -1.939459   \n",
       "2022-03-01          -0.051783           8.752249               -1.472022   \n",
       "2022-04-01          -0.330814           8.474493               -1.599334   \n",
       "2022-05-01          -0.672977           8.274652               -1.546495   \n",
       "2022-06-01           0.045688           8.994385               -0.292848   \n",
       "2022-07-01           1.041080           9.989915                0.165217   \n",
       "2022-08-01           0.276079           9.225947                0.473522   \n",
       "2022-09-01           0.783517           9.733928                0.150943   \n",
       "2022-10-01          -0.591221           8.359200               -1.398136   \n",
       "2022-11-01          -1.186611           7.764751               -1.821038   \n",
       "2022-12-01          -0.827720           8.123845               -1.595340   \n",
       "...                       ...                ...                     ...   \n",
       "2066-12-01          -0.358820           9.288376               -1.993530   \n",
       "2067-01-01          -0.607867           9.039373               -2.139082   \n",
       "2067-02-01          -1.004955           8.641550               -2.328866   \n",
       "2067-03-01           0.427793          10.074136               -1.862754   \n",
       "2067-04-01           0.134678           9.780965               -2.010853   \n",
       "2067-05-01          -0.035840           9.629625               -1.931801   \n",
       "2067-06-01           0.361037          10.026431               -0.788120   \n",
       "2067-07-01           1.644087          11.309543               -0.341130   \n",
       "2067-08-01           1.249472          10.914962               -0.064741   \n",
       "2067-09-01           1.459190          11.124685               -0.433875   \n",
       "2067-10-01          -0.257134           9.408429               -1.858625   \n",
       "2067-11-01          -0.516611           9.148958               -2.219182   \n",
       "2067-12-01          -0.349147           9.316457               -2.001769   \n",
       "2068-01-01          -0.599248           9.066401               -2.147085   \n",
       "2068-02-01          -0.998013           8.666895               -2.336559   \n",
       "2068-03-01           0.440792          10.105538               -1.871207   \n",
       "2068-04-01           0.146438           9.811128               -2.019065   \n",
       "2068-05-01          -0.024823           9.659170               -1.940133   \n",
       "2068-06-01           0.373732          10.057654               -0.798314   \n",
       "2068-07-01           1.662207          11.346191               -0.352051   \n",
       "2068-08-01           1.265924          10.949941               -0.076112   \n",
       "2068-09-01           1.476528          11.160552               -0.444645   \n",
       "2068-10-01          -0.247052           9.437039               -1.867076   \n",
       "2068-11-01          -0.507627           9.176471               -2.227046   \n",
       "2068-12-01          -0.339455           9.344679               -2.009986   \n",
       "2069-01-01          -0.590613           9.093565               -2.155065   \n",
       "2069-02-01          -0.991064           8.692370               -2.344232   \n",
       "2069-03-01           0.453825          10.137095               -1.879637   \n",
       "2069-04-01           0.158227           9.841439               -2.027255   \n",
       "2069-05-01          -0.013780           9.688862               -1.948442   \n",
       "\n",
       "            upper Fayetteville, NC  lower Albemarle, NC  upper Albemarle, NC  \\\n",
       "2020-07-01                9.527415             0.610259             9.556711   \n",
       "2020-08-01                9.802085            -0.278216             8.668085   \n",
       "2020-09-01                9.132296            -0.328980             8.617230   \n",
       "2020-10-01                7.928082            -2.193792             6.752422   \n",
       "2020-11-01                7.368583            -1.930717             7.015469   \n",
       "2020-12-01                7.622842            -1.891985             7.054164   \n",
       "2021-01-01                7.609434            -0.744751             8.201391   \n",
       "2021-02-01                7.355358            -1.634477             7.311132   \n",
       "2021-03-01                7.915657            -0.424991             8.520595   \n",
       "2021-04-01                7.662386            -1.270338             7.674950   \n",
       "2021-05-01                7.801558            -1.143941             7.800316   \n",
       "2021-06-01                9.060508            -0.429005             8.515215   \n",
       "2021-07-01                9.555435            -0.007248             8.936969   \n",
       "2021-08-01                9.853505            -0.275725             8.668333   \n",
       "2021-09-01                9.518582            -1.342247             7.601724   \n",
       "2021-10-01                7.796050            -1.401942             7.542026   \n",
       "2021-11-01                7.564108            -1.689615             7.254328   \n",
       "2021-12-01                7.798161            -1.453230             7.490678   \n",
       "2022-01-01                7.579318            -1.329846             7.614054   \n",
       "2022-02-01                7.395384            -1.282887             7.660532   \n",
       "2022-03-01                7.862774            -0.449712             8.493685   \n",
       "2022-04-01                7.735202            -1.242236             7.700892   \n",
       "2022-05-01                7.803375            -1.103037             7.847441   \n",
       "2022-06-01                9.057262            -0.186930             8.763739   \n",
       "2022-07-01                9.515301             0.582179             9.532965   \n",
       "2022-08-01                9.823589            -0.114340             8.836395   \n",
       "2022-09-01                9.501038             0.384958             9.335622   \n",
       "2022-10-01                7.951956            -1.210328             7.740342   \n",
       "2022-11-01                7.529057            -0.976183             7.974468   \n",
       "2022-12-01                7.754756            -0.811483             8.139140   \n",
       "...                            ...                  ...                  ...   \n",
       "2066-12-01                7.703445            -1.885598             7.133505   \n",
       "2067-01-01                7.557892            -1.721714             7.297384   \n",
       "2067-02-01                7.368101            -2.026135             6.992653   \n",
       "2067-03-01                7.834174            -1.223534             7.795239   \n",
       "2067-04-01                7.685853            -1.819834             7.198766   \n",
       "2067-05-01                7.772271            -1.727555             7.291477   \n",
       "2067-06-01                8.916073            -1.071093             7.947938   \n",
       "2067-07-01                9.363040            -0.563438             8.455606   \n",
       "2067-08-01                9.639410            -1.016930             8.002019   \n",
       "2067-09-01                9.270287            -1.255259             7.763636   \n",
       "2067-10-01                7.845532            -2.053017             6.965878   \n",
       "2067-11-01                7.484975            -2.040200             6.978679   \n",
       "2067-12-01                7.702389            -1.896895             7.121962   \n",
       "2068-01-01                7.557073            -1.733724             7.285128   \n",
       "2068-02-01                7.367591            -2.036820             6.981723   \n",
       "2068-03-01                7.832904            -1.237713             7.780817   \n",
       "2068-04-01                7.684825            -1.831418             7.186939   \n",
       "2068-05-01                7.771094            -1.739540             7.279247   \n",
       "2068-06-01                8.913034            -1.085935             7.932850   \n",
       "2068-07-01                9.359273            -0.580490             8.438309   \n",
       "2068-08-01                9.635192            -1.032008             7.986696   \n",
       "2068-09-01                9.266671            -1.269300             7.749351   \n",
       "2068-10-01                7.844236            -2.063585             6.955065   \n",
       "2068-11-01                7.484266            -2.050824             6.967810   \n",
       "2068-12-01                7.701325            -1.908143             7.110469   \n",
       "2069-01-01                7.556246            -1.745683             7.272925   \n",
       "2069-02-01                7.367072            -2.047460             6.970841   \n",
       "2069-03-01                7.831628            -1.251831             7.766457   \n",
       "2069-04-01                7.683790            -1.842952             7.175165   \n",
       "2069-05-01                7.769910            -1.751473             7.267070   \n",
       "\n",
       "            lower Arcola, NC  upper Arcola, NC  lower Asheboro, NC  \\\n",
       "2020-07-01         -0.371057          8.891575           -0.465321   \n",
       "2020-08-01         -0.492041          8.770584           -0.490761   \n",
       "2020-09-01         -0.113186          9.149957            0.302270   \n",
       "2020-10-01         -0.065320          9.197850           -1.233541   \n",
       "2020-11-01         -0.847857          8.415487           -0.880312   \n",
       "2020-12-01         -0.805516          8.457975           -1.034422   \n",
       "2021-01-01         -0.631253          8.632226           -1.160133   \n",
       "2021-02-01         -1.099394          8.164443           -1.204407   \n",
       "2021-03-01         -0.832476          8.431335           -0.536403   \n",
       "2021-04-01         -0.113607          9.150151           -0.693151   \n",
       "2021-05-01         -0.676317          8.593904           -0.091853   \n",
       "2021-06-01         -0.146562          9.123725           -0.191784   \n",
       "2021-07-01         -0.671410          8.598948           -0.759985   \n",
       "2021-08-01         -0.367713          8.902845           -0.379180   \n",
       "2021-09-01         -0.407509          8.862995            1.142019   \n",
       "2021-10-01         -0.327207          8.943438           -1.028318   \n",
       "2021-11-01         -0.617177          8.653507           -0.592773   \n",
       "2021-12-01         -0.639657          8.630971           -0.261493   \n",
       "2022-01-01         -0.513999          8.756824           -1.132539   \n",
       "2022-02-01         -0.828722          8.442070           -1.175078   \n",
       "2022-03-01         -0.829049          8.441714           -0.411800   \n",
       "2022-04-01         -0.380705          8.890219           -0.560131   \n",
       "2022-05-01         -0.598021          8.680504           -0.356229   \n",
       "2022-06-01         -0.269264          9.009841           -0.345251   \n",
       "2022-07-01         -0.560761          8.718584           -0.378395   \n",
       "2022-08-01         -0.483188          8.796102           -0.533136   \n",
       "2022-09-01         -0.437942          8.841436            1.265609   \n",
       "2022-10-01         -0.357861          8.921558           -0.873622   \n",
       "2022-11-01         -0.592516          8.686852           -0.810009   \n",
       "2022-12-01         -0.624310          8.655184           -0.487922   \n",
       "...                      ...               ...                 ...   \n",
       "2066-12-01         -0.272198          9.106436           -1.258171   \n",
       "2067-01-01         -0.271527          9.107126           -1.652643   \n",
       "2067-02-01         -0.270858          9.107815           -1.892183   \n",
       "2067-03-01         -0.270187          9.108506           -1.261167   \n",
       "2067-04-01         -0.269513          9.109199           -1.164580   \n",
       "2067-05-01         -0.268844          9.109888           -0.990505   \n",
       "2067-06-01         -0.268171          9.110580           -1.039301   \n",
       "2067-07-01         -0.267502          9.111269           -1.140431   \n",
       "2067-08-01         -0.266830          9.111960           -1.220885   \n",
       "2067-09-01         -0.266158          9.112652            0.224884   \n",
       "2067-10-01         -0.265487          9.113343           -1.602993   \n",
       "2067-11-01         -0.264817          9.114033           -1.452157   \n",
       "2067-12-01         -0.264145          9.114724           -1.272123   \n",
       "2068-01-01         -0.263473          9.115416           -1.666320   \n",
       "2068-02-01         -0.262803          9.116106           -1.905693   \n",
       "2068-03-01         -0.262131          9.116798           -1.275116   \n",
       "2068-04-01         -0.261456          9.117492           -1.178596   \n",
       "2068-05-01         -0.260786          9.118182           -1.004611   \n",
       "2068-06-01         -0.260112          9.118875           -1.053372   \n",
       "2068-07-01         -0.259441          9.119566           -1.154431   \n",
       "2068-08-01         -0.258768          9.120259           -1.234829   \n",
       "2068-09-01         -0.258096          9.120951            0.209933   \n",
       "2068-10-01         -0.257423          9.121644           -1.616671   \n",
       "2068-11-01         -0.256751          9.122335           -1.465941   \n",
       "2068-12-01         -0.256079          9.123028           -1.286031   \n",
       "2069-01-01         -0.255405          9.123721           -1.679954   \n",
       "2069-02-01         -0.254733          9.124412           -1.919160   \n",
       "2069-03-01         -0.254060          9.125106           -1.289023   \n",
       "2069-04-01         -0.253385          9.125800           -1.192570   \n",
       "2069-05-01         -0.252713          9.126492           -1.018673   \n",
       "\n",
       "            upper Asheboro, NC  ...  lower W. KERR SCOTT RESV., NC  \\\n",
       "2020-07-01            8.441845  ...                       0.489473   \n",
       "2020-08-01            8.417526  ...                       0.394381   \n",
       "2020-09-01            9.215080  ...                       0.324734   \n",
       "2020-10-01            7.679749  ...                       0.306447   \n",
       "2020-11-01            8.035099  ...                       0.097302   \n",
       "2020-12-01            7.883755  ...                       0.342468   \n",
       "2021-01-01            7.758048  ...                       0.412278   \n",
       "2021-02-01            7.716159  ...                       0.093409   \n",
       "2021-03-01            8.385311  ...                       0.253159   \n",
       "2021-04-01            8.228903  ...                       0.691826   \n",
       "2021-05-01            8.837716  ...                       0.512712   \n",
       "2021-06-01            8.737919  ...                       0.257174   \n",
       "2021-07-01            8.170330  ...                       0.341108   \n",
       "2021-08-01            8.552308  ...                       0.420569   \n",
       "2021-09-01           10.073505  ...                       0.440001   \n",
       "2021-10-01            7.903997  ...                       0.598010   \n",
       "2021-11-01            8.340069  ...                       0.177427   \n",
       "2021-12-01            8.671443  ...                       0.173667   \n",
       "2022-01-01            7.801145  ...                       0.397952   \n",
       "2022-02-01            7.758703  ...                       0.448447   \n",
       "2022-03-01            8.522213  ...                       0.298901   \n",
       "2022-04-01            8.374373  ...                       0.535871   \n",
       "2022-05-01            8.614282  ...                       0.465003   \n",
       "2022-06-01            8.626709  ...                       0.211350   \n",
       "2022-07-01            8.593564  ...                       0.495419   \n",
       "2022-08-01            8.438955  ...                       0.611749   \n",
       "2022-09-01           10.238041  ...                       0.393513   \n",
       "2022-10-01            8.098825  ...                       0.649092   \n",
       "2022-11-01            8.162651  ...                       0.523448   \n",
       "2022-12-01            8.484851  ...                       0.655442   \n",
       "...                        ...  ...                            ...   \n",
       "2066-12-01            8.808592  ...                       0.745458   \n",
       "2067-01-01            8.414152  ...                       0.746202   \n",
       "2067-02-01            8.174581  ...                       0.746945   \n",
       "2067-03-01            8.805604  ...                       0.747689   \n",
       "2067-04-01            8.902191  ...                       0.748433   \n",
       "2067-05-01            9.098499  ...                       0.749177   \n",
       "2067-06-01            9.049803  ...                       0.749922   \n",
       "2067-07-01            8.948860  ...                       0.750666   \n",
       "2067-08-01            8.868405  ...                       0.751410   \n",
       "2067-09-01           10.314183  ...                       0.752155   \n",
       "2067-10-01            8.486384  ...                       0.752900   \n",
       "2067-11-01            8.637219  ...                       0.753645   \n",
       "2067-12-01            8.817283  ...                       0.754389   \n",
       "2068-01-01            8.423118  ...                       0.755135   \n",
       "2068-02-01            8.183713  ...                       0.755880   \n",
       "2068-03-01            8.814297  ...                       0.756625   \n",
       "2068-04-01            8.910817  ...                       0.757371   \n",
       "2068-05-01            9.106955  ...                       0.758116   \n",
       "2068-06-01            9.058293  ...                       0.758862   \n",
       "2068-07-01            8.957420  ...                       0.759608   \n",
       "2068-08-01            8.877021  ...                       0.760353   \n",
       "2068-09-01           10.321791  ...                       0.761099   \n",
       "2068-10-01            8.495266  ...                       0.761846   \n",
       "2068-11-01            8.645996  ...                       0.762592   \n",
       "2068-12-01            8.825934  ...                       0.763338   \n",
       "2069-01-01            8.432044  ...                       0.764085   \n",
       "2069-02-01            8.192806  ...                       0.764832   \n",
       "2069-03-01            8.822950  ...                       0.765578   \n",
       "2069-04-01            8.919403  ...                       0.766325   \n",
       "2069-05-01            9.115373  ...                       0.767072   \n",
       "\n",
       "            upper W. KERR SCOTT RESV., NC  lower YADKINVILLE 6 E, NC  \\\n",
       "2020-07-01                       9.466364                   0.552304   \n",
       "2020-08-01                       9.371428                   0.710478   \n",
       "2020-09-01                       9.304054                   0.128112   \n",
       "2020-10-01                       9.288335                  -0.544713   \n",
       "2020-11-01                       9.079405                  -0.892698   \n",
       "2020-12-01                       9.326395                  -0.296213   \n",
       "2021-01-01                       9.399008                  -0.590684   \n",
       "2021-02-01                       9.080446                  -0.826369   \n",
       "2021-03-01                       9.241653                  -0.264914   \n",
       "2021-04-01                       9.683254                   0.088766   \n",
       "2021-05-01                       9.509555                   0.486867   \n",
       "2021-06-01                       9.255593                   0.063354   \n",
       "2021-07-01                       9.342589                   0.610062   \n",
       "2021-08-01                       9.422663                   0.874988   \n",
       "2021-09-01                       9.443157                   0.345970   \n",
       "2021-10-01                       9.604159                  -0.273030   \n",
       "2021-11-01                       9.184379                  -0.578675   \n",
       "2021-12-01                       9.181514                   0.091952   \n",
       "2022-01-01                       9.408680                  -0.522406   \n",
       "2022-02-01                       9.460186                  -0.601265   \n",
       "2022-03-01                       9.311424                  -0.458615   \n",
       "2022-04-01                       9.551106                  -0.034822   \n",
       "2022-05-01                       9.480731                   0.458207   \n",
       "2022-06-01                       9.227724                   0.062989   \n",
       "2022-07-01                       9.514279                   0.753508   \n",
       "2022-08-01                       9.632049                   0.690471   \n",
       "2022-09-01                       9.414480                   0.200589   \n",
       "2022-10-01                       9.672327                  -0.529021   \n",
       "2022-11-01                       9.548324                  -0.765748   \n",
       "2022-12-01                       9.680988                  -0.133800   \n",
       "...                                   ...                        ...   \n",
       "2066-12-01                      10.741940                  -0.613830   \n",
       "2067-01-01                      10.744666                  -0.969634   \n",
       "2067-02-01                      10.747393                  -1.206199   \n",
       "2067-03-01                      10.750120                  -0.865315   \n",
       "2067-04-01                      10.752849                  -0.399847   \n",
       "2067-05-01                      10.755579                  -0.061055   \n",
       "2067-06-01                      10.758310                  -0.358183   \n",
       "2067-07-01                      10.761041                   0.117933   \n",
       "2067-08-01                      10.763774                   0.257074   \n",
       "2067-09-01                      10.766507                  -0.240293   \n",
       "2067-10-01                      10.769241                  -0.956364   \n",
       "2067-11-01                      10.771977                  -1.143675   \n",
       "2067-12-01                      10.774713                  -0.623523   \n",
       "2068-01-01                      10.777450                  -0.979091   \n",
       "2068-02-01                      10.780188                  -1.215524   \n",
       "2068-03-01                      10.782927                  -0.874839   \n",
       "2068-04-01                      10.785667                  -0.409672   \n",
       "2068-05-01                      10.788408                  -0.071072   \n",
       "2068-06-01                      10.791149                  -0.368010   \n",
       "2068-07-01                      10.793892                   0.107798   \n",
       "2068-08-01                      10.796636                   0.246866   \n",
       "2068-09-01                      10.799380                  -0.250204   \n",
       "2068-10-01                      10.802126                  -0.965815   \n",
       "2068-11-01                      10.804872                  -1.153015   \n",
       "2068-12-01                      10.807620                  -0.633189   \n",
       "2069-01-01                      10.810368                  -0.988528   \n",
       "2069-02-01                      10.813117                  -1.224823   \n",
       "2069-03-01                      10.815867                  -0.884339   \n",
       "2069-04-01                      10.818618                  -0.419475   \n",
       "2069-05-01                      10.821370                  -0.081062   \n",
       "\n",
       "            upper YADKINVILLE 6 E, NC  lower HAYESVILLE 1 NE, NC  \\\n",
       "2020-07-01                   8.350530                   1.571594   \n",
       "2020-08-01                   8.509929                   0.855963   \n",
       "2020-09-01                   7.927566                   0.938361   \n",
       "2020-10-01                   7.254731                   0.373805   \n",
       "2020-11-01                   6.907973                   1.180722   \n",
       "2020-12-01                   7.505504                   1.977777   \n",
       "2021-01-01                   7.212674                   1.409783   \n",
       "2021-02-01                   6.977284                   1.588700   \n",
       "2021-03-01                   7.538793                   1.483123   \n",
       "2021-04-01                   7.892505                   0.867866   \n",
       "2021-05-01                   8.292209                   0.870292   \n",
       "2021-06-01                   7.870219                   1.187147   \n",
       "2021-07-01                   8.417891                   1.497804   \n",
       "2021-08-01                   8.683932                   0.948009   \n",
       "2021-09-01                   8.155159                   0.834560   \n",
       "2021-10-01                   7.536141                   0.032874   \n",
       "2021-11-01                   7.230710                   1.204967   \n",
       "2021-12-01                   7.901913                   1.994130   \n",
       "2022-01-01                   7.288641                   1.521367   \n",
       "2022-02-01                   7.210445                   1.284188   \n",
       "2022-03-01                   7.353505                   1.565268   \n",
       "2022-04-01                   7.777374                   0.926293   \n",
       "2022-05-01                   8.303428                   0.871076   \n",
       "2022-06-01                   7.909810                   1.124051   \n",
       "2022-07-01                   8.600655                   1.493725   \n",
       "2022-08-01                   8.539116                   0.866110   \n",
       "2022-09-01                   8.049508                   0.784188   \n",
       "2022-10-01                   7.320171                   0.046982   \n",
       "2022-11-01                   7.083482                   0.892862   \n",
       "2022-12-01                   7.715554                   1.620335   \n",
       "...                               ...                        ...   \n",
       "2066-12-01                   7.949711                   1.842910   \n",
       "2067-01-01                   7.593959                   1.449154   \n",
       "2067-02-01                   7.357262                   1.308510   \n",
       "2067-03-01                   7.698120                   1.549740   \n",
       "2067-04-01                   8.163545                   0.907379   \n",
       "2067-05-01                   8.516835                   0.884108   \n",
       "2067-06-01                   8.219976                   1.168120   \n",
       "2067-07-01                   8.696086                   1.510275   \n",
       "2067-08-01                   8.835355                   0.900469   \n",
       "2067-09-01                   8.337985                   0.839667   \n",
       "2067-10-01                   7.621936                   0.119530   \n",
       "2067-11-01                   7.434643                   1.074520   \n",
       "2067-12-01                   7.954798                   1.843230   \n",
       "2068-01-01                   7.599282                   1.449452   \n",
       "2068-02-01                   7.362717                   1.308800   \n",
       "2068-03-01                   7.703377                   1.550044   \n",
       "2068-04-01                   8.168500                   0.907647   \n",
       "2068-05-01                   8.521554                   0.884376   \n",
       "2068-06-01                   8.224885                   1.168403   \n",
       "2068-07-01                   8.700687                   1.510577   \n",
       "2068-08-01                   8.839882                   0.900737   \n",
       "2068-09-01                   8.342809                   0.839932   \n",
       "2068-10-01                   7.627220                   0.119756   \n",
       "2068-11-01                   7.440039                   1.074798   \n",
       "2068-12-01                   7.959867                   1.843550   \n",
       "2069-01-01                   7.604580                   1.449750   \n",
       "2069-02-01                   7.368153                   1.309091   \n",
       "2069-03-01                   7.708612                   1.550348   \n",
       "2069-04-01                   8.173432                   0.907916   \n",
       "2069-05-01                   8.526256                   0.884643   \n",
       "\n",
       "            upper HAYESVILLE 1 NE, NC  lower MURPHY 4ESE, NC  \\\n",
       "2020-07-01                   9.838697               1.293592   \n",
       "2020-08-01                   9.123688               0.957393   \n",
       "2020-09-01                   9.206049               0.314288   \n",
       "2020-10-01                   8.641618              -0.736728   \n",
       "2020-11-01                   9.448522               1.123648   \n",
       "2020-12-01                  10.245595               2.192002   \n",
       "2021-01-01                   9.677598               0.998965   \n",
       "2021-02-01                   9.856402               1.478628   \n",
       "2021-03-01                   9.750512               0.666117   \n",
       "2021-04-01                   9.135238               0.263887   \n",
       "2021-05-01                   9.146299               0.580551   \n",
       "2021-06-01                   9.463266               0.780573   \n",
       "2021-07-01                   9.773480               0.986184   \n",
       "2021-08-01                   9.223926               0.251341   \n",
       "2021-09-01                   9.110393               0.065459   \n",
       "2021-10-01                   8.308758              -1.210840   \n",
       "2021-11-01                   9.480834               0.538858   \n",
       "2021-12-01                  10.270004               1.404127   \n",
       "2022-01-01                   9.797238               0.987771   \n",
       "2022-02-01                   9.559938               0.700615   \n",
       "2022-03-01                   9.840692               0.716339   \n",
       "2022-04-01                   9.201698               0.272515   \n",
       "2022-05-01                   9.152970               0.530919   \n",
       "2022-06-01                   9.406005               0.780361   \n",
       "2022-07-01                   9.775172               1.005058   \n",
       "2022-08-01                   9.147744              -0.019114   \n",
       "2022-09-01                   9.065725               0.129630   \n",
       "2022-10-01                   8.328559              -0.828820   \n",
       "2022-11-01                   9.174421               0.365181   \n",
       "2022-12-01                   9.901900               1.138179   \n",
       "...                               ...                    ...   \n",
       "2066-12-01                  10.125983               1.516814   \n",
       "2067-01-01                   9.732223               0.954355   \n",
       "2067-02-01                   9.591457               0.969000   \n",
       "2067-03-01                   9.832358               0.701222   \n",
       "2067-04-01                   9.189978               0.242826   \n",
       "2067-05-01                   9.167912               0.617119   \n",
       "2067-06-01                   9.451868               0.811729   \n",
       "2067-07-01                   9.793429               1.104710   \n",
       "2067-08-01                   9.183676               0.316570   \n",
       "2067-09-01                   9.122758               0.188748   \n",
       "2067-10-01                   8.402636              -0.920302   \n",
       "2067-11-01                   9.357605               0.640110   \n",
       "2067-12-01                  10.126317               1.518536   \n",
       "2068-01-01                   9.732536               0.955896   \n",
       "2068-02-01                   9.591762               0.970546   \n",
       "2068-03-01                   9.832676               0.702683   \n",
       "2068-04-01                   9.190261               0.244139   \n",
       "2068-05-01                   9.168194               0.618552   \n",
       "2068-06-01                   9.452166               0.813225   \n",
       "2068-07-01                   9.793745               1.106299   \n",
       "2068-08-01                   9.183959               0.317907   \n",
       "2068-09-01                   9.123038               0.190044   \n",
       "2068-10-01                   8.402876              -0.919361   \n",
       "2068-11-01                   9.357898               0.641551   \n",
       "2068-12-01                  10.126651               1.520258   \n",
       "2069-01-01                   9.732848               0.957438   \n",
       "2069-02-01                   9.592067               0.972093   \n",
       "2069-03-01                   9.832995               0.704143   \n",
       "2069-04-01                   9.190544               0.245453   \n",
       "2069-05-01                   9.168476               0.619986   \n",
       "\n",
       "            upper MURPHY 4ESE, NC  lower  KING, NC  upper  KING, NC  \n",
       "2020-07-01               9.973861         0.133756         7.866995  \n",
       "2020-08-01               9.637697        -0.049704         7.683603  \n",
       "2020-09-01               8.994569        -0.181033         7.552261  \n",
       "2020-10-01               7.943565        -0.293157         7.440144  \n",
       "2020-11-01               9.803935        -0.367039         7.366273  \n",
       "2020-12-01              10.872280        -0.286830         7.446474  \n",
       "2021-01-01               9.679235        -0.041375         7.691951  \n",
       "2021-02-01              10.158584        -0.259062         7.474252  \n",
       "2021-03-01               9.345897         0.088634         7.821972  \n",
       "2021-04-01               8.943536         0.572620         8.305947  \n",
       "2021-05-01               9.316395         0.540586         8.284287  \n",
       "2021-06-01               9.516929         0.095596         7.839310  \n",
       "2021-07-01               9.722157        -0.092870         7.651014  \n",
       "2021-08-01               8.988017         0.196284         7.940142  \n",
       "2021-09-01               8.802876         0.144040         7.887962  \n",
       "2021-10-01               7.526933         0.155665         7.899568  \n",
       "2021-11-01               9.276782        -0.033049         7.710883  \n",
       "2021-12-01              10.142075        -0.004222         7.739700  \n",
       "2022-01-01               9.725723        -0.040440         7.703496  \n",
       "2022-02-01               9.438198         0.179228         7.923160  \n",
       "2022-03-01               9.453715        -0.019477         7.724464  \n",
       "2022-04-01               9.009737         0.161232         7.905173  \n",
       "2022-05-01               9.267994         0.523909         8.274143  \n",
       "2022-06-01               9.517219        -0.039553         7.710805  \n",
       "2022-07-01               9.741146        -0.024978         7.725353  \n",
       "2022-08-01               8.716979         0.326695         8.077075  \n",
       "2022-09-01               8.865593         0.352465         8.102830  \n",
       "2022-10-01               7.907141         0.349163         8.099547  \n",
       "2022-11-01               9.101108         0.240118         7.990497  \n",
       "2022-12-01               9.874097         0.340089         8.090477  \n",
       "...                           ...              ...              ...  \n",
       "2066-12-01              10.275265         0.160157         7.938945  \n",
       "2067-01-01               9.712791         0.160331         7.939123  \n",
       "2067-02-01               9.727072         0.160505         7.939301  \n",
       "2067-03-01               9.459089         0.160678         7.939479  \n",
       "2067-04-01               9.000540         0.160852         7.939657  \n",
       "2067-05-01               9.376934         0.161026         7.939835  \n",
       "2067-06-01               9.571358         0.161199         7.940013  \n",
       "2067-07-01               9.863580         0.161373         7.940191  \n",
       "2067-08-01               9.075476         0.161547         7.940369  \n",
       "2067-09-01               8.947557         0.161720         7.940547  \n",
       "2067-10-01               7.838521         0.161894         7.940725  \n",
       "2067-11-01               9.398906         0.162068         7.940903  \n",
       "2067-12-01              10.277323         0.162241         7.941081  \n",
       "2068-01-01               9.714669         0.162415         7.941260  \n",
       "2068-02-01               9.728955         0.162589         7.941438  \n",
       "2068-03-01               9.460885         0.162763         7.941616  \n",
       "2068-04-01               9.002190         0.162936         7.941794  \n",
       "2068-05-01               9.378704         0.163110         7.941972  \n",
       "2068-06-01               9.573191         0.163284         7.942150  \n",
       "2068-07-01               9.865506         0.163458         7.942328  \n",
       "2068-08-01               9.077149         0.163631         7.942506  \n",
       "2068-09-01               8.949190         0.163805         7.942685  \n",
       "2068-10-01               7.839798         0.163979         7.942863  \n",
       "2068-11-01               9.400683         0.164153         7.943041  \n",
       "2068-12-01              10.279382         0.164326         7.943219  \n",
       "2069-01-01               9.716548         0.164500         7.943397  \n",
       "2069-02-01               9.730838         0.164674         7.943575  \n",
       "2069-03-01               9.462682         0.164848         7.943754  \n",
       "2069-04-01               9.003840         0.165022         7.943932  \n",
       "2069-05-01               9.380475         0.165195         7.944110  \n",
       "\n",
       "[587 rows x 208 columns]"
      ]
     },
     "execution_count": 66,
     "metadata": {},
     "output_type": "execute_result"
    }
   ],
   "source": [
    "rest_one_df, rest_pre_df = prediction_fx(ncrd_less, '2020-07-01', '2069-05-01')\n",
    "rest_pre_df"
   ]
  },
  {
   "cell_type": "code",
   "execution_count": 38,
   "metadata": {
    "scrolled": false
   },
   "outputs": [
    {
     "data": {
      "text/plain": [
       "{'WHITEVILLE 7 NW, NC': [' LORIS 2 S, SC'],\n",
       " 'CASAR, NC': ['CHESNEE 7 WSW, SC', 'GAFFNEY 6 E, SC'],\n",
       " 'FOREST CITY 8 W, NC': ['CHESNEE 7 WSW, SC',\n",
       "  'GAFFNEY 6 E, SC',\n",
       "  'SPARTANBURG 3 SSE, SC'],\n",
       " 'GASTONIA, NC': ['FORT MILL 4 NW, SC', 'GAFFNEY 6 E, SC'],\n",
       " 'LAKE LURE 2, NC': ['CHESNEE 7 WSW, SC', 'CLEVELAND 3S, SC'],\n",
       " ' MOUNT HOLLY 4 NE, NC': ['FORT MILL 4 NW, SC'],\n",
       " 'GRANDFATHER MTN, NC': ['ELIZABETHTON, TN', 'ROAN MOUNTAIN 3SW, TN']}"
      ]
     },
     "execution_count": 38,
     "metadata": {},
     "output_type": "execute_result"
    }
   ],
   "source": [
    "with_exogs.pop(5)\n",
    "exogenous_var_select = {k: exogen[k] for k in with_exogs}\n",
    "exogenous_var_select"
   ]
  },
  {
   "cell_type": "code",
   "execution_count": 176,
   "metadata": {
    "scrolled": true
   },
   "outputs": [
    {
     "name": "stdout",
     "output_type": "stream",
     "text": [
      "             LORIS 2 S, SC\n",
      "Date                      \n",
      "1980-01-01            4.22\n",
      "1980-02-01            2.10\n",
      "1980-03-01            8.24\n",
      "1980-04-01            1.40\n",
      "1980-05-01            4.52\n"
     ]
    },
    {
     "ename": "ValueError",
     "evalue": "Invalid value for design matrix. Requires a 2- or 3-dimensional array, got 1 dimensions",
     "output_type": "error",
     "traceback": [
      "\u001b[1;31m---------------------------------------------------------------------------\u001b[0m",
      "\u001b[1;31mValueError\u001b[0m                                Traceback (most recent call last)",
      "\u001b[1;32m<ipython-input-176-113c02cc5b2c>\u001b[0m in \u001b[0;36m<module>\u001b[1;34m\u001b[0m\n\u001b[0;32m      1\u001b[0m \u001b[1;32mfor\u001b[0m \u001b[0mkey\u001b[0m\u001b[1;33m,\u001b[0m\u001b[0mvalue\u001b[0m \u001b[1;32min\u001b[0m \u001b[0mexo_var_dict\u001b[0m\u001b[1;33m.\u001b[0m\u001b[0mitems\u001b[0m\u001b[1;33m(\u001b[0m\u001b[1;33m)\u001b[0m\u001b[1;33m:\u001b[0m\u001b[1;33m\u001b[0m\u001b[1;33m\u001b[0m\u001b[0m\n\u001b[0;32m      2\u001b[0m     \u001b[1;32mfor\u001b[0m \u001b[0mv\u001b[0m \u001b[1;32min\u001b[0m \u001b[0mvalue\u001b[0m\u001b[1;33m:\u001b[0m\u001b[1;33m\u001b[0m\u001b[1;33m\u001b[0m\u001b[0m\n\u001b[1;32m----> 3\u001b[1;33m         \u001b[0mmod_fitttt\u001b[0m \u001b[1;33m=\u001b[0m \u001b[0msarima_model_creation\u001b[0m\u001b[1;33m(\u001b[0m\u001b[0mv\u001b[0m\u001b[1;33m,\u001b[0m\u001b[1;36m4\u001b[0m\u001b[1;33m,\u001b[0m\u001b[1;36m0\u001b[0m\u001b[1;33m,\u001b[0m\u001b[1;36m3\u001b[0m\u001b[1;33m,\u001b[0m\u001b[1;36m3\u001b[0m\u001b[1;33m,\u001b[0m\u001b[1;36m0\u001b[0m\u001b[1;33m,\u001b[0m\u001b[1;36m4\u001b[0m\u001b[1;33m,\u001b[0m \u001b[1;36m12\u001b[0m\u001b[1;33m)\u001b[0m\u001b[1;33m\u001b[0m\u001b[1;33m\u001b[0m\u001b[0m\n\u001b[0m\u001b[0;32m      4\u001b[0m         \u001b[0mprint\u001b[0m\u001b[1;33m(\u001b[0m\u001b[0mv\u001b[0m\u001b[1;33m.\u001b[0m\u001b[0mhead\u001b[0m\u001b[1;33m(\u001b[0m\u001b[1;33m)\u001b[0m\u001b[1;33m)\u001b[0m\u001b[1;33m\u001b[0m\u001b[1;33m\u001b[0m\u001b[0m\n",
      "\u001b[1;32m<ipython-input-4-5fcefe079e19>\u001b[0m in \u001b[0;36msarima_model_creation\u001b[1;34m(data, p, d, q, P, D, Q, m, exog)\u001b[0m\n\u001b[0;32m      4\u001b[0m     sarimamod = sm.tsa.statespace.SARIMAX(data, exog, order=my_order, seasonal_order=my_sorder, \n\u001b[0;32m      5\u001b[0m                                           \u001b[0menforce_stationarity\u001b[0m\u001b[1;33m=\u001b[0m\u001b[1;32mFalse\u001b[0m\u001b[1;33m,\u001b[0m \u001b[0menforce_invertibility\u001b[0m\u001b[1;33m=\u001b[0m\u001b[1;32mFalse\u001b[0m\u001b[1;33m,\u001b[0m\u001b[1;33m\u001b[0m\u001b[1;33m\u001b[0m\u001b[0m\n\u001b[1;32m----> 6\u001b[1;33m                                           initialization='approximate_diffuse')\n\u001b[0m\u001b[0;32m      7\u001b[0m     \u001b[0mmodel_fit\u001b[0m \u001b[1;33m=\u001b[0m \u001b[0msarimamod\u001b[0m\u001b[1;33m.\u001b[0m\u001b[0mfit\u001b[0m\u001b[1;33m(\u001b[0m\u001b[1;33m)\u001b[0m\u001b[1;31m# start_params=[0, 0, 0, 0, 1])\u001b[0m\u001b[1;33m\u001b[0m\u001b[1;33m\u001b[0m\u001b[0m\n\u001b[0;32m      8\u001b[0m     \u001b[1;32mreturn\u001b[0m\u001b[1;33m(\u001b[0m\u001b[0mmodel_fit\u001b[0m\u001b[1;33m)\u001b[0m\u001b[1;33m\u001b[0m\u001b[1;33m\u001b[0m\u001b[0m\n",
      "\u001b[1;32m~\\Anaconda3\\lib\\site-packages\\statsmodels\\tsa\\statespace\\sarimax.py\u001b[0m in \u001b[0;36m__init__\u001b[1;34m(self, endog, exog, order, seasonal_order, trend, measurement_error, time_varying_regression, mle_regression, simple_differencing, enforce_stationarity, enforce_invertibility, hamilton_representation, **kwargs)\u001b[0m\n\u001b[0;32m    509\u001b[0m \u001b[1;33m\u001b[0m\u001b[0m\n\u001b[0;32m    510\u001b[0m         \u001b[1;31m# Initialize the fixed components of the statespace model\u001b[0m\u001b[1;33m\u001b[0m\u001b[1;33m\u001b[0m\u001b[1;33m\u001b[0m\u001b[0m\n\u001b[1;32m--> 511\u001b[1;33m         \u001b[0mself\u001b[0m\u001b[1;33m.\u001b[0m\u001b[0mssm\u001b[0m\u001b[1;33m[\u001b[0m\u001b[1;34m'design'\u001b[0m\u001b[1;33m]\u001b[0m \u001b[1;33m=\u001b[0m \u001b[0mself\u001b[0m\u001b[1;33m.\u001b[0m\u001b[0minitial_design\u001b[0m\u001b[1;33m\u001b[0m\u001b[1;33m\u001b[0m\u001b[0m\n\u001b[0m\u001b[0;32m    512\u001b[0m         \u001b[0mself\u001b[0m\u001b[1;33m.\u001b[0m\u001b[0mssm\u001b[0m\u001b[1;33m[\u001b[0m\u001b[1;34m'state_intercept'\u001b[0m\u001b[1;33m]\u001b[0m \u001b[1;33m=\u001b[0m \u001b[0mself\u001b[0m\u001b[1;33m.\u001b[0m\u001b[0minitial_state_intercept\u001b[0m\u001b[1;33m\u001b[0m\u001b[1;33m\u001b[0m\u001b[0m\n\u001b[0;32m    513\u001b[0m         \u001b[0mself\u001b[0m\u001b[1;33m.\u001b[0m\u001b[0mssm\u001b[0m\u001b[1;33m[\u001b[0m\u001b[1;34m'transition'\u001b[0m\u001b[1;33m]\u001b[0m \u001b[1;33m=\u001b[0m \u001b[0mself\u001b[0m\u001b[1;33m.\u001b[0m\u001b[0minitial_transition\u001b[0m\u001b[1;33m\u001b[0m\u001b[1;33m\u001b[0m\u001b[0m\n",
      "\u001b[1;32m~\\Anaconda3\\lib\\site-packages\\statsmodels\\tsa\\statespace\\representation.py\u001b[0m in \u001b[0;36m__setitem__\u001b[1;34m(self, key, value)\u001b[0m\n\u001b[0;32m    407\u001b[0m                 raise IndexError('\"%s\" is an invalid state space matrix name'\n\u001b[0;32m    408\u001b[0m                                  % key)\n\u001b[1;32m--> 409\u001b[1;33m             \u001b[0msetattr\u001b[0m\u001b[1;33m(\u001b[0m\u001b[0mself\u001b[0m\u001b[1;33m,\u001b[0m \u001b[0mkey\u001b[0m\u001b[1;33m,\u001b[0m \u001b[0mvalue\u001b[0m\u001b[1;33m)\u001b[0m\u001b[1;33m\u001b[0m\u001b[1;33m\u001b[0m\u001b[0m\n\u001b[0m\u001b[0;32m    410\u001b[0m         \u001b[1;31m# If it's a tuple (with a string as the first element) then we must be\u001b[0m\u001b[1;33m\u001b[0m\u001b[1;33m\u001b[0m\u001b[1;33m\u001b[0m\u001b[0m\n\u001b[0;32m    411\u001b[0m         \u001b[1;31m# setting a slice of a matrix\u001b[0m\u001b[1;33m\u001b[0m\u001b[1;33m\u001b[0m\u001b[1;33m\u001b[0m\u001b[0m\n",
      "\u001b[1;32m~\\Anaconda3\\lib\\site-packages\\statsmodels\\tsa\\statespace\\representation.py\u001b[0m in \u001b[0;36m__set__\u001b[1;34m(self, obj, value)\u001b[0m\n\u001b[0;32m     52\u001b[0m \u001b[1;33m\u001b[0m\u001b[0m\n\u001b[0;32m     53\u001b[0m         \u001b[1;32mif\u001b[0m \u001b[0mlen\u001b[0m\u001b[1;33m(\u001b[0m\u001b[0mshape\u001b[0m\u001b[1;33m)\u001b[0m \u001b[1;33m==\u001b[0m \u001b[1;36m3\u001b[0m\u001b[1;33m:\u001b[0m\u001b[1;33m\u001b[0m\u001b[1;33m\u001b[0m\u001b[0m\n\u001b[1;32m---> 54\u001b[1;33m             \u001b[0mvalue\u001b[0m \u001b[1;33m=\u001b[0m \u001b[0mself\u001b[0m\u001b[1;33m.\u001b[0m\u001b[0m_set_matrix\u001b[0m\u001b[1;33m(\u001b[0m\u001b[0mobj\u001b[0m\u001b[1;33m,\u001b[0m \u001b[0mvalue\u001b[0m\u001b[1;33m,\u001b[0m \u001b[0mshape\u001b[0m\u001b[1;33m)\u001b[0m\u001b[1;33m\u001b[0m\u001b[1;33m\u001b[0m\u001b[0m\n\u001b[0m\u001b[0;32m     55\u001b[0m         \u001b[1;32melse\u001b[0m\u001b[1;33m:\u001b[0m\u001b[1;33m\u001b[0m\u001b[1;33m\u001b[0m\u001b[0m\n\u001b[0;32m     56\u001b[0m             \u001b[0mvalue\u001b[0m \u001b[1;33m=\u001b[0m \u001b[0mself\u001b[0m\u001b[1;33m.\u001b[0m\u001b[0m_set_vector\u001b[0m\u001b[1;33m(\u001b[0m\u001b[0mobj\u001b[0m\u001b[1;33m,\u001b[0m \u001b[0mvalue\u001b[0m\u001b[1;33m,\u001b[0m \u001b[0mshape\u001b[0m\u001b[1;33m)\u001b[0m\u001b[1;33m\u001b[0m\u001b[1;33m\u001b[0m\u001b[0m\n",
      "\u001b[1;32m~\\Anaconda3\\lib\\site-packages\\statsmodels\\tsa\\statespace\\representation.py\u001b[0m in \u001b[0;36m_set_matrix\u001b[1;34m(self, obj, value, shape)\u001b[0m\n\u001b[0;32m     66\u001b[0m         \u001b[1;31m# Enforce that the matrix is appropriate size\u001b[0m\u001b[1;33m\u001b[0m\u001b[1;33m\u001b[0m\u001b[1;33m\u001b[0m\u001b[0m\n\u001b[0;32m     67\u001b[0m         validate_matrix_shape(\n\u001b[1;32m---> 68\u001b[1;33m             \u001b[0mself\u001b[0m\u001b[1;33m.\u001b[0m\u001b[0mname\u001b[0m\u001b[1;33m,\u001b[0m \u001b[0mvalue\u001b[0m\u001b[1;33m.\u001b[0m\u001b[0mshape\u001b[0m\u001b[1;33m,\u001b[0m \u001b[0mshape\u001b[0m\u001b[1;33m[\u001b[0m\u001b[1;36m0\u001b[0m\u001b[1;33m]\u001b[0m\u001b[1;33m,\u001b[0m \u001b[0mshape\u001b[0m\u001b[1;33m[\u001b[0m\u001b[1;36m1\u001b[0m\u001b[1;33m]\u001b[0m\u001b[1;33m,\u001b[0m \u001b[0mobj\u001b[0m\u001b[1;33m.\u001b[0m\u001b[0mnobs\u001b[0m\u001b[1;33m\u001b[0m\u001b[1;33m\u001b[0m\u001b[0m\n\u001b[0m\u001b[0;32m     69\u001b[0m         )\n\u001b[0;32m     70\u001b[0m \u001b[1;33m\u001b[0m\u001b[0m\n",
      "\u001b[1;32m~\\Anaconda3\\lib\\site-packages\\statsmodels\\tsa\\statespace\\tools.py\u001b[0m in \u001b[0;36mvalidate_matrix_shape\u001b[1;34m(name, shape, nrows, ncols, nobs)\u001b[0m\n\u001b[0;32m   1538\u001b[0m         raise ValueError('Invalid value for %s matrix. Requires a'\n\u001b[0;32m   1539\u001b[0m                          \u001b[1;34m' 2- or 3-dimensional array, got %d dimensions'\u001b[0m \u001b[1;33m%\u001b[0m\u001b[1;33m\u001b[0m\u001b[1;33m\u001b[0m\u001b[0m\n\u001b[1;32m-> 1540\u001b[1;33m                          (name, ndim))\n\u001b[0m\u001b[0;32m   1541\u001b[0m     \u001b[1;31m# Enforce the shape of the matrix\u001b[0m\u001b[1;33m\u001b[0m\u001b[1;33m\u001b[0m\u001b[1;33m\u001b[0m\u001b[0m\n\u001b[0;32m   1542\u001b[0m     \u001b[1;32mif\u001b[0m \u001b[1;32mnot\u001b[0m \u001b[0mshape\u001b[0m\u001b[1;33m[\u001b[0m\u001b[1;36m0\u001b[0m\u001b[1;33m]\u001b[0m \u001b[1;33m==\u001b[0m \u001b[0mnrows\u001b[0m\u001b[1;33m:\u001b[0m\u001b[1;33m\u001b[0m\u001b[1;33m\u001b[0m\u001b[0m\n",
      "\u001b[1;31mValueError\u001b[0m: Invalid value for design matrix. Requires a 2- or 3-dimensional array, got 1 dimensions"
     ]
    }
   ],
   "source": [
    "for key,value in exo_var_dict.items():\n",
    "    for v in value:\n",
    "        mod_fitttt = sarima_model_creation(v,4,0,3,3,0,4, 12)\n",
    "        print(v.head())"
   ]
  },
  {
   "cell_type": "code",
   "execution_count": 193,
   "metadata": {
    "scrolled": true
   },
   "outputs": [
    {
     "data": {
      "text/plain": [
       "Date\n",
       "1980-01-01     4.75\n",
       "1980-02-01     1.02\n",
       "1980-03-01    10.56\n",
       "1980-04-01     4.16\n",
       "1980-05-01    10.08\n",
       "1980-06-01     5.39\n",
       "1980-07-01     3.45\n",
       "1980-08-01     4.41\n",
       "1980-09-01     7.32\n",
       "1980-10-01     4.12\n",
       "1980-11-01     4.38\n",
       "1980-12-01     0.68\n",
       "1981-01-01     0.14\n",
       "1981-02-01     3.37\n",
       "1981-03-01     3.39\n",
       "1981-04-01     1.03\n",
       "1981-05-01     5.75\n",
       "1981-06-01     5.63\n",
       "1981-07-01     3.47\n",
       "1981-08-01     1.67\n",
       "1981-09-01     2.26\n",
       "1981-10-01     4.52\n",
       "1981-11-01     1.13\n",
       "1981-12-01     7.60\n",
       "1982-01-01     6.67\n",
       "1982-02-01     6.38\n",
       "1982-03-01     1.65\n",
       "1982-04-01     4.45\n",
       "1982-05-01     3.40\n",
       "1982-06-01     6.44\n",
       "              ...  \n",
       "2016-11-01     1.27\n",
       "2016-12-01     2.54\n",
       "2017-01-01     5.65\n",
       "2017-02-01     1.33\n",
       "2017-03-01     2.98\n",
       "2017-04-01     6.96\n",
       "2017-05-01     5.33\n",
       "2017-06-01     5.51\n",
       "2017-07-01     6.21\n",
       "2017-08-01     4.42\n",
       "2017-09-01     4.25\n",
       "2017-10-01     5.23\n",
       "2017-11-01     0.84\n",
       "2017-12-01     2.88\n",
       "2018-01-01     2.82\n",
       "2018-02-01     5.69\n",
       "2018-03-01     3.94\n",
       "2018-04-01     6.64\n",
       "2018-05-01     4.80\n",
       "2018-06-01     3.69\n",
       "2018-07-01     4.86\n",
       "2018-08-01     2.91\n",
       "2018-09-01     4.85\n",
       "2018-10-01     7.08\n",
       "2018-11-01     9.52\n",
       "2018-12-01     9.83\n",
       "2019-01-01     5.49\n",
       "2019-02-01     8.04\n",
       "2019-03-01     3.68\n",
       "2019-04-01     5.87\n",
       "Name: CHESNEE 7 WSW, SC, Length: 472, dtype: float64"
      ]
     },
     "execution_count": 193,
     "metadata": {},
     "output_type": "execute_result"
    }
   ],
   "source": [
    "ches_gaff = rd[['CHESNEE 7 WSW, SC', 'GAFFNEY 6 E, SC']]\n",
    "# moooo = sarima_model_creation(ches_gaff, 4,0,3,3,0,4, 12)\n",
    "ches_gaff.iloc[:,0]"
   ]
  },
  {
   "cell_type": "code",
   "execution_count": 128,
   "metadata": {},
   "outputs": [],
   "source": [
    "exo_var_dict = {\n",
    "    'WHITEVILLE 7 NW, NC': [rd[[' LORIS 2 S, SC']]],\n",
    "    'CASAR, NC': [rd[['CHESNEE 7 WSW, SC', 'GAFFNEY 6 E, SC']],\n",
    "                rd[['CHESNEE 7 WSW, SC']],\n",
    "                rd[['GAFFNEY 6 E, SC']]],\n",
    "    'FOREST CITY 8 W, NC': [rd[['GAFFNEY 6 E, SC']], rd[['GAFFNEY 6 E, SC','SPARTANBURG 3 SSE, SC']]],\n",
    "    'GASTONIA, NC': [rd[['FORT MILL 4 NW, SC','GAFFNEY 6 E, SC']], rd[['GAFFNEY 6 E, SC']]],\n",
    "    'LAKE LURE 2, NC': [rd[['CHESNEE 7 WSW, SC']]],\n",
    "    ' MOUNT HOLLY 4 NE, NC': [rd[['CHESNEE 7 WSW, SC']],rd[['CHESTER 1 SE, SC']],rd[['GAFFNEY 6 E, SC']], \n",
    "                              rd[['LOCKHART, SC']],\n",
    "                             rd[['CATAWBA, SC','GAFFNEY 6 E, SC']],\n",
    "                             rd[['CHESNEE 7 WSW, SC','GAFFNEY 6 E, SC']],\n",
    "                             rd[['CHESNEE 7 WSW, SC', 'LOCKHART, SC']],\n",
    "                             rd[['CHESTER 1 SE, SC', 'GAFFNEY 6 E, SC']],\n",
    "                             rd[['CHESTER 1 SE, SC', 'LOCKHART, SC']],\n",
    "                             rd[['FORT MILL 4 NW, SC', 'GAFFNEY 6 E, SC']],\n",
    "                             rd[['GAFFNEY 6 E, SC', 'LOCKHART, SC']],\n",
    "                             rd[['CATAWBA, SC', 'CHESNEE 7 WSW, SC', 'CHESTER 1 SE, SC']],\n",
    "                             rd[['CATAWBA, SC', 'CHESNEE 7 WSW, SC', 'GAFFNEY 6 E, SC']],\n",
    "                             rd[['CATAWBA, SC', 'CHESNEE 7 WSW, SC', 'LOCKHART, SC']],\n",
    "                             rd[['CATAWBA, SC', 'CHESTER 1 SE, SC', 'LOCKHART, SC']],\n",
    "                             rd[['CATAWBA, SC', 'CHESTER 1 SE, SC', 'GAFFNEY 6 E, SC']]]\n",
    "}"
   ]
  },
  {
   "cell_type": "code",
   "execution_count": 129,
   "metadata": {},
   "outputs": [],
   "source": [
    "exo_var_dict_12 = {\n",
    "    'WHITEVILLE 7 NW, NC': [rd[' LORIS 2 S, SC']],\n",
    "    'CASAR, NC': [rd['GAFFNEY 6 E, SC']],\n",
    "    'FOREST CITY 8 W, NC': [rd['GAFFNEY 6 E, SC']],\n",
    "    'GASTONIA, NC': [rd['GAFFNEY 6 E, SC']],\n",
    "    'GRANDFATHER MTN, NC': [rd['ELIZABETHTON, TN']]\n",
    "}"
   ]
  },
  {
   "cell_type": "code",
   "execution_count": 139,
   "metadata": {},
   "outputs": [],
   "source": [
    "keys_list = list(exo_var_dict.keys())\n",
    "locs_w_exogs = rd[keys_list]\n",
    "keys_list12 = list(exo_var_dict_12.keys())\n",
    "locs_w_exogs12 = rd[keys_list12]"
   ]
  },
  {
   "cell_type": "code",
   "execution_count": 164,
   "metadata": {},
   "outputs": [
    {
     "data": {
      "text/html": [
       "<div>\n",
       "<style scoped>\n",
       "    .dataframe tbody tr th:only-of-type {\n",
       "        vertical-align: middle;\n",
       "    }\n",
       "\n",
       "    .dataframe tbody tr th {\n",
       "        vertical-align: top;\n",
       "    }\n",
       "\n",
       "    .dataframe thead th {\n",
       "        text-align: right;\n",
       "    }\n",
       "</style>\n",
       "<table border=\"1\" class=\"dataframe\">\n",
       "  <thead>\n",
       "    <tr style=\"text-align: right;\">\n",
       "      <th></th>\n",
       "      <th>0</th>\n",
       "    </tr>\n",
       "  </thead>\n",
       "  <tbody>\n",
       "    <tr>\n",
       "      <th>2019-05-01</th>\n",
       "      <td>2.786354</td>\n",
       "    </tr>\n",
       "    <tr>\n",
       "      <th>2019-06-01</th>\n",
       "      <td>2.852567</td>\n",
       "    </tr>\n",
       "    <tr>\n",
       "      <th>2019-07-01</th>\n",
       "      <td>2.994369</td>\n",
       "    </tr>\n",
       "    <tr>\n",
       "      <th>2019-08-01</th>\n",
       "      <td>2.936023</td>\n",
       "    </tr>\n",
       "    <tr>\n",
       "      <th>2019-09-01</th>\n",
       "      <td>2.564894</td>\n",
       "    </tr>\n",
       "    <tr>\n",
       "      <th>2019-10-01</th>\n",
       "      <td>2.103971</td>\n",
       "    </tr>\n",
       "    <tr>\n",
       "      <th>2019-11-01</th>\n",
       "      <td>2.177715</td>\n",
       "    </tr>\n",
       "    <tr>\n",
       "      <th>2019-12-01</th>\n",
       "      <td>2.012871</td>\n",
       "    </tr>\n",
       "  </tbody>\n",
       "</table>\n",
       "</div>"
      ],
      "text/plain": [
       "                   0\n",
       "2019-05-01  2.786354\n",
       "2019-06-01  2.852567\n",
       "2019-07-01  2.994369\n",
       "2019-08-01  2.936023\n",
       "2019-09-01  2.564894\n",
       "2019-10-01  2.103971\n",
       "2019-11-01  2.177715\n",
       "2019-12-01  2.012871"
      ]
     },
     "execution_count": 164,
     "metadata": {},
     "output_type": "execute_result"
    }
   ],
   "source": [
    "exog_preds_df = pd.DataFrame(exog_preds)\n",
    "exog_preds_df"
   ]
  },
  {
   "cell_type": "code",
   "execution_count": 165,
   "metadata": {
    "scrolled": true
   },
   "outputs": [
    {
     "data": {
      "text/plain": [
       "2019-05-01    5.752936\n",
       "2019-06-01    3.727615\n",
       "2019-07-01    5.556847\n",
       "2019-08-01    6.958229\n",
       "2019-09-01    5.757391\n",
       "2019-10-01    3.488874\n",
       "2019-11-01    3.840373\n",
       "2019-12-01    3.642856\n",
       "Freq: MS, dtype: float64"
      ]
     },
     "execution_count": 165,
     "metadata": {},
     "output_type": "execute_result"
    }
   ],
   "source": [
    "model_test = sarima_model_creation(white,4,0,3,3,0,4, 12,exog=rd[[' LORIS 2 S, SC']])\n",
    "exog_model = sarima_model_creation(rd[[' LORIS 2 S, SC']],4,0,3,3,0,4, 12)\n",
    "exog_preds = exog_model.forecast(steps=8)\n",
    "exog_preds_df = pd.DataFrame(exog_preds)\n",
    "model_test.predict(exog= exog_preds_df, steps=8)"
   ]
  },
  {
   "cell_type": "code",
   "execution_count": 167,
   "metadata": {},
   "outputs": [
    {
     "data": {
      "text/html": [
       "<div>\n",
       "<style scoped>\n",
       "    .dataframe tbody tr th:only-of-type {\n",
       "        vertical-align: middle;\n",
       "    }\n",
       "\n",
       "    .dataframe tbody tr th {\n",
       "        vertical-align: top;\n",
       "    }\n",
       "\n",
       "    .dataframe thead th {\n",
       "        text-align: right;\n",
       "    }\n",
       "</style>\n",
       "<table border=\"1\" class=\"dataframe\">\n",
       "  <thead>\n",
       "    <tr style=\"text-align: right;\">\n",
       "      <th></th>\n",
       "      <th>lower WHITEVILLE 7 NW, NC</th>\n",
       "      <th>upper WHITEVILLE 7 NW, NC</th>\n",
       "    </tr>\n",
       "  </thead>\n",
       "  <tbody>\n",
       "    <tr>\n",
       "      <th>2019-05-01</th>\n",
       "      <td>1.437903</td>\n",
       "      <td>10.067969</td>\n",
       "    </tr>\n",
       "    <tr>\n",
       "      <th>2019-06-01</th>\n",
       "      <td>-0.623022</td>\n",
       "      <td>8.078252</td>\n",
       "    </tr>\n",
       "    <tr>\n",
       "      <th>2019-07-01</th>\n",
       "      <td>1.196296</td>\n",
       "      <td>9.917398</td>\n",
       "    </tr>\n",
       "    <tr>\n",
       "      <th>2019-08-01</th>\n",
       "      <td>2.586326</td>\n",
       "      <td>11.330131</td>\n",
       "    </tr>\n",
       "    <tr>\n",
       "      <th>2019-09-01</th>\n",
       "      <td>1.383504</td>\n",
       "      <td>10.131279</td>\n",
       "    </tr>\n",
       "    <tr>\n",
       "      <th>2019-10-01</th>\n",
       "      <td>-0.894071</td>\n",
       "      <td>7.871818</td>\n",
       "    </tr>\n",
       "    <tr>\n",
       "      <th>2019-11-01</th>\n",
       "      <td>-0.550817</td>\n",
       "      <td>8.231563</td>\n",
       "    </tr>\n",
       "    <tr>\n",
       "      <th>2019-12-01</th>\n",
       "      <td>-0.748330</td>\n",
       "      <td>8.034042</td>\n",
       "    </tr>\n",
       "  </tbody>\n",
       "</table>\n",
       "</div>"
      ],
      "text/plain": [
       "            lower WHITEVILLE 7 NW, NC  upper WHITEVILLE 7 NW, NC\n",
       "2019-05-01                   1.437903                  10.067969\n",
       "2019-06-01                  -0.623022                   8.078252\n",
       "2019-07-01                   1.196296                   9.917398\n",
       "2019-08-01                   2.586326                  11.330131\n",
       "2019-09-01                   1.383504                  10.131279\n",
       "2019-10-01                  -0.894071                   7.871818\n",
       "2019-11-01                  -0.550817                   8.231563\n",
       "2019-12-01                  -0.748330                   8.034042"
      ]
     },
     "execution_count": 167,
     "metadata": {},
     "output_type": "execute_result"
    }
   ],
   "source": [
    "preds = model_test.get_prediction(exog= exog_preds_df, start='2019-05-01', end='2019-12-01')\n",
    "preds_ci = preds.conf_int()\n",
    "preds_ci"
   ]
  },
  {
   "cell_type": "code",
   "execution_count": 201,
   "metadata": {},
   "outputs": [],
   "source": [
    "def prediction_exog_fx(data, exog_dict, begin, end):\n",
    "    prediction_df = pd.DataFrame()\n",
    "    pred_val_df = pd.DataFrame()\n",
    "    for idx, col in enumerate(data.columns):\n",
    "        loc = data[col]\n",
    "        for key,value in exog_dict.items():\n",
    "            for v in value:\n",
    "                mod_fit1 = sarima_model_creation(loc, 4,0,3,3,0,4, 12,exog=v)\n",
    "                if v.shape[1] > 1:\n",
    "                    shap = v.shape[1]\n",
    "                    for i in range(shap):\n",
    "                        exog_mod_fit = sarima_model_creation(v.iloc[:,i],4,0,3,3,0,4,12)\n",
    "                        e_preds2 = pd.DataFrame(exog_mod_fit.predict(start=begin, end=end))\n",
    "                        if i is 0:\n",
    "                            exog_predictions_df = e_preds2.copy()\n",
    "                        else:\n",
    "                            exog_predictions_df = pd.merge(exog_predictions_df, e_preds2, left_index=True, \n",
    "                                                           right_index=True)\n",
    "                else:\n",
    "                    exog_mod_fit = sarima_model_creation(v, 4,0,3,3,0,4,12)\n",
    "                    exog_predictions_df = pd.DataFrame(exog_mod_fit.predict(start=begin, end=end))\n",
    "                future_pred = mod_fit1.get_prediction(exog=exog_predictions_df,start=begin, end=end)\n",
    "                future_pred_ci = future_pred.conf_int()\n",
    "                future_pred_val= pd.DataFrame(mod_fit1.predict(exog=exog_predictions_df, start=begin, end=end))\n",
    "#                 future_pred_full = pd.merge(future_pred_val, future_pred_ci, left_index=True, right_index=True)\n",
    "                if idx is not 0:\n",
    "                    prediction_df = pd.merge(prediction_df, future_pred_ci, left_index=True, right_index=True)\n",
    "                    pred_val_df = pd.merge(pred_val_df, future_pred_val, left_index=True, right_index=True)\n",
    "                else:\n",
    "                    prediction_df = prediction_df.append(future_pred_ci)\n",
    "                    pred_val_df = pred_val_df.append(future_pred_val)\n",
    "    return(pred_val_df, prediction_df)\n",
    "        \n",
    "        "
   ]
  },
  {
   "cell_type": "code",
   "execution_count": 202,
   "metadata": {},
   "outputs": [],
   "source": [
    "values_df, ci_df = prediction_exog_fx(locs_w_exogs, exo_var_dict, '2019-05-01', '2069-05-01')"
   ]
  },
  {
   "cell_type": "code",
   "execution_count": 204,
   "metadata": {},
   "outputs": [
    {
     "data": {
      "text/html": [
       "<div>\n",
       "<style scoped>\n",
       "    .dataframe tbody tr th:only-of-type {\n",
       "        vertical-align: middle;\n",
       "    }\n",
       "\n",
       "    .dataframe tbody tr th {\n",
       "        vertical-align: top;\n",
       "    }\n",
       "\n",
       "    .dataframe thead th {\n",
       "        text-align: right;\n",
       "    }\n",
       "</style>\n",
       "<table border=\"1\" class=\"dataframe\">\n",
       "  <thead>\n",
       "    <tr style=\"text-align: right;\">\n",
       "      <th></th>\n",
       "      <th>0_x</th>\n",
       "      <th>0_y</th>\n",
       "      <th>0_x</th>\n",
       "      <th>0_y</th>\n",
       "      <th>0_x</th>\n",
       "      <th>0_y</th>\n",
       "      <th>0_x</th>\n",
       "      <th>0_y</th>\n",
       "      <th>0_x</th>\n",
       "      <th>0_y</th>\n",
       "      <th>...</th>\n",
       "      <th>0_x</th>\n",
       "      <th>0_y</th>\n",
       "      <th>0_x</th>\n",
       "      <th>0_y</th>\n",
       "      <th>0_x</th>\n",
       "      <th>0_y</th>\n",
       "      <th>0_x</th>\n",
       "      <th>0_y</th>\n",
       "      <th>0_x</th>\n",
       "      <th>0_y</th>\n",
       "    </tr>\n",
       "  </thead>\n",
       "  <tbody>\n",
       "    <tr>\n",
       "      <th>2019-05-01</th>\n",
       "      <td>5.752936</td>\n",
       "      <td>5.121703</td>\n",
       "      <td>3.943828</td>\n",
       "      <td>4.659487</td>\n",
       "      <td>3.550862</td>\n",
       "      <td>3.550862</td>\n",
       "      <td>4.183637</td>\n",
       "      <td>3.728654</td>\n",
       "      <td>3.550862</td>\n",
       "      <td>4.659487</td>\n",
       "      <td>...</td>\n",
       "      <td>3.825663</td>\n",
       "      <td>3.946508</td>\n",
       "      <td>3.716548</td>\n",
       "      <td>4.051264</td>\n",
       "      <td>2.9899</td>\n",
       "      <td>3.945896</td>\n",
       "      <td>3.740305</td>\n",
       "      <td>3.652649</td>\n",
       "      <td>3.545385</td>\n",
       "      <td>3.562207</td>\n",
       "    </tr>\n",
       "    <tr>\n",
       "      <th>2019-05-01</th>\n",
       "      <td>4.734135</td>\n",
       "      <td>5.121703</td>\n",
       "      <td>3.943828</td>\n",
       "      <td>4.659487</td>\n",
       "      <td>3.550862</td>\n",
       "      <td>3.550862</td>\n",
       "      <td>4.183637</td>\n",
       "      <td>3.728654</td>\n",
       "      <td>3.550862</td>\n",
       "      <td>4.659487</td>\n",
       "      <td>...</td>\n",
       "      <td>3.825663</td>\n",
       "      <td>3.946508</td>\n",
       "      <td>3.716548</td>\n",
       "      <td>4.051264</td>\n",
       "      <td>2.9899</td>\n",
       "      <td>3.945896</td>\n",
       "      <td>3.740305</td>\n",
       "      <td>3.652649</td>\n",
       "      <td>3.545385</td>\n",
       "      <td>3.562207</td>\n",
       "    </tr>\n",
       "    <tr>\n",
       "      <th>2019-05-01</th>\n",
       "      <td>4.716170</td>\n",
       "      <td>5.121703</td>\n",
       "      <td>3.943828</td>\n",
       "      <td>4.659487</td>\n",
       "      <td>3.550862</td>\n",
       "      <td>3.550862</td>\n",
       "      <td>4.183637</td>\n",
       "      <td>3.728654</td>\n",
       "      <td>3.550862</td>\n",
       "      <td>4.659487</td>\n",
       "      <td>...</td>\n",
       "      <td>3.825663</td>\n",
       "      <td>3.946508</td>\n",
       "      <td>3.716548</td>\n",
       "      <td>4.051264</td>\n",
       "      <td>2.9899</td>\n",
       "      <td>3.945896</td>\n",
       "      <td>3.740305</td>\n",
       "      <td>3.652649</td>\n",
       "      <td>3.545385</td>\n",
       "      <td>3.562207</td>\n",
       "    </tr>\n",
       "    <tr>\n",
       "      <th>2019-05-01</th>\n",
       "      <td>5.195482</td>\n",
       "      <td>5.121703</td>\n",
       "      <td>3.943828</td>\n",
       "      <td>4.659487</td>\n",
       "      <td>3.550862</td>\n",
       "      <td>3.550862</td>\n",
       "      <td>4.183637</td>\n",
       "      <td>3.728654</td>\n",
       "      <td>3.550862</td>\n",
       "      <td>4.659487</td>\n",
       "      <td>...</td>\n",
       "      <td>3.825663</td>\n",
       "      <td>3.946508</td>\n",
       "      <td>3.716548</td>\n",
       "      <td>4.051264</td>\n",
       "      <td>2.9899</td>\n",
       "      <td>3.945896</td>\n",
       "      <td>3.740305</td>\n",
       "      <td>3.652649</td>\n",
       "      <td>3.545385</td>\n",
       "      <td>3.562207</td>\n",
       "    </tr>\n",
       "    <tr>\n",
       "      <th>2019-05-01</th>\n",
       "      <td>5.195482</td>\n",
       "      <td>5.121703</td>\n",
       "      <td>3.943828</td>\n",
       "      <td>4.659487</td>\n",
       "      <td>3.550862</td>\n",
       "      <td>3.550862</td>\n",
       "      <td>4.183637</td>\n",
       "      <td>3.728654</td>\n",
       "      <td>3.550862</td>\n",
       "      <td>4.659487</td>\n",
       "      <td>...</td>\n",
       "      <td>3.825663</td>\n",
       "      <td>3.946508</td>\n",
       "      <td>3.716548</td>\n",
       "      <td>4.051264</td>\n",
       "      <td>2.9899</td>\n",
       "      <td>3.945896</td>\n",
       "      <td>3.740305</td>\n",
       "      <td>3.652649</td>\n",
       "      <td>3.545385</td>\n",
       "      <td>3.562207</td>\n",
       "    </tr>\n",
       "  </tbody>\n",
       "</table>\n",
       "<p>5 rows × 126 columns</p>\n",
       "</div>"
      ],
      "text/plain": [
       "                 0_x       0_y       0_x       0_y       0_x       0_y  \\\n",
       "2019-05-01  5.752936  5.121703  3.943828  4.659487  3.550862  3.550862   \n",
       "2019-05-01  4.734135  5.121703  3.943828  4.659487  3.550862  3.550862   \n",
       "2019-05-01  4.716170  5.121703  3.943828  4.659487  3.550862  3.550862   \n",
       "2019-05-01  5.195482  5.121703  3.943828  4.659487  3.550862  3.550862   \n",
       "2019-05-01  5.195482  5.121703  3.943828  4.659487  3.550862  3.550862   \n",
       "\n",
       "                 0_x       0_y       0_x       0_y  ...       0_x       0_y  \\\n",
       "2019-05-01  4.183637  3.728654  3.550862  4.659487  ...  3.825663  3.946508   \n",
       "2019-05-01  4.183637  3.728654  3.550862  4.659487  ...  3.825663  3.946508   \n",
       "2019-05-01  4.183637  3.728654  3.550862  4.659487  ...  3.825663  3.946508   \n",
       "2019-05-01  4.183637  3.728654  3.550862  4.659487  ...  3.825663  3.946508   \n",
       "2019-05-01  4.183637  3.728654  3.550862  4.659487  ...  3.825663  3.946508   \n",
       "\n",
       "                 0_x       0_y     0_x       0_y       0_x       0_y  \\\n",
       "2019-05-01  3.716548  4.051264  2.9899  3.945896  3.740305  3.652649   \n",
       "2019-05-01  3.716548  4.051264  2.9899  3.945896  3.740305  3.652649   \n",
       "2019-05-01  3.716548  4.051264  2.9899  3.945896  3.740305  3.652649   \n",
       "2019-05-01  3.716548  4.051264  2.9899  3.945896  3.740305  3.652649   \n",
       "2019-05-01  3.716548  4.051264  2.9899  3.945896  3.740305  3.652649   \n",
       "\n",
       "                 0_x       0_y  \n",
       "2019-05-01  3.545385  3.562207  \n",
       "2019-05-01  3.545385  3.562207  \n",
       "2019-05-01  3.545385  3.562207  \n",
       "2019-05-01  3.545385  3.562207  \n",
       "2019-05-01  3.545385  3.562207  \n",
       "\n",
       "[5 rows x 126 columns]"
      ]
     },
     "execution_count": 204,
     "metadata": {},
     "output_type": "execute_result"
    }
   ],
   "source": [
    "values_df.head()"
   ]
  },
  {
   "cell_type": "code",
   "execution_count": null,
   "metadata": {},
   "outputs": [],
   "source": [
    "ci_merged = pd.merge(pre_df, ci_df, left_index=True, right_index=True)\n",
    "all_merged = pd.merge(ci_merged, values_df, left_index=True, right_index=True)\n",
    "all_merged.head()"
   ]
  },
  {
   "cell_type": "code",
   "execution_count": null,
   "metadata": {},
   "outputs": [],
   "source": [
    "all_merged.to_csv('predictions.csv')"
   ]
  }
 ],
 "metadata": {
  "kernelspec": {
   "display_name": "Python 3",
   "language": "python",
   "name": "python3"
  },
  "language_info": {
   "codemirror_mode": {
    "name": "ipython",
    "version": 3
   },
   "file_extension": ".py",
   "mimetype": "text/x-python",
   "name": "python",
   "nbconvert_exporter": "python",
   "pygments_lexer": "ipython3",
   "version": "3.7.3"
  },
  "varInspector": {
   "cols": {
    "lenName": 16,
    "lenType": 16,
    "lenVar": 40
   },
   "kernels_config": {
    "python": {
     "delete_cmd_postfix": "",
     "delete_cmd_prefix": "del ",
     "library": "var_list.py",
     "varRefreshCmd": "print(var_dic_list())"
    },
    "r": {
     "delete_cmd_postfix": ") ",
     "delete_cmd_prefix": "rm(",
     "library": "var_list.r",
     "varRefreshCmd": "cat(var_dic_list()) "
    }
   },
   "types_to_exclude": [
    "module",
    "function",
    "builtin_function_or_method",
    "instance",
    "_Feature"
   ],
   "window_display": false
  }
 },
 "nbformat": 4,
 "nbformat_minor": 2
}
